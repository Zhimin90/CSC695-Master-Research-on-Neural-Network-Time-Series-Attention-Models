{
 "cells": [
  {
   "cell_type": "code",
   "execution_count": 1,
   "metadata": {},
   "outputs": [],
   "source": [
    "import pickle\n",
    "import numpy as np\n",
    "import pandas as pd"
   ]
  },
  {
   "cell_type": "code",
   "execution_count": 2,
   "metadata": {},
   "outputs": [],
   "source": [
    "Asset_PATH = \"/home/zhimin90/DePaul/CSC695/Github/CSC695-Masters-Research-on-Neural-Network-Time-Series-Attention-Models/Asset/\""
   ]
  },
  {
   "cell_type": "markdown",
   "metadata": {},
   "source": [
    "#### Load Gaussian KDE timeseries"
   ]
  },
  {
   "cell_type": "code",
   "execution_count": 3,
   "metadata": {},
   "outputs": [],
   "source": [
    "density_matrix_t_series = pickle.load(open(Asset_PATH  + 'density_matrix_t_series_100x100.pickle', 'rb'))"
   ]
  },
  {
   "cell_type": "code",
   "execution_count": 4,
   "metadata": {},
   "outputs": [
    {
     "data": {
      "text/plain": [
       "(198, 100, 100)"
      ]
     },
     "execution_count": 4,
     "metadata": {},
     "output_type": "execute_result"
    }
   ],
   "source": [
    "density_matrix_t_series.shape"
   ]
  },
  {
   "cell_type": "code",
   "execution_count": 5,
   "metadata": {},
   "outputs": [
    {
     "name": "stdout",
     "output_type": "stream",
     "text": [
      "2019.7794007598727\n",
      "-2.393156546274511e-13\n"
     ]
    }
   ],
   "source": [
    "print(np.max(density_matrix_t_series))\n",
    "print(np.min(density_matrix_t_series))"
   ]
  },
  {
   "cell_type": "code",
   "execution_count": 6,
   "metadata": {},
   "outputs": [
    {
     "data": {
      "text/plain": [
       "198"
      ]
     },
     "execution_count": 6,
     "metadata": {},
     "output_type": "execute_result"
    }
   ],
   "source": [
    "density_matrix_t_series.shape[0]"
   ]
  },
  {
   "cell_type": "code",
   "execution_count": 7,
   "metadata": {},
   "outputs": [],
   "source": [
    "timesteps = 52"
   ]
  },
  {
   "cell_type": "code",
   "execution_count": 8,
   "metadata": {},
   "outputs": [],
   "source": [
    "train, valid = (60,20)\n",
    "test = 20\n",
    "\n",
    "total_len = density_matrix_t_series.shape[0] - timesteps\n",
    "train_index = range(0,int(train/100*total_len))\n",
    "\n",
    "valid_index = range(train_index[-1]+1,train_index[-1] + int(valid/100*total_len))\n",
    "test_index = range(valid_index[-1]+1,valid_index[-1] + int(test/100*total_len))"
   ]
  },
  {
   "cell_type": "code",
   "execution_count": 9,
   "metadata": {},
   "outputs": [
    {
     "data": {
      "text/plain": [
       "(198, 10000)"
      ]
     },
     "execution_count": 9,
     "metadata": {},
     "output_type": "execute_result"
    }
   ],
   "source": [
    "flattened_matrix_np = np.reshape(density_matrix_t_series, \n",
    "                                 (density_matrix_t_series.shape[0],\n",
    "                                  density_matrix_t_series.shape[1]*density_matrix_t_series.shape[2]))\n",
    "flattened_matrix_np.shape"
   ]
  },
  {
   "cell_type": "code",
   "execution_count": 10,
   "metadata": {},
   "outputs": [
    {
     "data": {
      "text/plain": [
       "1935.6194220503628"
      ]
     },
     "execution_count": 10,
     "metadata": {},
     "output_type": "execute_result"
    }
   ],
   "source": [
    "np.max(flattened_matrix_np[train_index])"
   ]
  },
  {
   "cell_type": "code",
   "execution_count": 11,
   "metadata": {},
   "outputs": [],
   "source": [
    "scaler_max = np.max(flattened_matrix_np[train_index])\n",
    "scaler_min = np.min(flattened_matrix_np[train_index])\n",
    "\n",
    "X_train = (flattened_matrix_np[train_index] - scaler_min)/(scaler_max - scaler_min)\n"
   ]
  },
  {
   "cell_type": "code",
   "execution_count": 12,
   "metadata": {},
   "outputs": [
    {
     "data": {
      "text/plain": [
       "(87, 1, 10000)"
      ]
     },
     "execution_count": 12,
     "metadata": {},
     "output_type": "execute_result"
    }
   ],
   "source": [
    "X_train = X_train.reshape(X_train.shape[0],\n",
    "                          1,    \n",
    "                          X_train.shape[1])\n",
    "X_train.shape"
   ]
  },
  {
   "cell_type": "code",
   "execution_count": 13,
   "metadata": {},
   "outputs": [
    {
     "data": {
      "text/plain": [
       "(87, 1, 100, 100, 1)"
      ]
     },
     "execution_count": 13,
     "metadata": {},
     "output_type": "execute_result"
    }
   ],
   "source": [
    "X_train = X_train.reshape(X_train.shape[0],X_train.shape[1],int(X_train.shape[2]**(1/2)),int(X_train.shape[2]**(1/2)),1)\n",
    "X_train.shape"
   ]
  },
  {
   "cell_type": "code",
   "execution_count": 14,
   "metadata": {},
   "outputs": [
    {
     "name": "stdout",
     "output_type": "stream",
     "text": [
      "1.0\n",
      "0.0\n"
     ]
    }
   ],
   "source": [
    "print(np.max(X_train))\n",
    "print(np.min(X_train))"
   ]
  },
  {
   "cell_type": "markdown",
   "metadata": {},
   "source": [
    "#### We transform the whole train, valid, test based on scaler fitted on train"
   ]
  },
  {
   "cell_type": "code",
   "execution_count": 15,
   "metadata": {
    "scrolled": true
   },
   "outputs": [
    {
     "data": {
      "text/plain": [
       "2019.7794007598727"
      ]
     },
     "execution_count": 15,
     "metadata": {},
     "output_type": "execute_result"
    }
   ],
   "source": [
    "np.max(flattened_matrix_np)"
   ]
  },
  {
   "cell_type": "code",
   "execution_count": 16,
   "metadata": {},
   "outputs": [
    {
     "data": {
      "text/plain": [
       "dtype('float64')"
      ]
     },
     "execution_count": 16,
     "metadata": {},
     "output_type": "execute_result"
    }
   ],
   "source": [
    "flattened_matrix_np.dtype"
   ]
  },
  {
   "cell_type": "code",
   "execution_count": 17,
   "metadata": {},
   "outputs": [],
   "source": [
    "scaled_flattened_matrix = (flattened_matrix_np - scaler_min)/(scaler_max - scaler_min)"
   ]
  },
  {
   "cell_type": "code",
   "execution_count": 18,
   "metadata": {},
   "outputs": [
    {
     "data": {
      "text/plain": [
       "(198, 10000)"
      ]
     },
     "execution_count": 18,
     "metadata": {},
     "output_type": "execute_result"
    }
   ],
   "source": [
    "flattened_matrix_np.shape"
   ]
  },
  {
   "cell_type": "code",
   "execution_count": 19,
   "metadata": {},
   "outputs": [
    {
     "data": {
      "text/plain": [
       "(198, 10000)"
      ]
     },
     "execution_count": 19,
     "metadata": {},
     "output_type": "execute_result"
    }
   ],
   "source": [
    "scaled_flattened_matrix.shape"
   ]
  },
  {
   "cell_type": "code",
   "execution_count": 20,
   "metadata": {},
   "outputs": [
    {
     "name": "stdout",
     "output_type": "stream",
     "text": [
      "1.0434796105839654\n",
      "-3.2227207716804404e-17\n"
     ]
    }
   ],
   "source": [
    "print(np.max(scaled_flattened_matrix))\n",
    "print(np.min(scaled_flattened_matrix))"
   ]
  },
  {
   "cell_type": "code",
   "execution_count": 21,
   "metadata": {},
   "outputs": [
    {
     "data": {
      "text/plain": [
       "(198, 10000)"
      ]
     },
     "execution_count": 21,
     "metadata": {},
     "output_type": "execute_result"
    }
   ],
   "source": [
    "scaled_flattened_matrix.shape"
   ]
  },
  {
   "cell_type": "code",
   "execution_count": 22,
   "metadata": {},
   "outputs": [],
   "source": [
    "def window_stack(a, stepsize=1, width=52):\n",
    "    n = a.shape[0]\n",
    "    return np.hstack( a[i:1+n+i-width:stepsize] for i in range(0,width) )"
   ]
  },
  {
   "cell_type": "code",
   "execution_count": 23,
   "metadata": {},
   "outputs": [
    {
     "name": "stderr",
     "output_type": "stream",
     "text": [
      "/home/zhimin90/anaconda3/envs/venv/lib/python3.7/site-packages/ipykernel_launcher.py:3: FutureWarning: arrays to stack must be passed as a \"sequence\" type such as list or tuple. Support for non-sequence iterables such as generators is deprecated as of NumPy 1.16 and will raise an error in the future.\n",
      "  This is separate from the ipykernel package so we can avoid doing imports until\n"
     ]
    }
   ],
   "source": [
    "stacked = window_stack(scaled_flattened_matrix,1,timesteps)"
   ]
  },
  {
   "cell_type": "code",
   "execution_count": 24,
   "metadata": {},
   "outputs": [
    {
     "data": {
      "text/plain": [
       "(147, 520000)"
      ]
     },
     "execution_count": 24,
     "metadata": {},
     "output_type": "execute_result"
    }
   ],
   "source": [
    "stacked.shape"
   ]
  },
  {
   "cell_type": "code",
   "execution_count": 25,
   "metadata": {},
   "outputs": [],
   "source": [
    "reshape_stack = stacked.reshape(stacked.shape[0],timesteps,\n",
    "                                int((stacked.shape[1]/timesteps)**(1/2)),\n",
    "                                int((stacked.shape[1]/timesteps)**(1/2)),1)"
   ]
  },
  {
   "cell_type": "code",
   "execution_count": 26,
   "metadata": {},
   "outputs": [
    {
     "data": {
      "text/plain": [
       "(147, 52, 100, 100, 1)"
      ]
     },
     "execution_count": 26,
     "metadata": {},
     "output_type": "execute_result"
    }
   ],
   "source": [
    "reshape_stack.shape"
   ]
  },
  {
   "cell_type": "markdown",
   "metadata": {},
   "source": [
    "#### We reshape to (sample, timestep, inputshape)"
   ]
  },
  {
   "cell_type": "code",
   "execution_count": 27,
   "metadata": {},
   "outputs": [
    {
     "data": {
      "text/plain": [
       "(147, 52, 100, 100, 1)"
      ]
     },
     "execution_count": 27,
     "metadata": {},
     "output_type": "execute_result"
    }
   ],
   "source": [
    "scaled_flattened_matrix = reshape_stack\n",
    "scaled_flattened_matrix.shape"
   ]
  },
  {
   "cell_type": "code",
   "execution_count": 28,
   "metadata": {},
   "outputs": [],
   "source": [
    "train, valid = (60,20)\n",
    "test = 20\n",
    "\n",
    "total_len = scaled_flattened_matrix.shape[0]\n",
    "train_index = range(0,int(train/100*total_len))\n",
    "\n",
    "valid_index = range(train_index[-1]+1,train_index[-1] + int(valid/100*total_len))\n",
    "test_index = range(valid_index[-1]+1,valid_index[-1] + int(test/100*total_len))"
   ]
  },
  {
   "cell_type": "markdown",
   "metadata": {},
   "source": [
    "#### We set the target to be 7 days aggregated KDE or 1 single frame forward"
   ]
  },
  {
   "cell_type": "code",
   "execution_count": 29,
   "metadata": {},
   "outputs": [],
   "source": [
    "X_train = scaled_flattened_matrix[np.array(train_index)]\n",
    "Y_train = scaled_flattened_matrix[np.array(train_index)+1][:,-1,:]\n",
    "Y_train = Y_train.reshape(Y_train.shape[0],int(Y_train.shape[1]*Y_train.shape[2]*Y_train.shape[3]))"
   ]
  },
  {
   "cell_type": "code",
   "execution_count": 30,
   "metadata": {},
   "outputs": [],
   "source": [
    "X_valid = scaled_flattened_matrix[np.array(valid_index)]\n",
    "Y_valid = scaled_flattened_matrix[np.array(valid_index)+1][:,-1,:]\n",
    "Y_valid = Y_valid.reshape(Y_valid.shape[0],int(Y_valid.shape[1]*Y_valid.shape[2]*Y_valid.shape[3]))"
   ]
  },
  {
   "cell_type": "code",
   "execution_count": 31,
   "metadata": {},
   "outputs": [],
   "source": [
    "X_test = scaled_flattened_matrix[np.array(test_index)]\n",
    "Y_test = scaled_flattened_matrix[np.array(test_index)+1][:,-1,:]\n",
    "Y_test = Y_test.reshape(Y_test.shape[0],int(Y_test.shape[1]*Y_test.shape[2]*Y_test.shape[3]))"
   ]
  },
  {
   "cell_type": "code",
   "execution_count": 32,
   "metadata": {},
   "outputs": [
    {
     "name": "stdout",
     "output_type": "stream",
     "text": [
      "(88, 52, 100, 100, 1)\n",
      "(88, 10000)\n",
      "(28, 52, 100, 100, 1)\n",
      "(28, 10000)\n",
      "(28, 52, 100, 100, 1)\n",
      "(28, 10000)\n"
     ]
    }
   ],
   "source": [
    "print(X_train.shape)\n",
    "print(Y_train.shape)\n",
    "print(X_valid.shape)\n",
    "print(Y_valid.shape)\n",
    "print(X_test.shape)\n",
    "print(Y_test.shape)"
   ]
  },
  {
   "cell_type": "code",
   "execution_count": 33,
   "metadata": {},
   "outputs": [],
   "source": [
    "import os, datetime\n",
    "import tensorflow as tf\n",
    "from tensorflow.keras import optimizers\n",
    "import tensorflow.keras.layers as layers\n",
    "from tensorflow.keras.models import Sequential, Model\n",
    "from tensorflow.keras.layers import Dense, Dropout, LSTM, Bidirectional, GaussianNoise, Flatten\n",
    "from tensorflow.keras.layers import Conv2D, MaxPooling2D, Concatenate, Input, LSTM, GRU, RepeatVector, TimeDistributed\n",
    "from tensorflow.keras.layers import concatenate, Activation, Permute, Multiply, Lambda\n"
   ]
  },
  {
   "cell_type": "code",
   "execution_count": 34,
   "metadata": {},
   "outputs": [
    {
     "name": "stdout",
     "output_type": "stream",
     "text": [
      "/home/zhimin90/DePaul/CSC695/Github/CSC695-Masters-Research-on-Neural-Network-Time-Series-Attention-Models/Asset/checkpoints/\n"
     ]
    }
   ],
   "source": [
    "checkpoint_filepath = Asset_PATH+'checkpoints/'\n",
    "print(checkpoint_filepath)"
   ]
  },
  {
   "cell_type": "markdown",
   "metadata": {},
   "source": [
    "## Flattened Fully Connected Model"
   ]
  },
  {
   "cell_type": "code",
   "execution_count": null,
   "metadata": {},
   "outputs": [],
   "source": [
    "serie_size, time_step, n_features_row, n_features_column, no_channel = X_train.shape\n",
    "\n",
    "lr = .0001\n",
    "loss='mae'\n",
    "METRIC_ACCURACY = 'mae'\n",
    "\n",
    "inputs = Input(shape=(time_step,n_features_row, n_features_column, no_channel))\n",
    "   \n",
    "timeDist = TimeDistributed(Flatten())(inputs)\n",
    "\n",
    "Dense1 = Dense(50, kernel_initializer='glorot_normal', activation='relu')(timeDist)\n",
    "Dense2 = Dense(Y_train.shape[1])(Flatten()(Dense1))\n",
    "outputs = Dense2\n",
    "\n",
    "model = Model(inputs, outputs, name=\"Flattened_Fully_Connected\")\n",
    "model.summary()\n",
    "\n",
    "adam = optimizers.Adam(lr)\n",
    "model.compile(loss='mean_absolute_error',\n",
    "                   metrics=['mae'], \n",
    "                   optimizer=adam)\n"
   ]
  },
  {
   "cell_type": "markdown",
   "metadata": {},
   "source": [
    "## Flattened LSTM Model"
   ]
  },
  {
   "cell_type": "code",
   "execution_count": null,
   "metadata": {},
   "outputs": [],
   "source": [
    "serie_size, time_step, n_features_row, n_features_column, no_channel = X_train.shape\n",
    "\n",
    "lr = .0001\n",
    "loss='mae'\n",
    "METRIC_ACCURACY = 'mae'\n",
    "\n",
    "inputs = Input(shape=(time_step,n_features_row, n_features_column, no_channel))\n",
    "\n",
    "    \n",
    "timeDist = TimeDistributed(Flatten())(inputs)\n",
    "\n",
    "LSTM_layer1 = LSTM(100)(timeDist)\n",
    "Dense1 = Dense(100, kernel_initializer='glorot_normal', activation='relu')(LSTM_layer1)\n",
    "Dense2 = Dense(Y_train.shape[1])(Flatten()(Dense1))\n",
    "outputs = Dense2\n",
    "\n",
    "model = Model(inputs, outputs, name=\"Flattened_LTSM\")\n",
    "model.summary()\n",
    "\n",
    "adam = optimizers.Adam(lr)\n",
    "model.compile(loss='mean_absolute_error',\n",
    "                   metrics=['mae'], \n",
    "                   optimizer=adam)\n",
    "\n"
   ]
  },
  {
   "cell_type": "markdown",
   "metadata": {},
   "source": [
    "## 2D CNN LSTM model"
   ]
  },
  {
   "cell_type": "code",
   "execution_count": null,
   "metadata": {},
   "outputs": [],
   "source": [
    "serie_size, time_step, n_features_row, n_features_column, no_channel = X_train.shape\n",
    "\n",
    "epochs = 100\n",
    "batch = 48\n",
    "lr = .0001\n",
    "loss='mae'\n",
    "METRIC_ACCURACY = 'mae'\n",
    "\n",
    "inputs = Input(shape=(time_step,n_features_row, n_features_column, no_channel))\n",
    "\n",
    "cnn1 = Conv2D(20, (1,1), activation='relu', padding='same')\n",
    "TD = TimeDistributed(cnn1)(inputs)\n",
    "\n",
    "cnn2 = Conv2D(20, (1,1), activation='relu', padding='same')\n",
    "TD2 = TimeDistributed(cnn2)(TD)\n",
    "\n",
    "TD3 = TimeDistributed(\n",
    "        MaxPooling2D(pool_size=(2, 2)))(TD2)\n",
    "    \n",
    "timeDist = TimeDistributed(Flatten())(TD3)\n",
    "\n",
    "cnn4 = Conv2D(20, (1,1), activation='relu', padding='same')\n",
    "TD4 = TimeDistributed(cnn4)(TD3)\n",
    "\n",
    "cnn5 = Conv2D(20, (1,1), activation='relu', padding='same')\n",
    "TD5 = TimeDistributed(cnn5)(TD4)\n",
    "\n",
    "TD6 = TimeDistributed(\n",
    "        MaxPooling2D(pool_size=(2, 2)))(TD5)\n",
    "    \n",
    "timeDist2 = TimeDistributed(Flatten())(TD6)\n",
    "\n",
    "merge = concatenate([timeDist, timeDist2])\n",
    "\n",
    "LSTM_layer1 = LSTM(50)(merge)\n",
    "Dense1 = Dense(100, kernel_initializer='glorot_normal', activation='relu')(LSTM_layer1)\n",
    "Dense2 = Dense(Y_train.shape[1])(Flatten()(Dense1))\n",
    "outputs = Dense2\n",
    "\n",
    "model = Model(inputs, outputs, name=\"2DCNN_LTSM\")\n",
    "model.summary()\n",
    "\n",
    "adam = optimizers.Adam(lr)\n",
    "model.compile(loss='mean_absolute_error',\n",
    "                   metrics=['mae'], \n",
    "                   optimizer=adam)\n",
    "\n"
   ]
  },
  {
   "cell_type": "markdown",
   "metadata": {},
   "source": [
    "## 2D CNN with LSTM + Attention"
   ]
  },
  {
   "cell_type": "code",
   "execution_count": null,
   "metadata": {},
   "outputs": [],
   "source": [
    "from tensorflow.keras import backend as K"
   ]
  },
  {
   "cell_type": "code",
   "execution_count": 37,
   "metadata": {},
   "outputs": [
    {
     "name": "stdout",
     "output_type": "stream",
     "text": [
      "attention shape (None, 52, 100)\n",
      "LSTM_layer1 shape (None, 52, 100)\n",
      "sent_representation shape (None, 52, 100)\n",
      "Model: \"2DCNN_LTSM_Attention\"\n",
      "__________________________________________________________________________________________________\n",
      "Layer (type)                    Output Shape         Param #     Connected to                     \n",
      "==================================================================================================\n",
      "input_2 (InputLayer)            [(None, 52, 100, 100 0                                            \n",
      "__________________________________________________________________________________________________\n",
      "time_distributed_3 (TimeDistrib (None, 52, 10000)    0           input_2[0][0]                    \n",
      "__________________________________________________________________________________________________\n",
      "lstm (LSTM)                     (None, 52, 100)      4040400     time_distributed_3[0][0]         \n",
      "__________________________________________________________________________________________________\n",
      "dense_4 (Dense)                 (None, 52, 1)        101         lstm[0][0]                       \n",
      "__________________________________________________________________________________________________\n",
      "flatten_4 (Flatten)             (None, 52)           0           dense_4[0][0]                    \n",
      "__________________________________________________________________________________________________\n",
      "activation_1 (Activation)       (None, 52)           0           flatten_4[0][0]                  \n",
      "__________________________________________________________________________________________________\n",
      "repeat_vector_1 (RepeatVector)  (None, 100, 52)      0           activation_1[0][0]               \n",
      "__________________________________________________________________________________________________\n",
      "permute_1 (Permute)             (None, 52, 100)      0           repeat_vector_1[0][0]            \n",
      "__________________________________________________________________________________________________\n",
      "multiply_1 (Multiply)           (None, 52, 100)      0           lstm[0][0]                       \n",
      "                                                                 permute_1[0][0]                  \n",
      "__________________________________________________________________________________________________\n",
      "time_distributed_4 (TimeDistrib (None, 52, 1)        101         multiply_1[0][0]                 \n",
      "__________________________________________________________________________________________________\n",
      "flatten_5 (Flatten)             (None, 52)           0           time_distributed_4[0][0]         \n",
      "__________________________________________________________________________________________________\n",
      "dense_6 (Dense)                 (None, 10000)        530000      flatten_5[0][0]                  \n",
      "==================================================================================================\n",
      "Total params: 4,570,602\n",
      "Trainable params: 4,570,602\n",
      "Non-trainable params: 0\n",
      "__________________________________________________________________________________________________\n"
     ]
    }
   ],
   "source": [
    "serie_size, time_step, n_features_row, n_features_column, no_channel = X_train.shape\n",
    "\n",
    "epochs = 100\n",
    "lr = .0001\n",
    "loss='mae'\n",
    "METRIC_ACCURACY = 'mae'\n",
    "\n",
    "\n",
    "inputs = Input(shape=(time_step,n_features_row, n_features_column, no_channel))\n",
    "'''\n",
    "cnn1 = Conv2D(10, (1,1), activation='relu', padding='same')\n",
    "TD = TimeDistributed(cnn1)(inputs)\n",
    "\n",
    "cnn2 = Conv2D(10, (1,1), activation='relu', padding='same')\n",
    "TD2 = TimeDistributed(cnn2)(TD)\n",
    "\n",
    "TD3 = TimeDistributed(\n",
    "        MaxPooling2D(pool_size=(2, 2)))(TD2)\n",
    "    \n",
    "timeDist = TimeDistributed(Flatten())(TD3)\n",
    "'''\n",
    "'''\n",
    "#Paralell 2D CNN layer\n",
    "cnn4 = Conv2D(20, (1,1), activation='relu', padding='same')\n",
    "TD4 = TimeDistributed(cnn4)(TD3)\n",
    "\n",
    "cnn5 = Conv2D(20, (1,1), activation='relu', padding='same')\n",
    "TD5 = TimeDistributed(cnn5)(TD4)\n",
    "\n",
    "TD6 = TimeDistributed(\n",
    "        MaxPooling2D(pool_size=(2, 2)))(TD5)\n",
    "    \n",
    "timeDist2 = TimeDistributed(Flatten())(TD6)\n",
    "\n",
    "merge = concatenate([timeDist, timeDist2])\n",
    "'''\n",
    "\n",
    "#send both convolved layer and flattened layer into LSTM\n",
    "timeDist3 = TimeDistributed(Flatten())(inputs)\n",
    "#merge = concatenate([timeDist, timeDist3])\n",
    "\n",
    "units = 100\n",
    "LSTM_layer1 = LSTM(units, return_sequences=True)(timeDist3)\n",
    "# compute importance for each step\n",
    "attention = Dense(1, activation='tanh')(LSTM_layer1)\n",
    "attention = Flatten()(attention)\n",
    "attention = Activation('softmax')(attention)\n",
    "attention = RepeatVector(units)(attention)\n",
    "attention = Permute([2, 1])(attention)\n",
    "\n",
    "print(\"attention shape\", attention.shape)\n",
    "print(\"LSTM_layer1 shape\", LSTM_layer1.shape)\n",
    "sent_representation = Multiply()([LSTM_layer1, attention])\n",
    "\n",
    "print(\"sent_representation shape\", sent_representation.shape)\n",
    "#same shape as LSTM output (None,52,100)\n",
    "\n",
    "#For each timestep update a single weight on Dense layer\n",
    "attended_LSTM_out = TimeDistributed(Dense(1, activation='relu'))(sent_representation)\n",
    "\n",
    "#Flatten time dimension\n",
    "Dense2 = Dense(Y_train.shape[1])(Flatten()(attended_LSTM_out))\n",
    "outputs = Dense2\n",
    "\n",
    "model = Model(inputs, outputs, name=\"2DCNN_LTSM_Attention\")\n",
    "model.summary()\n",
    "\n",
    "adam = optimizers.Adam(lr)\n",
    "model.compile(loss='mean_absolute_error',\n",
    "                   metrics=['mae'], \n",
    "                   optimizer=adam)\n"
   ]
  },
  {
   "cell_type": "markdown",
   "metadata": {},
   "source": [
    "## Attention on flattened inputs"
   ]
  },
  {
   "cell_type": "code",
   "execution_count": 125,
   "metadata": {},
   "outputs": [
    {
     "name": "stdout",
     "output_type": "stream",
     "text": [
      "attention.shape:  (None, 52, 1)\n",
      "Model: \"Attention_Time\"\n",
      "__________________________________________________________________________________________________\n",
      "Layer (type)                    Output Shape         Param #     Connected to                     \n",
      "==================================================================================================\n",
      "input_15 (InputLayer)           [(None, 52, 100, 100 0                                            \n",
      "__________________________________________________________________________________________________\n",
      "time_distributed_78 (TimeDistri (None, 52, 10000)    0           input_15[0][0]                   \n",
      "__________________________________________________________________________________________________\n",
      "time_distributed_81 (TimeDistri (None, 52, 10000)    0           input_15[0][0]                   \n",
      "__________________________________________________________________________________________________\n",
      "time_distributed_79 (TimeDistri (None, 52, 50)       500050      time_distributed_78[0][0]        \n",
      "__________________________________________________________________________________________________\n",
      "time_distributed_82 (TimeDistri (None, 52, 50)       500050      time_distributed_81[0][0]        \n",
      "__________________________________________________________________________________________________\n",
      "dense_93 (Dense)                (None, 52, 1)        51          time_distributed_79[0][0]        \n",
      "__________________________________________________________________________________________________\n",
      "dense_96 (Dense)                (None, 52, 1)        51          time_distributed_82[0][0]        \n",
      "__________________________________________________________________________________________________\n",
      "flatten_67 (Flatten)            (None, 52)           0           dense_93[0][0]                   \n",
      "__________________________________________________________________________________________________\n",
      "flatten_69 (Flatten)            (None, 52)           0           dense_96[0][0]                   \n",
      "__________________________________________________________________________________________________\n",
      "activation_26 (Activation)      (None, 52)           0           flatten_67[0][0]                 \n",
      "__________________________________________________________________________________________________\n",
      "activation_27 (Activation)      (None, 52)           0           flatten_69[0][0]                 \n",
      "__________________________________________________________________________________________________\n",
      "repeat_vector_26 (RepeatVector) (None, 50, 52)       0           activation_26[0][0]              \n",
      "__________________________________________________________________________________________________\n",
      "repeat_vector_27 (RepeatVector) (None, 50, 52)       0           activation_27[0][0]              \n",
      "__________________________________________________________________________________________________\n",
      "permute_26 (Permute)            (None, 52, 50)       0           repeat_vector_26[0][0]           \n",
      "__________________________________________________________________________________________________\n",
      "permute_27 (Permute)            (None, 52, 50)       0           repeat_vector_27[0][0]           \n",
      "__________________________________________________________________________________________________\n",
      "multiply_26 (Multiply)          (None, 52, 50)       0           time_distributed_79[0][0]        \n",
      "                                                                 permute_26[0][0]                 \n",
      "__________________________________________________________________________________________________\n",
      "multiply_27 (Multiply)          (None, 52, 50)       0           time_distributed_82[0][0]        \n",
      "                                                                 permute_27[0][0]                 \n",
      "__________________________________________________________________________________________________\n",
      "time_distributed_80 (TimeDistri (None, 52, 1)        51          multiply_26[0][0]                \n",
      "__________________________________________________________________________________________________\n",
      "time_distributed_83 (TimeDistri (None, 52, 1)        51          multiply_27[0][0]                \n",
      "__________________________________________________________________________________________________\n",
      "concatenate_7 (Concatenate)     (None, 52, 2)        0           time_distributed_80[0][0]        \n",
      "                                                                 time_distributed_83[0][0]        \n",
      "__________________________________________________________________________________________________\n",
      "flatten_70 (Flatten)            (None, 104)          0           concatenate_7[0][0]              \n",
      "__________________________________________________________________________________________________\n",
      "dense_98 (Dense)                (None, 10000)        1050000     flatten_70[0][0]                 \n",
      "==================================================================================================\n",
      "Total params: 2,050,304\n",
      "Trainable params: 2,050,304\n",
      "Non-trainable params: 0\n",
      "__________________________________________________________________________________________________\n"
     ]
    }
   ],
   "source": [
    "serie_size, time_step, n_features_row, n_features_column, no_channel = X_train.shape\n",
    "\n",
    "epochs = 100\n",
    "lr = .0001\n",
    "loss='mae'\n",
    "METRIC_ACCURACY = 'mae'\n",
    "\n",
    "\n",
    "inputs = Input(shape=(time_step,n_features_row, n_features_column, no_channel))\n",
    "\n",
    "timeDist = TimeDistributed(Flatten())(inputs)\n",
    "timeDist2 = TimeDistributed(Dense(50))(timeDist)\n",
    "units = timeDist2.shape[2]\n",
    "# compute importance for each step\n",
    "attention = Dense(1, activation='tanh')(timeDist2)\n",
    "print('attention.shape: ', attention.shape)\n",
    "attention = Flatten()(attention)\n",
    "attention = Activation('softmax')(attention)\n",
    "attention = RepeatVector(units)(attention)\n",
    "attention = Permute([2, 1])(attention)\n",
    "sent_representation = Multiply()([timeDist2, attention])\n",
    "#For each timestep update a single weight on Dense layer\n",
    "attended_Dense_out = TimeDistributed(Dense(1, activation='relu'))(sent_representation)\n",
    "\n",
    "timeDist3 = TimeDistributed(Flatten())(inputs)\n",
    "timeDist4 = TimeDistributed(Dense(50))(timeDist3)\n",
    "units = timeDist4.shape[2]\n",
    "# compute importance for each step\n",
    "attention2 = Dense(1, activation='tanh')(timeDist4)\n",
    "attention2 = Flatten()(attention2)\n",
    "attention2 = Activation('softmax')(attention2)\n",
    "attention2 = RepeatVector(units)(attention2)\n",
    "attention2 = Permute([2, 1])(attention2)\n",
    "sent_representation2 = Multiply()([timeDist4, attention2])\n",
    "#For each timestep update a single weight on Dense layer\n",
    "attended_Dense_out2 = TimeDistributed(Dense(1, activation='relu'))(sent_representation2)\n",
    "'''\n",
    "timeDist5 = TimeDistributed(Flatten())(inputs)\n",
    "timeDist6 = TimeDistributed(Dense(20))(timeDist5)\n",
    "units = timeDist6.shape[2]\n",
    "# compute importance for each step\n",
    "attention3 = Dense(1, activation='tanh')(timeDist6)\n",
    "attention3 = Flatten()(attention3)\n",
    "attention3 = Activation('softmax')(attention3)\n",
    "attention3 = RepeatVector(units)(attention3)\n",
    "attention3 = Permute([2, 1])(attention3)\n",
    "sent_representation3 = Multiply()([timeDist6, attention3])\n",
    "#For each timestep update a single weight on Dense layer\n",
    "attended_Dense_out3 = TimeDistributed(Dense(1, activation='relu'))(sent_representation3)\n",
    "'''\n",
    "merge = concatenate([attended_Dense_out, attended_Dense_out2])\n",
    "\n",
    "#Flatten time dimension\n",
    "Dense2 = Dense(Y_train.shape[1])(Flatten()(merge))\n",
    "outputs = Dense2\n",
    "\n",
    "model = Model(inputs, outputs, name=\"Attention_Time\")\n",
    "model.summary()\n",
    "\n",
    "adam = optimizers.Adam(lr)\n",
    "model.compile(loss='mean_absolute_error',\n",
    "                   metrics=['mae'], \n",
    "                   optimizer=adam)\n"
   ]
  },
  {
   "cell_type": "code",
   "execution_count": null,
   "metadata": {
    "scrolled": true
   },
   "outputs": [
    {
     "name": "stdout",
     "output_type": "stream",
     "text": [
      "WARNING:tensorflow:`period` argument is deprecated. Please use `save_freq` to specify the frequency in number of samples seen.\n",
      "Train on 88 samples, validate on 28 samples\n",
      "Epoch 1/1000\n",
      "84/88 [===========================>..] - ETA: 0s - loss: 0.0081 - mae: 0.0081\n",
      "Epoch 00001: val_loss improved from inf to 0.00792, saving model to /home/zhimin90/DePaul/CSC695/Github/CSC695-Masters-Research-on-Neural-Network-Time-Series-Attention-Models/Asset/checkpoints/_20200623-210215_model.hdf5\n",
      "88/88 [==============================] - 1s 9ms/sample - loss: 0.0081 - mae: 0.0081 - val_loss: 0.0079 - val_mae: 0.0079\n",
      "Epoch 2/1000\n",
      "77/88 [=========================>....] - ETA: 0s - loss: 0.0078 - mae: 0.0078\n",
      "Epoch 00002: val_loss improved from 0.00792 to 0.00761, saving model to /home/zhimin90/DePaul/CSC695/Github/CSC695-Masters-Research-on-Neural-Network-Time-Series-Attention-Models/Asset/checkpoints/_20200623-210215_model.hdf5\n",
      "88/88 [==============================] - 0s 3ms/sample - loss: 0.0078 - mae: 0.0078 - val_loss: 0.0076 - val_mae: 0.0076\n",
      "Epoch 3/1000\n",
      "84/88 [===========================>..] - ETA: 0s - loss: 0.0075 - mae: 0.0075\n",
      "Epoch 00003: val_loss improved from 0.00761 to 0.00733, saving model to /home/zhimin90/DePaul/CSC695/Github/CSC695-Masters-Research-on-Neural-Network-Time-Series-Attention-Models/Asset/checkpoints/_20200623-210215_model.hdf5\n",
      "88/88 [==============================] - 0s 3ms/sample - loss: 0.0075 - mae: 0.0075 - val_loss: 0.0073 - val_mae: 0.0073\n",
      "Epoch 4/1000\n",
      "77/88 [=========================>....] - ETA: 0s - loss: 0.0072 - mae: 0.0072\n",
      "Epoch 00004: val_loss improved from 0.00733 to 0.00707, saving model to /home/zhimin90/DePaul/CSC695/Github/CSC695-Masters-Research-on-Neural-Network-Time-Series-Attention-Models/Asset/checkpoints/_20200623-210215_model.hdf5\n",
      "88/88 [==============================] - 0s 3ms/sample - loss: 0.0072 - mae: 0.0072 - val_loss: 0.0071 - val_mae: 0.0071\n",
      "Epoch 5/1000\n",
      "77/88 [=========================>....] - ETA: 0s - loss: 0.0070 - mae: 0.0070\n",
      "Epoch 00005: val_loss improved from 0.00707 to 0.00682, saving model to /home/zhimin90/DePaul/CSC695/Github/CSC695-Masters-Research-on-Neural-Network-Time-Series-Attention-Models/Asset/checkpoints/_20200623-210215_model.hdf5\n",
      "88/88 [==============================] - 0s 3ms/sample - loss: 0.0069 - mae: 0.0069 - val_loss: 0.0068 - val_mae: 0.0068\n",
      "Epoch 6/1000\n",
      "84/88 [===========================>..] - ETA: 0s - loss: 0.0067 - mae: 0.0067\n",
      "Epoch 00006: val_loss improved from 0.00682 to 0.00658, saving model to /home/zhimin90/DePaul/CSC695/Github/CSC695-Masters-Research-on-Neural-Network-Time-Series-Attention-Models/Asset/checkpoints/_20200623-210215_model.hdf5\n",
      "88/88 [==============================] - 0s 2ms/sample - loss: 0.0067 - mae: 0.0067 - val_loss: 0.0066 - val_mae: 0.0066\n",
      "Epoch 7/1000\n",
      "77/88 [=========================>....] - ETA: 0s - loss: 0.0065 - mae: 0.0065\n",
      "Epoch 00007: val_loss improved from 0.00658 to 0.00636, saving model to /home/zhimin90/DePaul/CSC695/Github/CSC695-Masters-Research-on-Neural-Network-Time-Series-Attention-Models/Asset/checkpoints/_20200623-210215_model.hdf5\n",
      "88/88 [==============================] - 0s 3ms/sample - loss: 0.0065 - mae: 0.0065 - val_loss: 0.0064 - val_mae: 0.0064\n",
      "Epoch 8/1000\n",
      "77/88 [=========================>....] - ETA: 0s - loss: 0.0062 - mae: 0.0062\n",
      "Epoch 00008: val_loss improved from 0.00636 to 0.00614, saving model to /home/zhimin90/DePaul/CSC695/Github/CSC695-Masters-Research-on-Neural-Network-Time-Series-Attention-Models/Asset/checkpoints/_20200623-210215_model.hdf5\n",
      "88/88 [==============================] - 0s 3ms/sample - loss: 0.0062 - mae: 0.0062 - val_loss: 0.0061 - val_mae: 0.0061\n",
      "Epoch 9/1000\n",
      "49/88 [===============>..............] - ETA: 0s - loss: 0.0061 - mae: 0.0061\n",
      "Epoch 00009: val_loss improved from 0.00614 to 0.00593, saving model to /home/zhimin90/DePaul/CSC695/Github/CSC695-Masters-Research-on-Neural-Network-Time-Series-Attention-Models/Asset/checkpoints/_20200623-210215_model.hdf5\n",
      "88/88 [==============================] - 0s 3ms/sample - loss: 0.0060 - mae: 0.0060 - val_loss: 0.0059 - val_mae: 0.0059\n",
      "Epoch 10/1000\n",
      "77/88 [=========================>....] - ETA: 0s - loss: 0.0058 - mae: 0.0058\n",
      "Epoch 00010: val_loss improved from 0.00593 to 0.00574, saving model to /home/zhimin90/DePaul/CSC695/Github/CSC695-Masters-Research-on-Neural-Network-Time-Series-Attention-Models/Asset/checkpoints/_20200623-210215_model.hdf5\n",
      "88/88 [==============================] - 0s 3ms/sample - loss: 0.0058 - mae: 0.0058 - val_loss: 0.0057 - val_mae: 0.0057\n",
      "Epoch 11/1000\n",
      "49/88 [===============>..............] - ETA: 0s - loss: 0.0057 - mae: 0.0057\n",
      "Epoch 00011: val_loss improved from 0.00574 to 0.00556, saving model to /home/zhimin90/DePaul/CSC695/Github/CSC695-Masters-Research-on-Neural-Network-Time-Series-Attention-Models/Asset/checkpoints/_20200623-210215_model.hdf5\n",
      "88/88 [==============================] - 0s 2ms/sample - loss: 0.0056 - mae: 0.0056 - val_loss: 0.0056 - val_mae: 0.0056\n",
      "Epoch 12/1000\n",
      "84/88 [===========================>..] - ETA: 0s - loss: 0.0054 - mae: 0.0054\n",
      "Epoch 00012: val_loss improved from 0.00556 to 0.00539, saving model to /home/zhimin90/DePaul/CSC695/Github/CSC695-Masters-Research-on-Neural-Network-Time-Series-Attention-Models/Asset/checkpoints/_20200623-210215_model.hdf5\n",
      "88/88 [==============================] - 0s 3ms/sample - loss: 0.0054 - mae: 0.0054 - val_loss: 0.0054 - val_mae: 0.0054\n",
      "Epoch 13/1000\n",
      "77/88 [=========================>....] - ETA: 0s - loss: 0.0053 - mae: 0.0053\n",
      "Epoch 00013: val_loss improved from 0.00539 to 0.00522, saving model to /home/zhimin90/DePaul/CSC695/Github/CSC695-Masters-Research-on-Neural-Network-Time-Series-Attention-Models/Asset/checkpoints/_20200623-210215_model.hdf5\n",
      "88/88 [==============================] - 0s 3ms/sample - loss: 0.0053 - mae: 0.0053 - val_loss: 0.0052 - val_mae: 0.0052\n",
      "Epoch 14/1000\n",
      "84/88 [===========================>..] - ETA: 0s - loss: 0.0051 - mae: 0.0051\n",
      "Epoch 00014: val_loss improved from 0.00522 to 0.00507, saving model to /home/zhimin90/DePaul/CSC695/Github/CSC695-Masters-Research-on-Neural-Network-Time-Series-Attention-Models/Asset/checkpoints/_20200623-210215_model.hdf5\n",
      "88/88 [==============================] - 0s 3ms/sample - loss: 0.0051 - mae: 0.0051 - val_loss: 0.0051 - val_mae: 0.0051\n",
      "Epoch 15/1000\n",
      "49/88 [===============>..............] - ETA: 0s - loss: 0.0050 - mae: 0.0050\n",
      "Epoch 00015: val_loss improved from 0.00507 to 0.00492, saving model to /home/zhimin90/DePaul/CSC695/Github/CSC695-Masters-Research-on-Neural-Network-Time-Series-Attention-Models/Asset/checkpoints/_20200623-210215_model.hdf5\n",
      "88/88 [==============================] - 0s 2ms/sample - loss: 0.0049 - mae: 0.0049 - val_loss: 0.0049 - val_mae: 0.0049\n",
      "Epoch 16/1000\n",
      "84/88 [===========================>..] - ETA: 0s - loss: 0.0048 - mae: 0.0048\n",
      "Epoch 00016: val_loss improved from 0.00492 to 0.00477, saving model to /home/zhimin90/DePaul/CSC695/Github/CSC695-Masters-Research-on-Neural-Network-Time-Series-Attention-Models/Asset/checkpoints/_20200623-210215_model.hdf5\n",
      "88/88 [==============================] - 0s 3ms/sample - loss: 0.0048 - mae: 0.0048 - val_loss: 0.0048 - val_mae: 0.0048\n",
      "Epoch 17/1000\n",
      "77/88 [=========================>....] - ETA: 0s - loss: 0.0047 - mae: 0.0047\n",
      "Epoch 00017: val_loss improved from 0.00477 to 0.00464, saving model to /home/zhimin90/DePaul/CSC695/Github/CSC695-Masters-Research-on-Neural-Network-Time-Series-Attention-Models/Asset/checkpoints/_20200623-210215_model.hdf5\n",
      "88/88 [==============================] - 0s 3ms/sample - loss: 0.0046 - mae: 0.0046 - val_loss: 0.0046 - val_mae: 0.0046\n",
      "Epoch 18/1000\n",
      "77/88 [=========================>....] - ETA: 0s - loss: 0.0045 - mae: 0.0045\n",
      "Epoch 00018: val_loss improved from 0.00464 to 0.00451, saving model to /home/zhimin90/DePaul/CSC695/Github/CSC695-Masters-Research-on-Neural-Network-Time-Series-Attention-Models/Asset/checkpoints/_20200623-210215_model.hdf5\n",
      "88/88 [==============================] - 0s 3ms/sample - loss: 0.0045 - mae: 0.0045 - val_loss: 0.0045 - val_mae: 0.0045\n",
      "Epoch 19/1000\n",
      "77/88 [=========================>....] - ETA: 0s - loss: 0.0044 - mae: 0.0044\n",
      "Epoch 00019: val_loss improved from 0.00451 to 0.00438, saving model to /home/zhimin90/DePaul/CSC695/Github/CSC695-Masters-Research-on-Neural-Network-Time-Series-Attention-Models/Asset/checkpoints/_20200623-210215_model.hdf5\n"
     ]
    },
    {
     "name": "stdout",
     "output_type": "stream",
     "text": [
      "88/88 [==============================] - 0s 3ms/sample - loss: 0.0044 - mae: 0.0044 - val_loss: 0.0044 - val_mae: 0.0044\n",
      "Epoch 20/1000\n",
      "77/88 [=========================>....] - ETA: 0s - loss: 0.0043 - mae: 0.0043\n",
      "Epoch 00020: val_loss improved from 0.00438 to 0.00427, saving model to /home/zhimin90/DePaul/CSC695/Github/CSC695-Masters-Research-on-Neural-Network-Time-Series-Attention-Models/Asset/checkpoints/_20200623-210215_model.hdf5\n",
      "88/88 [==============================] - 0s 3ms/sample - loss: 0.0043 - mae: 0.0043 - val_loss: 0.0043 - val_mae: 0.0043\n",
      "Epoch 21/1000\n",
      "77/88 [=========================>....] - ETA: 0s - loss: 0.0041 - mae: 0.0041\n",
      "Epoch 00021: val_loss improved from 0.00427 to 0.00416, saving model to /home/zhimin90/DePaul/CSC695/Github/CSC695-Masters-Research-on-Neural-Network-Time-Series-Attention-Models/Asset/checkpoints/_20200623-210215_model.hdf5\n",
      "88/88 [==============================] - 0s 3ms/sample - loss: 0.0041 - mae: 0.0041 - val_loss: 0.0042 - val_mae: 0.0042\n",
      "Epoch 22/1000\n",
      "77/88 [=========================>....] - ETA: 0s - loss: 0.0040 - mae: 0.0040\n",
      "Epoch 00022: val_loss improved from 0.00416 to 0.00406, saving model to /home/zhimin90/DePaul/CSC695/Github/CSC695-Masters-Research-on-Neural-Network-Time-Series-Attention-Models/Asset/checkpoints/_20200623-210215_model.hdf5\n",
      "88/88 [==============================] - 0s 3ms/sample - loss: 0.0040 - mae: 0.0040 - val_loss: 0.0041 - val_mae: 0.0041\n",
      "Epoch 23/1000\n",
      "77/88 [=========================>....] - ETA: 0s - loss: 0.0039 - mae: 0.0039\n",
      "Epoch 00023: val_loss improved from 0.00406 to 0.00395, saving model to /home/zhimin90/DePaul/CSC695/Github/CSC695-Masters-Research-on-Neural-Network-Time-Series-Attention-Models/Asset/checkpoints/_20200623-210215_model.hdf5\n",
      "88/88 [==============================] - 0s 3ms/sample - loss: 0.0039 - mae: 0.0039 - val_loss: 0.0040 - val_mae: 0.0040\n",
      "Epoch 24/1000\n",
      "77/88 [=========================>....] - ETA: 0s - loss: 0.0038 - mae: 0.0038\n",
      "Epoch 00024: val_loss improved from 0.00395 to 0.00385, saving model to /home/zhimin90/DePaul/CSC695/Github/CSC695-Masters-Research-on-Neural-Network-Time-Series-Attention-Models/Asset/checkpoints/_20200623-210215_model.hdf5\n",
      "88/88 [==============================] - 0s 3ms/sample - loss: 0.0038 - mae: 0.0038 - val_loss: 0.0039 - val_mae: 0.0039\n",
      "Epoch 25/1000\n",
      "84/88 [===========================>..] - ETA: 0s - loss: 0.0037 - mae: 0.0037\n",
      "Epoch 00025: val_loss improved from 0.00385 to 0.00377, saving model to /home/zhimin90/DePaul/CSC695/Github/CSC695-Masters-Research-on-Neural-Network-Time-Series-Attention-Models/Asset/checkpoints/_20200623-210215_model.hdf5\n",
      "88/88 [==============================] - 0s 3ms/sample - loss: 0.0037 - mae: 0.0037 - val_loss: 0.0038 - val_mae: 0.0038\n",
      "Epoch 26/1000\n",
      "49/88 [===============>..............] - ETA: 0s - loss: 0.0037 - mae: 0.0037\n",
      "Epoch 00026: val_loss improved from 0.00377 to 0.00368, saving model to /home/zhimin90/DePaul/CSC695/Github/CSC695-Masters-Research-on-Neural-Network-Time-Series-Attention-Models/Asset/checkpoints/_20200623-210215_model.hdf5\n",
      "88/88 [==============================] - 0s 3ms/sample - loss: 0.0036 - mae: 0.0036 - val_loss: 0.0037 - val_mae: 0.0037\n",
      "Epoch 27/1000\n",
      "49/88 [===============>..............] - ETA: 0s - loss: 0.0036 - mae: 0.0036\n",
      "Epoch 00027: val_loss improved from 0.00368 to 0.00359, saving model to /home/zhimin90/DePaul/CSC695/Github/CSC695-Masters-Research-on-Neural-Network-Time-Series-Attention-Models/Asset/checkpoints/_20200623-210215_model.hdf5\n",
      "88/88 [==============================] - 0s 2ms/sample - loss: 0.0036 - mae: 0.0036 - val_loss: 0.0036 - val_mae: 0.0036\n",
      "Epoch 28/1000\n",
      "84/88 [===========================>..] - ETA: 0s - loss: 0.0035 - mae: 0.0035\n",
      "Epoch 00028: val_loss improved from 0.00359 to 0.00351, saving model to /home/zhimin90/DePaul/CSC695/Github/CSC695-Masters-Research-on-Neural-Network-Time-Series-Attention-Models/Asset/checkpoints/_20200623-210215_model.hdf5\n",
      "88/88 [==============================] - 0s 3ms/sample - loss: 0.0035 - mae: 0.0035 - val_loss: 0.0035 - val_mae: 0.0035\n",
      "Epoch 29/1000\n",
      "49/88 [===============>..............] - ETA: 0s - loss: 0.0034 - mae: 0.0034\n",
      "Epoch 00029: val_loss improved from 0.00351 to 0.00344, saving model to /home/zhimin90/DePaul/CSC695/Github/CSC695-Masters-Research-on-Neural-Network-Time-Series-Attention-Models/Asset/checkpoints/_20200623-210215_model.hdf5\n",
      "88/88 [==============================] - 0s 2ms/sample - loss: 0.0034 - mae: 0.0034 - val_loss: 0.0034 - val_mae: 0.0034\n",
      "Epoch 30/1000\n",
      "84/88 [===========================>..] - ETA: 0s - loss: 0.0033 - mae: 0.0033\n",
      "Epoch 00030: val_loss improved from 0.00344 to 0.00336, saving model to /home/zhimin90/DePaul/CSC695/Github/CSC695-Masters-Research-on-Neural-Network-Time-Series-Attention-Models/Asset/checkpoints/_20200623-210215_model.hdf5\n",
      "88/88 [==============================] - 0s 3ms/sample - loss: 0.0033 - mae: 0.0033 - val_loss: 0.0034 - val_mae: 0.0034\n",
      "Epoch 31/1000\n",
      "49/88 [===============>..............] - ETA: 0s - loss: 0.0033 - mae: 0.0033\n",
      "Epoch 00031: val_loss improved from 0.00336 to 0.00329, saving model to /home/zhimin90/DePaul/CSC695/Github/CSC695-Masters-Research-on-Neural-Network-Time-Series-Attention-Models/Asset/checkpoints/_20200623-210215_model.hdf5\n",
      "88/88 [==============================] - 0s 2ms/sample - loss: 0.0032 - mae: 0.0032 - val_loss: 0.0033 - val_mae: 0.0033\n",
      "Epoch 32/1000\n",
      "84/88 [===========================>..] - ETA: 0s - loss: 0.0032 - mae: 0.0032\n",
      "Epoch 00032: val_loss improved from 0.00329 to 0.00323, saving model to /home/zhimin90/DePaul/CSC695/Github/CSC695-Masters-Research-on-Neural-Network-Time-Series-Attention-Models/Asset/checkpoints/_20200623-210215_model.hdf5\n",
      "88/88 [==============================] - 0s 2ms/sample - loss: 0.0032 - mae: 0.0032 - val_loss: 0.0032 - val_mae: 0.0032\n",
      "Epoch 33/1000\n",
      "84/88 [===========================>..] - ETA: 0s - loss: 0.0031 - mae: 0.0031\n",
      "Epoch 00033: val_loss improved from 0.00323 to 0.00317, saving model to /home/zhimin90/DePaul/CSC695/Github/CSC695-Masters-Research-on-Neural-Network-Time-Series-Attention-Models/Asset/checkpoints/_20200623-210215_model.hdf5\n",
      "88/88 [==============================] - 0s 2ms/sample - loss: 0.0031 - mae: 0.0031 - val_loss: 0.0032 - val_mae: 0.0032\n",
      "Epoch 34/1000\n",
      "49/88 [===============>..............] - ETA: 0s - loss: 0.0031 - mae: 0.0031\n",
      "Epoch 00034: val_loss improved from 0.00317 to 0.00310, saving model to /home/zhimin90/DePaul/CSC695/Github/CSC695-Masters-Research-on-Neural-Network-Time-Series-Attention-Models/Asset/checkpoints/_20200623-210215_model.hdf5\n",
      "88/88 [==============================] - 0s 2ms/sample - loss: 0.0031 - mae: 0.0031 - val_loss: 0.0031 - val_mae: 0.0031\n",
      "Epoch 35/1000\n",
      "49/88 [===============>..............] - ETA: 0s - loss: 0.0030 - mae: 0.0030\n",
      "Epoch 00035: val_loss improved from 0.00310 to 0.00306, saving model to /home/zhimin90/DePaul/CSC695/Github/CSC695-Masters-Research-on-Neural-Network-Time-Series-Attention-Models/Asset/checkpoints/_20200623-210215_model.hdf5\n",
      "88/88 [==============================] - 0s 2ms/sample - loss: 0.0030 - mae: 0.0030 - val_loss: 0.0031 - val_mae: 0.0031\n",
      "Epoch 36/1000\n",
      "49/88 [===============>..............] - ETA: 0s - loss: 0.0030 - mae: 0.0030\n",
      "Epoch 00036: val_loss improved from 0.00306 to 0.00300, saving model to /home/zhimin90/DePaul/CSC695/Github/CSC695-Masters-Research-on-Neural-Network-Time-Series-Attention-Models/Asset/checkpoints/_20200623-210215_model.hdf5\n",
      "88/88 [==============================] - 0s 2ms/sample - loss: 0.0029 - mae: 0.0029 - val_loss: 0.0030 - val_mae: 0.0030\n",
      "Epoch 37/1000\n",
      "49/88 [===============>..............] - ETA: 0s - loss: 0.0029 - mae: 0.0029\n",
      "Epoch 00037: val_loss improved from 0.00300 to 0.00295, saving model to /home/zhimin90/DePaul/CSC695/Github/CSC695-Masters-Research-on-Neural-Network-Time-Series-Attention-Models/Asset/checkpoints/_20200623-210215_model.hdf5\n",
      "88/88 [==============================] - 0s 2ms/sample - loss: 0.0029 - mae: 0.0029 - val_loss: 0.0029 - val_mae: 0.0029\n",
      "Epoch 38/1000\n",
      "84/88 [===========================>..] - ETA: 0s - loss: 0.0028 - mae: 0.0028\n",
      "Epoch 00038: val_loss improved from 0.00295 to 0.00289, saving model to /home/zhimin90/DePaul/CSC695/Github/CSC695-Masters-Research-on-Neural-Network-Time-Series-Attention-Models/Asset/checkpoints/_20200623-210215_model.hdf5\n"
     ]
    },
    {
     "name": "stdout",
     "output_type": "stream",
     "text": [
      "88/88 [==============================] - 0s 3ms/sample - loss: 0.0028 - mae: 0.0028 - val_loss: 0.0029 - val_mae: 0.0029\n",
      "Epoch 39/1000\n",
      "49/88 [===============>..............] - ETA: 0s - loss: 0.0028 - mae: 0.0028\n",
      "Epoch 00039: val_loss improved from 0.00289 to 0.00285, saving model to /home/zhimin90/DePaul/CSC695/Github/CSC695-Masters-Research-on-Neural-Network-Time-Series-Attention-Models/Asset/checkpoints/_20200623-210215_model.hdf5\n",
      "88/88 [==============================] - 0s 2ms/sample - loss: 0.0028 - mae: 0.0028 - val_loss: 0.0029 - val_mae: 0.0029\n",
      "Epoch 40/1000\n",
      "49/88 [===============>..............] - ETA: 0s - loss: 0.0028 - mae: 0.0028\n",
      "Epoch 00040: val_loss improved from 0.00285 to 0.00281, saving model to /home/zhimin90/DePaul/CSC695/Github/CSC695-Masters-Research-on-Neural-Network-Time-Series-Attention-Models/Asset/checkpoints/_20200623-210215_model.hdf5\n",
      "88/88 [==============================] - 0s 2ms/sample - loss: 0.0027 - mae: 0.0027 - val_loss: 0.0028 - val_mae: 0.0028\n",
      "Epoch 41/1000\n",
      "84/88 [===========================>..] - ETA: 0s - loss: 0.0027 - mae: 0.0027\n",
      "Epoch 00041: val_loss improved from 0.00281 to 0.00276, saving model to /home/zhimin90/DePaul/CSC695/Github/CSC695-Masters-Research-on-Neural-Network-Time-Series-Attention-Models/Asset/checkpoints/_20200623-210215_model.hdf5\n",
      "88/88 [==============================] - 0s 2ms/sample - loss: 0.0027 - mae: 0.0027 - val_loss: 0.0028 - val_mae: 0.0028\n",
      "Epoch 42/1000\n",
      "49/88 [===============>..............] - ETA: 0s - loss: 0.0027 - mae: 0.0027\n",
      "Epoch 00042: val_loss improved from 0.00276 to 0.00273, saving model to /home/zhimin90/DePaul/CSC695/Github/CSC695-Masters-Research-on-Neural-Network-Time-Series-Attention-Models/Asset/checkpoints/_20200623-210215_model.hdf5\n",
      "88/88 [==============================] - 0s 2ms/sample - loss: 0.0027 - mae: 0.0027 - val_loss: 0.0027 - val_mae: 0.0027\n",
      "Epoch 43/1000\n",
      "77/88 [=========================>....] - ETA: 0s - loss: 0.0026 - mae: 0.0026\n",
      "Epoch 00043: val_loss improved from 0.00273 to 0.00268, saving model to /home/zhimin90/DePaul/CSC695/Github/CSC695-Masters-Research-on-Neural-Network-Time-Series-Attention-Models/Asset/checkpoints/_20200623-210215_model.hdf5\n",
      "88/88 [==============================] - 0s 3ms/sample - loss: 0.0026 - mae: 0.0026 - val_loss: 0.0027 - val_mae: 0.0027\n",
      "Epoch 44/1000\n",
      "77/88 [=========================>....] - ETA: 0s - loss: 0.0026 - mae: 0.0026\n",
      "Epoch 00044: val_loss improved from 0.00268 to 0.00265, saving model to /home/zhimin90/DePaul/CSC695/Github/CSC695-Masters-Research-on-Neural-Network-Time-Series-Attention-Models/Asset/checkpoints/_20200623-210215_model.hdf5\n",
      "88/88 [==============================] - 0s 3ms/sample - loss: 0.0026 - mae: 0.0026 - val_loss: 0.0027 - val_mae: 0.0027\n",
      "Epoch 45/1000\n",
      "77/88 [=========================>....] - ETA: 0s - loss: 0.0026 - mae: 0.0026\n",
      "Epoch 00045: val_loss improved from 0.00265 to 0.00261, saving model to /home/zhimin90/DePaul/CSC695/Github/CSC695-Masters-Research-on-Neural-Network-Time-Series-Attention-Models/Asset/checkpoints/_20200623-210215_model.hdf5\n",
      "88/88 [==============================] - 0s 3ms/sample - loss: 0.0026 - mae: 0.0026 - val_loss: 0.0026 - val_mae: 0.0026\n",
      "Epoch 46/1000\n",
      "77/88 [=========================>....] - ETA: 0s - loss: 0.0025 - mae: 0.0025\n",
      "Epoch 00046: val_loss improved from 0.00261 to 0.00258, saving model to /home/zhimin90/DePaul/CSC695/Github/CSC695-Masters-Research-on-Neural-Network-Time-Series-Attention-Models/Asset/checkpoints/_20200623-210215_model.hdf5\n",
      "88/88 [==============================] - 0s 3ms/sample - loss: 0.0025 - mae: 0.0025 - val_loss: 0.0026 - val_mae: 0.0026\n",
      "Epoch 47/1000\n",
      "63/88 [====================>.........] - ETA: 0s - loss: 0.0025 - mae: 0.0025\n",
      "Epoch 00047: val_loss improved from 0.00258 to 0.00255, saving model to /home/zhimin90/DePaul/CSC695/Github/CSC695-Masters-Research-on-Neural-Network-Time-Series-Attention-Models/Asset/checkpoints/_20200623-210215_model.hdf5\n",
      "88/88 [==============================] - 0s 4ms/sample - loss: 0.0025 - mae: 0.0025 - val_loss: 0.0025 - val_mae: 0.0025\n",
      "Epoch 48/1000\n",
      "63/88 [====================>.........] - ETA: 0s - loss: 0.0025 - mae: 0.0025\n",
      "Epoch 00048: val_loss improved from 0.00255 to 0.00252, saving model to /home/zhimin90/DePaul/CSC695/Github/CSC695-Masters-Research-on-Neural-Network-Time-Series-Attention-Models/Asset/checkpoints/_20200623-210215_model.hdf5\n",
      "88/88 [==============================] - 0s 3ms/sample - loss: 0.0025 - mae: 0.0025 - val_loss: 0.0025 - val_mae: 0.0025\n",
      "Epoch 49/1000\n",
      "63/88 [====================>.........] - ETA: 0s - loss: 0.0024 - mae: 0.0024\n",
      "Epoch 00049: val_loss improved from 0.00252 to 0.00249, saving model to /home/zhimin90/DePaul/CSC695/Github/CSC695-Masters-Research-on-Neural-Network-Time-Series-Attention-Models/Asset/checkpoints/_20200623-210215_model.hdf5\n",
      "88/88 [==============================] - 0s 3ms/sample - loss: 0.0024 - mae: 0.0024 - val_loss: 0.0025 - val_mae: 0.0025\n",
      "Epoch 50/1000\n",
      "84/88 [===========================>..] - ETA: 0s - loss: 0.0024 - mae: 0.0024\n",
      "Epoch 00050: val_loss improved from 0.00249 to 0.00247, saving model to /home/zhimin90/DePaul/CSC695/Github/CSC695-Masters-Research-on-Neural-Network-Time-Series-Attention-Models/Asset/checkpoints/_20200623-210215_model.hdf5\n",
      "88/88 [==============================] - 0s 3ms/sample - loss: 0.0024 - mae: 0.0024 - val_loss: 0.0025 - val_mae: 0.0025\n",
      "Epoch 51/1000\n",
      "84/88 [===========================>..] - ETA: 0s - loss: 0.0024 - mae: 0.0024\n",
      "Epoch 00051: val_loss improved from 0.00247 to 0.00244, saving model to /home/zhimin90/DePaul/CSC695/Github/CSC695-Masters-Research-on-Neural-Network-Time-Series-Attention-Models/Asset/checkpoints/_20200623-210215_model.hdf5\n",
      "88/88 [==============================] - 0s 2ms/sample - loss: 0.0024 - mae: 0.0024 - val_loss: 0.0024 - val_mae: 0.0024\n",
      "Epoch 52/1000\n",
      "49/88 [===============>..............] - ETA: 0s - loss: 0.0024 - mae: 0.0024\n",
      "Epoch 00052: val_loss improved from 0.00244 to 0.00241, saving model to /home/zhimin90/DePaul/CSC695/Github/CSC695-Masters-Research-on-Neural-Network-Time-Series-Attention-Models/Asset/checkpoints/_20200623-210215_model.hdf5\n",
      "88/88 [==============================] - 0s 2ms/sample - loss: 0.0023 - mae: 0.0023 - val_loss: 0.0024 - val_mae: 0.0024\n",
      "Epoch 53/1000\n",
      "49/88 [===============>..............] - ETA: 0s - loss: 0.0023 - mae: 0.0023\n",
      "Epoch 00053: val_loss improved from 0.00241 to 0.00239, saving model to /home/zhimin90/DePaul/CSC695/Github/CSC695-Masters-Research-on-Neural-Network-Time-Series-Attention-Models/Asset/checkpoints/_20200623-210215_model.hdf5\n",
      "88/88 [==============================] - 0s 2ms/sample - loss: 0.0023 - mae: 0.0023 - val_loss: 0.0024 - val_mae: 0.0024\n",
      "Epoch 54/1000\n",
      "49/88 [===============>..............] - ETA: 0s - loss: 0.0023 - mae: 0.0023\n",
      "Epoch 00054: val_loss improved from 0.00239 to 0.00237, saving model to /home/zhimin90/DePaul/CSC695/Github/CSC695-Masters-Research-on-Neural-Network-Time-Series-Attention-Models/Asset/checkpoints/_20200623-210215_model.hdf5\n",
      "88/88 [==============================] - 0s 2ms/sample - loss: 0.0023 - mae: 0.0023 - val_loss: 0.0024 - val_mae: 0.0024\n",
      "Epoch 55/1000\n",
      "84/88 [===========================>..] - ETA: 0s - loss: 0.0023 - mae: 0.0023\n",
      "Epoch 00055: val_loss improved from 0.00237 to 0.00234, saving model to /home/zhimin90/DePaul/CSC695/Github/CSC695-Masters-Research-on-Neural-Network-Time-Series-Attention-Models/Asset/checkpoints/_20200623-210215_model.hdf5\n",
      "88/88 [==============================] - 0s 3ms/sample - loss: 0.0023 - mae: 0.0023 - val_loss: 0.0023 - val_mae: 0.0023\n",
      "Epoch 56/1000\n",
      "49/88 [===============>..............] - ETA: 0s - loss: 0.0023 - mae: 0.0023\n",
      "Epoch 00056: val_loss improved from 0.00234 to 0.00233, saving model to /home/zhimin90/DePaul/CSC695/Github/CSC695-Masters-Research-on-Neural-Network-Time-Series-Attention-Models/Asset/checkpoints/_20200623-210215_model.hdf5\n",
      "88/88 [==============================] - 0s 2ms/sample - loss: 0.0023 - mae: 0.0023 - val_loss: 0.0023 - val_mae: 0.0023\n",
      "Epoch 57/1000\n",
      "49/88 [===============>..............] - ETA: 0s - loss: 0.0022 - mae: 0.0022\n",
      "Epoch 00057: val_loss improved from 0.00233 to 0.00231, saving model to /home/zhimin90/DePaul/CSC695/Github/CSC695-Masters-Research-on-Neural-Network-Time-Series-Attention-Models/Asset/checkpoints/_20200623-210215_model.hdf5\n"
     ]
    },
    {
     "name": "stdout",
     "output_type": "stream",
     "text": [
      "88/88 [==============================] - 0s 2ms/sample - loss: 0.0022 - mae: 0.0022 - val_loss: 0.0023 - val_mae: 0.0023\n",
      "Epoch 58/1000\n",
      "49/88 [===============>..............] - ETA: 0s - loss: 0.0022 - mae: 0.0022\n",
      "Epoch 00058: val_loss improved from 0.00231 to 0.00229, saving model to /home/zhimin90/DePaul/CSC695/Github/CSC695-Masters-Research-on-Neural-Network-Time-Series-Attention-Models/Asset/checkpoints/_20200623-210215_model.hdf5\n",
      "88/88 [==============================] - 0s 2ms/sample - loss: 0.0022 - mae: 0.0022 - val_loss: 0.0023 - val_mae: 0.0023\n",
      "Epoch 59/1000\n",
      "49/88 [===============>..............] - ETA: 0s - loss: 0.0022 - mae: 0.0022\n",
      "Epoch 00059: val_loss improved from 0.00229 to 0.00227, saving model to /home/zhimin90/DePaul/CSC695/Github/CSC695-Masters-Research-on-Neural-Network-Time-Series-Attention-Models/Asset/checkpoints/_20200623-210215_model.hdf5\n",
      "88/88 [==============================] - 0s 2ms/sample - loss: 0.0022 - mae: 0.0022 - val_loss: 0.0023 - val_mae: 0.0023\n",
      "Epoch 60/1000\n",
      "49/88 [===============>..............] - ETA: 0s - loss: 0.0022 - mae: 0.0022\n",
      "Epoch 00060: val_loss improved from 0.00227 to 0.00226, saving model to /home/zhimin90/DePaul/CSC695/Github/CSC695-Masters-Research-on-Neural-Network-Time-Series-Attention-Models/Asset/checkpoints/_20200623-210215_model.hdf5\n",
      "88/88 [==============================] - 0s 2ms/sample - loss: 0.0022 - mae: 0.0022 - val_loss: 0.0023 - val_mae: 0.0023\n",
      "Epoch 61/1000\n",
      "49/88 [===============>..............] - ETA: 0s - loss: 0.0022 - mae: 0.0022\n",
      "Epoch 00061: val_loss improved from 0.00226 to 0.00225, saving model to /home/zhimin90/DePaul/CSC695/Github/CSC695-Masters-Research-on-Neural-Network-Time-Series-Attention-Models/Asset/checkpoints/_20200623-210215_model.hdf5\n",
      "88/88 [==============================] - 0s 2ms/sample - loss: 0.0022 - mae: 0.0022 - val_loss: 0.0022 - val_mae: 0.0022\n",
      "Epoch 62/1000\n",
      "49/88 [===============>..............] - ETA: 0s - loss: 0.0022 - mae: 0.0022\n",
      "Epoch 00062: val_loss improved from 0.00225 to 0.00223, saving model to /home/zhimin90/DePaul/CSC695/Github/CSC695-Masters-Research-on-Neural-Network-Time-Series-Attention-Models/Asset/checkpoints/_20200623-210215_model.hdf5\n",
      "88/88 [==============================] - 0s 3ms/sample - loss: 0.0022 - mae: 0.0022 - val_loss: 0.0022 - val_mae: 0.0022\n",
      "Epoch 63/1000\n",
      "49/88 [===============>..............] - ETA: 0s - loss: 0.0021 - mae: 0.0021\n",
      "Epoch 00063: val_loss improved from 0.00223 to 0.00221, saving model to /home/zhimin90/DePaul/CSC695/Github/CSC695-Masters-Research-on-Neural-Network-Time-Series-Attention-Models/Asset/checkpoints/_20200623-210215_model.hdf5\n",
      "88/88 [==============================] - 0s 2ms/sample - loss: 0.0021 - mae: 0.0021 - val_loss: 0.0022 - val_mae: 0.0022\n",
      "Epoch 64/1000\n",
      "84/88 [===========================>..] - ETA: 0s - loss: 0.0021 - mae: 0.0021\n",
      "Epoch 00064: val_loss improved from 0.00221 to 0.00220, saving model to /home/zhimin90/DePaul/CSC695/Github/CSC695-Masters-Research-on-Neural-Network-Time-Series-Attention-Models/Asset/checkpoints/_20200623-210215_model.hdf5\n",
      "88/88 [==============================] - 0s 2ms/sample - loss: 0.0021 - mae: 0.0021 - val_loss: 0.0022 - val_mae: 0.0022\n",
      "Epoch 65/1000\n",
      "49/88 [===============>..............] - ETA: 0s - loss: 0.0021 - mae: 0.0021\n",
      "Epoch 00065: val_loss improved from 0.00220 to 0.00219, saving model to /home/zhimin90/DePaul/CSC695/Github/CSC695-Masters-Research-on-Neural-Network-Time-Series-Attention-Models/Asset/checkpoints/_20200623-210215_model.hdf5\n",
      "88/88 [==============================] - 0s 2ms/sample - loss: 0.0021 - mae: 0.0021 - val_loss: 0.0022 - val_mae: 0.0022\n",
      "Epoch 66/1000\n",
      "84/88 [===========================>..] - ETA: 0s - loss: 0.0021 - mae: 0.0021\n",
      "Epoch 00066: val_loss improved from 0.00219 to 0.00217, saving model to /home/zhimin90/DePaul/CSC695/Github/CSC695-Masters-Research-on-Neural-Network-Time-Series-Attention-Models/Asset/checkpoints/_20200623-210215_model.hdf5\n",
      "88/88 [==============================] - 0s 3ms/sample - loss: 0.0021 - mae: 0.0021 - val_loss: 0.0022 - val_mae: 0.0022\n",
      "Epoch 67/1000\n",
      "49/88 [===============>..............] - ETA: 0s - loss: 0.0021 - mae: 0.0021\n",
      "Epoch 00067: val_loss improved from 0.00217 to 0.00216, saving model to /home/zhimin90/DePaul/CSC695/Github/CSC695-Masters-Research-on-Neural-Network-Time-Series-Attention-Models/Asset/checkpoints/_20200623-210215_model.hdf5\n",
      "88/88 [==============================] - 0s 2ms/sample - loss: 0.0021 - mae: 0.0021 - val_loss: 0.0022 - val_mae: 0.0022\n",
      "Epoch 68/1000\n",
      "49/88 [===============>..............] - ETA: 0s - loss: 0.0021 - mae: 0.0021\n",
      "Epoch 00068: val_loss improved from 0.00216 to 0.00215, saving model to /home/zhimin90/DePaul/CSC695/Github/CSC695-Masters-Research-on-Neural-Network-Time-Series-Attention-Models/Asset/checkpoints/_20200623-210215_model.hdf5\n",
      "88/88 [==============================] - 0s 3ms/sample - loss: 0.0021 - mae: 0.0021 - val_loss: 0.0022 - val_mae: 0.0022\n",
      "Epoch 69/1000\n",
      "63/88 [====================>.........] - ETA: 0s - loss: 0.0021 - mae: 0.0021\n",
      "Epoch 00069: val_loss improved from 0.00215 to 0.00214, saving model to /home/zhimin90/DePaul/CSC695/Github/CSC695-Masters-Research-on-Neural-Network-Time-Series-Attention-Models/Asset/checkpoints/_20200623-210215_model.hdf5\n",
      "88/88 [==============================] - 0s 3ms/sample - loss: 0.0021 - mae: 0.0021 - val_loss: 0.0021 - val_mae: 0.0021\n",
      "Epoch 70/1000\n",
      "70/88 [======================>.......] - ETA: 0s - loss: 0.0021 - mae: 0.0021\n",
      "Epoch 00070: val_loss improved from 0.00214 to 0.00212, saving model to /home/zhimin90/DePaul/CSC695/Github/CSC695-Masters-Research-on-Neural-Network-Time-Series-Attention-Models/Asset/checkpoints/_20200623-210215_model.hdf5\n",
      "88/88 [==============================] - 0s 3ms/sample - loss: 0.0020 - mae: 0.0020 - val_loss: 0.0021 - val_mae: 0.0021\n",
      "Epoch 71/1000\n",
      "70/88 [======================>.......] - ETA: 0s - loss: 0.0020 - mae: 0.0020\n",
      "Epoch 00071: val_loss improved from 0.00212 to 0.00212, saving model to /home/zhimin90/DePaul/CSC695/Github/CSC695-Masters-Research-on-Neural-Network-Time-Series-Attention-Models/Asset/checkpoints/_20200623-210215_model.hdf5\n",
      "88/88 [==============================] - 0s 3ms/sample - loss: 0.0020 - mae: 0.0020 - val_loss: 0.0021 - val_mae: 0.0021\n",
      "Epoch 72/1000\n",
      "77/88 [=========================>....] - ETA: 0s - loss: 0.0020 - mae: 0.0020\n",
      "Epoch 00072: val_loss improved from 0.00212 to 0.00211, saving model to /home/zhimin90/DePaul/CSC695/Github/CSC695-Masters-Research-on-Neural-Network-Time-Series-Attention-Models/Asset/checkpoints/_20200623-210215_model.hdf5\n",
      "88/88 [==============================] - 0s 3ms/sample - loss: 0.0020 - mae: 0.0020 - val_loss: 0.0021 - val_mae: 0.0021\n",
      "Epoch 73/1000\n",
      "77/88 [=========================>....] - ETA: 0s - loss: 0.0020 - mae: 0.0020\n",
      "Epoch 00073: val_loss improved from 0.00211 to 0.00209, saving model to /home/zhimin90/DePaul/CSC695/Github/CSC695-Masters-Research-on-Neural-Network-Time-Series-Attention-Models/Asset/checkpoints/_20200623-210215_model.hdf5\n",
      "88/88 [==============================] - 0s 3ms/sample - loss: 0.0020 - mae: 0.0020 - val_loss: 0.0021 - val_mae: 0.0021\n",
      "Epoch 74/1000\n",
      "77/88 [=========================>....] - ETA: 0s - loss: 0.0020 - mae: 0.0020\n",
      "Epoch 00074: val_loss improved from 0.00209 to 0.00209, saving model to /home/zhimin90/DePaul/CSC695/Github/CSC695-Masters-Research-on-Neural-Network-Time-Series-Attention-Models/Asset/checkpoints/_20200623-210215_model.hdf5\n",
      "88/88 [==============================] - 0s 3ms/sample - loss: 0.0020 - mae: 0.0020 - val_loss: 0.0021 - val_mae: 0.0021\n",
      "Epoch 75/1000\n",
      "84/88 [===========================>..] - ETA: 0s - loss: 0.0020 - mae: 0.0020\n",
      "Epoch 00075: val_loss improved from 0.00209 to 0.00208, saving model to /home/zhimin90/DePaul/CSC695/Github/CSC695-Masters-Research-on-Neural-Network-Time-Series-Attention-Models/Asset/checkpoints/_20200623-210215_model.hdf5\n",
      "88/88 [==============================] - 0s 3ms/sample - loss: 0.0020 - mae: 0.0020 - val_loss: 0.0021 - val_mae: 0.0021\n",
      "Epoch 76/1000\n",
      "49/88 [===============>..............] - ETA: 0s - loss: 0.0020 - mae: 0.0020\n",
      "Epoch 00076: val_loss improved from 0.00208 to 0.00207, saving model to /home/zhimin90/DePaul/CSC695/Github/CSC695-Masters-Research-on-Neural-Network-Time-Series-Attention-Models/Asset/checkpoints/_20200623-210215_model.hdf5\n"
     ]
    },
    {
     "name": "stdout",
     "output_type": "stream",
     "text": [
      "88/88 [==============================] - 0s 2ms/sample - loss: 0.0020 - mae: 0.0020 - val_loss: 0.0021 - val_mae: 0.0021\n",
      "Epoch 77/1000\n",
      "49/88 [===============>..............] - ETA: 0s - loss: 0.0020 - mae: 0.0020\n",
      "Epoch 00077: val_loss improved from 0.00207 to 0.00206, saving model to /home/zhimin90/DePaul/CSC695/Github/CSC695-Masters-Research-on-Neural-Network-Time-Series-Attention-Models/Asset/checkpoints/_20200623-210215_model.hdf5\n",
      "88/88 [==============================] - 0s 2ms/sample - loss: 0.0020 - mae: 0.0020 - val_loss: 0.0021 - val_mae: 0.0021\n",
      "Epoch 78/1000\n",
      "49/88 [===============>..............] - ETA: 0s - loss: 0.0020 - mae: 0.0020\n",
      "Epoch 00078: val_loss improved from 0.00206 to 0.00205, saving model to /home/zhimin90/DePaul/CSC695/Github/CSC695-Masters-Research-on-Neural-Network-Time-Series-Attention-Models/Asset/checkpoints/_20200623-210215_model.hdf5\n",
      "88/88 [==============================] - 0s 2ms/sample - loss: 0.0020 - mae: 0.0020 - val_loss: 0.0021 - val_mae: 0.0021\n",
      "Epoch 79/1000\n",
      "77/88 [=========================>....] - ETA: 0s - loss: 0.0020 - mae: 0.0020\n",
      "Epoch 00079: val_loss improved from 0.00205 to 0.00205, saving model to /home/zhimin90/DePaul/CSC695/Github/CSC695-Masters-Research-on-Neural-Network-Time-Series-Attention-Models/Asset/checkpoints/_20200623-210215_model.hdf5\n",
      "88/88 [==============================] - 0s 3ms/sample - loss: 0.0020 - mae: 0.0020 - val_loss: 0.0021 - val_mae: 0.0021\n",
      "Epoch 80/1000\n",
      "49/88 [===============>..............] - ETA: 0s - loss: 0.0020 - mae: 0.0020\n",
      "Epoch 00080: val_loss improved from 0.00205 to 0.00204, saving model to /home/zhimin90/DePaul/CSC695/Github/CSC695-Masters-Research-on-Neural-Network-Time-Series-Attention-Models/Asset/checkpoints/_20200623-210215_model.hdf5\n",
      "88/88 [==============================] - 0s 2ms/sample - loss: 0.0020 - mae: 0.0020 - val_loss: 0.0020 - val_mae: 0.0020\n",
      "Epoch 81/1000\n",
      "49/88 [===============>..............] - ETA: 0s - loss: 0.0020 - mae: 0.0020\n",
      "Epoch 00081: val_loss improved from 0.00204 to 0.00203, saving model to /home/zhimin90/DePaul/CSC695/Github/CSC695-Masters-Research-on-Neural-Network-Time-Series-Attention-Models/Asset/checkpoints/_20200623-210215_model.hdf5\n",
      "88/88 [==============================] - 0s 2ms/sample - loss: 0.0019 - mae: 0.0019 - val_loss: 0.0020 - val_mae: 0.0020\n",
      "Epoch 82/1000\n",
      "49/88 [===============>..............] - ETA: 0s - loss: 0.0020 - mae: 0.0020\n",
      "Epoch 00082: val_loss improved from 0.00203 to 0.00202, saving model to /home/zhimin90/DePaul/CSC695/Github/CSC695-Masters-Research-on-Neural-Network-Time-Series-Attention-Models/Asset/checkpoints/_20200623-210215_model.hdf5\n",
      "88/88 [==============================] - 0s 2ms/sample - loss: 0.0019 - mae: 0.0019 - val_loss: 0.0020 - val_mae: 0.0020\n",
      "Epoch 83/1000\n",
      "49/88 [===============>..............] - ETA: 0s - loss: 0.0019 - mae: 0.0019\n",
      "Epoch 00083: val_loss did not improve from 0.00202\n",
      "88/88 [==============================] - 0s 2ms/sample - loss: 0.0019 - mae: 0.0019 - val_loss: 0.0020 - val_mae: 0.0020\n",
      "Epoch 84/1000\n",
      "49/88 [===============>..............] - ETA: 0s - loss: 0.0019 - mae: 0.0019\n",
      "Epoch 00084: val_loss improved from 0.00202 to 0.00201, saving model to /home/zhimin90/DePaul/CSC695/Github/CSC695-Masters-Research-on-Neural-Network-Time-Series-Attention-Models/Asset/checkpoints/_20200623-210215_model.hdf5\n",
      "88/88 [==============================] - 0s 2ms/sample - loss: 0.0019 - mae: 0.0019 - val_loss: 0.0020 - val_mae: 0.0020\n",
      "Epoch 85/1000\n",
      "84/88 [===========================>..] - ETA: 0s - loss: 0.0019 - mae: 0.0019\n",
      "Epoch 00085: val_loss improved from 0.00201 to 0.00200, saving model to /home/zhimin90/DePaul/CSC695/Github/CSC695-Masters-Research-on-Neural-Network-Time-Series-Attention-Models/Asset/checkpoints/_20200623-210215_model.hdf5\n",
      "88/88 [==============================] - 0s 2ms/sample - loss: 0.0019 - mae: 0.0019 - val_loss: 0.0020 - val_mae: 0.0020\n",
      "Epoch 86/1000\n",
      "84/88 [===========================>..] - ETA: 0s - loss: 0.0019 - mae: 0.0019\n",
      "Epoch 00086: val_loss did not improve from 0.00200\n",
      "88/88 [==============================] - 0s 2ms/sample - loss: 0.0019 - mae: 0.0019 - val_loss: 0.0020 - val_mae: 0.0020\n",
      "Epoch 87/1000\n",
      "49/88 [===============>..............] - ETA: 0s - loss: 0.0019 - mae: 0.0019\n",
      "Epoch 00087: val_loss improved from 0.00200 to 0.00199, saving model to /home/zhimin90/DePaul/CSC695/Github/CSC695-Masters-Research-on-Neural-Network-Time-Series-Attention-Models/Asset/checkpoints/_20200623-210215_model.hdf5\n",
      "88/88 [==============================] - 0s 2ms/sample - loss: 0.0019 - mae: 0.0019 - val_loss: 0.0020 - val_mae: 0.0020\n",
      "Epoch 88/1000\n",
      "49/88 [===============>..............] - ETA: 0s - loss: 0.0019 - mae: 0.0019\n",
      "Epoch 00088: val_loss improved from 0.00199 to 0.00199, saving model to /home/zhimin90/DePaul/CSC695/Github/CSC695-Masters-Research-on-Neural-Network-Time-Series-Attention-Models/Asset/checkpoints/_20200623-210215_model.hdf5\n",
      "88/88 [==============================] - 0s 3ms/sample - loss: 0.0019 - mae: 0.0019 - val_loss: 0.0020 - val_mae: 0.0020\n",
      "Epoch 89/1000\n",
      "49/88 [===============>..............] - ETA: 0s - loss: 0.0019 - mae: 0.0019\n",
      "Epoch 00089: val_loss improved from 0.00199 to 0.00198, saving model to /home/zhimin90/DePaul/CSC695/Github/CSC695-Masters-Research-on-Neural-Network-Time-Series-Attention-Models/Asset/checkpoints/_20200623-210215_model.hdf5\n",
      "88/88 [==============================] - 0s 2ms/sample - loss: 0.0019 - mae: 0.0019 - val_loss: 0.0020 - val_mae: 0.0020\n",
      "Epoch 90/1000\n",
      "49/88 [===============>..............] - ETA: 0s - loss: 0.0019 - mae: 0.0019\n",
      "Epoch 00090: val_loss did not improve from 0.00198\n",
      "88/88 [==============================] - 0s 2ms/sample - loss: 0.0019 - mae: 0.0019 - val_loss: 0.0020 - val_mae: 0.0020\n",
      "Epoch 91/1000\n",
      "49/88 [===============>..............] - ETA: 0s - loss: 0.0019 - mae: 0.0019\n",
      "Epoch 00091: val_loss improved from 0.00198 to 0.00197, saving model to /home/zhimin90/DePaul/CSC695/Github/CSC695-Masters-Research-on-Neural-Network-Time-Series-Attention-Models/Asset/checkpoints/_20200623-210215_model.hdf5\n",
      "88/88 [==============================] - 0s 3ms/sample - loss: 0.0019 - mae: 0.0019 - val_loss: 0.0020 - val_mae: 0.0020\n",
      "Epoch 92/1000\n",
      "84/88 [===========================>..] - ETA: 0s - loss: 0.0019 - mae: 0.0019\n",
      "Epoch 00092: val_loss improved from 0.00197 to 0.00196, saving model to /home/zhimin90/DePaul/CSC695/Github/CSC695-Masters-Research-on-Neural-Network-Time-Series-Attention-Models/Asset/checkpoints/_20200623-210215_model.hdf5\n",
      "88/88 [==============================] - 0s 2ms/sample - loss: 0.0019 - mae: 0.0019 - val_loss: 0.0020 - val_mae: 0.0020\n",
      "Epoch 93/1000\n",
      "84/88 [===========================>..] - ETA: 0s - loss: 0.0019 - mae: 0.0019\n",
      "Epoch 00093: val_loss improved from 0.00196 to 0.00196, saving model to /home/zhimin90/DePaul/CSC695/Github/CSC695-Masters-Research-on-Neural-Network-Time-Series-Attention-Models/Asset/checkpoints/_20200623-210215_model.hdf5\n",
      "88/88 [==============================] - 0s 3ms/sample - loss: 0.0019 - mae: 0.0019 - val_loss: 0.0020 - val_mae: 0.0020\n",
      "Epoch 94/1000\n",
      "84/88 [===========================>..] - ETA: 0s - loss: 0.0019 - mae: 0.0019\n",
      "Epoch 00094: val_loss improved from 0.00196 to 0.00195, saving model to /home/zhimin90/DePaul/CSC695/Github/CSC695-Masters-Research-on-Neural-Network-Time-Series-Attention-Models/Asset/checkpoints/_20200623-210215_model.hdf5\n",
      "88/88 [==============================] - 0s 3ms/sample - loss: 0.0019 - mae: 0.0019 - val_loss: 0.0020 - val_mae: 0.0020\n",
      "Epoch 95/1000\n",
      "63/88 [====================>.........] - ETA: 0s - loss: 0.0019 - mae: 0.0019\n",
      "Epoch 00095: val_loss improved from 0.00195 to 0.00194, saving model to /home/zhimin90/DePaul/CSC695/Github/CSC695-Masters-Research-on-Neural-Network-Time-Series-Attention-Models/Asset/checkpoints/_20200623-210215_model.hdf5\n",
      "88/88 [==============================] - 0s 3ms/sample - loss: 0.0019 - mae: 0.0019 - val_loss: 0.0019 - val_mae: 0.0019\n",
      "Epoch 96/1000\n",
      "77/88 [=========================>....] - ETA: 0s - loss: 0.0019 - mae: 0.0019\n",
      "Epoch 00096: val_loss improved from 0.00194 to 0.00194, saving model to /home/zhimin90/DePaul/CSC695/Github/CSC695-Masters-Research-on-Neural-Network-Time-Series-Attention-Models/Asset/checkpoints/_20200623-210215_model.hdf5\n"
     ]
    },
    {
     "name": "stdout",
     "output_type": "stream",
     "text": [
      "88/88 [==============================] - 0s 3ms/sample - loss: 0.0019 - mae: 0.0019 - val_loss: 0.0019 - val_mae: 0.0019\n",
      "Epoch 97/1000\n",
      "77/88 [=========================>....] - ETA: 0s - loss: 0.0019 - mae: 0.0019\n",
      "Epoch 00097: val_loss did not improve from 0.00194\n",
      "88/88 [==============================] - 0s 2ms/sample - loss: 0.0019 - mae: 0.0019 - val_loss: 0.0019 - val_mae: 0.0019\n",
      "Epoch 98/1000\n",
      "77/88 [=========================>....] - ETA: 0s - loss: 0.0019 - mae: 0.0019\n",
      "Epoch 00098: val_loss improved from 0.00194 to 0.00193, saving model to /home/zhimin90/DePaul/CSC695/Github/CSC695-Masters-Research-on-Neural-Network-Time-Series-Attention-Models/Asset/checkpoints/_20200623-210215_model.hdf5\n",
      "88/88 [==============================] - 0s 3ms/sample - loss: 0.0019 - mae: 0.0019 - val_loss: 0.0019 - val_mae: 0.0019\n",
      "Epoch 99/1000\n",
      "77/88 [=========================>....] - ETA: 0s - loss: 0.0018 - mae: 0.0018\n",
      "Epoch 00099: val_loss improved from 0.00193 to 0.00193, saving model to /home/zhimin90/DePaul/CSC695/Github/CSC695-Masters-Research-on-Neural-Network-Time-Series-Attention-Models/Asset/checkpoints/_20200623-210215_model.hdf5\n",
      "88/88 [==============================] - 0s 3ms/sample - loss: 0.0019 - mae: 0.0019 - val_loss: 0.0019 - val_mae: 0.0019\n",
      "Epoch 100/1000\n",
      "63/88 [====================>.........] - ETA: 0s - loss: 0.0018 - mae: 0.0018\n",
      "Epoch 00100: val_loss improved from 0.00193 to 0.00193, saving model to /home/zhimin90/DePaul/CSC695/Github/CSC695-Masters-Research-on-Neural-Network-Time-Series-Attention-Models/Asset/checkpoints/_20200623-210215_model.hdf5\n",
      "88/88 [==============================] - 0s 3ms/sample - loss: 0.0018 - mae: 0.0018 - val_loss: 0.0019 - val_mae: 0.0019\n",
      "Epoch 101/1000\n",
      "84/88 [===========================>..] - ETA: 0s - loss: 0.0018 - mae: 0.0018\n",
      "Epoch 00101: val_loss improved from 0.00193 to 0.00192, saving model to /home/zhimin90/DePaul/CSC695/Github/CSC695-Masters-Research-on-Neural-Network-Time-Series-Attention-Models/Asset/checkpoints/_20200623-210215_model.hdf5\n",
      "88/88 [==============================] - 0s 3ms/sample - loss: 0.0018 - mae: 0.0018 - val_loss: 0.0019 - val_mae: 0.0019\n",
      "Epoch 102/1000\n",
      "49/88 [===============>..............] - ETA: 0s - loss: 0.0018 - mae: 0.0018\n",
      "Epoch 00102: val_loss improved from 0.00192 to 0.00192, saving model to /home/zhimin90/DePaul/CSC695/Github/CSC695-Masters-Research-on-Neural-Network-Time-Series-Attention-Models/Asset/checkpoints/_20200623-210215_model.hdf5\n",
      "88/88 [==============================] - 0s 3ms/sample - loss: 0.0018 - mae: 0.0018 - val_loss: 0.0019 - val_mae: 0.0019\n",
      "Epoch 103/1000\n",
      "49/88 [===============>..............] - ETA: 0s - loss: 0.0018 - mae: 0.0018\n",
      "Epoch 00103: val_loss improved from 0.00192 to 0.00192, saving model to /home/zhimin90/DePaul/CSC695/Github/CSC695-Masters-Research-on-Neural-Network-Time-Series-Attention-Models/Asset/checkpoints/_20200623-210215_model.hdf5\n",
      "88/88 [==============================] - 0s 2ms/sample - loss: 0.0018 - mae: 0.0018 - val_loss: 0.0019 - val_mae: 0.0019\n",
      "Epoch 104/1000\n",
      "77/88 [=========================>....] - ETA: 0s - loss: 0.0018 - mae: 0.0018\n",
      "Epoch 00104: val_loss improved from 0.00192 to 0.00192, saving model to /home/zhimin90/DePaul/CSC695/Github/CSC695-Masters-Research-on-Neural-Network-Time-Series-Attention-Models/Asset/checkpoints/_20200623-210215_model.hdf5\n",
      "88/88 [==============================] - 0s 3ms/sample - loss: 0.0018 - mae: 0.0018 - val_loss: 0.0019 - val_mae: 0.0019\n",
      "Epoch 105/1000\n",
      "84/88 [===========================>..] - ETA: 0s - loss: 0.0018 - mae: 0.0018\n",
      "Epoch 00105: val_loss improved from 0.00192 to 0.00191, saving model to /home/zhimin90/DePaul/CSC695/Github/CSC695-Masters-Research-on-Neural-Network-Time-Series-Attention-Models/Asset/checkpoints/_20200623-210215_model.hdf5\n",
      "88/88 [==============================] - 0s 3ms/sample - loss: 0.0018 - mae: 0.0018 - val_loss: 0.0019 - val_mae: 0.0019\n",
      "Epoch 106/1000\n",
      "77/88 [=========================>....] - ETA: 0s - loss: 0.0018 - mae: 0.0018\n",
      "Epoch 00106: val_loss improved from 0.00191 to 0.00191, saving model to /home/zhimin90/DePaul/CSC695/Github/CSC695-Masters-Research-on-Neural-Network-Time-Series-Attention-Models/Asset/checkpoints/_20200623-210215_model.hdf5\n",
      "88/88 [==============================] - 0s 3ms/sample - loss: 0.0018 - mae: 0.0018 - val_loss: 0.0019 - val_mae: 0.0019\n",
      "Epoch 107/1000\n",
      "84/88 [===========================>..] - ETA: 0s - loss: 0.0018 - mae: 0.0018\n",
      "Epoch 00107: val_loss improved from 0.00191 to 0.00190, saving model to /home/zhimin90/DePaul/CSC695/Github/CSC695-Masters-Research-on-Neural-Network-Time-Series-Attention-Models/Asset/checkpoints/_20200623-210215_model.hdf5\n",
      "88/88 [==============================] - 0s 3ms/sample - loss: 0.0018 - mae: 0.0018 - val_loss: 0.0019 - val_mae: 0.0019\n",
      "Epoch 108/1000\n",
      "70/88 [======================>.......] - ETA: 0s - loss: 0.0018 - mae: 0.0018\n",
      "Epoch 00108: val_loss improved from 0.00190 to 0.00190, saving model to /home/zhimin90/DePaul/CSC695/Github/CSC695-Masters-Research-on-Neural-Network-Time-Series-Attention-Models/Asset/checkpoints/_20200623-210215_model.hdf5\n",
      "88/88 [==============================] - 0s 3ms/sample - loss: 0.0018 - mae: 0.0018 - val_loss: 0.0019 - val_mae: 0.0019\n",
      "Epoch 109/1000\n",
      "77/88 [=========================>....] - ETA: 0s - loss: 0.0018 - mae: 0.0018\n",
      "Epoch 00109: val_loss improved from 0.00190 to 0.00189, saving model to /home/zhimin90/DePaul/CSC695/Github/CSC695-Masters-Research-on-Neural-Network-Time-Series-Attention-Models/Asset/checkpoints/_20200623-210215_model.hdf5\n",
      "88/88 [==============================] - 0s 3ms/sample - loss: 0.0018 - mae: 0.0018 - val_loss: 0.0019 - val_mae: 0.0019\n",
      "Epoch 110/1000\n",
      "77/88 [=========================>....] - ETA: 0s - loss: 0.0018 - mae: 0.0018\n",
      "Epoch 00110: val_loss did not improve from 0.00189\n",
      "88/88 [==============================] - 0s 2ms/sample - loss: 0.0018 - mae: 0.0018 - val_loss: 0.0019 - val_mae: 0.0019\n",
      "Epoch 111/1000\n",
      "84/88 [===========================>..] - ETA: 0s - loss: 0.0018 - mae: 0.0018\n",
      "Epoch 00111: val_loss improved from 0.00189 to 0.00189, saving model to /home/zhimin90/DePaul/CSC695/Github/CSC695-Masters-Research-on-Neural-Network-Time-Series-Attention-Models/Asset/checkpoints/_20200623-210215_model.hdf5\n",
      "88/88 [==============================] - 0s 3ms/sample - loss: 0.0018 - mae: 0.0018 - val_loss: 0.0019 - val_mae: 0.0019\n",
      "Epoch 112/1000\n",
      "49/88 [===============>..............] - ETA: 0s - loss: 0.0018 - mae: 0.0018\n",
      "Epoch 00112: val_loss did not improve from 0.00189\n",
      "88/88 [==============================] - 0s 2ms/sample - loss: 0.0018 - mae: 0.0018 - val_loss: 0.0019 - val_mae: 0.0019\n",
      "Epoch 113/1000\n",
      "84/88 [===========================>..] - ETA: 0s - loss: 0.0018 - mae: 0.0018\n",
      "Epoch 00113: val_loss improved from 0.00189 to 0.00189, saving model to /home/zhimin90/DePaul/CSC695/Github/CSC695-Masters-Research-on-Neural-Network-Time-Series-Attention-Models/Asset/checkpoints/_20200623-210215_model.hdf5\n",
      "88/88 [==============================] - 0s 3ms/sample - loss: 0.0018 - mae: 0.0018 - val_loss: 0.0019 - val_mae: 0.0019\n",
      "Epoch 114/1000\n",
      "77/88 [=========================>....] - ETA: 0s - loss: 0.0018 - mae: 0.0018\n",
      "Epoch 00114: val_loss improved from 0.00189 to 0.00188, saving model to /home/zhimin90/DePaul/CSC695/Github/CSC695-Masters-Research-on-Neural-Network-Time-Series-Attention-Models/Asset/checkpoints/_20200623-210215_model.hdf5\n",
      "88/88 [==============================] - 0s 2ms/sample - loss: 0.0018 - mae: 0.0018 - val_loss: 0.0019 - val_mae: 0.0019\n",
      "Epoch 115/1000\n",
      "49/88 [===============>..............] - ETA: 0s - loss: 0.0018 - mae: 0.0018\n",
      "Epoch 00115: val_loss did not improve from 0.00188\n",
      "88/88 [==============================] - 0s 2ms/sample - loss: 0.0018 - mae: 0.0018 - val_loss: 0.0019 - val_mae: 0.0019\n",
      "Epoch 116/1000\n",
      "49/88 [===============>..............] - ETA: 0s - loss: 0.0018 - mae: 0.0018\n",
      "Epoch 00116: val_loss improved from 0.00188 to 0.00188, saving model to /home/zhimin90/DePaul/CSC695/Github/CSC695-Masters-Research-on-Neural-Network-Time-Series-Attention-Models/Asset/checkpoints/_20200623-210215_model.hdf5\n",
      "88/88 [==============================] - 0s 2ms/sample - loss: 0.0018 - mae: 0.0018 - val_loss: 0.0019 - val_mae: 0.0019\n"
     ]
    },
    {
     "name": "stdout",
     "output_type": "stream",
     "text": [
      "Epoch 117/1000\n",
      "49/88 [===============>..............] - ETA: 0s - loss: 0.0018 - mae: 0.0018\n",
      "Epoch 00117: val_loss improved from 0.00188 to 0.00187, saving model to /home/zhimin90/DePaul/CSC695/Github/CSC695-Masters-Research-on-Neural-Network-Time-Series-Attention-Models/Asset/checkpoints/_20200623-210215_model.hdf5\n",
      "88/88 [==============================] - 0s 2ms/sample - loss: 0.0018 - mae: 0.0018 - val_loss: 0.0019 - val_mae: 0.0019\n",
      "Epoch 118/1000\n",
      "77/88 [=========================>....] - ETA: 0s - loss: 0.0018 - mae: 0.0018\n",
      "Epoch 00118: val_loss improved from 0.00187 to 0.00187, saving model to /home/zhimin90/DePaul/CSC695/Github/CSC695-Masters-Research-on-Neural-Network-Time-Series-Attention-Models/Asset/checkpoints/_20200623-210215_model.hdf5\n",
      "88/88 [==============================] - 0s 3ms/sample - loss: 0.0018 - mae: 0.0018 - val_loss: 0.0019 - val_mae: 0.0019\n",
      "Epoch 119/1000\n",
      "84/88 [===========================>..] - ETA: 0s - loss: 0.0018 - mae: 0.0018\n",
      "Epoch 00119: val_loss improved from 0.00187 to 0.00187, saving model to /home/zhimin90/DePaul/CSC695/Github/CSC695-Masters-Research-on-Neural-Network-Time-Series-Attention-Models/Asset/checkpoints/_20200623-210215_model.hdf5\n",
      "88/88 [==============================] - 0s 3ms/sample - loss: 0.0018 - mae: 0.0018 - val_loss: 0.0019 - val_mae: 0.0019\n",
      "Epoch 120/1000\n",
      "70/88 [======================>.......] - ETA: 0s - loss: 0.0018 - mae: 0.0018\n",
      "Epoch 00120: val_loss did not improve from 0.00187\n",
      "88/88 [==============================] - 0s 2ms/sample - loss: 0.0018 - mae: 0.0018 - val_loss: 0.0019 - val_mae: 0.0019\n",
      "Epoch 121/1000\n",
      "70/88 [======================>.......] - ETA: 0s - loss: 0.0018 - mae: 0.0018\n",
      "Epoch 00121: val_loss improved from 0.00187 to 0.00187, saving model to /home/zhimin90/DePaul/CSC695/Github/CSC695-Masters-Research-on-Neural-Network-Time-Series-Attention-Models/Asset/checkpoints/_20200623-210215_model.hdf5\n",
      "88/88 [==============================] - 0s 3ms/sample - loss: 0.0018 - mae: 0.0018 - val_loss: 0.0019 - val_mae: 0.0019\n",
      "Epoch 122/1000\n",
      "77/88 [=========================>....] - ETA: 0s - loss: 0.0018 - mae: 0.0018\n",
      "Epoch 00122: val_loss did not improve from 0.00187\n",
      "88/88 [==============================] - 0s 2ms/sample - loss: 0.0018 - mae: 0.0018 - val_loss: 0.0019 - val_mae: 0.0019\n",
      "Epoch 123/1000\n",
      "77/88 [=========================>....] - ETA: 0s - loss: 0.0018 - mae: 0.0018\n",
      "Epoch 00123: val_loss improved from 0.00187 to 0.00186, saving model to /home/zhimin90/DePaul/CSC695/Github/CSC695-Masters-Research-on-Neural-Network-Time-Series-Attention-Models/Asset/checkpoints/_20200623-210215_model.hdf5\n",
      "88/88 [==============================] - 0s 3ms/sample - loss: 0.0018 - mae: 0.0018 - val_loss: 0.0019 - val_mae: 0.0019\n",
      "Epoch 124/1000\n",
      "70/88 [======================>.......] - ETA: 0s - loss: 0.0018 - mae: 0.0018\n",
      "Epoch 00124: val_loss improved from 0.00186 to 0.00185, saving model to /home/zhimin90/DePaul/CSC695/Github/CSC695-Masters-Research-on-Neural-Network-Time-Series-Attention-Models/Asset/checkpoints/_20200623-210215_model.hdf5\n",
      "88/88 [==============================] - 0s 3ms/sample - loss: 0.0018 - mae: 0.0018 - val_loss: 0.0019 - val_mae: 0.0019\n",
      "Epoch 125/1000\n",
      "70/88 [======================>.......] - ETA: 0s - loss: 0.0018 - mae: 0.0018\n",
      "Epoch 00125: val_loss did not improve from 0.00185\n",
      "88/88 [==============================] - 0s 2ms/sample - loss: 0.0018 - mae: 0.0018 - val_loss: 0.0019 - val_mae: 0.0019\n",
      "Epoch 126/1000\n",
      "70/88 [======================>.......] - ETA: 0s - loss: 0.0018 - mae: 0.0018\n",
      "Epoch 00126: val_loss did not improve from 0.00185\n",
      "88/88 [==============================] - 0s 2ms/sample - loss: 0.0018 - mae: 0.0018 - val_loss: 0.0019 - val_mae: 0.0019\n",
      "Epoch 127/1000\n",
      "77/88 [=========================>....] - ETA: 0s - loss: 0.0018 - mae: 0.0018\n",
      "Epoch 00127: val_loss did not improve from 0.00185\n",
      "88/88 [==============================] - 0s 2ms/sample - loss: 0.0018 - mae: 0.0018 - val_loss: 0.0019 - val_mae: 0.0019\n",
      "Epoch 128/1000\n",
      "49/88 [===============>..............] - ETA: 0s - loss: 0.0018 - mae: 0.0018\n",
      "Epoch 00128: val_loss improved from 0.00185 to 0.00185, saving model to /home/zhimin90/DePaul/CSC695/Github/CSC695-Masters-Research-on-Neural-Network-Time-Series-Attention-Models/Asset/checkpoints/_20200623-210215_model.hdf5\n",
      "88/88 [==============================] - 0s 2ms/sample - loss: 0.0018 - mae: 0.0018 - val_loss: 0.0019 - val_mae: 0.0019\n",
      "Epoch 129/1000\n",
      "77/88 [=========================>....] - ETA: 0s - loss: 0.0018 - mae: 0.0018\n",
      "Epoch 00129: val_loss did not improve from 0.00185\n",
      "88/88 [==============================] - 0s 2ms/sample - loss: 0.0018 - mae: 0.0018 - val_loss: 0.0019 - val_mae: 0.0019\n",
      "Epoch 130/1000\n",
      "77/88 [=========================>....] - ETA: 0s - loss: 0.0018 - mae: 0.0018\n",
      "Epoch 00130: val_loss improved from 0.00185 to 0.00185, saving model to /home/zhimin90/DePaul/CSC695/Github/CSC695-Masters-Research-on-Neural-Network-Time-Series-Attention-Models/Asset/checkpoints/_20200623-210215_model.hdf5\n",
      "88/88 [==============================] - 0s 3ms/sample - loss: 0.0018 - mae: 0.0018 - val_loss: 0.0019 - val_mae: 0.0019\n",
      "Epoch 131/1000\n",
      "84/88 [===========================>..] - ETA: 0s - loss: 0.0018 - mae: 0.0018\n",
      "Epoch 00131: val_loss improved from 0.00185 to 0.00185, saving model to /home/zhimin90/DePaul/CSC695/Github/CSC695-Masters-Research-on-Neural-Network-Time-Series-Attention-Models/Asset/checkpoints/_20200623-210215_model.hdf5\n",
      "88/88 [==============================] - 0s 3ms/sample - loss: 0.0018 - mae: 0.0018 - val_loss: 0.0018 - val_mae: 0.0018\n",
      "Epoch 132/1000\n",
      "77/88 [=========================>....] - ETA: 0s - loss: 0.0018 - mae: 0.0018\n",
      "Epoch 00132: val_loss did not improve from 0.00185\n",
      "88/88 [==============================] - 0s 2ms/sample - loss: 0.0018 - mae: 0.0018 - val_loss: 0.0018 - val_mae: 0.0018\n",
      "Epoch 133/1000\n",
      "77/88 [=========================>....] - ETA: 0s - loss: 0.0018 - mae: 0.0018\n",
      "Epoch 00133: val_loss improved from 0.00185 to 0.00184, saving model to /home/zhimin90/DePaul/CSC695/Github/CSC695-Masters-Research-on-Neural-Network-Time-Series-Attention-Models/Asset/checkpoints/_20200623-210215_model.hdf5\n",
      "88/88 [==============================] - 0s 3ms/sample - loss: 0.0018 - mae: 0.0018 - val_loss: 0.0018 - val_mae: 0.0018\n",
      "Epoch 134/1000\n",
      "84/88 [===========================>..] - ETA: 0s - loss: 0.0018 - mae: 0.0018\n",
      "Epoch 00134: val_loss did not improve from 0.00184\n",
      "88/88 [==============================] - 0s 2ms/sample - loss: 0.0018 - mae: 0.0018 - val_loss: 0.0018 - val_mae: 0.0018\n",
      "Epoch 135/1000\n",
      "77/88 [=========================>....] - ETA: 0s - loss: 0.0018 - mae: 0.0018\n",
      "Epoch 00135: val_loss improved from 0.00184 to 0.00184, saving model to /home/zhimin90/DePaul/CSC695/Github/CSC695-Masters-Research-on-Neural-Network-Time-Series-Attention-Models/Asset/checkpoints/_20200623-210215_model.hdf5\n",
      "88/88 [==============================] - 0s 3ms/sample - loss: 0.0018 - mae: 0.0018 - val_loss: 0.0018 - val_mae: 0.0018\n",
      "Epoch 136/1000\n",
      "77/88 [=========================>....] - ETA: 0s - loss: 0.0018 - mae: 0.0018\n",
      "Epoch 00136: val_loss did not improve from 0.00184\n",
      "88/88 [==============================] - 0s 2ms/sample - loss: 0.0018 - mae: 0.0018 - val_loss: 0.0018 - val_mae: 0.0018\n",
      "Epoch 137/1000\n",
      "77/88 [=========================>....] - ETA: 0s - loss: 0.0018 - mae: 0.0018\n",
      "Epoch 00137: val_loss improved from 0.00184 to 0.00183, saving model to /home/zhimin90/DePaul/CSC695/Github/CSC695-Masters-Research-on-Neural-Network-Time-Series-Attention-Models/Asset/checkpoints/_20200623-210215_model.hdf5\n",
      "88/88 [==============================] - 0s 3ms/sample - loss: 0.0018 - mae: 0.0018 - val_loss: 0.0018 - val_mae: 0.0018\n",
      "Epoch 138/1000\n",
      "77/88 [=========================>....] - ETA: 0s - loss: 0.0017 - mae: 0.0017\n",
      "Epoch 00138: val_loss did not improve from 0.00183\n",
      "88/88 [==============================] - 0s 2ms/sample - loss: 0.0018 - mae: 0.0018 - val_loss: 0.0018 - val_mae: 0.0018\n",
      "Epoch 139/1000\n",
      "77/88 [=========================>....] - ETA: 0s - loss: 0.0018 - mae: 0.0018\n",
      "Epoch 00139: val_loss improved from 0.00183 to 0.00183, saving model to /home/zhimin90/DePaul/CSC695/Github/CSC695-Masters-Research-on-Neural-Network-Time-Series-Attention-Models/Asset/checkpoints/_20200623-210215_model.hdf5\n"
     ]
    },
    {
     "name": "stdout",
     "output_type": "stream",
     "text": [
      "88/88 [==============================] - 0s 3ms/sample - loss: 0.0018 - mae: 0.0018 - val_loss: 0.0018 - val_mae: 0.0018\n",
      "Epoch 140/1000\n",
      "77/88 [=========================>....] - ETA: 0s - loss: 0.0018 - mae: 0.0018\n",
      "Epoch 00140: val_loss did not improve from 0.00183\n",
      "88/88 [==============================] - 0s 2ms/sample - loss: 0.0017 - mae: 0.0017 - val_loss: 0.0018 - val_mae: 0.0018\n"
     ]
    }
   ],
   "source": [
    "EPOCHS = 5\n",
    "\n",
    "earlystop_callback = tf.keras.callbacks.EarlyStopping(monitor=\"val_loss\",\n",
    "    min_delta=0,\n",
    "    patience=EPOCHS*3,\n",
    "    verbose=1,\n",
    "    mode=\"auto\",\n",
    "    baseline=None,\n",
    "    restore_best_weights=True,)\n",
    "\n",
    "logdir = os.path.join(\"./logs\", datetime.datetime.now().strftime(\"%Y%m%d-%H%M%S\"))\n",
    "tensorboard_cbk = tf.keras.callbacks.TensorBoard(log_dir=logdir)\n",
    "\n",
    "modelfilename = checkpoint_filepath + '_'+\\\n",
    "                    datetime.datetime.now().strftime(\"%Y%m%d-%H%M%S\")\\\n",
    "                    + \"_model.hdf5\"\n",
    "\n",
    "model_checkpoint_callback = tf.keras.callbacks.ModelCheckpoint(\n",
    "    modelfilename,\n",
    "    save_weights_only=False,\n",
    "    monitor='val_loss',#'val_accuracy',\n",
    "    mode='min',\n",
    "    verbose=1,\n",
    "    period = 1,\n",
    "    save_best_only=True)\n",
    "\n",
    "\n",
    "\n",
    "model_history = model.fit(X_train,Y_train, \n",
    "                             validation_data=(X_valid, Y_valid),\n",
    "                             epochs=1000, \n",
    "                             batch_size=7, \n",
    "                             callbacks=[tensorboard_cbk,\n",
    "                             #hp.KerasCallback(logdir, hparams),\n",
    "                             earlystop_callback,\n",
    "                             model_checkpoint_callback\n",
    "                                       ]\n",
    "                                   )\n",
    "valid_loss, valid_acc = model.evaluate(X_valid, Y_valid, verbose=2) # 5/2020 nt: use validation set\n",
    "print (\"valid_accuracy_MAE=%s, valid_loss=%s\" % (valid_acc, valid_loss))"
   ]
  },
  {
   "cell_type": "markdown",
   "metadata": {},
   "source": [
    "### Best flatten() + LSTM(100) + Attention is at  MAE of 0.0016992822056636214"
   ]
  },
  {
   "cell_type": "code",
   "execution_count": null,
   "metadata": {},
   "outputs": [],
   "source": [
    "# Load the TensorBoard notebook extension\n",
    "%load_ext tensorboard\n",
    "logs_base_dir = \"./logs\"\n",
    "os.makedirs(logs_base_dir, exist_ok=True)\n",
    "%tensorboard --logdir {logs_base_dir}"
   ]
  },
  {
   "cell_type": "code",
   "execution_count": 92,
   "metadata": {},
   "outputs": [],
   "source": [
    "Predict = model.predict(X_valid)"
   ]
  },
  {
   "cell_type": "code",
   "execution_count": 93,
   "metadata": {},
   "outputs": [
    {
     "data": {
      "text/plain": [
       "(28, 10000)"
      ]
     },
     "execution_count": 93,
     "metadata": {},
     "output_type": "execute_result"
    }
   ],
   "source": [
    "Predict.shape"
   ]
  },
  {
   "cell_type": "code",
   "execution_count": 94,
   "metadata": {},
   "outputs": [
    {
     "data": {
      "text/plain": [
       "(100, 100)"
      ]
     },
     "execution_count": 94,
     "metadata": {},
     "output_type": "execute_result"
    }
   ],
   "source": [
    "int(Predict[-1].shape[0]**(1/2)),int(Predict[-1].shape[0]**(1/2))"
   ]
  },
  {
   "cell_type": "code",
   "execution_count": 95,
   "metadata": {},
   "outputs": [],
   "source": [
    "def reshapePred(Predict, fromLast=1):\n",
    "    return np.rot90(Predict[-1*fromLast].reshape(int(Predict[-1*fromLast].shape[0]**(1/2)),int(Predict[-1*fromLast].shape[0]**(1/2))))"
   ]
  },
  {
   "cell_type": "code",
   "execution_count": 103,
   "metadata": {},
   "outputs": [
    {
     "data": {
      "text/plain": [
       "<matplotlib.image.AxesImage at 0x7f8f900c5c10>"
      ]
     },
     "execution_count": 103,
     "metadata": {},
     "output_type": "execute_result"
    },
    {
     "data": {
      "image/png": "[encoded data removed]",
      "text/plain": [
       "<Figure size 1296x1008 with 1 Axes>"
      ]
     },
     "metadata": {
      "needs_background": "light"
     },
     "output_type": "display_data"
    }
   ],
   "source": [
    "import matplotlib.pyplot as plt\n",
    "grid_size = 500\n",
    "density_matrix_t_series = []\n",
    "# Define the borders\n",
    "x = [-87.9361,-87.5245]\n",
    "y = [41.6447,42.023]\n",
    "deltaX = (max(x) - min(x))/10\n",
    "deltaY = (max(y) - min(y))/10\n",
    "xmin = min(x) - deltaX\n",
    "xmax = max(x) + deltaX\n",
    "ymin = min(y) - deltaY\n",
    "ymax = max(y) + deltaY\n",
    "plt.figure(figsize=(18, 14))\n",
    "plt.title('Predicted')\n",
    "plt.imshow( X=reshapePred(Predict,1), cmap=plt.cm.twilight, extent=[xmin, xmax, ymin, ymax])"
   ]
  },
  {
   "cell_type": "code",
   "execution_count": 104,
   "metadata": {},
   "outputs": [
    {
     "data": {
      "text/plain": [
       "<matplotlib.image.AxesImage at 0x7f9010122090>"
      ]
     },
     "execution_count": 104,
     "metadata": {},
     "output_type": "execute_result"
    },
    {
     "data": {
      "image/png": "[encoded data removed]",
      "text/plain": [
       "<Figure size 1296x1008 with 1 Axes>"
      ]
     },
     "metadata": {
      "needs_background": "light"
     },
     "output_type": "display_data"
    }
   ],
   "source": [
    "plt.figure(figsize=(18, 14))\n",
    "plt.title('Actual')\n",
    "plt.imshow( X=reshapePred(Y_valid,1), cmap=plt.cm.twilight, extent=[xmin, xmax, ymin, ymax])"
   ]
  },
  {
   "cell_type": "markdown",
   "metadata": {},
   "source": [
    "#### We plot the difference between prediction and target"
   ]
  },
  {
   "cell_type": "code",
   "execution_count": 120,
   "metadata": {},
   "outputs": [
    {
     "data": {
      "text/plain": [
       "(100, 100)"
      ]
     },
     "execution_count": 120,
     "metadata": {},
     "output_type": "execute_result"
    }
   ],
   "source": [
    "diff = (reshapePred(Y_valid,3)-reshapePred(Predict,3))\n",
    "diff.shape"
   ]
  },
  {
   "cell_type": "code",
   "execution_count": 121,
   "metadata": {},
   "outputs": [],
   "source": [
    "diff_max = np.max(diff)\n",
    "diff_min = np.min(diff)\n",
    "scaled_diff = (diff - diff_min)/(diff_max - diff_min)"
   ]
  },
  {
   "cell_type": "code",
   "execution_count": 122,
   "metadata": {},
   "outputs": [
    {
     "data": {
      "text/plain": [
       "1.0"
      ]
     },
     "execution_count": 122,
     "metadata": {},
     "output_type": "execute_result"
    }
   ],
   "source": [
    "np.max(scaled_diff)"
   ]
  },
  {
   "cell_type": "code",
   "execution_count": 123,
   "metadata": {},
   "outputs": [
    {
     "data": {
      "text/plain": [
       "array([[-2.87253374e-06, -2.22320114e-06,  2.36268164e-07, ...,\n",
       "        -2.36268164e-07, -2.87253374e-06,  2.36268164e-07],\n",
       "       [ 2.02577121e-06,  2.36268164e-07,  2.36268164e-07, ...,\n",
       "         2.87253374e-06,  2.22320114e-06, -2.36268164e-07],\n",
       "       [ 2.87253374e-06, -2.36268164e-07, -2.22320114e-06, ...,\n",
       "         2.22320114e-06,  2.22320114e-06, -2.36268164e-07],\n",
       "       ...,\n",
       "       [-2.36268164e-07,  2.02577121e-06,  2.36268164e-07, ...,\n",
       "        -2.36268164e-07, -2.36268164e-07, -2.02577121e-06],\n",
       "       [ 2.02577121e-06,  2.36268164e-07, -2.36268164e-07, ...,\n",
       "         2.22320114e-06,  2.36268164e-07, -2.36268164e-07],\n",
       "       [ 2.36268164e-07,  2.22320114e-06, -2.02577121e-06, ...,\n",
       "         2.36268164e-07,  2.02576393e-06,  2.87253374e-06]])"
      ]
     },
     "execution_count": 123,
     "metadata": {},
     "output_type": "execute_result"
    }
   ],
   "source": [
    "diff"
   ]
  },
  {
   "cell_type": "code",
   "execution_count": 124,
   "metadata": {},
   "outputs": [
    {
     "data": {
      "text/plain": [
       "<matplotlib.image.AxesImage at 0x7f8f68368bd0>"
      ]
     },
     "execution_count": 124,
     "metadata": {},
     "output_type": "execute_result"
    },
    {
     "data": {
      "image/png": "[encoded data removed]",
      "text/plain": [
       "<Figure size 1296x1008 with 1 Axes>"
      ]
     },
     "metadata": {
      "needs_background": "light"
     },
     "output_type": "display_data"
    }
   ],
   "source": [
    "plt.figure(figsize=(18, 14))\n",
    "plt.title('Actual')\n",
    "plt.imshow( X=scaled_diff, cmap=plt.cm.twilight, extent=[xmin, xmax, ymin, ymax])"
   ]
  },
  {
   "cell_type": "markdown",
   "metadata": {},
   "source": [
    "#### Note the differences is scaled, red means extreme differences inplot above. Interestingly we see the extreme differences is at the highest crime areas."
   ]
  },
  {
   "cell_type": "code",
   "execution_count": null,
   "metadata": {},
   "outputs": [],
   "source": []
  },
  {
   "cell_type": "code",
   "execution_count": null,
   "metadata": {},
   "outputs": [],
   "source": []
  }
 ],
 "metadata": {
  "kernelspec": {
   "display_name": "Python [conda env:venv]",
   "language": "python",
   "name": "conda-env-venv-py"
  },
  "language_info": {
   "codemirror_mode": {
    "name": "ipython",
    "version": 3
   },
   "file_extension": ".py",
   "mimetype": "text/x-python",
   "name": "python",
   "nbconvert_exporter": "python",
   "pygments_lexer": "ipython3",
   "version": "3.7.6"
  }
 },
 "nbformat": 4,
 "nbformat_minor": 4
}
