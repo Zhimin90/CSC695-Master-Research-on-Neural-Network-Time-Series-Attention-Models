{
 "cells": [
  {
   "cell_type": "code",
   "execution_count": 1,
   "metadata": {},
   "outputs": [],
   "source": [
    "import pickle\n",
    "import numpy as np\n",
    "import pandas as pd"
   ]
  },
  {
   "cell_type": "code",
   "execution_count": 2,
   "metadata": {},
   "outputs": [],
   "source": [
    "Asset_PATH = \"/home/zhimin90/DePaul/CSC695/Github/CSC695-Masters-Research-on-Neural-Network-Time-Series-Attention-Models/Asset/\""
   ]
  },
  {
   "cell_type": "markdown",
   "metadata": {},
   "source": [
    "#### Load Gaussian KDE timeseries"
   ]
  },
  {
   "cell_type": "code",
   "execution_count": 3,
   "metadata": {},
   "outputs": [],
   "source": [
    "density_matrix_t_series = pickle.load(open(Asset_PATH  + 'density_matrix_t_series_100x100.pickle', 'rb'))"
   ]
  },
  {
   "cell_type": "code",
   "execution_count": 4,
   "metadata": {},
   "outputs": [
    {
     "data": {
      "text/plain": [
       "(198, 100, 100)"
      ]
     },
     "execution_count": 4,
     "metadata": {},
     "output_type": "execute_result"
    }
   ],
   "source": [
    "density_matrix_t_series.shape"
   ]
  },
  {
   "cell_type": "code",
   "execution_count": 5,
   "metadata": {},
   "outputs": [
    {
     "name": "stdout",
     "output_type": "stream",
     "text": [
      "2019.7794007598727\n",
      "-2.393156546274511e-13\n"
     ]
    }
   ],
   "source": [
    "print(np.max(density_matrix_t_series))\n",
    "print(np.min(density_matrix_t_series))"
   ]
  },
  {
   "cell_type": "code",
   "execution_count": 6,
   "metadata": {},
   "outputs": [
    {
     "data": {
      "text/plain": [
       "198"
      ]
     },
     "execution_count": 6,
     "metadata": {},
     "output_type": "execute_result"
    }
   ],
   "source": [
    "density_matrix_t_series.shape[0]"
   ]
  },
  {
   "cell_type": "code",
   "execution_count": 7,
   "metadata": {},
   "outputs": [],
   "source": [
    "timesteps = 52"
   ]
  },
  {
   "cell_type": "code",
   "execution_count": 8,
   "metadata": {},
   "outputs": [],
   "source": [
    "train, valid = (60,20)\n",
    "test = 20\n",
    "\n",
    "total_len = density_matrix_t_series.shape[0] - timesteps\n",
    "train_index = range(0,int(train/100*total_len))\n",
    "\n",
    "valid_index = range(train_index[-1]+1,train_index[-1] + int(valid/100*total_len))\n",
    "test_index = range(valid_index[-1]+1,valid_index[-1] + int(test/100*total_len))"
   ]
  },
  {
   "cell_type": "code",
   "execution_count": 9,
   "metadata": {},
   "outputs": [
    {
     "data": {
      "text/plain": [
       "(198, 10000)"
      ]
     },
     "execution_count": 9,
     "metadata": {},
     "output_type": "execute_result"
    }
   ],
   "source": [
    "flattened_matrix_np = np.reshape(density_matrix_t_series, \n",
    "                                 (density_matrix_t_series.shape[0],\n",
    "                                  density_matrix_t_series.shape[1]*density_matrix_t_series.shape[2]))\n",
    "flattened_matrix_np.shape"
   ]
  },
  {
   "cell_type": "code",
   "execution_count": 10,
   "metadata": {},
   "outputs": [
    {
     "data": {
      "text/plain": [
       "1935.6194220503628"
      ]
     },
     "execution_count": 10,
     "metadata": {},
     "output_type": "execute_result"
    }
   ],
   "source": [
    "np.max(flattened_matrix_np[train_index])"
   ]
  },
  {
   "cell_type": "code",
   "execution_count": 11,
   "metadata": {},
   "outputs": [],
   "source": [
    "scaler_max = np.max(flattened_matrix_np[train_index])\n",
    "scaler_min = np.min(flattened_matrix_np[train_index])\n",
    "\n",
    "X_train = (flattened_matrix_np[train_index] - scaler_min)/(scaler_max - scaler_min)\n"
   ]
  },
  {
   "cell_type": "code",
   "execution_count": 12,
   "metadata": {},
   "outputs": [
    {
     "data": {
      "text/plain": [
       "(87, 1, 10000)"
      ]
     },
     "execution_count": 12,
     "metadata": {},
     "output_type": "execute_result"
    }
   ],
   "source": [
    "X_train = X_train.reshape(X_train.shape[0],\n",
    "                          1,    \n",
    "                          X_train.shape[1])\n",
    "X_train.shape"
   ]
  },
  {
   "cell_type": "code",
   "execution_count": 13,
   "metadata": {},
   "outputs": [
    {
     "data": {
      "text/plain": [
       "(87, 1, 100, 100, 1)"
      ]
     },
     "execution_count": 13,
     "metadata": {},
     "output_type": "execute_result"
    }
   ],
   "source": [
    "X_train = X_train.reshape(X_train.shape[0],X_train.shape[1],int(X_train.shape[2]**(1/2)),int(X_train.shape[2]**(1/2)),1)\n",
    "X_train.shape"
   ]
  },
  {
   "cell_type": "code",
   "execution_count": 14,
   "metadata": {},
   "outputs": [
    {
     "name": "stdout",
     "output_type": "stream",
     "text": [
      "1.0\n",
      "0.0\n"
     ]
    }
   ],
   "source": [
    "print(np.max(X_train))\n",
    "print(np.min(X_train))"
   ]
  },
  {
   "cell_type": "markdown",
   "metadata": {},
   "source": [
    "#### We transform the whole train, valid, test based on scaler fitted on train"
   ]
  },
  {
   "cell_type": "code",
   "execution_count": 15,
   "metadata": {
    "scrolled": true
   },
   "outputs": [
    {
     "data": {
      "text/plain": [
       "2019.7794007598727"
      ]
     },
     "execution_count": 15,
     "metadata": {},
     "output_type": "execute_result"
    }
   ],
   "source": [
    "np.max(flattened_matrix_np)"
   ]
  },
  {
   "cell_type": "code",
   "execution_count": 16,
   "metadata": {},
   "outputs": [
    {
     "data": {
      "text/plain": [
       "dtype('float64')"
      ]
     },
     "execution_count": 16,
     "metadata": {},
     "output_type": "execute_result"
    }
   ],
   "source": [
    "flattened_matrix_np.dtype"
   ]
  },
  {
   "cell_type": "code",
   "execution_count": 17,
   "metadata": {},
   "outputs": [],
   "source": [
    "scaled_flattened_matrix = (flattened_matrix_np - scaler_min)/(scaler_max - scaler_min)"
   ]
  },
  {
   "cell_type": "code",
   "execution_count": 18,
   "metadata": {},
   "outputs": [
    {
     "data": {
      "text/plain": [
       "(198, 10000)"
      ]
     },
     "execution_count": 18,
     "metadata": {},
     "output_type": "execute_result"
    }
   ],
   "source": [
    "flattened_matrix_np.shape"
   ]
  },
  {
   "cell_type": "code",
   "execution_count": 19,
   "metadata": {},
   "outputs": [
    {
     "data": {
      "text/plain": [
       "(198, 10000)"
      ]
     },
     "execution_count": 19,
     "metadata": {},
     "output_type": "execute_result"
    }
   ],
   "source": [
    "scaled_flattened_matrix.shape"
   ]
  },
  {
   "cell_type": "code",
   "execution_count": 20,
   "metadata": {},
   "outputs": [
    {
     "name": "stdout",
     "output_type": "stream",
     "text": [
      "1.0434796105839654\n",
      "-3.2227207716804404e-17\n"
     ]
    }
   ],
   "source": [
    "print(np.max(scaled_flattened_matrix))\n",
    "print(np.min(scaled_flattened_matrix))"
   ]
  },
  {
   "cell_type": "code",
   "execution_count": 21,
   "metadata": {},
   "outputs": [
    {
     "data": {
      "text/plain": [
       "(198, 10000)"
      ]
     },
     "execution_count": 21,
     "metadata": {},
     "output_type": "execute_result"
    }
   ],
   "source": [
    "scaled_flattened_matrix.shape"
   ]
  },
  {
   "cell_type": "code",
   "execution_count": 22,
   "metadata": {},
   "outputs": [],
   "source": [
    "def window_stack(a, stepsize=1, width=52):\n",
    "    n = a.shape[0]\n",
    "    return np.hstack( a[i:1+n+i-width:stepsize] for i in range(0,width) )"
   ]
  },
  {
   "cell_type": "code",
   "execution_count": 23,
   "metadata": {},
   "outputs": [
    {
     "name": "stderr",
     "output_type": "stream",
     "text": [
      "/home/zhimin90/anaconda3/envs/venv/lib/python3.7/site-packages/ipykernel_launcher.py:3: FutureWarning: arrays to stack must be passed as a \"sequence\" type such as list or tuple. Support for non-sequence iterables such as generators is deprecated as of NumPy 1.16 and will raise an error in the future.\n",
      "  This is separate from the ipykernel package so we can avoid doing imports until\n"
     ]
    }
   ],
   "source": [
    "stacked = window_stack(scaled_flattened_matrix,1,timesteps)"
   ]
  },
  {
   "cell_type": "code",
   "execution_count": 24,
   "metadata": {},
   "outputs": [
    {
     "data": {
      "text/plain": [
       "(147, 520000)"
      ]
     },
     "execution_count": 24,
     "metadata": {},
     "output_type": "execute_result"
    }
   ],
   "source": [
    "stacked.shape"
   ]
  },
  {
   "cell_type": "code",
   "execution_count": 25,
   "metadata": {},
   "outputs": [],
   "source": [
    "reshape_stack = stacked.reshape(stacked.shape[0],timesteps,\n",
    "                                int((stacked.shape[1]/timesteps)**(1/2)),\n",
    "                                int((stacked.shape[1]/timesteps)**(1/2)),1)"
   ]
  },
  {
   "cell_type": "code",
   "execution_count": 26,
   "metadata": {},
   "outputs": [
    {
     "data": {
      "text/plain": [
       "(147, 52, 100, 100, 1)"
      ]
     },
     "execution_count": 26,
     "metadata": {},
     "output_type": "execute_result"
    }
   ],
   "source": [
    "reshape_stack.shape"
   ]
  },
  {
   "cell_type": "markdown",
   "metadata": {},
   "source": [
    "#### We reshape to (sample, timestep, inputshape)"
   ]
  },
  {
   "cell_type": "code",
   "execution_count": 27,
   "metadata": {},
   "outputs": [
    {
     "data": {
      "text/plain": [
       "(147, 52, 100, 100, 1)"
      ]
     },
     "execution_count": 27,
     "metadata": {},
     "output_type": "execute_result"
    }
   ],
   "source": [
    "scaled_flattened_matrix = reshape_stack\n",
    "scaled_flattened_matrix.shape"
   ]
  },
  {
   "cell_type": "code",
   "execution_count": 28,
   "metadata": {},
   "outputs": [],
   "source": [
    "train, valid = (60,20)\n",
    "test = 20\n",
    "\n",
    "total_len = scaled_flattened_matrix.shape[0]\n",
    "train_index = range(0,int(train/100*total_len))\n",
    "\n",
    "valid_index = range(train_index[-1]+1,train_index[-1] + int(valid/100*total_len))\n",
    "test_index = range(valid_index[-1]+1,valid_index[-1] + int(test/100*total_len))"
   ]
  },
  {
   "cell_type": "markdown",
   "metadata": {},
   "source": [
    "#### We set the target to be 7 days aggregated KDE or 1 single frame forward"
   ]
  },
  {
   "cell_type": "code",
   "execution_count": 29,
   "metadata": {},
   "outputs": [],
   "source": [
    "X_train = scaled_flattened_matrix[np.array(train_index)]\n",
    "Y_train = scaled_flattened_matrix[np.array(train_index)+1][:,-1,:]\n",
    "Y_train = Y_train.reshape(Y_train.shape[0],int(Y_train.shape[1]*Y_train.shape[2]*Y_train.shape[3]))"
   ]
  },
  {
   "cell_type": "code",
   "execution_count": 30,
   "metadata": {},
   "outputs": [],
   "source": [
    "X_valid = scaled_flattened_matrix[np.array(valid_index)]\n",
    "Y_valid = scaled_flattened_matrix[np.array(valid_index)+1][:,-1,:]\n",
    "Y_valid = Y_valid.reshape(Y_valid.shape[0],int(Y_valid.shape[1]*Y_valid.shape[2]*Y_valid.shape[3]))"
   ]
  },
  {
   "cell_type": "code",
   "execution_count": 31,
   "metadata": {},
   "outputs": [],
   "source": [
    "X_test = scaled_flattened_matrix[np.array(test_index)]\n",
    "Y_test = scaled_flattened_matrix[np.array(test_index)+1][:,-1,:]\n",
    "Y_test = Y_test.reshape(Y_test.shape[0],int(Y_test.shape[1]*Y_test.shape[2]*Y_test.shape[3]))"
   ]
  },
  {
   "cell_type": "code",
   "execution_count": 32,
   "metadata": {},
   "outputs": [
    {
     "name": "stdout",
     "output_type": "stream",
     "text": [
      "(88, 52, 100, 100, 1)\n",
      "(88, 10000)\n",
      "(28, 52, 100, 100, 1)\n",
      "(28, 10000)\n",
      "(28, 52, 100, 100, 1)\n",
      "(28, 10000)\n"
     ]
    }
   ],
   "source": [
    "print(X_train.shape)\n",
    "print(Y_train.shape)\n",
    "print(X_valid.shape)\n",
    "print(Y_valid.shape)\n",
    "print(X_test.shape)\n",
    "print(Y_test.shape)"
   ]
  },
  {
   "cell_type": "code",
   "execution_count": 33,
   "metadata": {},
   "outputs": [],
   "source": [
    "import os, datetime\n",
    "import tensorflow as tf\n",
    "from tensorflow.keras import optimizers\n",
    "import tensorflow.keras.layers as layers\n",
    "from tensorflow.keras.models import Sequential, Model\n",
    "from tensorflow.keras.layers import Dense, Dropout, LSTM, Bidirectional, GaussianNoise, Flatten\n",
    "from tensorflow.keras.layers import Conv2D, MaxPooling2D, Concatenate, Input, LSTM, GRU, RepeatVector, TimeDistributed\n",
    "from tensorflow.keras.layers import concatenate, Activation, Permute, Multiply, Lambda\n"
   ]
  },
  {
   "cell_type": "code",
   "execution_count": 34,
   "metadata": {},
   "outputs": [
    {
     "name": "stdout",
     "output_type": "stream",
     "text": [
      "/home/zhimin90/DePaul/CSC695/Github/CSC695-Masters-Research-on-Neural-Network-Time-Series-Attention-Models/Asset/checkpoints/\n"
     ]
    }
   ],
   "source": [
    "checkpoint_filepath = Asset_PATH+'checkpoints/'\n",
    "print(checkpoint_filepath)"
   ]
  },
  {
   "cell_type": "markdown",
   "metadata": {},
   "source": [
    "## Flattened Fully Connected Model"
   ]
  },
  {
   "cell_type": "code",
   "execution_count": 86,
   "metadata": {},
   "outputs": [
    {
     "name": "stdout",
     "output_type": "stream",
     "text": [
      "Model: \"Flattened_Fully_Connected\"\n",
      "_________________________________________________________________\n",
      "Layer (type)                 Output Shape              Param #   \n",
      "=================================================================\n",
      "input_11 (InputLayer)        [(None, 52, 100, 100, 1)] 0         \n",
      "_________________________________________________________________\n",
      "time_distributed_31 (TimeDis (None, 52, 10000)         0         \n",
      "_________________________________________________________________\n",
      "dense_38 (Dense)             (None, 52, 50)            500050    \n",
      "_________________________________________________________________\n",
      "flatten_31 (Flatten)         (None, 2600)              0         \n",
      "_________________________________________________________________\n",
      "dense_39 (Dense)             (None, 10000)             26010000  \n",
      "=================================================================\n",
      "Total params: 26,510,050\n",
      "Trainable params: 26,510,050\n",
      "Non-trainable params: 0\n",
      "_________________________________________________________________\n"
     ]
    }
   ],
   "source": [
    "serie_size, time_step, n_features_row, n_features_column, no_channel = X_train.shape\n",
    "\n",
    "lr = .0001\n",
    "loss='mae'\n",
    "METRIC_ACCURACY = 'mae'\n",
    "\n",
    "inputs = Input(shape=(time_step,n_features_row, n_features_column, no_channel))\n",
    "   \n",
    "timeDist = TimeDistributed(Flatten())(inputs)\n",
    "\n",
    "Dense1 = Dense(50, kernel_initializer='glorot_normal', activation='relu')(timeDist)\n",
    "Dense2 = Dense(Y_train.shape[1])(Flatten()(Dense1))\n",
    "outputs = Dense2\n",
    "\n",
    "model = Model(inputs, outputs, name=\"Flattened_Fully_Connected\")\n",
    "model.summary()\n",
    "\n",
    "adam = optimizers.Adam(lr)\n",
    "model.compile(loss='mean_absolute_error',\n",
    "                   metrics=['mae'], \n",
    "                   optimizer=adam)\n"
   ]
  },
  {
   "cell_type": "markdown",
   "metadata": {},
   "source": [
    "## Flattened LSTM Model"
   ]
  },
  {
   "cell_type": "code",
   "execution_count": 65,
   "metadata": {},
   "outputs": [
    {
     "name": "stdout",
     "output_type": "stream",
     "text": [
      "Model: \"Flattened_LTSM\"\n",
      "_________________________________________________________________\n",
      "Layer (type)                 Output Shape              Param #   \n",
      "=================================================================\n",
      "input_7 (InputLayer)         [(None, 52, 100, 100, 1)] 0         \n",
      "_________________________________________________________________\n",
      "time_distributed_16 (TimeDis (None, 52, 10000)         0         \n",
      "_________________________________________________________________\n",
      "lstm_5 (LSTM)                (None, 100)               4040400   \n",
      "_________________________________________________________________\n",
      "dense_28 (Dense)             (None, 100)               10100     \n",
      "_________________________________________________________________\n",
      "flatten_21 (Flatten)         (None, 100)               0         \n",
      "_________________________________________________________________\n",
      "dense_29 (Dense)             (None, 10000)             1010000   \n",
      "=================================================================\n",
      "Total params: 5,060,500\n",
      "Trainable params: 5,060,500\n",
      "Non-trainable params: 0\n",
      "_________________________________________________________________\n"
     ]
    }
   ],
   "source": [
    "serie_size, time_step, n_features_row, n_features_column, no_channel = X_train.shape\n",
    "\n",
    "lr = .0001\n",
    "loss='mae'\n",
    "METRIC_ACCURACY = 'mae'\n",
    "\n",
    "inputs = Input(shape=(time_step,n_features_row, n_features_column, no_channel))\n",
    "\n",
    "    \n",
    "timeDist = TimeDistributed(Flatten())(inputs)\n",
    "\n",
    "LSTM_layer1 = LSTM(100)(timeDist)\n",
    "Dense1 = Dense(100, kernel_initializer='glorot_normal', activation='relu')(LSTM_layer1)\n",
    "Dense2 = Dense(Y_train.shape[1])(Flatten()(Dense1))\n",
    "outputs = Dense2\n",
    "\n",
    "model = Model(inputs, outputs, name=\"Flattened_LTSM\")\n",
    "model.summary()\n",
    "\n",
    "adam = optimizers.Adam(lr)\n",
    "model.compile(loss='mean_absolute_error',\n",
    "                   metrics=['mae'], \n",
    "                   optimizer=adam)\n",
    "\n"
   ]
  },
  {
   "cell_type": "markdown",
   "metadata": {},
   "source": [
    "## 2D CNN LSTM model"
   ]
  },
  {
   "cell_type": "code",
   "execution_count": 73,
   "metadata": {},
   "outputs": [
    {
     "name": "stdout",
     "output_type": "stream",
     "text": [
      "Model: \"2DCNN_LTSM\"\n",
      "__________________________________________________________________________________________________\n",
      "Layer (type)                    Output Shape         Param #     Connected to                     \n",
      "==================================================================================================\n",
      "input_9 (InputLayer)            [(None, 52, 100, 100 0                                            \n",
      "__________________________________________________________________________________________________\n",
      "time_distributed_18 (TimeDistri (None, 52, 100, 100, 40          input_9[0][0]                    \n",
      "__________________________________________________________________________________________________\n",
      "time_distributed_19 (TimeDistri (None, 52, 100, 100, 420         time_distributed_18[0][0]        \n",
      "__________________________________________________________________________________________________\n",
      "time_distributed_20 (TimeDistri (None, 52, 50, 50, 2 0           time_distributed_19[0][0]        \n",
      "__________________________________________________________________________________________________\n",
      "time_distributed_22 (TimeDistri (None, 52, 50, 50, 2 420         time_distributed_20[0][0]        \n",
      "__________________________________________________________________________________________________\n",
      "time_distributed_23 (TimeDistri (None, 52, 50, 50, 2 420         time_distributed_22[0][0]        \n",
      "__________________________________________________________________________________________________\n",
      "time_distributed_24 (TimeDistri (None, 52, 25, 25, 2 0           time_distributed_23[0][0]        \n",
      "__________________________________________________________________________________________________\n",
      "time_distributed_21 (TimeDistri (None, 52, 50000)    0           time_distributed_20[0][0]        \n",
      "__________________________________________________________________________________________________\n",
      "time_distributed_25 (TimeDistri (None, 52, 12500)    0           time_distributed_24[0][0]        \n",
      "__________________________________________________________________________________________________\n",
      "concatenate_1 (Concatenate)     (None, 52, 62500)    0           time_distributed_21[0][0]        \n",
      "                                                                 time_distributed_25[0][0]        \n",
      "__________________________________________________________________________________________________\n",
      "lstm_6 (LSTM)                   (None, 50)           12510200    concatenate_1[0][0]              \n",
      "__________________________________________________________________________________________________\n",
      "dense_32 (Dense)                (None, 100)          5100        lstm_6[0][0]                     \n",
      "__________________________________________________________________________________________________\n",
      "flatten_26 (Flatten)            (None, 100)          0           dense_32[0][0]                   \n",
      "__________________________________________________________________________________________________\n",
      "dense_33 (Dense)                (None, 10000)        1010000     flatten_26[0][0]                 \n",
      "==================================================================================================\n",
      "Total params: 13,526,600\n",
      "Trainable params: 13,526,600\n",
      "Non-trainable params: 0\n",
      "__________________________________________________________________________________________________\n"
     ]
    }
   ],
   "source": [
    "serie_size, time_step, n_features_row, n_features_column, no_channel = X_train.shape\n",
    "\n",
    "epochs = 100\n",
    "batch = 48\n",
    "lr = .0001\n",
    "loss='mae'\n",
    "METRIC_ACCURACY = 'mae'\n",
    "\n",
    "inputs = Input(shape=(time_step,n_features_row, n_features_column, no_channel))\n",
    "\n",
    "cnn1 = Conv2D(20, (1,1), activation='relu', padding='same')\n",
    "TD = TimeDistributed(cnn1)(inputs)\n",
    "\n",
    "cnn2 = Conv2D(20, (1,1), activation='relu', padding='same')\n",
    "TD2 = TimeDistributed(cnn2)(TD)\n",
    "\n",
    "TD3 = TimeDistributed(\n",
    "        MaxPooling2D(pool_size=(2, 2)))(TD2)\n",
    "    \n",
    "timeDist = TimeDistributed(Flatten())(TD3)\n",
    "\n",
    "cnn4 = Conv2D(20, (1,1), activation='relu', padding='same')\n",
    "TD4 = TimeDistributed(cnn4)(TD3)\n",
    "\n",
    "cnn5 = Conv2D(20, (1,1), activation='relu', padding='same')\n",
    "TD5 = TimeDistributed(cnn5)(TD4)\n",
    "\n",
    "TD6 = TimeDistributed(\n",
    "        MaxPooling2D(pool_size=(2, 2)))(TD5)\n",
    "    \n",
    "timeDist2 = TimeDistributed(Flatten())(TD6)\n",
    "\n",
    "merge = concatenate([timeDist, timeDist2])\n",
    "\n",
    "LSTM_layer1 = LSTM(50)(merge)\n",
    "Dense1 = Dense(100, kernel_initializer='glorot_normal', activation='relu')(LSTM_layer1)\n",
    "Dense2 = Dense(Y_train.shape[1])(Flatten()(Dense1))\n",
    "outputs = Dense2\n",
    "\n",
    "model = Model(inputs, outputs, name=\"2DCNN_LTSM\")\n",
    "model.summary()\n",
    "\n",
    "adam = optimizers.Adam(lr)\n",
    "model.compile(loss='mean_absolute_error',\n",
    "                   metrics=['mae'], \n",
    "                   optimizer=adam)\n",
    "\n"
   ]
  },
  {
   "cell_type": "markdown",
   "metadata": {},
   "source": [
    "## 2D CNN with LSTM + Attention"
   ]
  },
  {
   "cell_type": "code",
   "execution_count": 35,
   "metadata": {},
   "outputs": [],
   "source": [
    "from tensorflow.keras import backend as K"
   ]
  },
  {
   "cell_type": "code",
   "execution_count": 75,
   "metadata": {},
   "outputs": [
    {
     "name": "stdout",
     "output_type": "stream",
     "text": [
      "attention shape (None, 52, 100)\n",
      "LSTM_layer1 shape (None, 52, 100)\n",
      "sent_representation shape (None, 52, 100)\n",
      "Model: \"2DCNN_LTSM_Attention\"\n",
      "__________________________________________________________________________________________________\n",
      "Layer (type)                    Output Shape         Param #     Connected to                     \n",
      "==================================================================================================\n",
      "input_10 (InputLayer)           [(None, 52, 100, 100 0                                            \n",
      "__________________________________________________________________________________________________\n",
      "time_distributed_26 (TimeDistri (None, 52, 100, 100, 20          input_10[0][0]                   \n",
      "__________________________________________________________________________________________________\n",
      "time_distributed_27 (TimeDistri (None, 52, 100, 100, 110         time_distributed_26[0][0]        \n",
      "__________________________________________________________________________________________________\n",
      "time_distributed_28 (TimeDistri (None, 52, 50, 50, 1 0           time_distributed_27[0][0]        \n",
      "__________________________________________________________________________________________________\n",
      "time_distributed_29 (TimeDistri (None, 52, 25000)    0           time_distributed_28[0][0]        \n",
      "__________________________________________________________________________________________________\n",
      "lstm_7 (LSTM)                   (None, 52, 100)      10040400    time_distributed_29[0][0]        \n",
      "__________________________________________________________________________________________________\n",
      "dense_34 (Dense)                (None, 52, 100)      10100       lstm_7[0][0]                     \n",
      "__________________________________________________________________________________________________\n",
      "dense_35 (Dense)                (None, 52, 1)        101         dense_34[0][0]                   \n",
      "__________________________________________________________________________________________________\n",
      "flatten_28 (Flatten)            (None, 52)           0           dense_35[0][0]                   \n",
      "__________________________________________________________________________________________________\n",
      "activation_7 (Activation)       (None, 52)           0           flatten_28[0][0]                 \n",
      "__________________________________________________________________________________________________\n",
      "repeat_vector_7 (RepeatVector)  (None, 100, 52)      0           activation_7[0][0]               \n",
      "__________________________________________________________________________________________________\n",
      "permute_7 (Permute)             (None, 52, 100)      0           repeat_vector_7[0][0]            \n",
      "__________________________________________________________________________________________________\n",
      "multiply_7 (Multiply)           (None, 52, 100)      0           lstm_7[0][0]                     \n",
      "                                                                 permute_7[0][0]                  \n",
      "__________________________________________________________________________________________________\n",
      "time_distributed_30 (TimeDistri (None, 52, 3)        303         multiply_7[0][0]                 \n",
      "__________________________________________________________________________________________________\n",
      "flatten_29 (Flatten)            (None, 156)          0           time_distributed_30[0][0]        \n",
      "__________________________________________________________________________________________________\n",
      "dense_37 (Dense)                (None, 10000)        1570000     flatten_29[0][0]                 \n",
      "==================================================================================================\n",
      "Total params: 11,621,034\n",
      "Trainable params: 11,621,034\n",
      "Non-trainable params: 0\n",
      "__________________________________________________________________________________________________\n"
     ]
    }
   ],
   "source": [
    "serie_size, time_step, n_features_row, n_features_column, no_channel = X_train.shape\n",
    "\n",
    "epochs = 100\n",
    "lr = .0001\n",
    "loss='mae'\n",
    "METRIC_ACCURACY = 'mae'\n",
    "\n",
    "\n",
    "inputs = Input(shape=(time_step,n_features_row, n_features_column, no_channel))\n",
    "\n",
    "cnn1 = Conv2D(10, (1,1), activation='relu', padding='same')\n",
    "TD = TimeDistributed(cnn1)(inputs)\n",
    "\n",
    "cnn2 = Conv2D(10, (1,1), activation='relu', padding='same')\n",
    "TD2 = TimeDistributed(cnn2)(TD)\n",
    "\n",
    "TD3 = TimeDistributed(\n",
    "        MaxPooling2D(pool_size=(2, 2)))(TD2)\n",
    "    \n",
    "timeDist = TimeDistributed(Flatten())(TD3)\n",
    "\n",
    "'''\n",
    "#Paralell 2D CNN layer\n",
    "cnn4 = Conv2D(20, (1,1), activation='relu', padding='same')\n",
    "TD4 = TimeDistributed(cnn4)(TD3)\n",
    "\n",
    "cnn5 = Conv2D(20, (1,1), activation='relu', padding='same')\n",
    "TD5 = TimeDistributed(cnn5)(TD4)\n",
    "\n",
    "TD6 = TimeDistributed(\n",
    "        MaxPooling2D(pool_size=(2, 2)))(TD5)\n",
    "    \n",
    "timeDist2 = TimeDistributed(Flatten())(TD6)\n",
    "\n",
    "merge = concatenate([timeDist, timeDist2])\n",
    "'''\n",
    "\n",
    "#send both convolved layer and flattened layer into LSTM\n",
    "#merge = concatenate([timeDist, timeDist3])\n",
    "\n",
    "units = 100\n",
    "LSTM_layer1 = LSTM(units, return_sequences=True)(timeDist)\n",
    "\n",
    "# compute importance for each step\n",
    "attention = Dense(units, activation='tanh')(LSTM_layer1) ## weight matrix W (= units x units)\n",
    "attention = Dense(1, activation='linear')(attention)     ## weight matrix v (= units x 1)\n",
    "\n",
    "#attention = Dense(1, activation='tanh')(LSTM_layer1)\n",
    "attention = Flatten()(attention)\n",
    "attention = Activation('softmax')(attention)\n",
    "attention = RepeatVector(units)(attention)\n",
    "attention = Permute([2, 1])(attention)\n",
    "\n",
    "print(\"attention shape\", attention.shape)\n",
    "print(\"LSTM_layer1 shape\", LSTM_layer1.shape)\n",
    "sent_representation = Multiply()([LSTM_layer1, attention])\n",
    "\n",
    "print(\"sent_representation shape\", sent_representation.shape)\n",
    "#same shape as LSTM output (None,52,100)\n",
    "\n",
    "#For each timestep update a single weight on Dense layer\n",
    "attended_LSTM_out = TimeDistributed(Dense(3, activation='relu'))(sent_representation)\n",
    "\n",
    "#Flatten time dimension\n",
    "Dense2 = Dense(Y_train.shape[1])(Flatten()(attended_LSTM_out))\n",
    "outputs = Dense2\n",
    "\n",
    "model = Model(inputs, outputs, name=\"2DCNN_LTSM_Attention\")\n",
    "model.summary()\n",
    "\n",
    "adam = optimizers.Adam(lr)\n",
    "model.compile(loss='mean_absolute_error',\n",
    "                   metrics=['mae'], \n",
    "                   optimizer=adam)\n"
   ]
  },
  {
   "cell_type": "markdown",
   "metadata": {},
   "source": [
    "## Flattened LSTM + Attention"
   ]
  },
  {
   "cell_type": "code",
   "execution_count": null,
   "metadata": {},
   "outputs": [],
   "source": [
    "from tensorflow.keras import backend as K"
   ]
  },
  {
   "cell_type": "code",
   "execution_count": null,
   "metadata": {},
   "outputs": [],
   "source": [
    "serie_size, time_step, n_features_row, n_features_column, no_channel = X_train.shape\n",
    "\n",
    "epochs = 100\n",
    "lr = .0001\n",
    "loss='mae'\n",
    "METRIC_ACCURACY = 'mae'\n",
    "\n",
    "\n",
    "inputs = Input(shape=(time_step,n_features_row, n_features_column, no_channel))\n",
    "\n",
    "#send both convolved layer and flattened layer into LSTM\n",
    "timeDist3 = TimeDistributed(Flatten())(inputs)\n",
    "#merge = concatenate([timeDist, timeDist3])\n",
    "\n",
    "units = 100\n",
    "LSTM_layer1 = LSTM(units, return_sequences=True)(timeDist3)\n",
    "\n",
    "# compute importance for each step\n",
    "attention = Dense(units, activation='tanh')(LSTM_layer1) ## weight matrix W (= units x units)\n",
    "attention = Dense(1, activation='linear')(attention)     ## weight matrix v (= units x 1)\n",
    "\n",
    "#attention = Dense(1, activation='tanh')(LSTM_layer1)\n",
    "attention = Flatten()(attention)\n",
    "attention = Activation('softmax')(attention)\n",
    "attention = RepeatVector(units)(attention)\n",
    "attention = Permute([2, 1])(attention)\n",
    "\n",
    "print(\"attention shape\", attention.shape)\n",
    "print(\"LSTM_layer1 shape\", LSTM_layer1.shape)\n",
    "sent_representation = Multiply()([LSTM_layer1, attention])\n",
    "\n",
    "print(\"sent_representation shape\", sent_representation.shape)\n",
    "#same shape as LSTM output (None,52,100)\n",
    "\n",
    "#For each timestep update a single weight on Dense layer\n",
    "attended_LSTM_out = TimeDistributed(Dense(3, activation='relu'))(sent_representation)\n",
    "\n",
    "#Flatten time dimension\n",
    "Dense2 = Dense(Y_train.shape[1])(Flatten()(attended_LSTM_out))\n",
    "outputs = Dense2\n",
    "\n",
    "model = Model(inputs, outputs, name=\"2DCNN_LTSM_Attention\")\n",
    "model.summary()\n",
    "\n",
    "adam = optimizers.Adam(lr)\n",
    "model.compile(loss='mean_absolute_error',\n",
    "                   metrics=['mae'], \n",
    "                   optimizer=adam)\n"
   ]
  },
  {
   "cell_type": "markdown",
   "metadata": {},
   "source": [
    "## Attention on flattened inputs"
   ]
  },
  {
   "cell_type": "code",
   "execution_count": 61,
   "metadata": {},
   "outputs": [
    {
     "name": "stdout",
     "output_type": "stream",
     "text": [
      "attention.shape:  (None, 52, 1)\n",
      "Model: \"Attention_Time\"\n",
      "__________________________________________________________________________________________________\n",
      "Layer (type)                    Output Shape         Param #     Connected to                     \n",
      "==================================================================================================\n",
      "input_6 (InputLayer)            [(None, 52, 100, 100 0                                            \n",
      "__________________________________________________________________________________________________\n",
      "time_distributed_10 (TimeDistri (None, 52, 10000)    0           input_6[0][0]                    \n",
      "__________________________________________________________________________________________________\n",
      "time_distributed_13 (TimeDistri (None, 52, 10000)    0           input_6[0][0]                    \n",
      "__________________________________________________________________________________________________\n",
      "time_distributed_11 (TimeDistri (None, 52, 25)       250025      time_distributed_10[0][0]        \n",
      "__________________________________________________________________________________________________\n",
      "time_distributed_14 (TimeDistri (None, 52, 25)       250025      time_distributed_13[0][0]        \n",
      "__________________________________________________________________________________________________\n",
      "dense_20 (Dense)                (None, 52, 25)       650         time_distributed_11[0][0]        \n",
      "__________________________________________________________________________________________________\n",
      "dense_24 (Dense)                (None, 52, 25)       650         time_distributed_14[0][0]        \n",
      "__________________________________________________________________________________________________\n",
      "dense_21 (Dense)                (None, 52, 1)        26          dense_20[0][0]                   \n",
      "__________________________________________________________________________________________________\n",
      "dense_25 (Dense)                (None, 52, 1)        26          dense_24[0][0]                   \n",
      "__________________________________________________________________________________________________\n",
      "flatten_16 (Flatten)            (None, 52)           0           dense_21[0][0]                   \n",
      "__________________________________________________________________________________________________\n",
      "flatten_18 (Flatten)            (None, 52)           0           dense_25[0][0]                   \n",
      "__________________________________________________________________________________________________\n",
      "activation_5 (Activation)       (None, 52)           0           flatten_16[0][0]                 \n",
      "__________________________________________________________________________________________________\n",
      "activation_6 (Activation)       (None, 52)           0           flatten_18[0][0]                 \n",
      "__________________________________________________________________________________________________\n",
      "repeat_vector_5 (RepeatVector)  (None, 25, 52)       0           activation_5[0][0]               \n",
      "__________________________________________________________________________________________________\n",
      "repeat_vector_6 (RepeatVector)  (None, 25, 52)       0           activation_6[0][0]               \n",
      "__________________________________________________________________________________________________\n",
      "permute_5 (Permute)             (None, 52, 25)       0           repeat_vector_5[0][0]            \n",
      "__________________________________________________________________________________________________\n",
      "permute_6 (Permute)             (None, 52, 25)       0           repeat_vector_6[0][0]            \n",
      "__________________________________________________________________________________________________\n",
      "multiply_5 (Multiply)           (None, 52, 25)       0           time_distributed_11[0][0]        \n",
      "                                                                 permute_5[0][0]                  \n",
      "__________________________________________________________________________________________________\n",
      "multiply_6 (Multiply)           (None, 52, 25)       0           time_distributed_14[0][0]        \n",
      "                                                                 permute_6[0][0]                  \n",
      "__________________________________________________________________________________________________\n",
      "time_distributed_12 (TimeDistri (None, 52, 1)        26          multiply_5[0][0]                 \n",
      "__________________________________________________________________________________________________\n",
      "time_distributed_15 (TimeDistri (None, 52, 1)        26          multiply_6[0][0]                 \n",
      "__________________________________________________________________________________________________\n",
      "concatenate (Concatenate)       (None, 52, 2)        0           time_distributed_12[0][0]        \n",
      "                                                                 time_distributed_15[0][0]        \n",
      "__________________________________________________________________________________________________\n",
      "flatten_19 (Flatten)            (None, 104)          0           concatenate[0][0]                \n",
      "__________________________________________________________________________________________________\n",
      "dense_27 (Dense)                (None, 10000)        1050000     flatten_19[0][0]                 \n",
      "==================================================================================================\n",
      "Total params: 1,551,454\n",
      "Trainable params: 1,551,454\n",
      "Non-trainable params: 0\n",
      "__________________________________________________________________________________________________\n"
     ]
    }
   ],
   "source": [
    "serie_size, time_step, n_features_row, n_features_column, no_channel = X_train.shape\n",
    "\n",
    "epochs = 100\n",
    "lr = .0001\n",
    "loss='mae'\n",
    "METRIC_ACCURACY = 'mae'\n",
    "\n",
    "\n",
    "inputs = Input(shape=(time_step,n_features_row, n_features_column, no_channel))\n",
    "\n",
    "timeDist = TimeDistributed(Flatten())(inputs)\n",
    "timeDist2 = TimeDistributed(Dense(25))(timeDist)\n",
    "units = timeDist2.shape[2]\n",
    "# compute importance for each step\n",
    "attention = Dense(units, activation='tanh')(timeDist2) ## weight matrix W (= units x units)\n",
    "attention = Dense(1, activation='linear')(attention)     ## weight matrix v (= units x 1)\n",
    "#attention = Dense(1, activation='tanh')(timeDist2)\n",
    "print('attention.shape: ', attention.shape)\n",
    "attention = Flatten()(attention)\n",
    "attention = Activation('softmax')(attention)\n",
    "attention = RepeatVector(units)(attention)\n",
    "attention = Permute([2, 1])(attention)\n",
    "sent_representation = Multiply()([timeDist2, attention])\n",
    "#For each timestep update a single weight on Dense layer\n",
    "attended_Dense_out = TimeDistributed(Dense(1, activation='relu'))(sent_representation)\n",
    "\n",
    "timeDist3 = TimeDistributed(Flatten())(inputs)\n",
    "timeDist4 = TimeDistributed(Dense(25))(timeDist3)\n",
    "units = timeDist4.shape[2]\n",
    "# compute importance for each step\n",
    "attention2 = Dense(units, activation='tanh')(timeDist4) ## weight matrix W (= units x units)\n",
    "attention2 = Dense(1, activation='linear')(attention2)     ## weight matrix v (= units x 1)\n",
    "#attention2 = Dense(1, activation='tanh')(timeDist4)\n",
    "attention2 = Flatten()(attention2)\n",
    "attention2 = Activation('softmax')(attention2)\n",
    "attention2 = RepeatVector(units)(attention2)\n",
    "attention2 = Permute([2, 1])(attention2)\n",
    "sent_representation2 = Multiply()([timeDist4, attention2])\n",
    "#For each timestep update a single weight on Dense layer\n",
    "attended_Dense_out2 = TimeDistributed(Dense(1, activation='relu'))(sent_representation2)\n",
    "'''\n",
    "timeDist5 = TimeDistributed(Flatten())(inputs)\n",
    "timeDist6 = TimeDistributed(Dense(20))(timeDist5)\n",
    "units = timeDist6.shape[2]\n",
    "# compute importance for each step\n",
    "attention3 = Dense(1, activation='tanh')(timeDist6)\n",
    "attention3 = Flatten()(attention3)\n",
    "attention3 = Activation('softmax')(attention3)\n",
    "attention3 = RepeatVector(units)(attention3)\n",
    "attention3 = Permute([2, 1])(attention3)\n",
    "sent_representation3 = Multiply()([timeDist6, attention3])\n",
    "#For each timestep update a single weight on Dense layer\n",
    "attended_Dense_out3 = TimeDistributed(Dense(1, activation='relu'))(sent_representation3)\n",
    "'''\n",
    "merge = concatenate([attended_Dense_out, attended_Dense_out2])\n",
    "\n",
    "#Flatten time dimension\n",
    "Dense2 = Dense(Y_train.shape[1])(Flatten()(merge))\n",
    "outputs = Dense2\n",
    "\n",
    "model = Model(inputs, outputs, name=\"Attention_Time\")\n",
    "model.summary()\n",
    "\n",
    "adam = optimizers.Adam(lr)\n",
    "model.compile(loss='mean_absolute_error',\n",
    "                   metrics=['mae'], \n",
    "                   optimizer=adam)\n"
   ]
  },
  {
   "cell_type": "markdown",
   "metadata": {},
   "source": [
    "## Run fit on any of the previous model here"
   ]
  },
  {
   "cell_type": "code",
   "execution_count": 89,
   "metadata": {
    "scrolled": true
   },
   "outputs": [
    {
     "name": "stdout",
     "output_type": "stream",
     "text": [
      "WARNING:tensorflow:`period` argument is deprecated. Please use `save_freq` to specify the frequency in number of samples seen.\n",
      "Train on 88 samples, validate on 28 samples\n",
      "Epoch 1/1000\n",
      "63/88 [====================>.........] - ETA: 0s - loss: 0.0016 - mae: 0.0016\n",
      "Epoch 00001: val_loss improved from inf to 0.00170, saving model to /home/zhimin90/DePaul/CSC695/Github/CSC695-Masters-Research-on-Neural-Network-Time-Series-Attention-Models/Asset/checkpoints/_20200627-101701_model.hdf5\n",
      "88/88 [==============================] - 1s 7ms/sample - loss: 0.0016 - mae: 0.0016 - val_loss: 0.0017 - val_mae: 0.0017\n",
      "Epoch 2/1000\n",
      "63/88 [====================>.........] - ETA: 0s - loss: 0.0016 - mae: 0.0016\n",
      "Epoch 00002: val_loss improved from 0.00170 to 0.00170, saving model to /home/zhimin90/DePaul/CSC695/Github/CSC695-Masters-Research-on-Neural-Network-Time-Series-Attention-Models/Asset/checkpoints/_20200627-101701_model.hdf5\n",
      "88/88 [==============================] - 1s 8ms/sample - loss: 0.0016 - mae: 0.0016 - val_loss: 0.0017 - val_mae: 0.0017\n",
      "Epoch 3/1000\n",
      "63/88 [====================>.........] - ETA: 0s - loss: 0.0016 - mae: 0.0016\n",
      "Epoch 00003: val_loss improved from 0.00170 to 0.00170, saving model to /home/zhimin90/DePaul/CSC695/Github/CSC695-Masters-Research-on-Neural-Network-Time-Series-Attention-Models/Asset/checkpoints/_20200627-101701_model.hdf5\n",
      "88/88 [==============================] - 1s 8ms/sample - loss: 0.0016 - mae: 0.0016 - val_loss: 0.0017 - val_mae: 0.0017\n",
      "Epoch 4/1000\n",
      "63/88 [====================>.........] - ETA: 0s - loss: 0.0016 - mae: 0.0016\n",
      "Epoch 00004: val_loss improved from 0.00170 to 0.00170, saving model to /home/zhimin90/DePaul/CSC695/Github/CSC695-Masters-Research-on-Neural-Network-Time-Series-Attention-Models/Asset/checkpoints/_20200627-101701_model.hdf5\n",
      "88/88 [==============================] - 1s 9ms/sample - loss: 0.0016 - mae: 0.0016 - val_loss: 0.0017 - val_mae: 0.0017\n",
      "Epoch 5/1000\n",
      "63/88 [====================>.........] - ETA: 0s - loss: 0.0016 - mae: 0.0016\n",
      "Epoch 00005: val_loss did not improve from 0.00170\n",
      "88/88 [==============================] - 0s 2ms/sample - loss: 0.0016 - mae: 0.0016 - val_loss: 0.0017 - val_mae: 0.0017\n",
      "Epoch 6/1000\n",
      "63/88 [====================>.........] - ETA: 0s - loss: 0.0016 - mae: 0.0016\n",
      "Epoch 00006: val_loss did not improve from 0.00170\n",
      "88/88 [==============================] - 0s 2ms/sample - loss: 0.0016 - mae: 0.0016 - val_loss: 0.0017 - val_mae: 0.0017\n",
      "Epoch 7/1000\n",
      "63/88 [====================>.........] - ETA: 0s - loss: 0.0016 - mae: 0.0016\n",
      "Epoch 00007: val_loss did not improve from 0.00170\n",
      "88/88 [==============================] - 0s 2ms/sample - loss: 0.0016 - mae: 0.0016 - val_loss: 0.0017 - val_mae: 0.0017\n",
      "Epoch 8/1000\n",
      "63/88 [====================>.........] - ETA: 0s - loss: 0.0016 - mae: 0.0016\n",
      "Epoch 00008: val_loss did not improve from 0.00170\n",
      "88/88 [==============================] - 0s 2ms/sample - loss: 0.0016 - mae: 0.0016 - val_loss: 0.0017 - val_mae: 0.0017\n",
      "Epoch 9/1000\n",
      "63/88 [====================>.........] - ETA: 0s - loss: 0.0016 - mae: 0.0016\n",
      "Epoch 00009: val_loss did not improve from 0.00170\n",
      "88/88 [==============================] - 0s 2ms/sample - loss: 0.0016 - mae: 0.0016 - val_loss: 0.0017 - val_mae: 0.0017\n",
      "Epoch 10/1000\n",
      "63/88 [====================>.........] - ETA: 0s - loss: 0.0016 - mae: 0.0016\n",
      "Epoch 00010: val_loss did not improve from 0.00170\n",
      "88/88 [==============================] - 0s 2ms/sample - loss: 0.0016 - mae: 0.0016 - val_loss: 0.0017 - val_mae: 0.0017\n",
      "Epoch 11/1000\n",
      "63/88 [====================>.........] - ETA: 0s - loss: 0.0016 - mae: 0.0016\n",
      "Epoch 00011: val_loss did not improve from 0.00170\n",
      "88/88 [==============================] - 0s 2ms/sample - loss: 0.0016 - mae: 0.0016 - val_loss: 0.0017 - val_mae: 0.0017\n",
      "Epoch 12/1000\n",
      "63/88 [====================>.........] - ETA: 0s - loss: 0.0016 - mae: 0.0016\n",
      "Epoch 00012: val_loss improved from 0.00170 to 0.00170, saving model to /home/zhimin90/DePaul/CSC695/Github/CSC695-Masters-Research-on-Neural-Network-Time-Series-Attention-Models/Asset/checkpoints/_20200627-101701_model.hdf5\n",
      "88/88 [==============================] - 1s 8ms/sample - loss: 0.0016 - mae: 0.0016 - val_loss: 0.0017 - val_mae: 0.0017\n",
      "Epoch 13/1000\n",
      "63/88 [====================>.........] - ETA: 0s - loss: 0.0016 - mae: 0.0016\n",
      "Epoch 00013: val_loss improved from 0.00170 to 0.00170, saving model to /home/zhimin90/DePaul/CSC695/Github/CSC695-Masters-Research-on-Neural-Network-Time-Series-Attention-Models/Asset/checkpoints/_20200627-101701_model.hdf5\n",
      "88/88 [==============================] - 1s 8ms/sample - loss: 0.0016 - mae: 0.0016 - val_loss: 0.0017 - val_mae: 0.0017\n",
      "Epoch 14/1000\n",
      "63/88 [====================>.........] - ETA: 0s - loss: 0.0016 - mae: 0.0016\n",
      "Epoch 00014: val_loss did not improve from 0.00170\n",
      "88/88 [==============================] - 0s 2ms/sample - loss: 0.0016 - mae: 0.0016 - val_loss: 0.0017 - val_mae: 0.0017\n",
      "Epoch 15/1000\n",
      "63/88 [====================>.........] - ETA: 0s - loss: 0.0016 - mae: 0.0016\n",
      "Epoch 00015: val_loss did not improve from 0.00170\n",
      "88/88 [==============================] - 0s 2ms/sample - loss: 0.0016 - mae: 0.0016 - val_loss: 0.0017 - val_mae: 0.0017\n",
      "Epoch 16/1000\n",
      "63/88 [====================>.........] - ETA: 0s - loss: 0.0016 - mae: 0.0016\n",
      "Epoch 00016: val_loss did not improve from 0.00170\n",
      "88/88 [==============================] - 0s 2ms/sample - loss: 0.0016 - mae: 0.0016 - val_loss: 0.0017 - val_mae: 0.0017\n",
      "Epoch 17/1000\n",
      "63/88 [====================>.........] - ETA: 0s - loss: 0.0016 - mae: 0.0016\n",
      "Epoch 00017: val_loss did not improve from 0.00170\n",
      "88/88 [==============================] - 0s 2ms/sample - loss: 0.0016 - mae: 0.0016 - val_loss: 0.0017 - val_mae: 0.0017\n",
      "Epoch 18/1000\n",
      "63/88 [====================>.........] - ETA: 0s - loss: 0.0016 - mae: 0.0016\n",
      "Epoch 00018: val_loss did not improve from 0.00170\n",
      "88/88 [==============================] - 0s 2ms/sample - loss: 0.0016 - mae: 0.0016 - val_loss: 0.0017 - val_mae: 0.0017\n",
      "Epoch 19/1000\n",
      "63/88 [====================>.........] - ETA: 0s - loss: 0.0016 - mae: 0.0016\n",
      "Epoch 00019: val_loss did not improve from 0.00170\n",
      "88/88 [==============================] - 0s 2ms/sample - loss: 0.0016 - mae: 0.0016 - val_loss: 0.0017 - val_mae: 0.0017\n",
      "Epoch 20/1000\n",
      "63/88 [====================>.........] - ETA: 0s - loss: 0.0016 - mae: 0.0016\n",
      "Epoch 00020: val_loss improved from 0.00170 to 0.00170, saving model to /home/zhimin90/DePaul/CSC695/Github/CSC695-Masters-Research-on-Neural-Network-Time-Series-Attention-Models/Asset/checkpoints/_20200627-101701_model.hdf5\n",
      "88/88 [==============================] - 1s 8ms/sample - loss: 0.0016 - mae: 0.0016 - val_loss: 0.0017 - val_mae: 0.0017\n",
      "Epoch 21/1000\n",
      "63/88 [====================>.........] - ETA: 0s - loss: 0.0016 - mae: 0.0016\n",
      "Epoch 00021: val_loss did not improve from 0.00170\n",
      "88/88 [==============================] - 0s 2ms/sample - loss: 0.0016 - mae: 0.0016 - val_loss: 0.0017 - val_mae: 0.0017\n",
      "Epoch 22/1000\n",
      "63/88 [====================>.........] - ETA: 0s - loss: 0.0016 - mae: 0.0016\n",
      "Epoch 00022: val_loss did not improve from 0.00170\n",
      "88/88 [==============================] - 0s 2ms/sample - loss: 0.0016 - mae: 0.0016 - val_loss: 0.0017 - val_mae: 0.0017\n",
      "Epoch 23/1000\n",
      "63/88 [====================>.........] - ETA: 0s - loss: 0.0016 - mae: 0.0016\n",
      "Epoch 00023: val_loss did not improve from 0.00170\n",
      "88/88 [==============================] - 0s 2ms/sample - loss: 0.0016 - mae: 0.0016 - val_loss: 0.0017 - val_mae: 0.0017\n",
      "Epoch 24/1000\n",
      "63/88 [====================>.........] - ETA: 0s - loss: 0.0016 - mae: 0.0016\n",
      "Epoch 00024: val_loss did not improve from 0.00170\n",
      "88/88 [==============================] - 0s 2ms/sample - loss: 0.0016 - mae: 0.0016 - val_loss: 0.0017 - val_mae: 0.0017\n",
      "Epoch 25/1000\n",
      "63/88 [====================>.........] - ETA: 0s - loss: 0.0016 - mae: 0.0016\n",
      "Epoch 00025: val_loss did not improve from 0.00170\n",
      "88/88 [==============================] - 0s 2ms/sample - loss: 0.0016 - mae: 0.0016 - val_loss: 0.0017 - val_mae: 0.0017\n",
      "Epoch 26/1000\n",
      "63/88 [====================>.........] - ETA: 0s - loss: 0.0016 - mae: 0.0016\n",
      "Epoch 00026: val_loss did not improve from 0.00170\n",
      "88/88 [==============================] - 0s 2ms/sample - loss: 0.0016 - mae: 0.0016 - val_loss: 0.0017 - val_mae: 0.0017\n"
     ]
    },
    {
     "name": "stdout",
     "output_type": "stream",
     "text": [
      "Epoch 27/1000\n",
      "63/88 [====================>.........] - ETA: 0s - loss: 0.0016 - mae: 0.0016\n",
      "Epoch 00027: val_loss did not improve from 0.00170\n",
      "88/88 [==============================] - 0s 2ms/sample - loss: 0.0016 - mae: 0.0016 - val_loss: 0.0017 - val_mae: 0.0017\n",
      "Epoch 28/1000\n",
      "63/88 [====================>.........] - ETA: 0s - loss: 0.0016 - mae: 0.0016\n",
      "Epoch 00028: val_loss did not improve from 0.00170\n",
      "88/88 [==============================] - 0s 2ms/sample - loss: 0.0016 - mae: 0.0016 - val_loss: 0.0017 - val_mae: 0.0017\n",
      "Epoch 29/1000\n",
      "63/88 [====================>.........] - ETA: 0s - loss: 0.0016 - mae: 0.0016\n",
      "Epoch 00029: val_loss did not improve from 0.00170\n",
      "88/88 [==============================] - 0s 2ms/sample - loss: 0.0016 - mae: 0.0016 - val_loss: 0.0017 - val_mae: 0.0017\n",
      "Epoch 30/1000\n",
      "63/88 [====================>.........] - ETA: 0s - loss: 0.0016 - mae: 0.0016\n",
      "Epoch 00030: val_loss did not improve from 0.00170\n",
      "88/88 [==============================] - 0s 2ms/sample - loss: 0.0016 - mae: 0.0016 - val_loss: 0.0017 - val_mae: 0.0017\n",
      "Epoch 31/1000\n",
      "63/88 [====================>.........] - ETA: 0s - loss: 0.0016 - mae: 0.0016\n",
      "Epoch 00031: val_loss did not improve from 0.00170\n",
      "88/88 [==============================] - 0s 2ms/sample - loss: 0.0016 - mae: 0.0016 - val_loss: 0.0017 - val_mae: 0.0017\n",
      "Epoch 32/1000\n",
      "63/88 [====================>.........] - ETA: 0s - loss: 0.0016 - mae: 0.0016\n",
      "Epoch 00032: val_loss did not improve from 0.00170\n",
      "88/88 [==============================] - 0s 2ms/sample - loss: 0.0016 - mae: 0.0016 - val_loss: 0.0017 - val_mae: 0.0017\n",
      "Epoch 33/1000\n",
      "63/88 [====================>.........] - ETA: 0s - loss: 0.0016 - mae: 0.0016\n",
      "Epoch 00033: val_loss did not improve from 0.00170\n",
      "88/88 [==============================] - 0s 3ms/sample - loss: 0.0016 - mae: 0.0016 - val_loss: 0.0017 - val_mae: 0.0017\n",
      "Epoch 34/1000\n",
      "63/88 [====================>.........] - ETA: 0s - loss: 0.0016 - mae: 0.0016\n",
      "Epoch 00034: val_loss did not improve from 0.00170\n",
      "88/88 [==============================] - 0s 2ms/sample - loss: 0.0016 - mae: 0.0016 - val_loss: 0.0017 - val_mae: 0.0017\n",
      "Epoch 35/1000\n",
      "63/88 [====================>.........] - ETA: 0s - loss: 0.0016 - mae: 0.0016\n",
      "Epoch 00035: val_loss did not improve from 0.00170\n",
      "88/88 [==============================] - 0s 2ms/sample - loss: 0.0016 - mae: 0.0016 - val_loss: 0.0017 - val_mae: 0.0017\n",
      "Epoch 36/1000\n",
      "63/88 [====================>.........] - ETA: 0s - loss: 0.0016 - mae: 0.0016\n",
      "Epoch 00036: val_loss did not improve from 0.00170\n",
      "88/88 [==============================] - 0s 2ms/sample - loss: 0.0016 - mae: 0.0016 - val_loss: 0.0017 - val_mae: 0.0017\n",
      "Epoch 37/1000\n",
      "63/88 [====================>.........] - ETA: 0s - loss: 0.0016 - mae: 0.0016\n",
      "Epoch 00037: val_loss did not improve from 0.00170\n",
      "88/88 [==============================] - 0s 2ms/sample - loss: 0.0016 - mae: 0.0016 - val_loss: 0.0017 - val_mae: 0.0017\n",
      "Epoch 38/1000\n",
      "63/88 [====================>.........] - ETA: 0s - loss: 0.0016 - mae: 0.0016\n",
      "Epoch 00038: val_loss did not improve from 0.00170\n",
      "88/88 [==============================] - 0s 2ms/sample - loss: 0.0016 - mae: 0.0016 - val_loss: 0.0017 - val_mae: 0.0017\n",
      "Epoch 39/1000\n",
      "63/88 [====================>.........] - ETA: 0s - loss: 0.0016 - mae: 0.0016\n",
      "Epoch 00039: val_loss did not improve from 0.00170\n",
      "88/88 [==============================] - 0s 2ms/sample - loss: 0.0016 - mae: 0.0016 - val_loss: 0.0017 - val_mae: 0.0017\n",
      "Epoch 40/1000\n",
      "63/88 [====================>.........] - ETA: 0s - loss: 0.0016 - mae: 0.0016\n",
      "Epoch 00040: val_loss did not improve from 0.00170\n",
      "88/88 [==============================] - 0s 3ms/sample - loss: 0.0016 - mae: 0.0016 - val_loss: 0.0017 - val_mae: 0.0017\n",
      "Epoch 41/1000\n",
      "63/88 [====================>.........] - ETA: 0s - loss: 0.0016 - mae: 0.0016\n",
      "Epoch 00041: val_loss did not improve from 0.00170\n",
      "88/88 [==============================] - 0s 2ms/sample - loss: 0.0016 - mae: 0.0016 - val_loss: 0.0017 - val_mae: 0.0017\n",
      "Epoch 42/1000\n",
      "63/88 [====================>.........] - ETA: 0s - loss: 0.0016 - mae: 0.0016\n",
      "Epoch 00042: val_loss did not improve from 0.00170\n",
      "88/88 [==============================] - 0s 2ms/sample - loss: 0.0016 - mae: 0.0016 - val_loss: 0.0017 - val_mae: 0.0017\n",
      "Epoch 43/1000\n",
      "63/88 [====================>.........] - ETA: 0s - loss: 0.0016 - mae: 0.0016\n",
      "Epoch 00043: val_loss did not improve from 0.00170\n",
      "88/88 [==============================] - 0s 2ms/sample - loss: 0.0016 - mae: 0.0016 - val_loss: 0.0017 - val_mae: 0.0017\n",
      "Epoch 44/1000\n",
      "63/88 [====================>.........] - ETA: 0s - loss: 0.0016 - mae: 0.0016\n",
      "Epoch 00044: val_loss did not improve from 0.00170\n",
      "88/88 [==============================] - 0s 2ms/sample - loss: 0.0016 - mae: 0.0016 - val_loss: 0.0017 - val_mae: 0.0017\n",
      "Epoch 45/1000\n",
      "63/88 [====================>.........] - ETA: 0s - loss: 0.0016 - mae: 0.0016\n",
      "Epoch 00045: val_loss did not improve from 0.00170\n",
      "88/88 [==============================] - 0s 2ms/sample - loss: 0.0016 - mae: 0.0016 - val_loss: 0.0017 - val_mae: 0.0017\n",
      "Epoch 46/1000\n",
      "63/88 [====================>.........] - ETA: 0s - loss: 0.0016 - mae: 0.0016\n",
      "Epoch 00046: val_loss did not improve from 0.00170\n",
      "88/88 [==============================] - 0s 2ms/sample - loss: 0.0016 - mae: 0.0016 - val_loss: 0.0017 - val_mae: 0.0017\n",
      "Epoch 47/1000\n",
      "63/88 [====================>.........] - ETA: 0s - loss: 0.0016 - mae: 0.0016\n",
      "Epoch 00047: val_loss did not improve from 0.00170\n",
      "88/88 [==============================] - 0s 2ms/sample - loss: 0.0016 - mae: 0.0016 - val_loss: 0.0017 - val_mae: 0.0017\n",
      "Epoch 48/1000\n",
      "63/88 [====================>.........] - ETA: 0s - loss: 0.0016 - mae: 0.0016\n",
      "Epoch 00048: val_loss did not improve from 0.00170\n",
      "88/88 [==============================] - 0s 2ms/sample - loss: 0.0016 - mae: 0.0016 - val_loss: 0.0017 - val_mae: 0.0017\n",
      "Epoch 49/1000\n",
      "63/88 [====================>.........] - ETA: 0s - loss: 0.0016 - mae: 0.0016\n",
      "Epoch 00049: val_loss did not improve from 0.00170\n",
      "88/88 [==============================] - 0s 2ms/sample - loss: 0.0016 - mae: 0.0016 - val_loss: 0.0017 - val_mae: 0.0017\n",
      "Epoch 50/1000\n",
      "63/88 [====================>.........] - ETA: 0s - loss: 0.0016 - mae: 0.0016\n",
      "Epoch 00050: val_loss did not improve from 0.00170\n",
      "88/88 [==============================] - 0s 2ms/sample - loss: 0.0016 - mae: 0.0016 - val_loss: 0.0017 - val_mae: 0.0017\n",
      "Epoch 51/1000\n",
      "63/88 [====================>.........] - ETA: 0s - loss: 0.0016 - mae: 0.0016\n",
      "Epoch 00051: val_loss did not improve from 0.00170\n",
      "88/88 [==============================] - 0s 2ms/sample - loss: 0.0016 - mae: 0.0016 - val_loss: 0.0017 - val_mae: 0.0017\n",
      "Epoch 52/1000\n",
      "63/88 [====================>.........] - ETA: 0s - loss: 0.0016 - mae: 0.0016\n",
      "Epoch 00052: val_loss did not improve from 0.00170\n",
      "88/88 [==============================] - 0s 2ms/sample - loss: 0.0016 - mae: 0.0016 - val_loss: 0.0017 - val_mae: 0.0017\n",
      "Epoch 53/1000\n",
      "63/88 [====================>.........] - ETA: 0s - loss: 0.0016 - mae: 0.0016\n",
      "Epoch 00053: val_loss did not improve from 0.00170\n",
      "88/88 [==============================] - 0s 2ms/sample - loss: 0.0016 - mae: 0.0016 - val_loss: 0.0017 - val_mae: 0.0017\n",
      "Epoch 54/1000\n",
      "63/88 [====================>.........] - ETA: 0s - loss: 0.0016 - mae: 0.0016\n",
      "Epoch 00054: val_loss did not improve from 0.00170\n",
      "88/88 [==============================] - 0s 2ms/sample - loss: 0.0016 - mae: 0.0016 - val_loss: 0.0017 - val_mae: 0.0017\n",
      "Epoch 55/1000\n",
      "63/88 [====================>.........] - ETA: 0s - loss: 0.0016 - mae: 0.0016\n",
      "Epoch 00055: val_loss did not improve from 0.00170\n",
      "88/88 [==============================] - 0s 2ms/sample - loss: 0.0016 - mae: 0.0016 - val_loss: 0.0017 - val_mae: 0.0017\n",
      "Epoch 56/1000\n",
      "63/88 [====================>.........] - ETA: 0s - loss: 0.0016 - mae: 0.0016\n",
      "Epoch 00056: val_loss did not improve from 0.00170\n",
      "88/88 [==============================] - 0s 2ms/sample - loss: 0.0016 - mae: 0.0016 - val_loss: 0.0017 - val_mae: 0.0017\n",
      "Epoch 57/1000\n",
      "63/88 [====================>.........] - ETA: 0s - loss: 0.0016 - mae: 0.0016\n",
      "Epoch 00057: val_loss did not improve from 0.00170\n",
      "88/88 [==============================] - 0s 2ms/sample - loss: 0.0016 - mae: 0.0016 - val_loss: 0.0017 - val_mae: 0.0017\n",
      "Epoch 58/1000\n"
     ]
    },
    {
     "name": "stdout",
     "output_type": "stream",
     "text": [
      "63/88 [====================>.........] - ETA: 0s - loss: 0.0016 - mae: 0.0016\n",
      "Epoch 00058: val_loss did not improve from 0.00170\n",
      "88/88 [==============================] - 0s 2ms/sample - loss: 0.0016 - mae: 0.0016 - val_loss: 0.0017 - val_mae: 0.0017\n",
      "Epoch 59/1000\n",
      "63/88 [====================>.........] - ETA: 0s - loss: 0.0016 - mae: 0.0016\n",
      "Epoch 00059: val_loss did not improve from 0.00170\n",
      "88/88 [==============================] - 0s 2ms/sample - loss: 0.0016 - mae: 0.0016 - val_loss: 0.0017 - val_mae: 0.0017\n",
      "Epoch 60/1000\n",
      "63/88 [====================>.........] - ETA: 0s - loss: 0.0016 - mae: 0.0016\n",
      "Epoch 00060: val_loss did not improve from 0.00170\n",
      "88/88 [==============================] - 0s 2ms/sample - loss: 0.0016 - mae: 0.0016 - val_loss: 0.0017 - val_mae: 0.0017\n",
      "Epoch 61/1000\n",
      "63/88 [====================>.........] - ETA: 0s - loss: 0.0016 - mae: 0.0016\n",
      "Epoch 00061: val_loss did not improve from 0.00170\n",
      "88/88 [==============================] - 0s 2ms/sample - loss: 0.0016 - mae: 0.0016 - val_loss: 0.0017 - val_mae: 0.0017\n",
      "Epoch 62/1000\n",
      "63/88 [====================>.........] - ETA: 0s - loss: 0.0016 - mae: 0.0016\n",
      "Epoch 00062: val_loss did not improve from 0.00170\n",
      "88/88 [==============================] - 0s 2ms/sample - loss: 0.0016 - mae: 0.0016 - val_loss: 0.0017 - val_mae: 0.0017\n",
      "Epoch 63/1000\n",
      "63/88 [====================>.........] - ETA: 0s - loss: 0.0016 - mae: 0.0016\n",
      "Epoch 00063: val_loss did not improve from 0.00170\n",
      "88/88 [==============================] - 0s 2ms/sample - loss: 0.0016 - mae: 0.0016 - val_loss: 0.0017 - val_mae: 0.0017\n",
      "Epoch 64/1000\n",
      "63/88 [====================>.........] - ETA: 0s - loss: 0.0016 - mae: 0.0016\n",
      "Epoch 00064: val_loss did not improve from 0.00170\n",
      "88/88 [==============================] - 0s 2ms/sample - loss: 0.0016 - mae: 0.0016 - val_loss: 0.0017 - val_mae: 0.0017\n",
      "Epoch 65/1000\n",
      "63/88 [====================>.........] - ETA: 0s - loss: 0.0016 - mae: 0.0016\n",
      "Epoch 00065: val_loss did not improve from 0.00170\n",
      "88/88 [==============================] - 0s 2ms/sample - loss: 0.0016 - mae: 0.0016 - val_loss: 0.0017 - val_mae: 0.0017\n",
      "Epoch 66/1000\n",
      "63/88 [====================>.........] - ETA: 0s - loss: 0.0016 - mae: 0.0016\n",
      "Epoch 00066: val_loss did not improve from 0.00170\n",
      "88/88 [==============================] - 0s 2ms/sample - loss: 0.0016 - mae: 0.0016 - val_loss: 0.0017 - val_mae: 0.0017\n",
      "Epoch 67/1000\n",
      "63/88 [====================>.........] - ETA: 0s - loss: 0.0016 - mae: 0.0016\n",
      "Epoch 00067: val_loss did not improve from 0.00170\n",
      "88/88 [==============================] - 0s 2ms/sample - loss: 0.0016 - mae: 0.0016 - val_loss: 0.0017 - val_mae: 0.0017\n",
      "Epoch 68/1000\n",
      "63/88 [====================>.........] - ETA: 0s - loss: 0.0016 - mae: 0.0016\n",
      "Epoch 00068: val_loss did not improve from 0.00170\n",
      "88/88 [==============================] - 0s 2ms/sample - loss: 0.0016 - mae: 0.0016 - val_loss: 0.0017 - val_mae: 0.0017\n",
      "Epoch 69/1000\n",
      "63/88 [====================>.........] - ETA: 0s - loss: 0.0016 - mae: 0.0016\n",
      "Epoch 00069: val_loss did not improve from 0.00170\n",
      "88/88 [==============================] - 0s 2ms/sample - loss: 0.0016 - mae: 0.0016 - val_loss: 0.0017 - val_mae: 0.0017\n",
      "Epoch 70/1000\n",
      "63/88 [====================>.........] - ETA: 0s - loss: 0.0016 - mae: 0.0016Restoring model weights from the end of the best epoch.\n",
      "\n",
      "Epoch 00070: val_loss did not improve from 0.00170\n",
      "88/88 [==============================] - 0s 3ms/sample - loss: 0.0016 - mae: 0.0016 - val_loss: 0.0017 - val_mae: 0.0017\n",
      "Epoch 00070: early stopping\n",
      "28/28 - 0s - loss: 0.0017 - mae: 0.0017\n",
      "valid_accuracy_MAE=0.0016982888, valid_loss=0.0016982888337224722\n"
     ]
    }
   ],
   "source": [
    "EPOCHS = 5\n",
    "\n",
    "earlystop_callback = tf.keras.callbacks.EarlyStopping(monitor=\"val_loss\",\n",
    "    min_delta=0,\n",
    "    patience=EPOCHS*10,\n",
    "    verbose=1,\n",
    "    mode=\"auto\",\n",
    "    baseline=None,\n",
    "    restore_best_weights=True,)\n",
    "\n",
    "logdir = os.path.join(\"./logs\", datetime.datetime.now().strftime(\"%Y%m%d-%H%M%S\"))\n",
    "tensorboard_cbk = tf.keras.callbacks.TensorBoard(log_dir=logdir)\n",
    "\n",
    "modelfilename = checkpoint_filepath + '_'+\\\n",
    "                    datetime.datetime.now().strftime(\"%Y%m%d-%H%M%S\")\\\n",
    "                    + \"_model.hdf5\"\n",
    "\n",
    "model_checkpoint_callback = tf.keras.callbacks.ModelCheckpoint(\n",
    "    modelfilename,\n",
    "    save_weights_only=False,\n",
    "    monitor='val_loss',#'val_accuracy',\n",
    "    mode='min',\n",
    "    verbose=1,\n",
    "    period = 1,\n",
    "    save_best_only=True)\n",
    "\n",
    "\n",
    "\n",
    "model_history = model.fit(X_train,Y_train, \n",
    "                             validation_data=(X_valid, Y_valid),\n",
    "                             epochs=1000, \n",
    "                             batch_size=7, \n",
    "                             callbacks=[tensorboard_cbk,\n",
    "                             #hp.KerasCallback(logdir, hparams),\n",
    "                             earlystop_callback,\n",
    "                             model_checkpoint_callback\n",
    "                                       ]\n",
    "                                   )\n",
    "valid_loss, valid_acc = model.evaluate(X_valid, Y_valid, verbose=2) # 5/2020 nt: use validation set\n",
    "print (\"valid_accuracy_MAE=%s, valid_loss=%s\" % (valid_acc, valid_loss))"
   ]
  },
  {
   "cell_type": "markdown",
   "metadata": {},
   "source": [
    "#### Adam Optimize:"
   ]
  },
  {
   "cell_type": "markdown",
   "metadata": {},
   "source": [
    "### Best flatten() + fully connected Dense is at  MAE of 0.001698"
   ]
  },
  {
   "cell_type": "markdown",
   "metadata": {},
   "source": [
    "### Best flatten() + LSTM(100) is at  MAE of 0.001731"
   ]
  },
  {
   "cell_type": "markdown",
   "metadata": {},
   "source": [
    "### Best 2D CNN + LSTM(50) is at MAE of 0.001724"
   ]
  },
  {
   "cell_type": "markdown",
   "metadata": {},
   "source": [
    "### Best 2D CNN + LSTM(100) + Attention on LSTM recurrences is at  MAE of 0.0016917"
   ]
  },
  {
   "cell_type": "markdown",
   "metadata": {},
   "source": [
    "### Best flatten() + LSTM(100) + Attention on LSTM recurrences is at  MAE of 0.001692"
   ]
  },
  {
   "cell_type": "markdown",
   "metadata": {},
   "source": [
    "### Best flatten() + 2x Attention Heads on  TimeDistributed is at MAE of 0.0016914"
   ]
  },
  {
   "cell_type": "code",
   "execution_count": null,
   "metadata": {},
   "outputs": [],
   "source": [
    "# Load the TensorBoard notebook extension\n",
    "%load_ext tensorboard\n",
    "logs_base_dir = \"./logs\"\n",
    "os.makedirs(logs_base_dir, exist_ok=True)\n",
    "%tensorboard --logdir {logs_base_dir}"
   ]
  },
  {
   "cell_type": "code",
   "execution_count": 43,
   "metadata": {},
   "outputs": [],
   "source": [
    "Predict = model.predict(X_valid)"
   ]
  },
  {
   "cell_type": "code",
   "execution_count": 44,
   "metadata": {},
   "outputs": [
    {
     "data": {
      "text/plain": [
       "(28, 10000)"
      ]
     },
     "execution_count": 44,
     "metadata": {},
     "output_type": "execute_result"
    }
   ],
   "source": [
    "Predict.shape"
   ]
  },
  {
   "cell_type": "code",
   "execution_count": 45,
   "metadata": {},
   "outputs": [
    {
     "data": {
      "text/plain": [
       "(100, 100)"
      ]
     },
     "execution_count": 45,
     "metadata": {},
     "output_type": "execute_result"
    }
   ],
   "source": [
    "int(Predict[-1].shape[0]**(1/2)),int(Predict[-1].shape[0]**(1/2))"
   ]
  },
  {
   "cell_type": "code",
   "execution_count": 46,
   "metadata": {},
   "outputs": [],
   "source": [
    "def reshapePred(Predict, fromLast=1):\n",
    "    return np.rot90(Predict[-1*fromLast].reshape(int(Predict[-1*fromLast].shape[0]**(1/2)),int(Predict[-1*fromLast].shape[0]**(1/2))))"
   ]
  },
  {
   "cell_type": "code",
   "execution_count": 79,
   "metadata": {},
   "outputs": [
    {
     "data": {
      "text/plain": [
       "<matplotlib.image.AxesImage at 0x7fe35c77c310>"
      ]
     },
     "execution_count": 79,
     "metadata": {},
     "output_type": "execute_result"
    },
    {
     "data": {
      "image/png": "[encoded data removed]",
      "text/plain": [
       "<Figure size 1296x1008 with 1 Axes>"
      ]
     },
     "metadata": {
      "needs_background": "light"
     },
     "output_type": "display_data"
    }
   ],
   "source": [
    "import matplotlib.pyplot as plt\n",
    "grid_size = 500\n",
    "density_matrix_t_series = []\n",
    "# Define the borders\n",
    "x = [-87.9361,-87.5245]\n",
    "y = [41.6447,42.023]\n",
    "deltaX = (max(x) - min(x))/10\n",
    "deltaY = (max(y) - min(y))/10\n",
    "xmin = min(x) - deltaX\n",
    "xmax = max(x) + deltaX\n",
    "ymin = min(y) - deltaY\n",
    "ymax = max(y) + deltaY\n",
    "plt.figure(figsize=(18, 14))\n",
    "plt.title('Predicted')\n",
    "plt.imshow( X=reshapePred(Predict,1), cmap=plt.cm.twilight, extent=[xmin, xmax, ymin, ymax])"
   ]
  },
  {
   "cell_type": "code",
   "execution_count": 80,
   "metadata": {},
   "outputs": [
    {
     "data": {
      "text/plain": [
       "<matplotlib.image.AxesImage at 0x7fe5d4522d90>"
      ]
     },
     "execution_count": 80,
     "metadata": {},
     "output_type": "execute_result"
    },
    {
     "data": {
      "image/png": "[encoded data removed]",
      "text/plain": [
       "<Figure size 1296x1008 with 1 Axes>"
      ]
     },
     "metadata": {
      "needs_background": "light"
     },
     "output_type": "display_data"
    }
   ],
   "source": [
    "plt.figure(figsize=(18, 14))\n",
    "plt.title('Actual')\n",
    "plt.imshow( X=reshapePred(Y_valid,1), cmap=plt.cm.twilight, extent=[xmin, xmax, ymin, ymax])"
   ]
  },
  {
   "cell_type": "markdown",
   "metadata": {},
   "source": [
    "#### We plot the difference between prediction and target"
   ]
  },
  {
   "cell_type": "code",
   "execution_count": 81,
   "metadata": {},
   "outputs": [
    {
     "data": {
      "text/plain": [
       "(100, 100)"
      ]
     },
     "execution_count": 81,
     "metadata": {},
     "output_type": "execute_result"
    }
   ],
   "source": [
    "diff = (reshapePred(Y_valid,3)-reshapePred(Predict,3))\n",
    "diff.shape"
   ]
  },
  {
   "cell_type": "code",
   "execution_count": 82,
   "metadata": {},
   "outputs": [],
   "source": [
    "diff_max = np.max(diff)\n",
    "diff_min = np.min(diff)\n",
    "scaled_diff = (diff - diff_min)/(diff_max - diff_min)"
   ]
  },
  {
   "cell_type": "code",
   "execution_count": 83,
   "metadata": {},
   "outputs": [
    {
     "data": {
      "text/plain": [
       "1.0"
      ]
     },
     "execution_count": 83,
     "metadata": {},
     "output_type": "execute_result"
    }
   ],
   "source": [
    "np.max(scaled_diff)"
   ]
  },
  {
   "cell_type": "code",
   "execution_count": 84,
   "metadata": {},
   "outputs": [
    {
     "data": {
      "text/plain": [
       "array([[-7.58956958e-07,  7.58956958e-07,  7.58956958e-07, ...,\n",
       "         7.58956958e-07,  7.58956958e-07, -3.56662395e-06],\n",
       "       [-7.58956958e-07,  7.58956958e-07, -7.58956958e-07, ...,\n",
       "        -7.58956958e-07,  7.58956958e-07, -7.58956958e-07],\n",
       "       [ 3.13577948e-05,  3.56663850e-06,  7.58956958e-07, ...,\n",
       "         7.58956958e-07,  7.58956958e-07, -7.58956958e-07],\n",
       "       ...,\n",
       "       [ 7.58956958e-07,  7.58956958e-07,  3.56663850e-06, ...,\n",
       "        -3.13577948e-05,  7.58956958e-07, -7.58956958e-07],\n",
       "       [ 7.58956958e-07, -7.58956958e-07, -1.20610002e-05, ...,\n",
       "         7.58956958e-07, -7.58956958e-07, -7.58956958e-07],\n",
       "       [ 1.20610002e-05,  7.58956958e-07,  7.58956958e-07, ...,\n",
       "         7.58956958e-07, -7.58956958e-07, -7.58956958e-07]])"
      ]
     },
     "execution_count": 84,
     "metadata": {},
     "output_type": "execute_result"
    }
   ],
   "source": [
    "diff"
   ]
  },
  {
   "cell_type": "code",
   "execution_count": 85,
   "metadata": {},
   "outputs": [
    {
     "data": {
      "text/plain": [
       "<matplotlib.image.AxesImage at 0x7fe60c0a4f50>"
      ]
     },
     "execution_count": 85,
     "metadata": {},
     "output_type": "execute_result"
    },
    {
     "data": {
      "image/png": "[encoded data removed]",
      "text/plain": [
       "<Figure size 1296x1008 with 1 Axes>"
      ]
     },
     "metadata": {
      "needs_background": "light"
     },
     "output_type": "display_data"
    }
   ],
   "source": [
    "plt.figure(figsize=(18, 14))\n",
    "plt.title('Actual')\n",
    "plt.imshow( X=scaled_diff, cmap=plt.cm.twilight, extent=[xmin, xmax, ymin, ymax])"
   ]
  },
  {
   "cell_type": "markdown",
   "metadata": {},
   "source": [
    "#### Note the differences is scaled, red means extreme differences inplot above. Interestingly we see the extreme differences is at the highest crime areas."
   ]
  },
  {
   "cell_type": "code",
   "execution_count": null,
   "metadata": {},
   "outputs": [],
   "source": []
  },
  {
   "cell_type": "code",
   "execution_count": null,
   "metadata": {},
   "outputs": [],
   "source": []
  }
 ],
 "metadata": {
  "kernelspec": {
   "display_name": "Python [conda env:venv]",
   "language": "python",
   "name": "conda-env-venv-py"
  },
  "language_info": {
   "codemirror_mode": {
    "name": "ipython",
    "version": 3
   },
   "file_extension": ".py",
   "mimetype": "text/x-python",
   "name": "python",
   "nbconvert_exporter": "python",
   "pygments_lexer": "ipython3",
   "version": "3.7.6"
  }
 },
 "nbformat": 4,
 "nbformat_minor": 4
}
