{
 "cells": [
  {
   "cell_type": "code",
   "execution_count": 1,
   "metadata": {},
   "outputs": [],
   "source": [
    "import pickle\n",
    "import numpy as np\n",
    "import pandas as pd\n",
    "import matplotlib.pyplot as plt"
   ]
  },
  {
   "cell_type": "code",
   "execution_count": 2,
   "metadata": {},
   "outputs": [],
   "source": [
    "Asset_PATH = \"/home/zhimin90/DePaul/CSC695/Github/CSC695-Masters-Research-on-Neural-Network-Time-Series-Attention-Models/Asset/\""
   ]
  },
  {
   "cell_type": "markdown",
   "metadata": {},
   "source": [
    "#### Load Gaussian KDE timeseries"
   ]
  },
  {
   "cell_type": "code",
   "execution_count": 3,
   "metadata": {},
   "outputs": [],
   "source": [
    "density_matrix_t_series = pickle.load(open(Asset_PATH  + 'density_matrix_t_series_100x100.pickle', 'rb'))"
   ]
  },
  {
   "cell_type": "code",
   "execution_count": 4,
   "metadata": {},
   "outputs": [
    {
     "data": {
      "text/plain": [
       "(198, 100, 100)"
      ]
     },
     "execution_count": 4,
     "metadata": {},
     "output_type": "execute_result"
    }
   ],
   "source": [
    "density_matrix_t_series.shape"
   ]
  },
  {
   "cell_type": "code",
   "execution_count": 5,
   "metadata": {},
   "outputs": [
    {
     "name": "stdout",
     "output_type": "stream",
     "text": [
      "2019.7794007598727\n",
      "-2.393156546274511e-13\n"
     ]
    }
   ],
   "source": [
    "print(np.max(density_matrix_t_series))\n",
    "print(np.min(density_matrix_t_series))"
   ]
  },
  {
   "cell_type": "code",
   "execution_count": 6,
   "metadata": {},
   "outputs": [
    {
     "data": {
      "text/plain": [
       "198"
      ]
     },
     "execution_count": 6,
     "metadata": {},
     "output_type": "execute_result"
    }
   ],
   "source": [
    "density_matrix_t_series.shape[0]"
   ]
  },
  {
   "cell_type": "code",
   "execution_count": 7,
   "metadata": {},
   "outputs": [],
   "source": [
    "timesteps = 52"
   ]
  },
  {
   "cell_type": "code",
   "execution_count": 8,
   "metadata": {},
   "outputs": [],
   "source": [
    "train, valid = (60,20)\n",
    "test = 20\n",
    "\n",
    "total_len = density_matrix_t_series.shape[0] - timesteps\n",
    "train_index = range(0,int(train/100*total_len))\n",
    "\n",
    "valid_index = range(train_index[-1]+1,train_index[-1] + int(valid/100*total_len))\n",
    "test_index = range(valid_index[-1]+1,valid_index[-1] + int(test/100*total_len))"
   ]
  },
  {
   "cell_type": "code",
   "execution_count": 9,
   "metadata": {},
   "outputs": [
    {
     "data": {
      "text/plain": [
       "(198, 10000)"
      ]
     },
     "execution_count": 9,
     "metadata": {},
     "output_type": "execute_result"
    }
   ],
   "source": [
    "flattened_matrix_np = np.reshape(density_matrix_t_series, \n",
    "                                 (density_matrix_t_series.shape[0],\n",
    "                                  density_matrix_t_series.shape[1]*density_matrix_t_series.shape[2]))\n",
    "flattened_matrix_np.shape"
   ]
  },
  {
   "cell_type": "code",
   "execution_count": 10,
   "metadata": {},
   "outputs": [
    {
     "data": {
      "text/plain": [
       "1935.6194220503628"
      ]
     },
     "execution_count": 10,
     "metadata": {},
     "output_type": "execute_result"
    }
   ],
   "source": [
    "np.max(flattened_matrix_np[train_index])"
   ]
  },
  {
   "cell_type": "code",
   "execution_count": 11,
   "metadata": {},
   "outputs": [],
   "source": [
    "scaler_max = np.max(flattened_matrix_np[train_index])\n",
    "scaler_min = np.min(flattened_matrix_np[train_index])\n",
    "\n",
    "X_train = (flattened_matrix_np[train_index] - scaler_min)/(scaler_max - scaler_min)\n"
   ]
  },
  {
   "cell_type": "code",
   "execution_count": 12,
   "metadata": {},
   "outputs": [
    {
     "data": {
      "text/plain": [
       "(87, 1, 10000)"
      ]
     },
     "execution_count": 12,
     "metadata": {},
     "output_type": "execute_result"
    }
   ],
   "source": [
    "X_train = X_train.reshape(X_train.shape[0],\n",
    "                          1,    \n",
    "                          X_train.shape[1])\n",
    "X_train.shape"
   ]
  },
  {
   "cell_type": "code",
   "execution_count": 13,
   "metadata": {},
   "outputs": [
    {
     "data": {
      "text/plain": [
       "(87, 1, 100, 100, 1)"
      ]
     },
     "execution_count": 13,
     "metadata": {},
     "output_type": "execute_result"
    }
   ],
   "source": [
    "X_train = X_train.reshape(X_train.shape[0],X_train.shape[1],int(X_train.shape[2]**(1/2)),int(X_train.shape[2]**(1/2)),1)\n",
    "X_train.shape"
   ]
  },
  {
   "cell_type": "code",
   "execution_count": 14,
   "metadata": {},
   "outputs": [
    {
     "name": "stdout",
     "output_type": "stream",
     "text": [
      "1.0\n",
      "0.0\n"
     ]
    }
   ],
   "source": [
    "print(np.max(X_train))\n",
    "print(np.min(X_train))"
   ]
  },
  {
   "cell_type": "markdown",
   "metadata": {},
   "source": [
    "#### We transform the whole train, valid, test based on scaler fitted on train"
   ]
  },
  {
   "cell_type": "code",
   "execution_count": 15,
   "metadata": {
    "scrolled": true
   },
   "outputs": [
    {
     "data": {
      "text/plain": [
       "2019.7794007598727"
      ]
     },
     "execution_count": 15,
     "metadata": {},
     "output_type": "execute_result"
    }
   ],
   "source": [
    "np.max(flattened_matrix_np)"
   ]
  },
  {
   "cell_type": "code",
   "execution_count": 16,
   "metadata": {},
   "outputs": [
    {
     "data": {
      "text/plain": [
       "dtype('float64')"
      ]
     },
     "execution_count": 16,
     "metadata": {},
     "output_type": "execute_result"
    }
   ],
   "source": [
    "flattened_matrix_np.dtype"
   ]
  },
  {
   "cell_type": "code",
   "execution_count": 17,
   "metadata": {},
   "outputs": [],
   "source": [
    "scaled_flattened_matrix = (flattened_matrix_np - scaler_min)/(scaler_max - scaler_min)"
   ]
  },
  {
   "cell_type": "code",
   "execution_count": 18,
   "metadata": {},
   "outputs": [
    {
     "data": {
      "text/plain": [
       "(198, 10000)"
      ]
     },
     "execution_count": 18,
     "metadata": {},
     "output_type": "execute_result"
    }
   ],
   "source": [
    "flattened_matrix_np.shape"
   ]
  },
  {
   "cell_type": "code",
   "execution_count": 19,
   "metadata": {},
   "outputs": [
    {
     "data": {
      "text/plain": [
       "(198, 10000)"
      ]
     },
     "execution_count": 19,
     "metadata": {},
     "output_type": "execute_result"
    }
   ],
   "source": [
    "scaled_flattened_matrix.shape"
   ]
  },
  {
   "cell_type": "code",
   "execution_count": 20,
   "metadata": {},
   "outputs": [
    {
     "name": "stdout",
     "output_type": "stream",
     "text": [
      "1.0434796105839654\n",
      "-3.2227207716804404e-17\n"
     ]
    }
   ],
   "source": [
    "print(np.max(scaled_flattened_matrix))\n",
    "print(np.min(scaled_flattened_matrix))"
   ]
  },
  {
   "cell_type": "code",
   "execution_count": 21,
   "metadata": {},
   "outputs": [
    {
     "data": {
      "text/plain": [
       "(198, 10000)"
      ]
     },
     "execution_count": 21,
     "metadata": {},
     "output_type": "execute_result"
    }
   ],
   "source": [
    "scaled_flattened_matrix.shape"
   ]
  },
  {
   "cell_type": "code",
   "execution_count": 22,
   "metadata": {},
   "outputs": [],
   "source": [
    "def window_stack(a, stepsize=1, width=52):\n",
    "    n = a.shape[0]\n",
    "    return np.hstack( a[i:1+n+i-width:stepsize] for i in range(0,width) )"
   ]
  },
  {
   "cell_type": "code",
   "execution_count": 23,
   "metadata": {},
   "outputs": [
    {
     "name": "stderr",
     "output_type": "stream",
     "text": [
      "/home/zhimin90/anaconda3/envs/venv/lib/python3.7/site-packages/ipykernel_launcher.py:3: FutureWarning: arrays to stack must be passed as a \"sequence\" type such as list or tuple. Support for non-sequence iterables such as generators is deprecated as of NumPy 1.16 and will raise an error in the future.\n",
      "  This is separate from the ipykernel package so we can avoid doing imports until\n"
     ]
    }
   ],
   "source": [
    "stacked = window_stack(scaled_flattened_matrix,1,timesteps)"
   ]
  },
  {
   "cell_type": "code",
   "execution_count": 24,
   "metadata": {},
   "outputs": [
    {
     "data": {
      "text/plain": [
       "(147, 520000)"
      ]
     },
     "execution_count": 24,
     "metadata": {},
     "output_type": "execute_result"
    }
   ],
   "source": [
    "stacked.shape"
   ]
  },
  {
   "cell_type": "code",
   "execution_count": 25,
   "metadata": {},
   "outputs": [],
   "source": [
    "reshape_stack = stacked.reshape(stacked.shape[0],timesteps,\n",
    "                                int((stacked.shape[1]/timesteps)**(1/2)),\n",
    "                                int((stacked.shape[1]/timesteps)**(1/2)),1)"
   ]
  },
  {
   "cell_type": "code",
   "execution_count": 26,
   "metadata": {},
   "outputs": [
    {
     "data": {
      "text/plain": [
       "(147, 52, 100, 100, 1)"
      ]
     },
     "execution_count": 26,
     "metadata": {},
     "output_type": "execute_result"
    }
   ],
   "source": [
    "reshape_stack.shape"
   ]
  },
  {
   "cell_type": "markdown",
   "metadata": {},
   "source": [
    "#### We reshape to (sample, timestep, inputshape)"
   ]
  },
  {
   "cell_type": "code",
   "execution_count": 27,
   "metadata": {},
   "outputs": [
    {
     "data": {
      "text/plain": [
       "(147, 52, 100, 100, 1)"
      ]
     },
     "execution_count": 27,
     "metadata": {},
     "output_type": "execute_result"
    }
   ],
   "source": [
    "scaled_flattened_matrix = reshape_stack\n",
    "scaled_flattened_matrix.shape"
   ]
  },
  {
   "cell_type": "code",
   "execution_count": 28,
   "metadata": {},
   "outputs": [],
   "source": [
    "train, valid = (60,20)\n",
    "test = 20\n",
    "\n",
    "total_len = scaled_flattened_matrix.shape[0]\n",
    "train_index = range(0,int(train/100*total_len))\n",
    "\n",
    "valid_index = range(train_index[-1]+1,train_index[-1] + int(valid/100*total_len))\n",
    "test_index = range(valid_index[-1]+1,valid_index[-1] + int(test/100*total_len))"
   ]
  },
  {
   "cell_type": "markdown",
   "metadata": {},
   "source": [
    "#### We set the target to be 7 days aggregated KDE or 1 single frame forward"
   ]
  },
  {
   "cell_type": "code",
   "execution_count": 29,
   "metadata": {},
   "outputs": [],
   "source": [
    "X_train = scaled_flattened_matrix[np.array(train_index)]\n",
    "Y_train = scaled_flattened_matrix[np.array(train_index)+1][:,-1,:]\n",
    "Y_train = Y_train.reshape(Y_train.shape[0],int(Y_train.shape[1]*Y_train.shape[2]*Y_train.shape[3]))"
   ]
  },
  {
   "cell_type": "code",
   "execution_count": 30,
   "metadata": {},
   "outputs": [],
   "source": [
    "X_valid = scaled_flattened_matrix[np.array(valid_index)]\n",
    "Y_valid = scaled_flattened_matrix[np.array(valid_index)+1][:,-1,:]\n",
    "Y_valid = Y_valid.reshape(Y_valid.shape[0],int(Y_valid.shape[1]*Y_valid.shape[2]*Y_valid.shape[3]))"
   ]
  },
  {
   "cell_type": "code",
   "execution_count": 31,
   "metadata": {},
   "outputs": [],
   "source": [
    "X_test = scaled_flattened_matrix[np.array(test_index)]\n",
    "Y_test = scaled_flattened_matrix[np.array(test_index)+1][:,-1,:]\n",
    "Y_test = Y_test.reshape(Y_test.shape[0],int(Y_test.shape[1]*Y_test.shape[2]*Y_test.shape[3]))"
   ]
  },
  {
   "cell_type": "code",
   "execution_count": 32,
   "metadata": {},
   "outputs": [
    {
     "name": "stdout",
     "output_type": "stream",
     "text": [
      "(88, 52, 100, 100, 1)\n",
      "(88, 10000)\n",
      "(28, 52, 100, 100, 1)\n",
      "(28, 10000)\n",
      "(28, 52, 100, 100, 1)\n",
      "(28, 10000)\n"
     ]
    }
   ],
   "source": [
    "print(X_train.shape)\n",
    "print(Y_train.shape)\n",
    "print(X_valid.shape)\n",
    "print(Y_valid.shape)\n",
    "print(X_test.shape)\n",
    "print(Y_test.shape)"
   ]
  },
  {
   "cell_type": "code",
   "execution_count": 33,
   "metadata": {},
   "outputs": [],
   "source": [
    "import os, datetime\n",
    "import tensorflow as tf\n",
    "from tensorflow.keras import optimizers\n",
    "import tensorflow.keras.layers as layers\n",
    "from tensorflow.keras.models import Sequential, Model\n",
    "from tensorflow.keras.layers import Dense, Dropout, LSTM, Bidirectional, GaussianNoise, Flatten\n",
    "from tensorflow.keras.layers import Conv2D, MaxPooling2D, Concatenate, Input, LSTM, GRU, RepeatVector, TimeDistributed\n",
    "from tensorflow.keras.layers import concatenate, Activation, Permute, Multiply, Lambda\n"
   ]
  },
  {
   "cell_type": "code",
   "execution_count": 34,
   "metadata": {},
   "outputs": [
    {
     "name": "stdout",
     "output_type": "stream",
     "text": [
      "/home/zhimin90/DePaul/CSC695/Github/CSC695-Masters-Research-on-Neural-Network-Time-Series-Attention-Models/Asset/checkpoints/\n"
     ]
    }
   ],
   "source": [
    "checkpoint_filepath = Asset_PATH+'checkpoints/'\n",
    "print(checkpoint_filepath)"
   ]
  },
  {
   "cell_type": "markdown",
   "metadata": {},
   "source": [
    "## Flattened Fully Connected Model"
   ]
  },
  {
   "cell_type": "code",
   "execution_count": null,
   "metadata": {},
   "outputs": [],
   "source": [
    "serie_size, time_step, n_features_row, n_features_column, no_channel = X_train.shape\n",
    "\n",
    "lr = .0001\n",
    "loss='mae'\n",
    "METRIC_ACCURACY = 'mae'\n",
    "\n",
    "inputs = Input(shape=(time_step,n_features_row, n_features_column, no_channel))\n",
    "   \n",
    "timeDist = TimeDistributed(Flatten())(inputs)\n",
    "\n",
    "Dense1 = Dense(50, kernel_initializer='glorot_normal', activation='relu')(timeDist)\n",
    "Dense2 = Dense(Y_train.shape[1])(Flatten()(Dense1))\n",
    "outputs = Dense2\n",
    "\n",
    "model = Model(inputs, outputs, name=\"Flattened_Fully_Connected\")\n",
    "model.summary()\n",
    "\n",
    "adam = optimizers.Adam(lr)\n",
    "model.compile(loss='mean_absolute_error',\n",
    "                   metrics=['mae'], \n",
    "                   optimizer=adam)\n"
   ]
  },
  {
   "cell_type": "markdown",
   "metadata": {},
   "source": [
    "## Flattened LSTM Model"
   ]
  },
  {
   "cell_type": "code",
   "execution_count": null,
   "metadata": {},
   "outputs": [],
   "source": [
    "serie_size, time_step, n_features_row, n_features_column, no_channel = X_train.shape\n",
    "\n",
    "lr = .0001\n",
    "loss='mae'\n",
    "METRIC_ACCURACY = 'mae'\n",
    "\n",
    "inputs = Input(shape=(time_step,n_features_row, n_features_column, no_channel))\n",
    "\n",
    "    \n",
    "timeDist = TimeDistributed(Flatten())(inputs)\n",
    "\n",
    "LSTM_layer1 = LSTM(100)(timeDist)\n",
    "Dense1 = Dense(100, kernel_initializer='glorot_normal', activation='relu')(LSTM_layer1)\n",
    "Dense2 = Dense(Y_train.shape[1])(Flatten()(Dense1))\n",
    "outputs = Dense2\n",
    "\n",
    "model = Model(inputs, outputs, name=\"Flattened_LTSM\")\n",
    "model.summary()\n",
    "\n",
    "adam = optimizers.Adam(lr)\n",
    "model.compile(loss='mean_absolute_error',\n",
    "                   metrics=['mae'], \n",
    "                   optimizer=adam)\n",
    "\n"
   ]
  },
  {
   "cell_type": "markdown",
   "metadata": {},
   "source": [
    "## 2D CNN LSTM model"
   ]
  },
  {
   "cell_type": "code",
   "execution_count": null,
   "metadata": {},
   "outputs": [],
   "source": [
    "serie_size, time_step, n_features_row, n_features_column, no_channel = X_train.shape\n",
    "\n",
    "epochs = 100\n",
    "batch = 48\n",
    "lr = .0001\n",
    "loss='mae'\n",
    "METRIC_ACCURACY = 'mae'\n",
    "\n",
    "inputs = Input(shape=(time_step,n_features_row, n_features_column, no_channel))\n",
    "\n",
    "cnn1 = Conv2D(20, (1,1), activation='relu', padding='same')\n",
    "TD = TimeDistributed(cnn1)(inputs)\n",
    "\n",
    "cnn2 = Conv2D(20, (1,1), activation='relu', padding='same')\n",
    "TD2 = TimeDistributed(cnn2)(TD)\n",
    "\n",
    "TD3 = TimeDistributed(\n",
    "        MaxPooling2D(pool_size=(2, 2)))(TD2)\n",
    "    \n",
    "timeDist = TimeDistributed(Flatten())(TD3)\n",
    "\n",
    "cnn4 = Conv2D(20, (1,1), activation='relu', padding='same')\n",
    "TD4 = TimeDistributed(cnn4)(TD3)\n",
    "\n",
    "cnn5 = Conv2D(20, (1,1), activation='relu', padding='same')\n",
    "TD5 = TimeDistributed(cnn5)(TD4)\n",
    "\n",
    "TD6 = TimeDistributed(\n",
    "        MaxPooling2D(pool_size=(2, 2)))(TD5)\n",
    "    \n",
    "timeDist2 = TimeDistributed(Flatten())(TD6)\n",
    "\n",
    "merge = concatenate([timeDist, timeDist2])\n",
    "\n",
    "LSTM_layer1 = LSTM(50)(merge)\n",
    "Dense1 = Dense(100, kernel_initializer='glorot_normal', activation='relu')(LSTM_layer1)\n",
    "Dense2 = Dense(Y_train.shape[1])(Flatten()(Dense1))\n",
    "outputs = Dense2\n",
    "\n",
    "model = Model(inputs, outputs, name=\"2DCNN_LTSM\")\n",
    "model.summary()\n",
    "\n",
    "adam = optimizers.Adam(lr)\n",
    "model.compile(loss='mean_absolute_error',\n",
    "                   metrics=['mae'], \n",
    "                   optimizer=adam)\n",
    "\n"
   ]
  },
  {
   "cell_type": "markdown",
   "metadata": {},
   "source": [
    "## 2D CNN with LSTM + Attention"
   ]
  },
  {
   "cell_type": "code",
   "execution_count": null,
   "metadata": {},
   "outputs": [],
   "source": [
    "from tensorflow.keras import backend as K"
   ]
  },
  {
   "cell_type": "code",
   "execution_count": null,
   "metadata": {},
   "outputs": [],
   "source": [
    "serie_size, time_step, n_features_row, n_features_column, no_channel = X_train.shape\n",
    "\n",
    "epochs = 100\n",
    "lr = .0001\n",
    "loss='mae'\n",
    "METRIC_ACCURACY = 'mae'\n",
    "\n",
    "\n",
    "inputs = Input(shape=(time_step,n_features_row, n_features_column, no_channel))\n",
    "\n",
    "cnn1 = Conv2D(10, (1,1), activation='relu', padding='same')\n",
    "TD = TimeDistributed(cnn1)(inputs)\n",
    "\n",
    "cnn2 = Conv2D(10, (1,1), activation='relu', padding='same')\n",
    "TD2 = TimeDistributed(cnn2)(TD)\n",
    "\n",
    "TD3 = TimeDistributed(\n",
    "        MaxPooling2D(pool_size=(2, 2)))(TD2)\n",
    "    \n",
    "timeDist = TimeDistributed(Flatten())(TD3)\n",
    "\n",
    "'''\n",
    "#Paralell 2D CNN layer\n",
    "cnn4 = Conv2D(20, (1,1), activation='relu', padding='same')\n",
    "TD4 = TimeDistributed(cnn4)(TD3)\n",
    "\n",
    "cnn5 = Conv2D(20, (1,1), activation='relu', padding='same')\n",
    "TD5 = TimeDistributed(cnn5)(TD4)\n",
    "\n",
    "TD6 = TimeDistributed(\n",
    "        MaxPooling2D(pool_size=(2, 2)))(TD5)\n",
    "    \n",
    "timeDist2 = TimeDistributed(Flatten())(TD6)\n",
    "\n",
    "merge = concatenate([timeDist, timeDist2])\n",
    "'''\n",
    "\n",
    "#send both convolved layer and flattened layer into LSTM\n",
    "#merge = concatenate([timeDist, timeDist3])\n",
    "\n",
    "units = 100\n",
    "LSTM_layer1 = LSTM(units, return_sequences=True)(timeDist)\n",
    "\n",
    "# compute importance for each step\n",
    "attention = Dense(units, activation='tanh')(LSTM_layer1) ## weight matrix W (= units x units)\n",
    "attention = Dense(1, activation='linear')(attention)     ## weight matrix v (= units x 1)\n",
    "\n",
    "#attention = Dense(1, activation='tanh')(LSTM_layer1)\n",
    "attention = Flatten()(attention)\n",
    "attention = Activation('softmax')(attention)\n",
    "attention = RepeatVector(units)(attention)\n",
    "attention = Permute([2, 1])(attention)\n",
    "\n",
    "print(\"attention shape\", attention.shape)\n",
    "print(\"LSTM_layer1 shape\", LSTM_layer1.shape)\n",
    "sent_representation = Multiply()([LSTM_layer1, attention])\n",
    "\n",
    "print(\"sent_representation shape\", sent_representation.shape)\n",
    "#same shape as LSTM output (None,52,100)\n",
    "\n",
    "#attended_LSTM_out = Lambda(lambda x : K.sum(x, axis=1))(sent_representation) ## this line\n",
    "#For each timestep update a single weight on Dense layer\n",
    "#Adding a time distributed dense layer instead of previously commented out line of summing \n",
    "#over time axis dramatically increased mae by .0002-3 consistently with different models.\n",
    "attended_LSTM_out = TimeDistributed(Dense(3, activation='relu'))(sent_representation)\n",
    "\n",
    "#Flatten time dimension\n",
    "Dense2 = Dense(Y_train.shape[1])(Flatten()(attended_LSTM_out))\n",
    "outputs = Dense2\n",
    "\n",
    "model = Model(inputs, outputs, name=\"2DCNN_LTSM_Attention\")\n",
    "model.summary()\n",
    "\n",
    "adam = optimizers.Adam(lr)\n",
    "model.compile(loss='mean_absolute_error',\n",
    "                   metrics=['mae'], \n",
    "                   optimizer=adam)\n"
   ]
  },
  {
   "cell_type": "markdown",
   "metadata": {},
   "source": [
    "## Flattened LSTM + Attention"
   ]
  },
  {
   "cell_type": "code",
   "execution_count": 35,
   "metadata": {},
   "outputs": [],
   "source": [
    "from tensorflow.keras import backend as K"
   ]
  },
  {
   "cell_type": "code",
   "execution_count": 43,
   "metadata": {},
   "outputs": [
    {
     "name": "stdout",
     "output_type": "stream",
     "text": [
      "attention shape (None, 52, 100)\n",
      "LSTM_layer1 shape (None, 52, 100)\n",
      "sent_representation shape (None, 52, 100)\n",
      "Model: \"2DCNN_LTSM_Attention\"\n",
      "__________________________________________________________________________________________________\n",
      "Layer (type)                    Output Shape         Param #     Connected to                     \n",
      "==================================================================================================\n",
      "input_3 (InputLayer)            [(None, 52, 100, 100 0                                            \n",
      "__________________________________________________________________________________________________\n",
      "time_distributed_3 (TimeDistrib (None, 52, 10000)    0           input_3[0][0]                    \n",
      "__________________________________________________________________________________________________\n",
      "lstm_2 (LSTM)                   (None, 52, 100)      4040400     time_distributed_3[0][0]         \n",
      "__________________________________________________________________________________________________\n",
      "dense_8 (Dense)                 (None, 52, 100)      10100       lstm_2[0][0]                     \n",
      "__________________________________________________________________________________________________\n",
      "dense_9 (Dense)                 (None, 52, 1)        101         dense_8[0][0]                    \n",
      "__________________________________________________________________________________________________\n",
      "flatten_7 (Flatten)             (None, 52)           0           dense_9[0][0]                    \n",
      "__________________________________________________________________________________________________\n",
      "activation_2 (Activation)       (None, 52)           0           flatten_7[0][0]                  \n",
      "__________________________________________________________________________________________________\n",
      "repeat_vector_2 (RepeatVector)  (None, 100, 52)      0           activation_2[0][0]               \n",
      "__________________________________________________________________________________________________\n",
      "permute_2 (Permute)             (None, 52, 100)      0           repeat_vector_2[0][0]            \n",
      "__________________________________________________________________________________________________\n",
      "multiply_2 (Multiply)           (None, 52, 100)      0           lstm_2[0][0]                     \n",
      "                                                                 permute_2[0][0]                  \n",
      "__________________________________________________________________________________________________\n",
      "time_distributed_4 (TimeDistrib (None, 52, 3)        303         multiply_2[0][0]                 \n",
      "__________________________________________________________________________________________________\n",
      "flatten_8 (Flatten)             (None, 156)          0           time_distributed_4[0][0]         \n",
      "__________________________________________________________________________________________________\n",
      "dense_11 (Dense)                (None, 10000)        1570000     flatten_8[0][0]                  \n",
      "==================================================================================================\n",
      "Total params: 5,620,904\n",
      "Trainable params: 5,620,904\n",
      "Non-trainable params: 0\n",
      "__________________________________________________________________________________________________\n"
     ]
    }
   ],
   "source": [
    "serie_size, time_step, n_features_row, n_features_column, no_channel = X_train.shape\n",
    "\n",
    "epochs = 100\n",
    "lr = .0001\n",
    "loss='mae'\n",
    "METRIC_ACCURACY = 'mae'\n",
    "\n",
    "\n",
    "inputs = Input(shape=(time_step,n_features_row, n_features_column, no_channel))\n",
    "\n",
    "#send both convolved layer and flattened layer into LSTM\n",
    "timeDist3 = TimeDistributed(Flatten())(inputs)\n",
    "#merge = concatenate([timeDist, timeDist3])\n",
    "\n",
    "units = 100\n",
    "LSTM_layer1 = LSTM(units, return_sequences=True)(timeDist3)\n",
    "\n",
    "# compute importance for each step\n",
    "attention = Dense(units, activation='tanh')(LSTM_layer1) ## weight matrix W (= units x units)\n",
    "attention = Dense(1, activation='linear')(attention)     ## weight matrix v (= units x 1)\n",
    "\n",
    "#attention = Dense(1, activation='tanh')(LSTM_layer1)\n",
    "attention = Flatten()(attention)\n",
    "attention = Activation('softmax')(attention)\n",
    "attention = RepeatVector(units)(attention)\n",
    "attention = Permute([2, 1])(attention)\n",
    "\n",
    "print(\"attention shape\", attention.shape)\n",
    "print(\"LSTM_layer1 shape\", LSTM_layer1.shape)\n",
    "sent_representation = Multiply()([LSTM_layer1, attention])\n",
    "\n",
    "print(\"sent_representation shape\", sent_representation.shape)\n",
    "#same shape as LSTM output (None,52,100)\n",
    "\n",
    "#attended_LSTM_out = Lambda(lambda x : K.sum(x, axis=1))(sent_representation) ## this line\n",
    "#D_temp = Dense(units*2, activation='relu')(attended_LSTM_out) # hidden layer\n",
    "#For each timestep update a single weight on Dense layer\n",
    "#Adding a time distributed dense layer instead of previously commented out line of summing \n",
    "#over time axis dramatically increased mae by .0002-3 consistently with different models.\n",
    "attended_LSTM_out = TimeDistributed(Dense(3, activation='relu'))(sent_representation) \n",
    "\n",
    "#Flatten time dimension\n",
    "Dense2 = Dense(Y_train.shape[1])(Flatten()(attended_LSTM_out))\n",
    "outputs = Dense2\n",
    "\n",
    "model = Model(inputs, outputs, name=\"2DCNN_LTSM_Attention\")\n",
    "model.summary()\n",
    "\n",
    "adam = optimizers.Adam(lr)\n",
    "model.compile(loss='mean_absolute_error',\n",
    "                   metrics=['mae'], \n",
    "                   optimizer=adam)\n"
   ]
  },
  {
   "cell_type": "markdown",
   "metadata": {},
   "source": [
    "## Attention on flattened inputs"
   ]
  },
  {
   "cell_type": "code",
   "execution_count": null,
   "metadata": {},
   "outputs": [],
   "source": [
    "serie_size, time_step, n_features_row, n_features_column, no_channel = X_train.shape\n",
    "\n",
    "epochs = 100\n",
    "lr = .0001\n",
    "loss='mae'\n",
    "METRIC_ACCURACY = 'mae'\n",
    "\n",
    "\n",
    "inputs = Input(shape=(time_step,n_features_row, n_features_column, no_channel))\n",
    "\n",
    "timeDist = TimeDistributed(Flatten())(inputs)\n",
    "timeDist2 = TimeDistributed(Dense(25))(timeDist)\n",
    "units = timeDist2.shape[2]\n",
    "# compute importance for each step\n",
    "attention = Dense(units, activation='tanh')(timeDist2) ## weight matrix W (= units x units)\n",
    "attention = Dense(1, activation='linear')(attention)     ## weight matrix v (= units x 1)\n",
    "#attention = Dense(1, activation='tanh')(timeDist2)\n",
    "print('attention.shape: ', attention.shape)\n",
    "attention = Flatten()(attention)\n",
    "attention = Activation('softmax')(attention)\n",
    "attention = RepeatVector(units)(attention)\n",
    "attention = Permute([2, 1])(attention)\n",
    "sent_representation = Multiply()([timeDist2, attention])\n",
    "#For each timestep update a single weight on Dense layer\n",
    "attended_Dense_out = TimeDistributed(Dense(1, activation='relu'))(sent_representation)\n",
    "\n",
    "timeDist3 = TimeDistributed(Flatten())(inputs)\n",
    "timeDist4 = TimeDistributed(Dense(25))(timeDist3)\n",
    "units = timeDist4.shape[2]\n",
    "# compute importance for each step\n",
    "attention2 = Dense(units, activation='tanh')(timeDist4) ## weight matrix W (= units x units)\n",
    "attention2 = Dense(1, activation='linear')(attention2)     ## weight matrix v (= units x 1)\n",
    "#attention2 = Dense(1, activation='tanh')(timeDist4)\n",
    "attention2 = Flatten()(attention2)\n",
    "attention2 = Activation('softmax')(attention2)\n",
    "attention2 = RepeatVector(units)(attention2)\n",
    "attention2 = Permute([2, 1])(attention2)\n",
    "sent_representation2 = Multiply()([timeDist4, attention2])\n",
    "#For each timestep update a single weight on Dense layer\n",
    "attended_Dense_out2 = TimeDistributed(Dense(1, activation='relu'))(sent_representation2)\n",
    "'''\n",
    "timeDist5 = TimeDistributed(Flatten())(inputs)\n",
    "timeDist6 = TimeDistributed(Dense(20))(timeDist5)\n",
    "units = timeDist6.shape[2]\n",
    "# compute importance for each step\n",
    "attention3 = Dense(1, activation='tanh')(timeDist6)\n",
    "attention3 = Flatten()(attention3)\n",
    "attention3 = Activation('softmax')(attention3)\n",
    "attention3 = RepeatVector(units)(attention3)\n",
    "attention3 = Permute([2, 1])(attention3)\n",
    "sent_representation3 = Multiply()([timeDist6, attention3])\n",
    "#For each timestep update a single weight on Dense layer\n",
    "attended_Dense_out3 = TimeDistributed(Dense(1, activation='relu'))(sent_representation3)\n",
    "'''\n",
    "merge = concatenate([attended_Dense_out, attended_Dense_out2])\n",
    "\n",
    "#Flatten time dimension\n",
    "Dense2 = Dense(Y_train.shape[1])(Flatten()(merge))\n",
    "outputs = Dense2\n",
    "\n",
    "model = Model(inputs, outputs, name=\"Attention_Time\")\n",
    "model.summary()\n",
    "\n",
    "adam = optimizers.Adam(lr)\n",
    "model.compile(loss='mean_absolute_error',\n",
    "                   metrics=['mae'], \n",
    "                   optimizer=adam)\n"
   ]
  },
  {
   "cell_type": "markdown",
   "metadata": {},
   "source": [
    "## Frequency from FFT + Attention"
   ]
  },
  {
   "cell_type": "code",
   "execution_count": 157,
   "metadata": {},
   "outputs": [
    {
     "name": "stdout",
     "output_type": "stream",
     "text": [
      "timeDist.shape (None, 10000, 52)\n",
      "fftLayer.shape (None, 27, 10000)\n",
      "Model: \"Attention_Freq\"\n",
      "__________________________________________________________________________________________________\n",
      "Layer (type)                    Output Shape         Param #     Connected to                     \n",
      "==================================================================================================\n",
      "input_5 (InputLayer)            [(None, 52, 100, 100 0                                            \n",
      "__________________________________________________________________________________________________\n",
      "time_distributed_11 (TimeDistri (None, 52, 10000)    0           input_5[0][0]                    \n",
      "__________________________________________________________________________________________________\n",
      "permute_7 (Permute)             (None, 10000, 52)    0           time_distributed_11[0][0]        \n",
      "__________________________________________________________________________________________________\n",
      "lambda_4 (Lambda)               (None, 10000, 27)    0           permute_7[0][0]                  \n",
      "__________________________________________________________________________________________________\n",
      "fft_out (Permute)               (None, 27, 10000)    0           lambda_4[0][0]                   \n",
      "__________________________________________________________________________________________________\n",
      "time_distributed_12 (TimeDistri (None, 27, 100)      1000100     fft_out[0][0]                    \n",
      "__________________________________________________________________________________________________\n",
      "dense_19 (Dense)                (None, 27, 100)      10100       time_distributed_12[0][0]        \n",
      "__________________________________________________________________________________________________\n",
      "dense_20 (Dense)                (None, 27, 1)        101         dense_19[0][0]                   \n",
      "__________________________________________________________________________________________________\n",
      "flatten_12 (Flatten)            (None, 27)           0           dense_20[0][0]                   \n",
      "__________________________________________________________________________________________________\n",
      "attention_weights (Activation)  (None, 27)           0           flatten_12[0][0]                 \n",
      "__________________________________________________________________________________________________\n",
      "repeat_vector_3 (RepeatVector)  (None, 100, 27)      0           attention_weights[0][0]          \n",
      "__________________________________________________________________________________________________\n",
      "permute_8 (Permute)             (None, 27, 100)      0           repeat_vector_3[0][0]            \n",
      "__________________________________________________________________________________________________\n",
      "multiply_3 (Multiply)           (None, 27, 100)      0           time_distributed_12[0][0]        \n",
      "                                                                 permute_8[0][0]                  \n",
      "__________________________________________________________________________________________________\n",
      "time_distributed_13 (TimeDistri (None, 27, 3)        303         multiply_3[0][0]                 \n",
      "__________________________________________________________________________________________________\n",
      "flatten_13 (Flatten)            (None, 81)           0           time_distributed_13[0][0]        \n",
      "__________________________________________________________________________________________________\n",
      "dense_22 (Dense)                (None, 10000)        820000      flatten_13[0][0]                 \n",
      "==================================================================================================\n",
      "Total params: 1,830,604\n",
      "Trainable params: 1,830,604\n",
      "Non-trainable params: 0\n",
      "__________________________________________________________________________________________________\n"
     ]
    }
   ],
   "source": [
    "serie_size, time_step, n_features_row, n_features_column, no_channel = X_train.shape\n",
    "\n",
    "epochs = 100\n",
    "lr = .0001\n",
    "loss='mae'\n",
    "METRIC_ACCURACY = 'mae'\n",
    "\n",
    "\n",
    "inputs = Input(shape=(time_step,n_features_row, n_features_column, no_channel))\n",
    "\n",
    "#Frequency Head\n",
    "timeDist = TimeDistributed(Flatten())(inputs)\n",
    "timeDist = Permute([2, 1])(timeDist) #transpose for FFT. FFT library treats the last dimension as time\n",
    "print('timeDist.shape',timeDist.shape)\n",
    "fftLayer = Lambda(lambda x : tf.math.abs(tf.signal.rfft(x)))(timeDist) ## transform to frequency domain with TF\n",
    "fftLayer  = Permute([2, 1], name=\"fft_out\")(fftLayer)#transpose back for the following shape\n",
    "print('fftLayer.shape',fftLayer.shape)  \n",
    "#(None,num_of_frequencies,num_of_features)\n",
    "#compress frequency domain data from 10000 to downsized dimension for attention\n",
    "#Time distributed is now frequency distributed\n",
    "timeDist4 = TimeDistributed(Dense(100))(fftLayer)\n",
    "units = timeDist4.shape[2]\n",
    "\n",
    "# compute importance for each frequency\n",
    "attention2 = Dense(units, activation='tanh')(timeDist4) ## weight matrix W (= units x units)\n",
    "attention2 = Dense(1, activation='linear')(attention2)     ## weight matrix v (= units x 1)\n",
    "#attention2 = Dense(1, activation='tanh')(timeDist4)\n",
    "attention2 = Flatten()(attention2)\n",
    "attention2 = Activation('softmax',name='attention_weights')(attention2)\n",
    "attention2 = RepeatVector(units)(attention2)\n",
    "attention2 = Permute([2, 1])(attention2)\n",
    "sent_representation2 = Multiply()([timeDist4, attention2])\n",
    "#For each timestep update a single weight on Dense layer\n",
    "attended_Dense_out2 = TimeDistributed(Dense(3, activation='relu'))(sent_representation2)\n",
    "#attended_Dense_out2 = Lambda(lambda x : K.sum(x, axis=1))(sent_representation2) ## this line\n",
    "\n",
    "#print('attended_Dense_out',attended_Dense_out.shape[1])\n",
    "#max_len = attended_Dense_out.shape[1]\n",
    "#pad1 = tf.constant([[0, max_len-attended_Dense_out2.shape[1]]])\n",
    "\n",
    "#attended_Dense_out2 = tf.pad(attended_Dense_out2, pad1, mode='CONSTANT')\n",
    "\n",
    "#merge = concatenate([attended_Dense_out, attended_Dense_out2], axis=1)\n",
    "\n",
    "#Flatten time dimension\n",
    "Dense2 = Dense(Y_train.shape[1])(Flatten()(attended_Dense_out2))\n",
    "outputs = Dense2\n",
    "\n",
    "model = Model(inputs, outputs, name=\"Attention_Freq\")\n",
    "model.summary()\n",
    "\n",
    "adam = optimizers.Adam(lr)\n",
    "#rmsProp = optimizers.RMSprop(learning_rate=lr)\n",
    "model.compile(loss='mean_absolute_error',\n",
    "                   metrics=['mae'], \n",
    "                   optimizer=adam)\n"
   ]
  },
  {
   "cell_type": "markdown",
   "metadata": {},
   "source": [
    "#### Get intermediate layer out"
   ]
  },
  {
   "cell_type": "code",
   "execution_count": 42,
   "metadata": {},
   "outputs": [
    {
     "data": {
      "text/plain": [
       "(7, 52, 100, 100, 1)"
      ]
     },
     "execution_count": 42,
     "metadata": {},
     "output_type": "execute_result"
    }
   ],
   "source": [
    "X_train[0:7].shape"
   ]
  },
  {
   "cell_type": "code",
   "execution_count": 49,
   "metadata": {},
   "outputs": [],
   "source": [
    "from tensorflow.keras.models import Model\n",
    "\n",
    "model_fft = model  # include here your original model\n",
    "\n",
    "layer_name = 'fft_out'\n",
    "intermediate_layer_model = Model(inputs=model_fft.input,\n",
    "                                 outputs=model_fft.get_layer(layer_name).output)\n",
    "intermediate_output = intermediate_layer_model.predict(X_train[0:1])"
   ]
  },
  {
   "cell_type": "code",
   "execution_count": 50,
   "metadata": {
    "scrolled": true
   },
   "outputs": [
    {
     "data": {
      "text/plain": [
       "(1, 27, 10000)"
      ]
     },
     "execution_count": 50,
     "metadata": {},
     "output_type": "execute_result"
    }
   ],
   "source": [
    "intermediate_output.shape"
   ]
  },
  {
   "cell_type": "code",
   "execution_count": 90,
   "metadata": {},
   "outputs": [
    {
     "data": {
      "text/plain": [
       "array([[4.8661615e-15, 4.7382799e-15, 4.7273273e-15, ..., 4.8901164e-15,\n",
       "        4.9585131e-15, 4.9108103e-15],\n",
       "       [4.8435826e-15, 4.7496458e-15, 4.7766094e-15, ..., 4.9872936e-15,\n",
       "        4.9781600e-15, 4.9095025e-15],\n",
       "       [4.9729381e-15, 4.9150306e-15, 4.8405858e-15, ..., 4.9483589e-15,\n",
       "        4.9508724e-15, 4.8679271e-15],\n",
       "       ...,\n",
       "       [4.7367976e-15, 4.6725217e-15, 4.7282730e-15, ..., 5.0313617e-15,\n",
       "        4.9527558e-15, 4.9926561e-15],\n",
       "       [4.6194348e-15, 4.6351320e-15, 4.6546951e-15, ..., 4.8703869e-15,\n",
       "        4.9264059e-15, 4.8226918e-15],\n",
       "       [4.5454930e-15, 4.6580226e-15, 4.6198092e-15, ..., 4.7662641e-15,\n",
       "        4.7993984e-15, 4.7794647e-15]], dtype=float32)"
      ]
     },
     "execution_count": 90,
     "metadata": {},
     "output_type": "execute_result"
    }
   ],
   "source": [
    "intermediate_output.reshape(27,100,100)[0]"
   ]
  },
  {
   "cell_type": "markdown",
   "metadata": {},
   "source": [
    "#### Plot of the highest frequency at 1Hz"
   ]
  },
  {
   "cell_type": "code",
   "execution_count": 128,
   "metadata": {},
   "outputs": [
    {
     "data": {
      "text/plain": [
       "<matplotlib.image.AxesImage at 0x7f48bc2df8d0>"
      ]
     },
     "execution_count": 128,
     "metadata": {},
     "output_type": "execute_result"
    },
    {
     "data": {
      "image/png": "[encoded data removed]",
      "text/plain": [
       "<Figure size 864x576 with 1 Axes>"
      ]
     },
     "metadata": {
      "needs_background": "light"
     },
     "output_type": "display_data"
    }
   ],
   "source": [
    "plt.figure(figsize=(12,8))\n",
    "plt.imshow(np.rot90(intermediate_output.reshape(27,100,100)[0]))"
   ]
  },
  {
   "cell_type": "code",
   "execution_count": 86,
   "metadata": {},
   "outputs": [],
   "source": [
    "firstPixelFreqDomain =  intermediate_output[0,:,0]"
   ]
  },
  {
   "cell_type": "code",
   "execution_count": 88,
   "metadata": {},
   "outputs": [
    {
     "data": {
      "text/plain": [
       "<BarContainer object of 27 artists>"
      ]
     },
     "execution_count": 88,
     "metadata": {},
     "output_type": "execute_result"
    },
    {
     "data": {
      "image/png": "[encoded data removed]",
      "text/plain": [
       "<Figure size 432x288 with 1 Axes>"
      ]
     },
     "metadata": {
      "needs_background": "light"
     },
     "output_type": "display_data"
    }
   ],
   "source": [
    "plt.bar(range(1,firstPixelFreqDomain.shape[0]+1),firstPixelFreqDomain)"
   ]
  },
  {
   "cell_type": "code",
   "execution_count": 146,
   "metadata": {},
   "outputs": [
    {
     "data": {
      "text/plain": [
       "(100, 100)"
      ]
     },
     "execution_count": 146,
     "metadata": {},
     "output_type": "execute_result"
    }
   ],
   "source": [
    "np.rot90(intermediate_output.reshape(27,100,100)[0,:,:]).shape"
   ]
  },
  {
   "cell_type": "code",
   "execution_count": 153,
   "metadata": {
    "scrolled": false
   },
   "outputs": [
    {
     "data": {
      "image/png": "[encoded data removed]",
      "text/plain": [
       "<Figure size 7200x7200 with 27 Axes>"
      ]
     },
     "metadata": {
      "needs_background": "light"
     },
     "output_type": "display_data"
    }
   ],
   "source": [
    "plt.figure(figsize=(100,100))\n",
    "for i in range(27):\n",
    "    #plt.figure(figsize=(100,100))\n",
    "    plt.subplot(30,1,i+1)\n",
    "    #plt.xticks([])\n",
    "    #plt.yticks([])\n",
    "    #plt.grid(True)\n",
    "    plt.imshow(np.rot90(intermediate_output.reshape(27,100,100)[i]), cmap=plt.cm.binary)\n",
    "    plt.xlabel(\"At frequency: \"+ str(i))\n",
    "plt.show()"
   ]
  },
  {
   "cell_type": "code",
   "execution_count": 84,
   "metadata": {},
   "outputs": [
    {
     "data": {
      "text/plain": [
       "(52,)"
      ]
     },
     "execution_count": 84,
     "metadata": {},
     "output_type": "execute_result"
    }
   ],
   "source": [
    "firstPixelTimeDomain = X_train[0,:,0,0,0]\n",
    "firstPixelTimeDomain.shape"
   ]
  },
  {
   "cell_type": "code",
   "execution_count": 113,
   "metadata": {},
   "outputs": [
    {
     "data": {
      "text/plain": [
       "<matplotlib.image.AxesImage at 0x7f48c807fd50>"
      ]
     },
     "execution_count": 113,
     "metadata": {},
     "output_type": "execute_result"
    },
    {
     "data": {
      "image/png": "[encoded data removed]",
      "text/plain": [
       "<Figure size 864x576 with 1 Axes>"
      ]
     },
     "metadata": {
      "needs_background": "light"
     },
     "output_type": "display_data"
    }
   ],
   "source": [
    "plt.figure(figsize=(12,8))\n",
    "plt.imshow(np.rot90(X_train[0,0,:,:,0]))"
   ]
  },
  {
   "cell_type": "code",
   "execution_count": 85,
   "metadata": {},
   "outputs": [
    {
     "data": {
      "text/plain": [
       "<BarContainer object of 52 artists>"
      ]
     },
     "execution_count": 85,
     "metadata": {},
     "output_type": "execute_result"
    },
    {
     "data": {
      "image/png": "[encoded data removed]",
      "text/plain": [
       "<Figure size 432x288 with 1 Axes>"
      ]
     },
     "metadata": {
      "needs_background": "light"
     },
     "output_type": "display_data"
    }
   ],
   "source": [
    "plt.bar(range(1,firstPixelTimeDomain.shape[0]+1),firstPixelTimeDomain)"
   ]
  },
  {
   "cell_type": "code",
   "execution_count": 167,
   "metadata": {},
   "outputs": [],
   "source": [
    "from tensorflow.keras.models import Model\n",
    "\n",
    "model_AttentionOut = model  # include here your original model\n",
    "\n",
    "layer_name = 'attention_weights'\n",
    "intermediate_layer_model = Model(inputs=model_AttentionOut.input,\n",
    "                                 outputs=model_AttentionOut.get_layer(layer_name).output)\n",
    "intermediate_output = intermediate_layer_model.predict(X_valid[0:1])"
   ]
  },
  {
   "cell_type": "code",
   "execution_count": 169,
   "metadata": {},
   "outputs": [
    {
     "data": {
      "text/plain": [
       "(28, 52, 100, 100, 1)"
      ]
     },
     "execution_count": 169,
     "metadata": {},
     "output_type": "execute_result"
    }
   ],
   "source": [
    "X_valid.shape"
   ]
  },
  {
   "cell_type": "code",
   "execution_count": 174,
   "metadata": {},
   "outputs": [
    {
     "data": {
      "image/png": "[encoded data removed]",
      "text/plain": [
       "<Figure size 432x288 with 1 Axes>"
      ]
     },
     "metadata": {
      "needs_background": "light"
     },
     "output_type": "display_data"
    }
   ],
   "source": [
    "for timeStepWeek in range(X_valid.shape[0]):\n",
    "    intermediate_output = intermediate_layer_model.predict(X_train[timeStepWeek:timeStepWeek+1])\n",
    "    plt.plot(intermediate_output[0])\n",
    "    #plt.show()"
   ]
  },
  {
   "cell_type": "code",
   "execution_count": 175,
   "metadata": {},
   "outputs": [
    {
     "data": {
      "image/png": "[encoded data removed]",
      "text/plain": [
       "<Figure size 432x288 with 1 Axes>"
      ]
     },
     "metadata": {
      "needs_background": "light"
     },
     "output_type": "display_data"
    }
   ],
   "source": [
    "for timeStepWeek in range(X_valid.shape[0]):\n",
    "    intermediate_output = intermediate_layer_model.predict(X_valid[timeStepWeek:timeStepWeek+1])\n",
    "    plt.plot(intermediate_output[0])\n",
    "    #plt.show()"
   ]
  },
  {
   "cell_type": "code",
   "execution_count": 173,
   "metadata": {},
   "outputs": [
    {
     "data": {
      "image/png": "[encoded data removed]",
      "text/plain": [
       "<Figure size 432x288 with 1 Axes>"
      ]
     },
     "metadata": {
      "needs_background": "light"
     },
     "output_type": "display_data"
    }
   ],
   "source": [
    "for timeStepWeek in range(X_valid.shape[0]):\n",
    "    intermediate_output = intermediate_layer_model.predict(X_test[timeStepWeek:timeStepWeek+1])\n",
    "    plt.plot(intermediate_output[0])\n",
    "    #plt.show()"
   ]
  },
  {
   "cell_type": "markdown",
   "metadata": {},
   "source": [
    "#### We see that the attention is similarly distributed for each frequency thru out 28 weeks in the validation set. This is similar to auto correlation as the attention is frequecy domain which shows which period of the 52 weeks the model attend to for optimal prediction. In this case, the model is a attending to 12 period. Each period is time step of 7 days which makes the every 84 days cycle and also 27 * 7 which is 189 day cycle most important. This also means short term data does not get attended to for 7 day forecast regression."
   ]
  },
  {
   "cell_type": "markdown",
   "metadata": {},
   "source": [
    "## FFT + 2 head Attention(Time,Freq)"
   ]
  },
  {
   "cell_type": "code",
   "execution_count": null,
   "metadata": {},
   "outputs": [],
   "source": [
    "serie_size, time_step, n_features_row, n_features_column, no_channel = X_train.shape\n",
    "\n",
    "epochs = 100\n",
    "lr = .0001\n",
    "loss='mae'\n",
    "METRIC_ACCURACY = 'mae'\n",
    "\n",
    "\n",
    "inputs = Input(shape=(time_step,n_features_row, n_features_column, no_channel))\n",
    "\n",
    "#Time Head\n",
    "timeDist = TimeDistributed(Flatten())(inputs)\n",
    "timeDist2 = TimeDistributed(Dense(100))(timeDist)\n",
    "units = timeDist2.shape[2]\n",
    "# compute importance for each step\n",
    "attention = Dense(units, activation='tanh')(timeDist2) ## weight matrix W (= units x units)\n",
    "attention = Dense(1, activation='linear')(attention)     ## weight matrix v (= units x 1)\n",
    "#attention = Dense(1, activation='tanh')(timeDist2)\n",
    "print('attention.shape: ', attention.shape)\n",
    "attention = Flatten()(attention)\n",
    "attention = Activation('softmax')(attention)\n",
    "attention = RepeatVector(units)(attention)\n",
    "attention = Permute([2, 1])(attention)\n",
    "sent_representation = Multiply()([timeDist2, attention])\n",
    "#For each timestep update a single weight on Dense layer\n",
    "attended_Dense_out = TimeDistributed(Dense(3, activation='relu'))(sent_representation)\n",
    "#attended_Dense_out = Lambda(lambda x : K.sum(x, axis=1))(sent_representation) ## this line\n",
    "\n",
    "#Frequency Head\n",
    "timeDist3 = TimeDistributed(Flatten())(inputs)\n",
    "timeDist3 = Permute([2, 1])(timeDist3) #transpose for FFT. FFT library treats the last dimension as time\n",
    "print('timeDist3.shape',timeDist3.shape)\n",
    "fftLayer = Lambda(lambda x : tf.math.abs(tf.signal.rfft(x)))(timeDist3) ## transform to frequency domain with TF\n",
    "fftLayer  = Permute([2, 1])(fftLayer )#transpose back for the following shape\n",
    "print('fftLayer.shape',fftLayer.shape)  \n",
    "#(None,num_of_frequencies,num_of_features)\n",
    "#compress frequency domain data from 10000 to downsized dimension for attention\n",
    "#Time distributed is now frequency distributed\n",
    "timeDist4 = TimeDistributed(Dense(500))(fftLayer)\n",
    "units = timeDist4.shape[2]\n",
    "\n",
    "# compute importance for each frequency\n",
    "attention2 = Dense(units, activation='tanh')(timeDist4) ## weight matrix W (= units x units)\n",
    "attention2 = Dense(1, activation='linear')(attention2)     ## weight matrix v (= units x 1)\n",
    "#attention2 = Dense(1, activation='tanh')(timeDist4)\n",
    "attention2 = Flatten()(attention2)\n",
    "attention2 = Activation('softmax')(attention2)\n",
    "attention2 = RepeatVector(units)(attention2)\n",
    "attention2 = Permute([2, 1])(attention2)\n",
    "sent_representation2 = Multiply()([timeDist4, attention2])\n",
    "#For each timestep update a single weight on Dense layer\n",
    "attended_Dense_out2 = TimeDistributed(Dense(3, activation='relu'))(sent_representation2)\n",
    "#attended_Dense_out2 = Lambda(lambda x : K.sum(x, axis=1))(sent_representation2) ## this line\n",
    "\n",
    "#print('attended_Dense_out',attended_Dense_out.shape[1])\n",
    "#max_len = attended_Dense_out.shape[1]\n",
    "#pad1 = tf.constant([[0, max_len-attended_Dense_out2.shape[1]]])\n",
    "\n",
    "#attended_Dense_out2 = tf.pad(attended_Dense_out2, pad1, mode='CONSTANT')\n",
    "\n",
    "merge = concatenate([attended_Dense_out, attended_Dense_out2], axis=1)\n",
    "\n",
    "#Flatten time dimension\n",
    "Dense2 = Dense(Y_train.shape[1])(Flatten()(merge))\n",
    "outputs = Dense2\n",
    "\n",
    "model = Model(inputs, outputs, name=\"Attention_Time_Freq\")\n",
    "model.summary()\n",
    "\n",
    "adam = optimizers.Adam(lr)\n",
    "model.compile(loss='mean_absolute_error',\n",
    "                   metrics=['mae'], \n",
    "                   optimizer=adam)\n"
   ]
  },
  {
   "cell_type": "markdown",
   "metadata": {},
   "source": [
    "## FFT + 3 head Attention(Time,FreqMag, FreqAngle)"
   ]
  },
  {
   "cell_type": "code",
   "execution_count": null,
   "metadata": {},
   "outputs": [],
   "source": [
    "serie_size, time_step, n_features_row, n_features_column, no_channel = X_train.shape\n",
    "\n",
    "epochs = 100\n",
    "lr = .0001\n",
    "loss='mae'\n",
    "METRIC_ACCURACY = 'mae'\n",
    "\n",
    "\n",
    "inputs = Input(shape=(time_step,n_features_row, n_features_column, no_channel))\n",
    "\n",
    "#Time Head\n",
    "timeDist = TimeDistributed(Flatten())(inputs)\n",
    "timeDist2 = TimeDistributed(Dense(100))(timeDist)\n",
    "units = timeDist2.shape[2]\n",
    "# compute importance for each stepattended_LSTM_out\n",
    "attention = Dense(units, activation='tanh')(timeDist2) ## weight matrix W (= units x units)\n",
    "attention = Dense(1, activation='linear')(attention)     ## weight matrix v (= units x 1)\n",
    "#attention = Dense(1, activation='tanh')(timeDist2)\n",
    "print('attention.shape: ', attention.shape)\n",
    "attention = Flatten()(attention)\n",
    "attention = Activation('softmax')(attention)\n",
    "attention = RepeatVector(units)(attention)\n",
    "attention = Permute([2, 1])(attention)\n",
    "sent_representation = Multiply()([timeDist2, attention])\n",
    "#For each timestep update a single weight on Dense layer\n",
    "attended_Dense_out = TimeDistributed(Dense(3, activation='relu'))(sent_representation)\n",
    "#attended_Dense_out = Lambda(lambda x : K.sum(x, axis=1))(sent_representation) ## this line\n",
    "\n",
    "#Frequency Head Magnitude\n",
    "timeDist3 = TimeDistributed(Flatten())(inputs)\n",
    "timeDist3 = Permute([2, 1])(timeDist3) #transpose for FFT. FFT library treats the last dimension as time\n",
    "print('timeDist3.shape',timeDist3.shape)\n",
    "fftLayer = Lambda(lambda x : tf.math.abs(tf.signal.rfft(x)))(timeDist3) ## transform to frequency domain with TF\n",
    "fftLayer  = Permute([2, 1])(fftLayer )#transpose back for the following shape\n",
    "print('fftLayer.shape',fftLayer.shape)  \n",
    "#(None,num_of_frequencies,num_of_features)\n",
    "#compress frequency domain data from 10000 to downsized dimension for attention\n",
    "#Time distributed is now frequency distributed\n",
    "timeDist4 = TimeDistributed(Dense(100))(fftLayer)\n",
    "units = timeDist4.shape[2]\n",
    "\n",
    "# compute importance for each frequency\n",
    "attention2 = Dense(units, activation='tanh')(timeDist4) ## weight matrix W (= units x units)\n",
    "attention2 = Dense(1, activation='linear')(attention2)     ## weight matrix v (= units x 1)\n",
    "#attention2 = Dense(1, activation='tanh')(timeDist4)\n",
    "attention2 = Flatten()(attention2)\n",
    "attention2 = Activation('softmax')(attention2)\n",
    "attention2 = RepeatVector(units)(attention2)\n",
    "attention2 = Permute([2, 1])(attention2)\n",
    "sent_representation2 = Multiply()([timeDist4, attention2])\n",
    "#For each timestep update a single weight on Dense layer\n",
    "attended_Dense_out2 = TimeDistributed(Dense(3, activation='relu'))(sent_representation2)\n",
    "#attended_Dense_out2 = Lambda(lambda x : K.sum(x, axis=1))(sent_representation2) ## this line\n",
    "\n",
    "#Frequency Head Angle\n",
    "timeDist5 = TimeDistributed(Flatten())(inputs)\n",
    "timeDist5 = Permute([2, 1])(timeDist5) #transpose for FFT. FFT library treats the last dimension as time\n",
    "print('timeDist5.shape',timeDist5.shape)\n",
    "fftLayer2 = Lambda(lambda x : tf.math.angle(tf.signal.rfft(x)))(timeDist5) ## transform to frequency domain with TF\n",
    "fftLayer2  = Permute([2, 1])(fftLayer )#transpose back for the following shape\n",
    "print('fftLayer2.shape',fftLayer2.shape)  \n",
    "#(None,num_of_frequencies,num_of_features)\n",
    "#compress frequency domain data from 10000 to downsized dimension for attention\n",
    "#Time distributed is now frequency distributed\n",
    "timeDist6 = TimeDistributed(Dense(100))(fftLayer2)\n",
    "units = timeDist6.shape[2]\n",
    "\n",
    "# compute importance for each frequency\n",
    "attention3 = Dense(units, activation='tanh')(timeDist6) ## weight matrix W (= units x units)\n",
    "attention3 = Dense(1, activation='linear')(attention3)     ## weight matrix v (= units x 1)\n",
    "#attention3 = Dense(1, activation='tanh')(timeDist6)\n",
    "attention3 = Flatten()(attention3)\n",
    "attention3 = Activation('softmax')(attention3)\n",
    "attention3 = RepeatVector(units)(attention3)\n",
    "attention3 = Permute([2, 1])(attention3)\n",
    "sent_representation3 = Multiply()([timeDist6, attention3])\n",
    "#For each timestep update a single weight on Dense layer\n",
    "attended_Dense_out3 = TimeDistributed(Dense(3, activation='relu'))(sent_representation3)\n",
    "#attended_Dense_out3 = Lambda(lambda x : K.sum(x, axis=1))(sent_representation3) ## this line\n",
    "\n",
    "#print('attended_Dense_out',attended_Dense_out.shape[1])\n",
    "#max_len = attended_Dense_out.shape[1]\n",
    "#pad1 = tf.constant([[0, max_len-attended_Dense_out2.shape[1]]])\n",
    "\n",
    "#attended_Dense_out2 = tf.pad(attended_Dense_out2, pad1, mode='CONSTANT')\n",
    "\n",
    "merge = concatenate([attended_Dense_out, attended_Dense_out2, attended_Dense_out3], axis=1)\n",
    "\n",
    "#Flatten time dimension\n",
    "Dense2 = Dense(Y_train.shape[1])(Flatten()(merge))\n",
    "outputs = Dense2\n",
    "\n",
    "model = Model(inputs, outputs, name=\"Attention_Time_Freq\")\n",
    "model.summary()\n",
    "\n",
    "adam = optimizers.Adam(lr)\n",
    "model.compile(loss='mean_absolute_error',\n",
    "                   metrics=['mae'], \n",
    "                   optimizer=adam)\n"
   ]
  },
  {
   "cell_type": "markdown",
   "metadata": {},
   "source": [
    "## Run fit on any of the previous model here"
   ]
  },
  {
   "cell_type": "code",
   "execution_count": 160,
   "metadata": {
    "scrolled": true
   },
   "outputs": [
    {
     "name": "stdout",
     "output_type": "stream",
     "text": [
      "WARNING:tensorflow:`period` argument is deprecated. Please use `save_freq` to specify the frequency in number of samples seen.\n",
      "Train on 88 samples, validate on 28 samples\n",
      "Epoch 1/1000\n",
      "88/88 [==============================] - 1s 7ms/sample - loss: 0.0084 - mae: 0.0084 - val_loss: 0.0080 - val_mae: 0.0080\n",
      "Epoch 2/1000\n",
      "88/88 [==============================] - 0s 2ms/sample - loss: 0.0078 - mae: 0.0078 - val_loss: 0.0076 - val_mae: 0.0076\n",
      "Epoch 3/1000\n",
      "88/88 [==============================] - 0s 2ms/sample - loss: 0.0075 - mae: 0.0075 - val_loss: 0.0073 - val_mae: 0.0073\n",
      "Epoch 4/1000\n",
      "88/88 [==============================] - 0s 2ms/sample - loss: 0.0072 - mae: 0.0072 - val_loss: 0.0071 - val_mae: 0.0071\n",
      "Epoch 5/1000\n",
      "88/88 [==============================] - 0s 2ms/sample - loss: 0.0069 - mae: 0.0069 - val_loss: 0.0068 - val_mae: 0.0068\n",
      "Epoch 6/1000\n",
      "88/88 [==============================] - 0s 2ms/sample - loss: 0.0067 - mae: 0.0067 - val_loss: 0.0066 - val_mae: 0.0066\n",
      "Epoch 7/1000\n",
      "88/88 [==============================] - 0s 2ms/sample - loss: 0.0065 - mae: 0.0065 - val_loss: 0.0064 - val_mae: 0.0064\n",
      "Epoch 8/1000\n",
      "88/88 [==============================] - 0s 2ms/sample - loss: 0.0062 - mae: 0.0062 - val_loss: 0.0061 - val_mae: 0.0061\n",
      "Epoch 9/1000\n",
      "88/88 [==============================] - 0s 2ms/sample - loss: 0.0060 - mae: 0.0060 - val_loss: 0.0059 - val_mae: 0.0059\n",
      "Epoch 10/1000\n",
      "77/88 [=========================>....] - ETA: 0s - loss: 0.0058 - mae: 0.0058\n",
      "Epoch 00010: val_loss improved from inf to 0.00575, saving model to /home/zhimin90/DePaul/CSC695/Github/CSC695-Masters-Research-on-Neural-Network-Time-Series-Attention-Models/Asset/checkpoints/_20200703-090549_model.hdf5\n",
      "88/88 [==============================] - 0s 2ms/sample - loss: 0.0058 - mae: 0.0058 - val_loss: 0.0057 - val_mae: 0.0057\n",
      "Epoch 11/1000\n",
      "88/88 [==============================] - 0s 2ms/sample - loss: 0.0056 - mae: 0.0056 - val_loss: 0.0056 - val_mae: 0.0056\n",
      "Epoch 12/1000\n",
      "88/88 [==============================] - 0s 2ms/sample - loss: 0.0054 - mae: 0.0054 - val_loss: 0.0054 - val_mae: 0.0054\n",
      "Epoch 13/1000\n",
      "88/88 [==============================] - 0s 2ms/sample - loss: 0.0053 - mae: 0.0053 - val_loss: 0.0052 - val_mae: 0.0052\n",
      "Epoch 14/1000\n",
      "88/88 [==============================] - 0s 2ms/sample - loss: 0.0051 - mae: 0.0051 - val_loss: 0.0051 - val_mae: 0.0051\n",
      "Epoch 15/1000\n",
      "88/88 [==============================] - 0s 2ms/sample - loss: 0.0049 - mae: 0.0049 - val_loss: 0.0049 - val_mae: 0.0049\n",
      "Epoch 16/1000\n",
      "88/88 [==============================] - 0s 2ms/sample - loss: 0.0048 - mae: 0.0048 - val_loss: 0.0048 - val_mae: 0.0048\n",
      "Epoch 17/1000\n",
      "88/88 [==============================] - 0s 2ms/sample - loss: 0.0046 - mae: 0.0046 - val_loss: 0.0046 - val_mae: 0.0046\n",
      "Epoch 18/1000\n",
      "88/88 [==============================] - 0s 2ms/sample - loss: 0.0045 - mae: 0.0045 - val_loss: 0.0045 - val_mae: 0.0045\n",
      "Epoch 19/1000\n",
      "88/88 [==============================] - 0s 2ms/sample - loss: 0.0044 - mae: 0.0044 - val_loss: 0.0044 - val_mae: 0.0044\n",
      "Epoch 20/1000\n",
      "77/88 [=========================>....] - ETA: 0s - loss: 0.0043 - mae: 0.0043\n",
      "Epoch 00020: val_loss improved from 0.00575 to 0.00427, saving model to /home/zhimin90/DePaul/CSC695/Github/CSC695-Masters-Research-on-Neural-Network-Time-Series-Attention-Models/Asset/checkpoints/_20200703-090549_model.hdf5\n",
      "88/88 [==============================] - 0s 3ms/sample - loss: 0.0043 - mae: 0.0043 - val_loss: 0.0043 - val_mae: 0.0043\n",
      "Epoch 21/1000\n",
      "88/88 [==============================] - 0s 2ms/sample - loss: 0.0041 - mae: 0.0041 - val_loss: 0.0042 - val_mae: 0.0042\n",
      "Epoch 22/1000\n",
      "88/88 [==============================] - 0s 2ms/sample - loss: 0.0040 - mae: 0.0040 - val_loss: 0.0041 - val_mae: 0.0041\n",
      "Epoch 23/1000\n",
      "88/88 [==============================] - 0s 2ms/sample - loss: 0.0039 - mae: 0.0039 - val_loss: 0.0039 - val_mae: 0.0039\n",
      "Epoch 24/1000\n",
      "88/88 [==============================] - 0s 2ms/sample - loss: 0.0038 - mae: 0.0038 - val_loss: 0.0039 - val_mae: 0.0039\n",
      "Epoch 25/1000\n",
      "88/88 [==============================] - 0s 2ms/sample - loss: 0.0037 - mae: 0.0037 - val_loss: 0.0038 - val_mae: 0.0038\n",
      "Epoch 26/1000\n",
      "88/88 [==============================] - 0s 2ms/sample - loss: 0.0036 - mae: 0.0036 - val_loss: 0.0037 - val_mae: 0.0037\n",
      "Epoch 27/1000\n",
      "88/88 [==============================] - 0s 2ms/sample - loss: 0.0036 - mae: 0.0036 - val_loss: 0.0036 - val_mae: 0.0036\n",
      "Epoch 28/1000\n",
      "88/88 [==============================] - 0s 2ms/sample - loss: 0.0035 - mae: 0.0035 - val_loss: 0.0035 - val_mae: 0.0035\n",
      "Epoch 29/1000\n",
      "88/88 [==============================] - 0s 2ms/sample - loss: 0.0034 - mae: 0.0034 - val_loss: 0.0034 - val_mae: 0.0034\n",
      "Epoch 30/1000\n",
      "77/88 [=========================>....] - ETA: 0s - loss: 0.0033 - mae: 0.0033\n",
      "Epoch 00030: val_loss improved from 0.00427 to 0.00337, saving model to /home/zhimin90/DePaul/CSC695/Github/CSC695-Masters-Research-on-Neural-Network-Time-Series-Attention-Models/Asset/checkpoints/_20200703-090549_model.hdf5\n",
      "88/88 [==============================] - 0s 3ms/sample - loss: 0.0033 - mae: 0.0033 - val_loss: 0.0034 - val_mae: 0.0034\n",
      "Epoch 31/1000\n",
      "88/88 [==============================] - 0s 2ms/sample - loss: 0.0032 - mae: 0.0032 - val_loss: 0.0033 - val_mae: 0.0033\n",
      "Epoch 32/1000\n",
      "88/88 [==============================] - 0s 2ms/sample - loss: 0.0032 - mae: 0.0032 - val_loss: 0.0032 - val_mae: 0.0032\n",
      "Epoch 33/1000\n",
      "88/88 [==============================] - 0s 2ms/sample - loss: 0.0031 - mae: 0.0031 - val_loss: 0.0032 - val_mae: 0.0032\n",
      "Epoch 34/1000\n",
      "88/88 [==============================] - 0s 2ms/sample - loss: 0.0031 - mae: 0.0031 - val_loss: 0.0031 - val_mae: 0.0031\n",
      "Epoch 35/1000\n",
      "88/88 [==============================] - 0s 2ms/sample - loss: 0.0030 - mae: 0.0030 - val_loss: 0.0031 - val_mae: 0.0031\n",
      "Epoch 36/1000\n",
      "88/88 [==============================] - 0s 2ms/sample - loss: 0.0029 - mae: 0.0029 - val_loss: 0.0030 - val_mae: 0.0030\n",
      "Epoch 37/1000\n",
      "88/88 [==============================] - 0s 2ms/sample - loss: 0.0029 - mae: 0.0029 - val_loss: 0.0029 - val_mae: 0.0029\n",
      "Epoch 38/1000\n",
      "88/88 [==============================] - 0s 2ms/sample - loss: 0.0028 - mae: 0.0028 - val_loss: 0.0029 - val_mae: 0.0029\n",
      "Epoch 39/1000\n",
      "88/88 [==============================] - 0s 2ms/sample - loss: 0.0028 - mae: 0.0028 - val_loss: 0.0029 - val_mae: 0.0029\n",
      "Epoch 40/1000\n",
      "77/88 [=========================>....] - ETA: 0s - loss: 0.0027 - mae: 0.0027\n",
      "Epoch 00040: val_loss improved from 0.00337 to 0.00280, saving model to /home/zhimin90/DePaul/CSC695/Github/CSC695-Masters-Research-on-Neural-Network-Time-Series-Attention-Models/Asset/checkpoints/_20200703-090549_model.hdf5\n",
      "88/88 [==============================] - 0s 3ms/sample - loss: 0.0027 - mae: 0.0027 - val_loss: 0.0028 - val_mae: 0.0028\n",
      "Epoch 41/1000\n",
      "88/88 [==============================] - 0s 2ms/sample - loss: 0.0027 - mae: 0.0027 - val_loss: 0.0028 - val_mae: 0.0028\n",
      "Epoch 42/1000\n",
      "88/88 [==============================] - 0s 2ms/sample - loss: 0.0027 - mae: 0.0027 - val_loss: 0.0027 - val_mae: 0.0027\n",
      "Epoch 43/1000\n",
      "88/88 [==============================] - 0s 2ms/sample - loss: 0.0026 - mae: 0.0026 - val_loss: 0.0027 - val_mae: 0.0027\n",
      "Epoch 44/1000\n",
      "88/88 [==============================] - 0s 2ms/sample - loss: 0.0026 - mae: 0.0026 - val_loss: 0.0026 - val_mae: 0.0026\n",
      "Epoch 45/1000\n",
      "88/88 [==============================] - 0s 2ms/sample - loss: 0.0025 - mae: 0.0025 - val_loss: 0.0026 - val_mae: 0.0026\n",
      "Epoch 46/1000\n",
      "88/88 [==============================] - 0s 2ms/sample - loss: 0.0025 - mae: 0.0025 - val_loss: 0.0026 - val_mae: 0.0026\n",
      "Epoch 47/1000\n",
      "88/88 [==============================] - 0s 2ms/sample - loss: 0.0025 - mae: 0.0025 - val_loss: 0.0025 - val_mae: 0.0025\n",
      "Epoch 48/1000\n",
      "88/88 [==============================] - 0s 2ms/sample - loss: 0.0025 - mae: 0.0025 - val_loss: 0.0025 - val_mae: 0.0025\n",
      "Epoch 49/1000\n",
      "88/88 [==============================] - 0s 2ms/sample - loss: 0.0024 - mae: 0.0024 - val_loss: 0.0025 - val_mae: 0.0025\n",
      "Epoch 50/1000\n",
      "77/88 [=========================>....] - ETA: 0s - loss: 0.0024 - mae: 0.0024\n",
      "Epoch 00050: val_loss improved from 0.00280 to 0.00246, saving model to /home/zhimin90/DePaul/CSC695/Github/CSC695-Masters-Research-on-Neural-Network-Time-Series-Attention-Models/Asset/checkpoints/_20200703-090549_model.hdf5\n"
     ]
    },
    {
     "name": "stdout",
     "output_type": "stream",
     "text": [
      "88/88 [==============================] - 0s 3ms/sample - loss: 0.0024 - mae: 0.0024 - val_loss: 0.0025 - val_mae: 0.0025\n",
      "Epoch 51/1000\n",
      "88/88 [==============================] - 0s 2ms/sample - loss: 0.0024 - mae: 0.0024 - val_loss: 0.0024 - val_mae: 0.0024\n",
      "Epoch 52/1000\n",
      "88/88 [==============================] - 0s 2ms/sample - loss: 0.0023 - mae: 0.0023 - val_loss: 0.0024 - val_mae: 0.0024\n",
      "Epoch 53/1000\n",
      "88/88 [==============================] - 0s 2ms/sample - loss: 0.0023 - mae: 0.0023 - val_loss: 0.0024 - val_mae: 0.0024\n",
      "Epoch 54/1000\n",
      "88/88 [==============================] - 0s 2ms/sample - loss: 0.0023 - mae: 0.0023 - val_loss: 0.0024 - val_mae: 0.0024\n",
      "Epoch 55/1000\n",
      "88/88 [==============================] - 0s 2ms/sample - loss: 0.0023 - mae: 0.0023 - val_loss: 0.0023 - val_mae: 0.0023\n",
      "Epoch 56/1000\n",
      "88/88 [==============================] - 0s 2ms/sample - loss: 0.0023 - mae: 0.0023 - val_loss: 0.0023 - val_mae: 0.0023\n",
      "Epoch 57/1000\n",
      "88/88 [==============================] - 0s 2ms/sample - loss: 0.0022 - mae: 0.0022 - val_loss: 0.0023 - val_mae: 0.0023\n",
      "Epoch 58/1000\n",
      "88/88 [==============================] - 0s 2ms/sample - loss: 0.0022 - mae: 0.0022 - val_loss: 0.0023 - val_mae: 0.0023\n",
      "Epoch 59/1000\n",
      "88/88 [==============================] - 0s 2ms/sample - loss: 0.0022 - mae: 0.0022 - val_loss: 0.0023 - val_mae: 0.0023\n",
      "Epoch 60/1000\n",
      "77/88 [=========================>....] - ETA: 0s - loss: 0.0022 - mae: 0.0022\n",
      "Epoch 00060: val_loss improved from 0.00246 to 0.00226, saving model to /home/zhimin90/DePaul/CSC695/Github/CSC695-Masters-Research-on-Neural-Network-Time-Series-Attention-Models/Asset/checkpoints/_20200703-090549_model.hdf5\n",
      "88/88 [==============================] - 0s 2ms/sample - loss: 0.0022 - mae: 0.0022 - val_loss: 0.0023 - val_mae: 0.0023\n",
      "Epoch 61/1000\n",
      "88/88 [==============================] - 0s 2ms/sample - loss: 0.0022 - mae: 0.0022 - val_loss: 0.0022 - val_mae: 0.0022\n",
      "Epoch 62/1000\n",
      "88/88 [==============================] - 0s 2ms/sample - loss: 0.0021 - mae: 0.0021 - val_loss: 0.0022 - val_mae: 0.0022\n",
      "Epoch 63/1000\n",
      "88/88 [==============================] - 0s 2ms/sample - loss: 0.0021 - mae: 0.0021 - val_loss: 0.0022 - val_mae: 0.0022\n",
      "Epoch 64/1000\n",
      "88/88 [==============================] - 0s 2ms/sample - loss: 0.0021 - mae: 0.0021 - val_loss: 0.0022 - val_mae: 0.0022\n",
      "Epoch 65/1000\n",
      "88/88 [==============================] - 0s 2ms/sample - loss: 0.0021 - mae: 0.0021 - val_loss: 0.0022 - val_mae: 0.0022\n",
      "Epoch 66/1000\n",
      "88/88 [==============================] - 0s 2ms/sample - loss: 0.0021 - mae: 0.0021 - val_loss: 0.0022 - val_mae: 0.0022\n",
      "Epoch 67/1000\n",
      "88/88 [==============================] - 0s 2ms/sample - loss: 0.0021 - mae: 0.0021 - val_loss: 0.0022 - val_mae: 0.0022\n",
      "Epoch 68/1000\n",
      "88/88 [==============================] - 0s 2ms/sample - loss: 0.0021 - mae: 0.0021 - val_loss: 0.0021 - val_mae: 0.0021\n",
      "Epoch 69/1000\n",
      "88/88 [==============================] - 0s 2ms/sample - loss: 0.0021 - mae: 0.0021 - val_loss: 0.0021 - val_mae: 0.0021\n",
      "Epoch 70/1000\n",
      "77/88 [=========================>....] - ETA: 0s - loss: 0.0021 - mae: 0.0021\n",
      "Epoch 00070: val_loss improved from 0.00226 to 0.00213, saving model to /home/zhimin90/DePaul/CSC695/Github/CSC695-Masters-Research-on-Neural-Network-Time-Series-Attention-Models/Asset/checkpoints/_20200703-090549_model.hdf5\n",
      "88/88 [==============================] - 0s 3ms/sample - loss: 0.0020 - mae: 0.0020 - val_loss: 0.0021 - val_mae: 0.0021\n",
      "Epoch 71/1000\n",
      "88/88 [==============================] - 0s 2ms/sample - loss: 0.0020 - mae: 0.0020 - val_loss: 0.0021 - val_mae: 0.0021\n",
      "Epoch 72/1000\n",
      "88/88 [==============================] - 0s 2ms/sample - loss: 0.0020 - mae: 0.0020 - val_loss: 0.0021 - val_mae: 0.0021\n",
      "Epoch 73/1000\n",
      "88/88 [==============================] - 0s 2ms/sample - loss: 0.0020 - mae: 0.0020 - val_loss: 0.0021 - val_mae: 0.0021\n",
      "Epoch 74/1000\n",
      "88/88 [==============================] - 0s 2ms/sample - loss: 0.0020 - mae: 0.0020 - val_loss: 0.0021 - val_mae: 0.0021\n",
      "Epoch 75/1000\n",
      "88/88 [==============================] - 0s 2ms/sample - loss: 0.0020 - mae: 0.0020 - val_loss: 0.0021 - val_mae: 0.0021\n",
      "Epoch 76/1000\n",
      "88/88 [==============================] - 0s 2ms/sample - loss: 0.0020 - mae: 0.0020 - val_loss: 0.0021 - val_mae: 0.0021\n",
      "Epoch 77/1000\n",
      "88/88 [==============================] - 0s 2ms/sample - loss: 0.0020 - mae: 0.0020 - val_loss: 0.0021 - val_mae: 0.0021\n",
      "Epoch 78/1000\n",
      "88/88 [==============================] - 0s 2ms/sample - loss: 0.0020 - mae: 0.0020 - val_loss: 0.0021 - val_mae: 0.0021\n",
      "Epoch 79/1000\n",
      "88/88 [==============================] - 0s 2ms/sample - loss: 0.0020 - mae: 0.0020 - val_loss: 0.0020 - val_mae: 0.0020\n",
      "Epoch 80/1000\n",
      "77/88 [=========================>....] - ETA: 0s - loss: 0.0020 - mae: 0.0020\n",
      "Epoch 00080: val_loss improved from 0.00213 to 0.00204, saving model to /home/zhimin90/DePaul/CSC695/Github/CSC695-Masters-Research-on-Neural-Network-Time-Series-Attention-Models/Asset/checkpoints/_20200703-090549_model.hdf5\n",
      "88/88 [==============================] - 0s 3ms/sample - loss: 0.0020 - mae: 0.0020 - val_loss: 0.0020 - val_mae: 0.0020\n",
      "Epoch 81/1000\n",
      "88/88 [==============================] - 0s 2ms/sample - loss: 0.0019 - mae: 0.0019 - val_loss: 0.0020 - val_mae: 0.0020\n",
      "Epoch 82/1000\n",
      "88/88 [==============================] - 0s 2ms/sample - loss: 0.0019 - mae: 0.0019 - val_loss: 0.0020 - val_mae: 0.0020\n",
      "Epoch 83/1000\n",
      "88/88 [==============================] - 0s 2ms/sample - loss: 0.0019 - mae: 0.0019 - val_loss: 0.0020 - val_mae: 0.0020\n",
      "Epoch 84/1000\n",
      "88/88 [==============================] - 0s 2ms/sample - loss: 0.0019 - mae: 0.0019 - val_loss: 0.0020 - val_mae: 0.0020\n",
      "Epoch 85/1000\n",
      "88/88 [==============================] - 0s 2ms/sample - loss: 0.0019 - mae: 0.0019 - val_loss: 0.0020 - val_mae: 0.0020\n",
      "Epoch 86/1000\n",
      "88/88 [==============================] - 0s 2ms/sample - loss: 0.0019 - mae: 0.0019 - val_loss: 0.0020 - val_mae: 0.0020\n",
      "Epoch 87/1000\n",
      "88/88 [==============================] - 0s 2ms/sample - loss: 0.0019 - mae: 0.0019 - val_loss: 0.0020 - val_mae: 0.0020\n",
      "Epoch 88/1000\n",
      "88/88 [==============================] - 0s 2ms/sample - loss: 0.0019 - mae: 0.0019 - val_loss: 0.0020 - val_mae: 0.0020\n",
      "Epoch 89/1000\n",
      "88/88 [==============================] - 0s 2ms/sample - loss: 0.0019 - mae: 0.0019 - val_loss: 0.0020 - val_mae: 0.0020\n",
      "Epoch 90/1000\n",
      "77/88 [=========================>....] - ETA: 0s - loss: 0.0019 - mae: 0.0019\n",
      "Epoch 00090: val_loss improved from 0.00204 to 0.00197, saving model to /home/zhimin90/DePaul/CSC695/Github/CSC695-Masters-Research-on-Neural-Network-Time-Series-Attention-Models/Asset/checkpoints/_20200703-090549_model.hdf5\n",
      "88/88 [==============================] - 0s 3ms/sample - loss: 0.0019 - mae: 0.0019 - val_loss: 0.0020 - val_mae: 0.0020\n",
      "Epoch 91/1000\n",
      "88/88 [==============================] - 0s 2ms/sample - loss: 0.0019 - mae: 0.0019 - val_loss: 0.0020 - val_mae: 0.0020\n",
      "Epoch 92/1000\n",
      "88/88 [==============================] - 0s 2ms/sample - loss: 0.0019 - mae: 0.0019 - val_loss: 0.0020 - val_mae: 0.0020\n",
      "Epoch 93/1000\n",
      "88/88 [==============================] - 0s 2ms/sample - loss: 0.0019 - mae: 0.0019 - val_loss: 0.0020 - val_mae: 0.0020\n",
      "Epoch 94/1000\n",
      "88/88 [==============================] - 0s 2ms/sample - loss: 0.0019 - mae: 0.0019 - val_loss: 0.0019 - val_mae: 0.0019\n",
      "Epoch 95/1000\n",
      "88/88 [==============================] - 0s 2ms/sample - loss: 0.0019 - mae: 0.0019 - val_loss: 0.0019 - val_mae: 0.0019\n",
      "Epoch 96/1000\n",
      "88/88 [==============================] - 0s 2ms/sample - loss: 0.0019 - mae: 0.0019 - val_loss: 0.0019 - val_mae: 0.0019\n",
      "Epoch 97/1000\n",
      "88/88 [==============================] - 0s 2ms/sample - loss: 0.0019 - mae: 0.0019 - val_loss: 0.0019 - val_mae: 0.0019\n",
      "Epoch 98/1000\n",
      "88/88 [==============================] - 0s 2ms/sample - loss: 0.0019 - mae: 0.0019 - val_loss: 0.0019 - val_mae: 0.0019\n",
      "Epoch 99/1000\n",
      "88/88 [==============================] - 0s 2ms/sample - loss: 0.0019 - mae: 0.0019 - val_loss: 0.0019 - val_mae: 0.0019\n",
      "Epoch 100/1000\n",
      "77/88 [=========================>....] - ETA: 0s - loss: 0.0018 - mae: 0.0018\n",
      "Epoch 00100: val_loss improved from 0.00197 to 0.00193, saving model to /home/zhimin90/DePaul/CSC695/Github/CSC695-Masters-Research-on-Neural-Network-Time-Series-Attention-Models/Asset/checkpoints/_20200703-090549_model.hdf5\n"
     ]
    },
    {
     "name": "stdout",
     "output_type": "stream",
     "text": [
      "88/88 [==============================] - 0s 3ms/sample - loss: 0.0018 - mae: 0.0018 - val_loss: 0.0019 - val_mae: 0.0019\n",
      "Epoch 101/1000\n",
      "88/88 [==============================] - 0s 2ms/sample - loss: 0.0018 - mae: 0.0018 - val_loss: 0.0019 - val_mae: 0.0019\n",
      "Epoch 102/1000\n",
      "88/88 [==============================] - 0s 2ms/sample - loss: 0.0018 - mae: 0.0018 - val_loss: 0.0019 - val_mae: 0.0019\n",
      "Epoch 103/1000\n",
      "88/88 [==============================] - 0s 2ms/sample - loss: 0.0018 - mae: 0.0018 - val_loss: 0.0019 - val_mae: 0.0019\n",
      "Epoch 104/1000\n",
      "88/88 [==============================] - 0s 2ms/sample - loss: 0.0018 - mae: 0.0018 - val_loss: 0.0019 - val_mae: 0.0019\n",
      "Epoch 105/1000\n",
      "88/88 [==============================] - 0s 2ms/sample - loss: 0.0018 - mae: 0.0018 - val_loss: 0.0019 - val_mae: 0.0019\n",
      "Epoch 106/1000\n",
      "88/88 [==============================] - 0s 2ms/sample - loss: 0.0018 - mae: 0.0018 - val_loss: 0.0019 - val_mae: 0.0019\n",
      "Epoch 107/1000\n",
      "88/88 [==============================] - 0s 2ms/sample - loss: 0.0018 - mae: 0.0018 - val_loss: 0.0019 - val_mae: 0.0019\n",
      "Epoch 108/1000\n",
      "88/88 [==============================] - 0s 2ms/sample - loss: 0.0018 - mae: 0.0018 - val_loss: 0.0019 - val_mae: 0.0019\n",
      "Epoch 109/1000\n",
      "88/88 [==============================] - 0s 2ms/sample - loss: 0.0018 - mae: 0.0018 - val_loss: 0.0019 - val_mae: 0.0019\n",
      "Epoch 110/1000\n",
      "77/88 [=========================>....] - ETA: 0s - loss: 0.0018 - mae: 0.0018\n",
      "Epoch 00110: val_loss improved from 0.00193 to 0.00189, saving model to /home/zhimin90/DePaul/CSC695/Github/CSC695-Masters-Research-on-Neural-Network-Time-Series-Attention-Models/Asset/checkpoints/_20200703-090549_model.hdf5\n",
      "88/88 [==============================] - 0s 3ms/sample - loss: 0.0018 - mae: 0.0018 - val_loss: 0.0019 - val_mae: 0.0019\n",
      "Epoch 111/1000\n",
      "88/88 [==============================] - 0s 2ms/sample - loss: 0.0018 - mae: 0.0018 - val_loss: 0.0019 - val_mae: 0.0019\n",
      "Epoch 112/1000\n",
      "88/88 [==============================] - 0s 2ms/sample - loss: 0.0018 - mae: 0.0018 - val_loss: 0.0019 - val_mae: 0.0019\n",
      "Epoch 113/1000\n",
      "88/88 [==============================] - 0s 2ms/sample - loss: 0.0018 - mae: 0.0018 - val_loss: 0.0019 - val_mae: 0.0019\n",
      "Epoch 114/1000\n",
      "88/88 [==============================] - 0s 2ms/sample - loss: 0.0018 - mae: 0.0018 - val_loss: 0.0019 - val_mae: 0.0019\n",
      "Epoch 115/1000\n",
      "88/88 [==============================] - 0s 2ms/sample - loss: 0.0018 - mae: 0.0018 - val_loss: 0.0019 - val_mae: 0.0019\n",
      "Epoch 116/1000\n",
      "88/88 [==============================] - 0s 2ms/sample - loss: 0.0018 - mae: 0.0018 - val_loss: 0.0019 - val_mae: 0.0019\n",
      "Epoch 117/1000\n",
      "88/88 [==============================] - 0s 2ms/sample - loss: 0.0018 - mae: 0.0018 - val_loss: 0.0019 - val_mae: 0.0019\n",
      "Epoch 118/1000\n",
      "88/88 [==============================] - 0s 2ms/sample - loss: 0.0018 - mae: 0.0018 - val_loss: 0.0019 - val_mae: 0.0019\n",
      "Epoch 119/1000\n",
      "88/88 [==============================] - 0s 2ms/sample - loss: 0.0018 - mae: 0.0018 - val_loss: 0.0019 - val_mae: 0.0019\n",
      "Epoch 120/1000\n",
      "77/88 [=========================>....] - ETA: 0s - loss: 0.0018 - mae: 0.0018\n",
      "Epoch 00120: val_loss improved from 0.00189 to 0.00187, saving model to /home/zhimin90/DePaul/CSC695/Github/CSC695-Masters-Research-on-Neural-Network-Time-Series-Attention-Models/Asset/checkpoints/_20200703-090549_model.hdf5\n",
      "88/88 [==============================] - 0s 3ms/sample - loss: 0.0018 - mae: 0.0018 - val_loss: 0.0019 - val_mae: 0.0019\n",
      "Epoch 121/1000\n",
      "88/88 [==============================] - 0s 2ms/sample - loss: 0.0018 - mae: 0.0018 - val_loss: 0.0019 - val_mae: 0.0019\n",
      "Epoch 122/1000\n",
      "88/88 [==============================] - 0s 2ms/sample - loss: 0.0018 - mae: 0.0018 - val_loss: 0.0019 - val_mae: 0.0019\n",
      "Epoch 123/1000\n",
      "88/88 [==============================] - 0s 2ms/sample - loss: 0.0018 - mae: 0.0018 - val_loss: 0.0019 - val_mae: 0.0019\n",
      "Epoch 124/1000\n",
      "88/88 [==============================] - 0s 2ms/sample - loss: 0.0018 - mae: 0.0018 - val_loss: 0.0019 - val_mae: 0.0019\n",
      "Epoch 125/1000\n",
      "88/88 [==============================] - 0s 2ms/sample - loss: 0.0018 - mae: 0.0018 - val_loss: 0.0019 - val_mae: 0.0019\n",
      "Epoch 126/1000\n",
      "88/88 [==============================] - 0s 2ms/sample - loss: 0.0018 - mae: 0.0018 - val_loss: 0.0019 - val_mae: 0.0019\n",
      "Epoch 127/1000\n",
      "88/88 [==============================] - 0s 2ms/sample - loss: 0.0018 - mae: 0.0018 - val_loss: 0.0019 - val_mae: 0.0019\n",
      "Epoch 128/1000\n",
      "88/88 [==============================] - 0s 2ms/sample - loss: 0.0018 - mae: 0.0018 - val_loss: 0.0019 - val_mae: 0.0019\n",
      "Epoch 129/1000\n",
      "88/88 [==============================] - 0s 2ms/sample - loss: 0.0018 - mae: 0.0018 - val_loss: 0.0019 - val_mae: 0.0019\n",
      "Epoch 130/1000\n",
      "77/88 [=========================>....] - ETA: 0s - loss: 0.0018 - mae: 0.0018\n",
      "Epoch 00130: val_loss improved from 0.00187 to 0.00185, saving model to /home/zhimin90/DePaul/CSC695/Github/CSC695-Masters-Research-on-Neural-Network-Time-Series-Attention-Models/Asset/checkpoints/_20200703-090549_model.hdf5\n",
      "88/88 [==============================] - 0s 3ms/sample - loss: 0.0018 - mae: 0.0018 - val_loss: 0.0018 - val_mae: 0.0018\n",
      "Epoch 131/1000\n",
      "88/88 [==============================] - 0s 2ms/sample - loss: 0.0018 - mae: 0.0018 - val_loss: 0.0018 - val_mae: 0.0018\n",
      "Epoch 132/1000\n",
      "88/88 [==============================] - 0s 2ms/sample - loss: 0.0018 - mae: 0.0018 - val_loss: 0.0018 - val_mae: 0.0018\n",
      "Epoch 133/1000\n",
      "88/88 [==============================] - 0s 2ms/sample - loss: 0.0018 - mae: 0.0018 - val_loss: 0.0018 - val_mae: 0.0018\n",
      "Epoch 134/1000\n",
      "88/88 [==============================] - 0s 2ms/sample - loss: 0.0018 - mae: 0.0018 - val_loss: 0.0018 - val_mae: 0.0018\n",
      "Epoch 135/1000\n",
      "88/88 [==============================] - 0s 2ms/sample - loss: 0.0018 - mae: 0.0018 - val_loss: 0.0018 - val_mae: 0.0018\n",
      "Epoch 136/1000\n",
      "88/88 [==============================] - 0s 2ms/sample - loss: 0.0018 - mae: 0.0018 - val_loss: 0.0018 - val_mae: 0.0018\n",
      "Epoch 137/1000\n",
      "88/88 [==============================] - 0s 2ms/sample - loss: 0.0018 - mae: 0.0018 - val_loss: 0.0018 - val_mae: 0.0018\n",
      "Epoch 138/1000\n",
      "88/88 [==============================] - 0s 2ms/sample - loss: 0.0018 - mae: 0.0018 - val_loss: 0.0018 - val_mae: 0.0018\n",
      "Epoch 139/1000\n",
      "88/88 [==============================] - 0s 2ms/sample - loss: 0.0018 - mae: 0.0018 - val_loss: 0.0018 - val_mae: 0.0018\n",
      "Epoch 140/1000\n",
      "70/88 [======================>.......] - ETA: 0s - loss: 0.0017 - mae: 0.0017\n",
      "Epoch 00140: val_loss improved from 0.00185 to 0.00183, saving model to /home/zhimin90/DePaul/CSC695/Github/CSC695-Masters-Research-on-Neural-Network-Time-Series-Attention-Models/Asset/checkpoints/_20200703-090549_model.hdf5\n",
      "88/88 [==============================] - 0s 3ms/sample - loss: 0.0018 - mae: 0.0018 - val_loss: 0.0018 - val_mae: 0.0018\n",
      "Epoch 141/1000\n",
      "88/88 [==============================] - 0s 2ms/sample - loss: 0.0017 - mae: 0.0017 - val_loss: 0.0018 - val_mae: 0.0018\n",
      "Epoch 142/1000\n",
      "88/88 [==============================] - 0s 2ms/sample - loss: 0.0017 - mae: 0.0017 - val_loss: 0.0018 - val_mae: 0.0018\n",
      "Epoch 143/1000\n",
      "88/88 [==============================] - 0s 3ms/sample - loss: 0.0017 - mae: 0.0017 - val_loss: 0.0018 - val_mae: 0.0018\n",
      "Epoch 144/1000\n",
      "88/88 [==============================] - 0s 2ms/sample - loss: 0.0017 - mae: 0.0017 - val_loss: 0.0018 - val_mae: 0.0018\n",
      "Epoch 145/1000\n",
      "88/88 [==============================] - 0s 2ms/sample - loss: 0.0017 - mae: 0.0017 - val_loss: 0.0018 - val_mae: 0.0018\n",
      "Epoch 146/1000\n",
      "88/88 [==============================] - 0s 2ms/sample - loss: 0.0017 - mae: 0.0017 - val_loss: 0.0018 - val_mae: 0.0018\n",
      "Epoch 147/1000\n",
      "88/88 [==============================] - 0s 2ms/sample - loss: 0.0017 - mae: 0.0017 - val_loss: 0.0018 - val_mae: 0.0018\n",
      "Epoch 148/1000\n",
      "88/88 [==============================] - 0s 2ms/sample - loss: 0.0017 - mae: 0.0017 - val_loss: 0.0018 - val_mae: 0.0018\n",
      "Epoch 149/1000\n",
      "88/88 [==============================] - 0s 2ms/sample - loss: 0.0017 - mae: 0.0017 - val_loss: 0.0018 - val_mae: 0.0018\n",
      "Epoch 150/1000\n",
      "77/88 [=========================>....] - ETA: 0s - loss: 0.0017 - mae: 0.0017\n",
      "Epoch 00150: val_loss improved from 0.00183 to 0.00182, saving model to /home/zhimin90/DePaul/CSC695/Github/CSC695-Masters-Research-on-Neural-Network-Time-Series-Attention-Models/Asset/checkpoints/_20200703-090549_model.hdf5\n"
     ]
    },
    {
     "name": "stdout",
     "output_type": "stream",
     "text": [
      "88/88 [==============================] - 0s 3ms/sample - loss: 0.0017 - mae: 0.0017 - val_loss: 0.0018 - val_mae: 0.0018\n",
      "Epoch 151/1000\n",
      "88/88 [==============================] - 0s 2ms/sample - loss: 0.0017 - mae: 0.0017 - val_loss: 0.0018 - val_mae: 0.0018\n",
      "Epoch 152/1000\n",
      "88/88 [==============================] - 0s 2ms/sample - loss: 0.0017 - mae: 0.0017 - val_loss: 0.0018 - val_mae: 0.0018\n",
      "Epoch 153/1000\n",
      "88/88 [==============================] - 0s 2ms/sample - loss: 0.0017 - mae: 0.0017 - val_loss: 0.0018 - val_mae: 0.0018\n",
      "Epoch 154/1000\n",
      "88/88 [==============================] - 0s 2ms/sample - loss: 0.0017 - mae: 0.0017 - val_loss: 0.0018 - val_mae: 0.0018\n",
      "Epoch 155/1000\n",
      "88/88 [==============================] - 0s 2ms/sample - loss: 0.0017 - mae: 0.0017 - val_loss: 0.0018 - val_mae: 0.0018\n",
      "Epoch 156/1000\n",
      "88/88 [==============================] - 0s 2ms/sample - loss: 0.0017 - mae: 0.0017 - val_loss: 0.0018 - val_mae: 0.0018\n",
      "Epoch 157/1000\n",
      "88/88 [==============================] - 0s 2ms/sample - loss: 0.0017 - mae: 0.0017 - val_loss: 0.0018 - val_mae: 0.0018\n",
      "Epoch 158/1000\n",
      "88/88 [==============================] - 0s 2ms/sample - loss: 0.0017 - mae: 0.0017 - val_loss: 0.0018 - val_mae: 0.0018\n",
      "Epoch 159/1000\n",
      "88/88 [==============================] - 0s 2ms/sample - loss: 0.0017 - mae: 0.0017 - val_loss: 0.0018 - val_mae: 0.0018\n",
      "Epoch 160/1000\n",
      "77/88 [=========================>....] - ETA: 0s - loss: 0.0017 - mae: 0.0017\n",
      "Epoch 00160: val_loss improved from 0.00182 to 0.00181, saving model to /home/zhimin90/DePaul/CSC695/Github/CSC695-Masters-Research-on-Neural-Network-Time-Series-Attention-Models/Asset/checkpoints/_20200703-090549_model.hdf5\n",
      "88/88 [==============================] - 0s 3ms/sample - loss: 0.0017 - mae: 0.0017 - val_loss: 0.0018 - val_mae: 0.0018\n",
      "Epoch 161/1000\n",
      "88/88 [==============================] - 0s 2ms/sample - loss: 0.0017 - mae: 0.0017 - val_loss: 0.0018 - val_mae: 0.0018\n",
      "Epoch 162/1000\n",
      "88/88 [==============================] - 0s 2ms/sample - loss: 0.0017 - mae: 0.0017 - val_loss: 0.0018 - val_mae: 0.0018\n",
      "Epoch 163/1000\n",
      "88/88 [==============================] - 0s 2ms/sample - loss: 0.0017 - mae: 0.0017 - val_loss: 0.0018 - val_mae: 0.0018\n",
      "Epoch 164/1000\n",
      "88/88 [==============================] - 0s 2ms/sample - loss: 0.0017 - mae: 0.0017 - val_loss: 0.0018 - val_mae: 0.0018\n",
      "Epoch 165/1000\n",
      "88/88 [==============================] - 0s 2ms/sample - loss: 0.0017 - mae: 0.0017 - val_loss: 0.0018 - val_mae: 0.0018\n",
      "Epoch 166/1000\n",
      "88/88 [==============================] - 0s 2ms/sample - loss: 0.0017 - mae: 0.0017 - val_loss: 0.0018 - val_mae: 0.0018\n",
      "Epoch 167/1000\n",
      "88/88 [==============================] - 0s 2ms/sample - loss: 0.0017 - mae: 0.0017 - val_loss: 0.0018 - val_mae: 0.0018\n",
      "Epoch 168/1000\n",
      "88/88 [==============================] - 0s 2ms/sample - loss: 0.0017 - mae: 0.0017 - val_loss: 0.0018 - val_mae: 0.0018\n",
      "Epoch 169/1000\n",
      "88/88 [==============================] - 0s 2ms/sample - loss: 0.0017 - mae: 0.0017 - val_loss: 0.0018 - val_mae: 0.0018\n",
      "Epoch 170/1000\n",
      "77/88 [=========================>....] - ETA: 0s - loss: 0.0017 - mae: 0.0017\n",
      "Epoch 00170: val_loss improved from 0.00181 to 0.00180, saving model to /home/zhimin90/DePaul/CSC695/Github/CSC695-Masters-Research-on-Neural-Network-Time-Series-Attention-Models/Asset/checkpoints/_20200703-090549_model.hdf5\n",
      "88/88 [==============================] - 0s 3ms/sample - loss: 0.0017 - mae: 0.0017 - val_loss: 0.0018 - val_mae: 0.0018\n",
      "Epoch 171/1000\n",
      "88/88 [==============================] - 0s 2ms/sample - loss: 0.0017 - mae: 0.0017 - val_loss: 0.0018 - val_mae: 0.0018\n",
      "Epoch 172/1000\n",
      "88/88 [==============================] - 0s 2ms/sample - loss: 0.0017 - mae: 0.0017 - val_loss: 0.0018 - val_mae: 0.0018\n",
      "Epoch 173/1000\n",
      "88/88 [==============================] - 0s 2ms/sample - loss: 0.0017 - mae: 0.0017 - val_loss: 0.0018 - val_mae: 0.0018\n",
      "Epoch 174/1000\n",
      "88/88 [==============================] - 0s 2ms/sample - loss: 0.0017 - mae: 0.0017 - val_loss: 0.0018 - val_mae: 0.0018\n",
      "Epoch 175/1000\n",
      "88/88 [==============================] - 0s 2ms/sample - loss: 0.0017 - mae: 0.0017 - val_loss: 0.0018 - val_mae: 0.0018\n",
      "Epoch 176/1000\n",
      "88/88 [==============================] - 0s 2ms/sample - loss: 0.0017 - mae: 0.0017 - val_loss: 0.0018 - val_mae: 0.0018\n",
      "Epoch 177/1000\n",
      "88/88 [==============================] - 0s 2ms/sample - loss: 0.0017 - mae: 0.0017 - val_loss: 0.0018 - val_mae: 0.0018\n",
      "Epoch 178/1000\n",
      "88/88 [==============================] - 0s 2ms/sample - loss: 0.0017 - mae: 0.0017 - val_loss: 0.0018 - val_mae: 0.0018\n",
      "Epoch 179/1000\n",
      "88/88 [==============================] - 0s 2ms/sample - loss: 0.0017 - mae: 0.0017 - val_loss: 0.0018 - val_mae: 0.0018\n",
      "Epoch 180/1000\n",
      "70/88 [======================>.......] - ETA: 0s - loss: 0.0017 - mae: 0.0017\n",
      "Epoch 00180: val_loss improved from 0.00180 to 0.00179, saving model to /home/zhimin90/DePaul/CSC695/Github/CSC695-Masters-Research-on-Neural-Network-Time-Series-Attention-Models/Asset/checkpoints/_20200703-090549_model.hdf5\n",
      "88/88 [==============================] - 0s 3ms/sample - loss: 0.0017 - mae: 0.0017 - val_loss: 0.0018 - val_mae: 0.0018\n",
      "Epoch 181/1000\n",
      "88/88 [==============================] - 0s 2ms/sample - loss: 0.0017 - mae: 0.0017 - val_loss: 0.0018 - val_mae: 0.0018\n",
      "Epoch 182/1000\n",
      "88/88 [==============================] - 0s 2ms/sample - loss: 0.0017 - mae: 0.0017 - val_loss: 0.0018 - val_mae: 0.0018\n",
      "Epoch 183/1000\n",
      "88/88 [==============================] - 0s 2ms/sample - loss: 0.0017 - mae: 0.0017 - val_loss: 0.0018 - val_mae: 0.0018\n",
      "Epoch 184/1000\n",
      "88/88 [==============================] - 0s 2ms/sample - loss: 0.0017 - mae: 0.0017 - val_loss: 0.0018 - val_mae: 0.0018\n",
      "Epoch 185/1000\n",
      "88/88 [==============================] - 0s 3ms/sample - loss: 0.0017 - mae: 0.0017 - val_loss: 0.0018 - val_mae: 0.0018\n",
      "Epoch 186/1000\n",
      "88/88 [==============================] - 0s 2ms/sample - loss: 0.0017 - mae: 0.0017 - val_loss: 0.0018 - val_mae: 0.0018\n",
      "Epoch 187/1000\n",
      "88/88 [==============================] - 0s 2ms/sample - loss: 0.0017 - mae: 0.0017 - val_loss: 0.0018 - val_mae: 0.0018\n",
      "Epoch 188/1000\n",
      "88/88 [==============================] - 0s 3ms/sample - loss: 0.0017 - mae: 0.0017 - val_loss: 0.0018 - val_mae: 0.0018\n",
      "Epoch 189/1000\n",
      "88/88 [==============================] - 0s 2ms/sample - loss: 0.0017 - mae: 0.0017 - val_loss: 0.0018 - val_mae: 0.0018\n",
      "Epoch 190/1000\n",
      "77/88 [=========================>....] - ETA: 0s - loss: 0.0017 - mae: 0.0017\n",
      "Epoch 00190: val_loss improved from 0.00179 to 0.00178, saving model to /home/zhimin90/DePaul/CSC695/Github/CSC695-Masters-Research-on-Neural-Network-Time-Series-Attention-Models/Asset/checkpoints/_20200703-090549_model.hdf5\n",
      "88/88 [==============================] - 0s 3ms/sample - loss: 0.0017 - mae: 0.0017 - val_loss: 0.0018 - val_mae: 0.0018\n",
      "Epoch 191/1000\n",
      "88/88 [==============================] - 0s 2ms/sample - loss: 0.0017 - mae: 0.0017 - val_loss: 0.0018 - val_mae: 0.0018\n",
      "Epoch 192/1000\n",
      "88/88 [==============================] - 0s 2ms/sample - loss: 0.0017 - mae: 0.0017 - val_loss: 0.0018 - val_mae: 0.0018\n",
      "Epoch 193/1000\n",
      "88/88 [==============================] - 0s 2ms/sample - loss: 0.0017 - mae: 0.0017 - val_loss: 0.0018 - val_mae: 0.0018\n",
      "Epoch 194/1000\n",
      "88/88 [==============================] - 0s 2ms/sample - loss: 0.0017 - mae: 0.0017 - val_loss: 0.0018 - val_mae: 0.0018\n",
      "Epoch 195/1000\n",
      "88/88 [==============================] - 0s 2ms/sample - loss: 0.0017 - mae: 0.0017 - val_loss: 0.0018 - val_mae: 0.0018\n",
      "Epoch 196/1000\n",
      "88/88 [==============================] - 0s 2ms/sample - loss: 0.0017 - mae: 0.0017 - val_loss: 0.0018 - val_mae: 0.0018\n",
      "Epoch 197/1000\n",
      "88/88 [==============================] - 0s 2ms/sample - loss: 0.0017 - mae: 0.0017 - val_loss: 0.0018 - val_mae: 0.0018\n",
      "Epoch 198/1000\n",
      "88/88 [==============================] - 0s 2ms/sample - loss: 0.0017 - mae: 0.0017 - val_loss: 0.0018 - val_mae: 0.0018\n",
      "Epoch 199/1000\n",
      "88/88 [==============================] - 0s 2ms/sample - loss: 0.0017 - mae: 0.0017 - val_loss: 0.0018 - val_mae: 0.0018\n",
      "Epoch 200/1000\n",
      "77/88 [=========================>....] - ETA: 0s - loss: 0.0017 - mae: 0.0017\n",
      "Epoch 00200: val_loss improved from 0.00178 to 0.00177, saving model to /home/zhimin90/DePaul/CSC695/Github/CSC695-Masters-Research-on-Neural-Network-Time-Series-Attention-Models/Asset/checkpoints/_20200703-090549_model.hdf5\n"
     ]
    },
    {
     "name": "stdout",
     "output_type": "stream",
     "text": [
      "88/88 [==============================] - 0s 3ms/sample - loss: 0.0017 - mae: 0.0017 - val_loss: 0.0018 - val_mae: 0.0018\n",
      "Epoch 201/1000\n",
      "88/88 [==============================] - 0s 2ms/sample - loss: 0.0017 - mae: 0.0017 - val_loss: 0.0018 - val_mae: 0.0018\n",
      "Epoch 202/1000\n",
      "88/88 [==============================] - 0s 2ms/sample - loss: 0.0017 - mae: 0.0017 - val_loss: 0.0018 - val_mae: 0.0018\n",
      "Epoch 203/1000\n",
      "88/88 [==============================] - 0s 2ms/sample - loss: 0.0017 - mae: 0.0017 - val_loss: 0.0018 - val_mae: 0.0018\n",
      "Epoch 204/1000\n",
      "88/88 [==============================] - 0s 2ms/sample - loss: 0.0017 - mae: 0.0017 - val_loss: 0.0018 - val_mae: 0.0018\n",
      "Epoch 205/1000\n",
      "88/88 [==============================] - 0s 2ms/sample - loss: 0.0017 - mae: 0.0017 - val_loss: 0.0018 - val_mae: 0.0018\n",
      "Epoch 206/1000\n",
      "88/88 [==============================] - 0s 2ms/sample - loss: 0.0017 - mae: 0.0017 - val_loss: 0.0018 - val_mae: 0.0018\n",
      "Epoch 207/1000\n",
      "88/88 [==============================] - 0s 2ms/sample - loss: 0.0017 - mae: 0.0017 - val_loss: 0.0018 - val_mae: 0.0018\n",
      "Epoch 208/1000\n",
      "88/88 [==============================] - 0s 2ms/sample - loss: 0.0017 - mae: 0.0017 - val_loss: 0.0018 - val_mae: 0.0018\n",
      "Epoch 209/1000\n",
      "88/88 [==============================] - 0s 2ms/sample - loss: 0.0017 - mae: 0.0017 - val_loss: 0.0018 - val_mae: 0.0018\n",
      "Epoch 210/1000\n",
      "77/88 [=========================>....] - ETA: 0s - loss: 0.0017 - mae: 0.0017\n",
      "Epoch 00210: val_loss improved from 0.00177 to 0.00176, saving model to /home/zhimin90/DePaul/CSC695/Github/CSC695-Masters-Research-on-Neural-Network-Time-Series-Attention-Models/Asset/checkpoints/_20200703-090549_model.hdf5\n",
      "88/88 [==============================] - 0s 3ms/sample - loss: 0.0017 - mae: 0.0017 - val_loss: 0.0018 - val_mae: 0.0018\n",
      "Epoch 211/1000\n",
      "88/88 [==============================] - 0s 2ms/sample - loss: 0.0017 - mae: 0.0017 - val_loss: 0.0018 - val_mae: 0.0018\n",
      "Epoch 212/1000\n",
      "88/88 [==============================] - 0s 2ms/sample - loss: 0.0017 - mae: 0.0017 - val_loss: 0.0018 - val_mae: 0.0018\n",
      "Epoch 213/1000\n",
      "88/88 [==============================] - 0s 2ms/sample - loss: 0.0017 - mae: 0.0017 - val_loss: 0.0018 - val_mae: 0.0018\n",
      "Epoch 214/1000\n",
      "88/88 [==============================] - 0s 2ms/sample - loss: 0.0017 - mae: 0.0017 - val_loss: 0.0018 - val_mae: 0.0018\n",
      "Epoch 215/1000\n",
      "88/88 [==============================] - 0s 2ms/sample - loss: 0.0017 - mae: 0.0017 - val_loss: 0.0018 - val_mae: 0.0018\n",
      "Epoch 216/1000\n",
      "88/88 [==============================] - 0s 2ms/sample - loss: 0.0017 - mae: 0.0017 - val_loss: 0.0018 - val_mae: 0.0018\n",
      "Epoch 217/1000\n",
      "88/88 [==============================] - 0s 2ms/sample - loss: 0.0017 - mae: 0.0017 - val_loss: 0.0018 - val_mae: 0.0018\n",
      "Epoch 218/1000\n",
      "88/88 [==============================] - 0s 2ms/sample - loss: 0.0017 - mae: 0.0017 - val_loss: 0.0018 - val_mae: 0.0018\n",
      "Epoch 219/1000\n",
      "88/88 [==============================] - 0s 2ms/sample - loss: 0.0017 - mae: 0.0017 - val_loss: 0.0018 - val_mae: 0.0018\n",
      "Epoch 220/1000\n",
      "77/88 [=========================>....] - ETA: 0s - loss: 0.0017 - mae: 0.0017\n",
      "Epoch 00220: val_loss improved from 0.00176 to 0.00176, saving model to /home/zhimin90/DePaul/CSC695/Github/CSC695-Masters-Research-on-Neural-Network-Time-Series-Attention-Models/Asset/checkpoints/_20200703-090549_model.hdf5\n",
      "88/88 [==============================] - 0s 3ms/sample - loss: 0.0017 - mae: 0.0017 - val_loss: 0.0018 - val_mae: 0.0018\n",
      "Epoch 221/1000\n",
      "88/88 [==============================] - 0s 2ms/sample - loss: 0.0017 - mae: 0.0017 - val_loss: 0.0018 - val_mae: 0.0018\n",
      "Epoch 222/1000\n",
      "88/88 [==============================] - 0s 2ms/sample - loss: 0.0017 - mae: 0.0017 - val_loss: 0.0018 - val_mae: 0.0018\n",
      "Epoch 223/1000\n",
      "88/88 [==============================] - 0s 2ms/sample - loss: 0.0017 - mae: 0.0017 - val_loss: 0.0018 - val_mae: 0.0018\n",
      "Epoch 224/1000\n",
      "88/88 [==============================] - 0s 2ms/sample - loss: 0.0017 - mae: 0.0017 - val_loss: 0.0018 - val_mae: 0.0018\n",
      "Epoch 225/1000\n",
      "88/88 [==============================] - 0s 2ms/sample - loss: 0.0017 - mae: 0.0017 - val_loss: 0.0018 - val_mae: 0.0018\n",
      "Epoch 226/1000\n",
      "88/88 [==============================] - 0s 2ms/sample - loss: 0.0017 - mae: 0.0017 - val_loss: 0.0018 - val_mae: 0.0018\n",
      "Epoch 227/1000\n",
      "88/88 [==============================] - 0s 2ms/sample - loss: 0.0017 - mae: 0.0017 - val_loss: 0.0018 - val_mae: 0.0018\n",
      "Epoch 228/1000\n",
      "88/88 [==============================] - 0s 2ms/sample - loss: 0.0017 - mae: 0.0017 - val_loss: 0.0018 - val_mae: 0.0018\n",
      "Epoch 229/1000\n",
      "88/88 [==============================] - 0s 2ms/sample - loss: 0.0017 - mae: 0.0017 - val_loss: 0.0018 - val_mae: 0.0018\n",
      "Epoch 230/1000\n",
      "84/88 [===========================>..] - ETA: 0s - loss: 0.0017 - mae: 0.0017\n",
      "Epoch 00230: val_loss improved from 0.00176 to 0.00175, saving model to /home/zhimin90/DePaul/CSC695/Github/CSC695-Masters-Research-on-Neural-Network-Time-Series-Attention-Models/Asset/checkpoints/_20200703-090549_model.hdf5\n",
      "88/88 [==============================] - 0s 2ms/sample - loss: 0.0017 - mae: 0.0017 - val_loss: 0.0018 - val_mae: 0.0018\n",
      "Epoch 231/1000\n",
      "88/88 [==============================] - 0s 2ms/sample - loss: 0.0017 - mae: 0.0017 - val_loss: 0.0018 - val_mae: 0.0018\n",
      "Epoch 232/1000\n",
      "88/88 [==============================] - 0s 2ms/sample - loss: 0.0017 - mae: 0.0017 - val_loss: 0.0018 - val_mae: 0.0018\n",
      "Epoch 233/1000\n",
      "88/88 [==============================] - 0s 2ms/sample - loss: 0.0017 - mae: 0.0017 - val_loss: 0.0018 - val_mae: 0.0018\n",
      "Epoch 234/1000\n",
      "88/88 [==============================] - 0s 2ms/sample - loss: 0.0017 - mae: 0.0017 - val_loss: 0.0018 - val_mae: 0.0018\n",
      "Epoch 235/1000\n",
      "88/88 [==============================] - 0s 2ms/sample - loss: 0.0017 - mae: 0.0017 - val_loss: 0.0018 - val_mae: 0.0018\n",
      "Epoch 236/1000\n",
      "88/88 [==============================] - 0s 2ms/sample - loss: 0.0017 - mae: 0.0017 - val_loss: 0.0018 - val_mae: 0.0018\n",
      "Epoch 237/1000\n",
      "88/88 [==============================] - 0s 2ms/sample - loss: 0.0017 - mae: 0.0017 - val_loss: 0.0018 - val_mae: 0.0018\n",
      "Epoch 238/1000\n",
      "88/88 [==============================] - 0s 2ms/sample - loss: 0.0017 - mae: 0.0017 - val_loss: 0.0018 - val_mae: 0.0018\n",
      "Epoch 239/1000\n",
      "88/88 [==============================] - 0s 2ms/sample - loss: 0.0017 - mae: 0.0017 - val_loss: 0.0018 - val_mae: 0.0018\n",
      "Epoch 240/1000\n",
      "77/88 [=========================>....] - ETA: 0s - loss: 0.0017 - mae: 0.0017\n",
      "Epoch 00240: val_loss improved from 0.00175 to 0.00175, saving model to /home/zhimin90/DePaul/CSC695/Github/CSC695-Masters-Research-on-Neural-Network-Time-Series-Attention-Models/Asset/checkpoints/_20200703-090549_model.hdf5\n",
      "88/88 [==============================] - 0s 3ms/sample - loss: 0.0017 - mae: 0.0017 - val_loss: 0.0017 - val_mae: 0.0017\n",
      "Epoch 241/1000\n",
      "88/88 [==============================] - 0s 2ms/sample - loss: 0.0017 - mae: 0.0017 - val_loss: 0.0018 - val_mae: 0.0018\n",
      "Epoch 242/1000\n",
      "88/88 [==============================] - 0s 2ms/sample - loss: 0.0017 - mae: 0.0017 - val_loss: 0.0018 - val_mae: 0.0018\n",
      "Epoch 243/1000\n",
      "88/88 [==============================] - 0s 2ms/sample - loss: 0.0016 - mae: 0.0016 - val_loss: 0.0018 - val_mae: 0.0018\n",
      "Epoch 244/1000\n",
      "88/88 [==============================] - 0s 2ms/sample - loss: 0.0017 - mae: 0.0017 - val_loss: 0.0017 - val_mae: 0.0017\n",
      "Epoch 245/1000\n",
      "88/88 [==============================] - 0s 2ms/sample - loss: 0.0016 - mae: 0.0016 - val_loss: 0.0017 - val_mae: 0.0017\n",
      "Epoch 246/1000\n",
      "88/88 [==============================] - 0s 2ms/sample - loss: 0.0016 - mae: 0.0016 - val_loss: 0.0018 - val_mae: 0.0018\n",
      "Epoch 247/1000\n",
      "88/88 [==============================] - 0s 2ms/sample - loss: 0.0016 - mae: 0.0016 - val_loss: 0.0017 - val_mae: 0.0017\n",
      "Epoch 248/1000\n",
      "88/88 [==============================] - 0s 2ms/sample - loss: 0.0016 - mae: 0.0016 - val_loss: 0.0018 - val_mae: 0.0018\n",
      "Epoch 249/1000\n",
      "88/88 [==============================] - 0s 2ms/sample - loss: 0.0016 - mae: 0.0016 - val_loss: 0.0017 - val_mae: 0.0017\n",
      "Epoch 250/1000\n",
      "77/88 [=========================>....] - ETA: 0s - loss: 0.0016 - mae: 0.0016\n",
      "Epoch 00250: val_loss improved from 0.00175 to 0.00175, saving model to /home/zhimin90/DePaul/CSC695/Github/CSC695-Masters-Research-on-Neural-Network-Time-Series-Attention-Models/Asset/checkpoints/_20200703-090549_model.hdf5\n"
     ]
    },
    {
     "name": "stdout",
     "output_type": "stream",
     "text": [
      "88/88 [==============================] - 0s 3ms/sample - loss: 0.0016 - mae: 0.0016 - val_loss: 0.0017 - val_mae: 0.0017\n",
      "Epoch 251/1000\n",
      "88/88 [==============================] - 0s 2ms/sample - loss: 0.0016 - mae: 0.0016 - val_loss: 0.0018 - val_mae: 0.0018\n",
      "Epoch 252/1000\n",
      "88/88 [==============================] - 0s 2ms/sample - loss: 0.0016 - mae: 0.0016 - val_loss: 0.0017 - val_mae: 0.0017\n",
      "Epoch 253/1000\n",
      "88/88 [==============================] - 0s 2ms/sample - loss: 0.0016 - mae: 0.0016 - val_loss: 0.0017 - val_mae: 0.0017\n",
      "Epoch 254/1000\n",
      "88/88 [==============================] - 0s 2ms/sample - loss: 0.0016 - mae: 0.0016 - val_loss: 0.0017 - val_mae: 0.0017\n",
      "Epoch 255/1000\n",
      "88/88 [==============================] - 0s 2ms/sample - loss: 0.0016 - mae: 0.0016 - val_loss: 0.0017 - val_mae: 0.0017\n",
      "Epoch 256/1000\n",
      "88/88 [==============================] - 0s 2ms/sample - loss: 0.0016 - mae: 0.0016 - val_loss: 0.0017 - val_mae: 0.0017\n",
      "Epoch 257/1000\n",
      "88/88 [==============================] - 0s 2ms/sample - loss: 0.0016 - mae: 0.0016 - val_loss: 0.0017 - val_mae: 0.0017\n",
      "Epoch 258/1000\n",
      "88/88 [==============================] - 0s 2ms/sample - loss: 0.0016 - mae: 0.0016 - val_loss: 0.0017 - val_mae: 0.0017\n",
      "Epoch 259/1000\n",
      "88/88 [==============================] - 0s 2ms/sample - loss: 0.0016 - mae: 0.0016 - val_loss: 0.0017 - val_mae: 0.0017\n",
      "Epoch 260/1000\n",
      "77/88 [=========================>....] - ETA: 0s - loss: 0.0016 - mae: 0.0016\n",
      "Epoch 00260: val_loss improved from 0.00175 to 0.00174, saving model to /home/zhimin90/DePaul/CSC695/Github/CSC695-Masters-Research-on-Neural-Network-Time-Series-Attention-Models/Asset/checkpoints/_20200703-090549_model.hdf5\n",
      "88/88 [==============================] - 0s 3ms/sample - loss: 0.0016 - mae: 0.0016 - val_loss: 0.0017 - val_mae: 0.0017\n",
      "Epoch 261/1000\n",
      "88/88 [==============================] - 0s 2ms/sample - loss: 0.0016 - mae: 0.0016 - val_loss: 0.0017 - val_mae: 0.0017\n",
      "Epoch 262/1000\n",
      "88/88 [==============================] - 0s 2ms/sample - loss: 0.0016 - mae: 0.0016 - val_loss: 0.0017 - val_mae: 0.0017\n",
      "Epoch 263/1000\n",
      "88/88 [==============================] - 0s 2ms/sample - loss: 0.0016 - mae: 0.0016 - val_loss: 0.0017 - val_mae: 0.0017\n",
      "Epoch 264/1000\n",
      "88/88 [==============================] - 0s 2ms/sample - loss: 0.0016 - mae: 0.0016 - val_loss: 0.0017 - val_mae: 0.0017\n",
      "Epoch 265/1000\n",
      "88/88 [==============================] - 0s 2ms/sample - loss: 0.0016 - mae: 0.0016 - val_loss: 0.0017 - val_mae: 0.0017\n",
      "Epoch 266/1000\n",
      "88/88 [==============================] - 0s 2ms/sample - loss: 0.0016 - mae: 0.0016 - val_loss: 0.0017 - val_mae: 0.0017\n",
      "Epoch 267/1000\n",
      "88/88 [==============================] - 0s 2ms/sample - loss: 0.0016 - mae: 0.0016 - val_loss: 0.0017 - val_mae: 0.0017\n",
      "Epoch 268/1000\n",
      "88/88 [==============================] - 0s 2ms/sample - loss: 0.0016 - mae: 0.0016 - val_loss: 0.0017 - val_mae: 0.0017\n",
      "Epoch 269/1000\n",
      "88/88 [==============================] - 0s 2ms/sample - loss: 0.0016 - mae: 0.0016 - val_loss: 0.0017 - val_mae: 0.0017\n",
      "Epoch 270/1000\n",
      "77/88 [=========================>....] - ETA: 0s - loss: 0.0016 - mae: 0.0016\n",
      "Epoch 00270: val_loss improved from 0.00174 to 0.00174, saving model to /home/zhimin90/DePaul/CSC695/Github/CSC695-Masters-Research-on-Neural-Network-Time-Series-Attention-Models/Asset/checkpoints/_20200703-090549_model.hdf5\n",
      "88/88 [==============================] - 0s 3ms/sample - loss: 0.0016 - mae: 0.0016 - val_loss: 0.0017 - val_mae: 0.0017\n",
      "Epoch 271/1000\n",
      "88/88 [==============================] - 0s 2ms/sample - loss: 0.0016 - mae: 0.0016 - val_loss: 0.0017 - val_mae: 0.0017\n",
      "Epoch 272/1000\n",
      "88/88 [==============================] - 0s 2ms/sample - loss: 0.0016 - mae: 0.0016 - val_loss: 0.0017 - val_mae: 0.0017\n",
      "Epoch 273/1000\n",
      "88/88 [==============================] - 0s 2ms/sample - loss: 0.0016 - mae: 0.0016 - val_loss: 0.0017 - val_mae: 0.0017\n",
      "Epoch 274/1000\n",
      "88/88 [==============================] - 0s 2ms/sample - loss: 0.0016 - mae: 0.0016 - val_loss: 0.0017 - val_mae: 0.0017\n",
      "Epoch 275/1000\n",
      "88/88 [==============================] - 0s 2ms/sample - loss: 0.0016 - mae: 0.0016 - val_loss: 0.0017 - val_mae: 0.0017\n",
      "Epoch 276/1000\n",
      "88/88 [==============================] - 0s 2ms/sample - loss: 0.0016 - mae: 0.0016 - val_loss: 0.0017 - val_mae: 0.0017\n",
      "Epoch 277/1000\n",
      "88/88 [==============================] - 0s 2ms/sample - loss: 0.0016 - mae: 0.0016 - val_loss: 0.0017 - val_mae: 0.0017\n",
      "Epoch 278/1000\n",
      "88/88 [==============================] - 0s 2ms/sample - loss: 0.0016 - mae: 0.0016 - val_loss: 0.0017 - val_mae: 0.0017\n",
      "Epoch 279/1000\n",
      "88/88 [==============================] - 0s 2ms/sample - loss: 0.0016 - mae: 0.0016 - val_loss: 0.0017 - val_mae: 0.0017\n",
      "Epoch 280/1000\n",
      "77/88 [=========================>....] - ETA: 0s - loss: 0.0016 - mae: 0.0016\n",
      "Epoch 00280: val_loss improved from 0.00174 to 0.00174, saving model to /home/zhimin90/DePaul/CSC695/Github/CSC695-Masters-Research-on-Neural-Network-Time-Series-Attention-Models/Asset/checkpoints/_20200703-090549_model.hdf5\n",
      "88/88 [==============================] - 0s 3ms/sample - loss: 0.0016 - mae: 0.0016 - val_loss: 0.0017 - val_mae: 0.0017\n",
      "Epoch 281/1000\n",
      "88/88 [==============================] - 0s 2ms/sample - loss: 0.0016 - mae: 0.0016 - val_loss: 0.0017 - val_mae: 0.0017\n",
      "Epoch 282/1000\n",
      "88/88 [==============================] - 0s 2ms/sample - loss: 0.0016 - mae: 0.0016 - val_loss: 0.0017 - val_mae: 0.0017\n",
      "Epoch 283/1000\n",
      "88/88 [==============================] - 0s 2ms/sample - loss: 0.0016 - mae: 0.0016 - val_loss: 0.0017 - val_mae: 0.0017\n",
      "Epoch 284/1000\n",
      "88/88 [==============================] - 0s 2ms/sample - loss: 0.0016 - mae: 0.0016 - val_loss: 0.0017 - val_mae: 0.0017\n",
      "Epoch 285/1000\n",
      "88/88 [==============================] - 0s 2ms/sample - loss: 0.0016 - mae: 0.0016 - val_loss: 0.0017 - val_mae: 0.0017\n",
      "Epoch 286/1000\n",
      "88/88 [==============================] - 0s 2ms/sample - loss: 0.0016 - mae: 0.0016 - val_loss: 0.0017 - val_mae: 0.0017\n",
      "Epoch 287/1000\n",
      "88/88 [==============================] - 0s 2ms/sample - loss: 0.0016 - mae: 0.0016 - val_loss: 0.0017 - val_mae: 0.0017\n",
      "Epoch 288/1000\n",
      "88/88 [==============================] - 0s 2ms/sample - loss: 0.0016 - mae: 0.0016 - val_loss: 0.0017 - val_mae: 0.0017\n",
      "Epoch 289/1000\n",
      "88/88 [==============================] - 0s 2ms/sample - loss: 0.0016 - mae: 0.0016 - val_loss: 0.0017 - val_mae: 0.0017\n",
      "Epoch 290/1000\n",
      "70/88 [======================>.......] - ETA: 0s - loss: 0.0016 - mae: 0.0016\n",
      "Epoch 00290: val_loss improved from 0.00174 to 0.00173, saving model to /home/zhimin90/DePaul/CSC695/Github/CSC695-Masters-Research-on-Neural-Network-Time-Series-Attention-Models/Asset/checkpoints/_20200703-090549_model.hdf5\n",
      "88/88 [==============================] - 0s 3ms/sample - loss: 0.0016 - mae: 0.0016 - val_loss: 0.0017 - val_mae: 0.0017\n",
      "Epoch 291/1000\n",
      "88/88 [==============================] - 0s 2ms/sample - loss: 0.0016 - mae: 0.0016 - val_loss: 0.0017 - val_mae: 0.0017\n",
      "Epoch 292/1000\n",
      "88/88 [==============================] - 0s 2ms/sample - loss: 0.0016 - mae: 0.0016 - val_loss: 0.0017 - val_mae: 0.0017\n",
      "Epoch 293/1000\n",
      "88/88 [==============================] - 0s 2ms/sample - loss: 0.0016 - mae: 0.0016 - val_loss: 0.0017 - val_mae: 0.0017\n",
      "Epoch 294/1000\n",
      "88/88 [==============================] - 0s 2ms/sample - loss: 0.0016 - mae: 0.0016 - val_loss: 0.0017 - val_mae: 0.0017\n",
      "Epoch 295/1000\n",
      "88/88 [==============================] - 0s 2ms/sample - loss: 0.0016 - mae: 0.0016 - val_loss: 0.0017 - val_mae: 0.0017\n",
      "Epoch 296/1000\n",
      "88/88 [==============================] - 0s 2ms/sample - loss: 0.0016 - mae: 0.0016 - val_loss: 0.0017 - val_mae: 0.0017\n",
      "Epoch 297/1000\n",
      "88/88 [==============================] - 0s 2ms/sample - loss: 0.0016 - mae: 0.0016 - val_loss: 0.0017 - val_mae: 0.0017\n",
      "Epoch 298/1000\n",
      "88/88 [==============================] - 0s 2ms/sample - loss: 0.0016 - mae: 0.0016 - val_loss: 0.0017 - val_mae: 0.0017\n",
      "Epoch 299/1000\n",
      "88/88 [==============================] - 0s 2ms/sample - loss: 0.0016 - mae: 0.0016 - val_loss: 0.0017 - val_mae: 0.0017\n",
      "Epoch 300/1000\n",
      "77/88 [=========================>....] - ETA: 0s - loss: 0.0016 - mae: 0.0016\n",
      "Epoch 00300: val_loss improved from 0.00173 to 0.00173, saving model to /home/zhimin90/DePaul/CSC695/Github/CSC695-Masters-Research-on-Neural-Network-Time-Series-Attention-Models/Asset/checkpoints/_20200703-090549_model.hdf5\n"
     ]
    },
    {
     "name": "stdout",
     "output_type": "stream",
     "text": [
      "88/88 [==============================] - 0s 3ms/sample - loss: 0.0016 - mae: 0.0016 - val_loss: 0.0017 - val_mae: 0.0017\n",
      "Epoch 301/1000\n",
      "88/88 [==============================] - 0s 2ms/sample - loss: 0.0016 - mae: 0.0016 - val_loss: 0.0017 - val_mae: 0.0017\n",
      "Epoch 302/1000\n",
      "88/88 [==============================] - 0s 2ms/sample - loss: 0.0016 - mae: 0.0016 - val_loss: 0.0017 - val_mae: 0.0017\n",
      "Epoch 303/1000\n",
      "88/88 [==============================] - 0s 2ms/sample - loss: 0.0016 - mae: 0.0016 - val_loss: 0.0017 - val_mae: 0.0017\n",
      "Epoch 304/1000\n",
      "88/88 [==============================] - 0s 2ms/sample - loss: 0.0016 - mae: 0.0016 - val_loss: 0.0017 - val_mae: 0.0017\n",
      "Epoch 305/1000\n",
      "88/88 [==============================] - 0s 2ms/sample - loss: 0.0016 - mae: 0.0016 - val_loss: 0.0017 - val_mae: 0.0017\n",
      "Epoch 306/1000\n",
      "88/88 [==============================] - 0s 2ms/sample - loss: 0.0016 - mae: 0.0016 - val_loss: 0.0017 - val_mae: 0.0017\n",
      "Epoch 307/1000\n",
      "88/88 [==============================] - 0s 2ms/sample - loss: 0.0016 - mae: 0.0016 - val_loss: 0.0017 - val_mae: 0.0017\n",
      "Epoch 308/1000\n",
      "88/88 [==============================] - 0s 2ms/sample - loss: 0.0016 - mae: 0.0016 - val_loss: 0.0017 - val_mae: 0.0017\n",
      "Epoch 309/1000\n",
      "88/88 [==============================] - 0s 2ms/sample - loss: 0.0016 - mae: 0.0016 - val_loss: 0.0017 - val_mae: 0.0017\n",
      "Epoch 310/1000\n",
      "70/88 [======================>.......] - ETA: 0s - loss: 0.0016 - mae: 0.0016\n",
      "Epoch 00310: val_loss did not improve from 0.00173\n",
      "88/88 [==============================] - 0s 2ms/sample - loss: 0.0016 - mae: 0.0016 - val_loss: 0.0017 - val_mae: 0.0017\n",
      "Epoch 311/1000\n",
      "88/88 [==============================] - 0s 2ms/sample - loss: 0.0016 - mae: 0.0016 - val_loss: 0.0017 - val_mae: 0.0017\n",
      "Epoch 312/1000\n",
      "88/88 [==============================] - 0s 2ms/sample - loss: 0.0016 - mae: 0.0016 - val_loss: 0.0017 - val_mae: 0.0017\n",
      "Epoch 313/1000\n",
      "88/88 [==============================] - 0s 2ms/sample - loss: 0.0016 - mae: 0.0016 - val_loss: 0.0017 - val_mae: 0.0017\n",
      "Epoch 314/1000\n",
      "88/88 [==============================] - 0s 2ms/sample - loss: 0.0016 - mae: 0.0016 - val_loss: 0.0017 - val_mae: 0.0017\n",
      "Epoch 315/1000\n",
      "88/88 [==============================] - 0s 2ms/sample - loss: 0.0016 - mae: 0.0016 - val_loss: 0.0017 - val_mae: 0.0017\n",
      "Epoch 316/1000\n",
      "88/88 [==============================] - 0s 2ms/sample - loss: 0.0016 - mae: 0.0016 - val_loss: 0.0017 - val_mae: 0.0017\n",
      "Epoch 317/1000\n",
      "88/88 [==============================] - 0s 2ms/sample - loss: 0.0016 - mae: 0.0016 - val_loss: 0.0017 - val_mae: 0.0017\n",
      "Epoch 318/1000\n",
      "88/88 [==============================] - 0s 2ms/sample - loss: 0.0016 - mae: 0.0016 - val_loss: 0.0017 - val_mae: 0.0017\n",
      "Epoch 319/1000\n",
      "88/88 [==============================] - 0s 2ms/sample - loss: 0.0016 - mae: 0.0016 - val_loss: 0.0017 - val_mae: 0.0017\n",
      "Epoch 320/1000\n",
      "77/88 [=========================>....] - ETA: 0s - loss: 0.0016 - mae: 0.0016\n",
      "Epoch 00320: val_loss improved from 0.00173 to 0.00173, saving model to /home/zhimin90/DePaul/CSC695/Github/CSC695-Masters-Research-on-Neural-Network-Time-Series-Attention-Models/Asset/checkpoints/_20200703-090549_model.hdf5\n",
      "88/88 [==============================] - 0s 3ms/sample - loss: 0.0016 - mae: 0.0016 - val_loss: 0.0017 - val_mae: 0.0017\n",
      "Epoch 321/1000\n",
      "88/88 [==============================] - 0s 2ms/sample - loss: 0.0016 - mae: 0.0016 - val_loss: 0.0017 - val_mae: 0.0017\n",
      "Epoch 322/1000\n",
      "88/88 [==============================] - 0s 2ms/sample - loss: 0.0016 - mae: 0.0016 - val_loss: 0.0017 - val_mae: 0.0017\n",
      "Epoch 323/1000\n",
      "88/88 [==============================] - 0s 2ms/sample - loss: 0.0016 - mae: 0.0016 - val_loss: 0.0017 - val_mae: 0.0017\n",
      "Epoch 324/1000\n",
      "88/88 [==============================] - 0s 2ms/sample - loss: 0.0016 - mae: 0.0016 - val_loss: 0.0017 - val_mae: 0.0017\n",
      "Epoch 325/1000\n",
      "88/88 [==============================] - 0s 2ms/sample - loss: 0.0016 - mae: 0.0016 - val_loss: 0.0017 - val_mae: 0.0017\n",
      "Epoch 326/1000\n",
      "88/88 [==============================] - 0s 2ms/sample - loss: 0.0016 - mae: 0.0016 - val_loss: 0.0017 - val_mae: 0.0017\n",
      "Epoch 327/1000\n",
      "88/88 [==============================] - 0s 2ms/sample - loss: 0.0016 - mae: 0.0016 - val_loss: 0.0017 - val_mae: 0.0017\n",
      "Epoch 328/1000\n",
      "88/88 [==============================] - 0s 2ms/sample - loss: 0.0016 - mae: 0.0016 - val_loss: 0.0017 - val_mae: 0.0017\n",
      "Epoch 329/1000\n",
      "88/88 [==============================] - 0s 2ms/sample - loss: 0.0016 - mae: 0.0016 - val_loss: 0.0017 - val_mae: 0.0017\n",
      "Epoch 330/1000\n",
      "77/88 [=========================>....] - ETA: 0s - loss: 0.0016 - mae: 0.0016\n",
      "Epoch 00330: val_loss improved from 0.00173 to 0.00173, saving model to /home/zhimin90/DePaul/CSC695/Github/CSC695-Masters-Research-on-Neural-Network-Time-Series-Attention-Models/Asset/checkpoints/_20200703-090549_model.hdf5\n",
      "88/88 [==============================] - 0s 3ms/sample - loss: 0.0016 - mae: 0.0016 - val_loss: 0.0017 - val_mae: 0.0017\n",
      "Epoch 331/1000\n",
      "88/88 [==============================] - 0s 2ms/sample - loss: 0.0016 - mae: 0.0016 - val_loss: 0.0017 - val_mae: 0.0017\n",
      "Epoch 332/1000\n",
      "88/88 [==============================] - 0s 2ms/sample - loss: 0.0016 - mae: 0.0016 - val_loss: 0.0017 - val_mae: 0.0017\n",
      "Epoch 333/1000\n",
      "88/88 [==============================] - 0s 2ms/sample - loss: 0.0016 - mae: 0.0016 - val_loss: 0.0017 - val_mae: 0.0017\n",
      "Epoch 334/1000\n",
      "88/88 [==============================] - 0s 2ms/sample - loss: 0.0016 - mae: 0.0016 - val_loss: 0.0017 - val_mae: 0.0017\n",
      "Epoch 335/1000\n",
      "88/88 [==============================] - 0s 2ms/sample - loss: 0.0016 - mae: 0.0016 - val_loss: 0.0017 - val_mae: 0.0017\n",
      "Epoch 336/1000\n",
      "88/88 [==============================] - 0s 2ms/sample - loss: 0.0016 - mae: 0.0016 - val_loss: 0.0017 - val_mae: 0.0017\n",
      "Epoch 337/1000\n",
      "88/88 [==============================] - 0s 2ms/sample - loss: 0.0016 - mae: 0.0016 - val_loss: 0.0017 - val_mae: 0.0017\n",
      "Epoch 338/1000\n",
      "88/88 [==============================] - 0s 2ms/sample - loss: 0.0016 - mae: 0.0016 - val_loss: 0.0017 - val_mae: 0.0017\n",
      "Epoch 339/1000\n",
      "88/88 [==============================] - 0s 2ms/sample - loss: 0.0016 - mae: 0.0016 - val_loss: 0.0017 - val_mae: 0.0017\n",
      "Epoch 340/1000\n",
      "77/88 [=========================>....] - ETA: 0s - loss: 0.0016 - mae: 0.0016\n",
      "Epoch 00340: val_loss did not improve from 0.00173\n",
      "88/88 [==============================] - 0s 2ms/sample - loss: 0.0016 - mae: 0.0016 - val_loss: 0.0017 - val_mae: 0.0017\n",
      "Epoch 341/1000\n",
      "88/88 [==============================] - 0s 2ms/sample - loss: 0.0016 - mae: 0.0016 - val_loss: 0.0017 - val_mae: 0.0017\n",
      "Epoch 342/1000\n",
      "88/88 [==============================] - 0s 2ms/sample - loss: 0.0016 - mae: 0.0016 - val_loss: 0.0017 - val_mae: 0.0017\n",
      "Epoch 343/1000\n",
      "88/88 [==============================] - 0s 2ms/sample - loss: 0.0016 - mae: 0.0016 - val_loss: 0.0017 - val_mae: 0.0017\n",
      "Epoch 344/1000\n",
      "88/88 [==============================] - 0s 2ms/sample - loss: 0.0016 - mae: 0.0016 - val_loss: 0.0017 - val_mae: 0.0017\n",
      "Epoch 345/1000\n",
      "88/88 [==============================] - 0s 2ms/sample - loss: 0.0016 - mae: 0.0016 - val_loss: 0.0017 - val_mae: 0.0017\n",
      "Epoch 346/1000\n",
      "88/88 [==============================] - 0s 2ms/sample - loss: 0.0016 - mae: 0.0016 - val_loss: 0.0017 - val_mae: 0.0017\n",
      "Epoch 347/1000\n",
      "88/88 [==============================] - 0s 2ms/sample - loss: 0.0016 - mae: 0.0016 - val_loss: 0.0017 - val_mae: 0.0017\n",
      "Epoch 348/1000\n",
      "88/88 [==============================] - 0s 2ms/sample - loss: 0.0016 - mae: 0.0016 - val_loss: 0.0017 - val_mae: 0.0017\n",
      "Epoch 349/1000\n",
      "88/88 [==============================] - 0s 2ms/sample - loss: 0.0016 - mae: 0.0016 - val_loss: 0.0017 - val_mae: 0.0017\n",
      "Epoch 350/1000\n",
      "77/88 [=========================>....] - ETA: 0s - loss: 0.0016 - mae: 0.0016\n",
      "Epoch 00350: val_loss improved from 0.00173 to 0.00172, saving model to /home/zhimin90/DePaul/CSC695/Github/CSC695-Masters-Research-on-Neural-Network-Time-Series-Attention-Models/Asset/checkpoints/_20200703-090549_model.hdf5\n",
      "88/88 [==============================] - 0s 2ms/sample - loss: 0.0016 - mae: 0.0016 - val_loss: 0.0017 - val_mae: 0.0017\n",
      "Epoch 351/1000\n",
      "88/88 [==============================] - 0s 2ms/sample - loss: 0.0016 - mae: 0.0016 - val_loss: 0.0017 - val_mae: 0.0017\n"
     ]
    },
    {
     "name": "stdout",
     "output_type": "stream",
     "text": [
      "Epoch 352/1000\n",
      "88/88 [==============================] - 0s 2ms/sample - loss: 0.0016 - mae: 0.0016 - val_loss: 0.0017 - val_mae: 0.0017\n",
      "Epoch 353/1000\n",
      "88/88 [==============================] - 0s 2ms/sample - loss: 0.0016 - mae: 0.0016 - val_loss: 0.0017 - val_mae: 0.0017\n",
      "Epoch 354/1000\n",
      "88/88 [==============================] - 0s 2ms/sample - loss: 0.0016 - mae: 0.0016 - val_loss: 0.0017 - val_mae: 0.0017\n",
      "Epoch 355/1000\n",
      "88/88 [==============================] - 0s 2ms/sample - loss: 0.0016 - mae: 0.0016 - val_loss: 0.0017 - val_mae: 0.0017\n",
      "Epoch 356/1000\n",
      "88/88 [==============================] - 0s 2ms/sample - loss: 0.0016 - mae: 0.0016 - val_loss: 0.0017 - val_mae: 0.0017\n",
      "Epoch 357/1000\n",
      "88/88 [==============================] - 0s 2ms/sample - loss: 0.0016 - mae: 0.0016 - val_loss: 0.0017 - val_mae: 0.0017\n",
      "Epoch 358/1000\n",
      "88/88 [==============================] - 0s 2ms/sample - loss: 0.0016 - mae: 0.0016 - val_loss: 0.0017 - val_mae: 0.0017\n",
      "Epoch 359/1000\n",
      "88/88 [==============================] - 0s 2ms/sample - loss: 0.0016 - mae: 0.0016 - val_loss: 0.0017 - val_mae: 0.0017\n",
      "Epoch 360/1000\n",
      "77/88 [=========================>....] - ETA: 0s - loss: 0.0016 - mae: 0.0016\n",
      "Epoch 00360: val_loss did not improve from 0.00172\n",
      "88/88 [==============================] - 0s 2ms/sample - loss: 0.0016 - mae: 0.0016 - val_loss: 0.0017 - val_mae: 0.0017\n",
      "Epoch 361/1000\n",
      "88/88 [==============================] - 0s 2ms/sample - loss: 0.0016 - mae: 0.0016 - val_loss: 0.0017 - val_mae: 0.0017\n",
      "Epoch 362/1000\n",
      "88/88 [==============================] - 0s 2ms/sample - loss: 0.0016 - mae: 0.0016 - val_loss: 0.0017 - val_mae: 0.0017\n",
      "Epoch 363/1000\n",
      "88/88 [==============================] - 0s 2ms/sample - loss: 0.0016 - mae: 0.0016 - val_loss: 0.0017 - val_mae: 0.0017\n",
      "Epoch 364/1000\n",
      "88/88 [==============================] - 0s 2ms/sample - loss: 0.0016 - mae: 0.0016 - val_loss: 0.0017 - val_mae: 0.0017\n",
      "Epoch 365/1000\n",
      "88/88 [==============================] - 0s 2ms/sample - loss: 0.0016 - mae: 0.0016 - val_loss: 0.0017 - val_mae: 0.0017\n",
      "Epoch 366/1000\n",
      "88/88 [==============================] - 0s 2ms/sample - loss: 0.0016 - mae: 0.0016 - val_loss: 0.0017 - val_mae: 0.0017\n",
      "Epoch 367/1000\n",
      "88/88 [==============================] - 0s 2ms/sample - loss: 0.0016 - mae: 0.0016 - val_loss: 0.0017 - val_mae: 0.0017\n",
      "Epoch 368/1000\n",
      "88/88 [==============================] - 0s 2ms/sample - loss: 0.0016 - mae: 0.0016 - val_loss: 0.0017 - val_mae: 0.0017\n",
      "Epoch 369/1000\n",
      "88/88 [==============================] - 0s 2ms/sample - loss: 0.0016 - mae: 0.0016 - val_loss: 0.0017 - val_mae: 0.0017\n",
      "Epoch 370/1000\n",
      "77/88 [=========================>....] - ETA: 0s - loss: 0.0016 - mae: 0.0016\n",
      "Epoch 00370: val_loss improved from 0.00172 to 0.00172, saving model to /home/zhimin90/DePaul/CSC695/Github/CSC695-Masters-Research-on-Neural-Network-Time-Series-Attention-Models/Asset/checkpoints/_20200703-090549_model.hdf5\n",
      "88/88 [==============================] - 0s 3ms/sample - loss: 0.0016 - mae: 0.0016 - val_loss: 0.0017 - val_mae: 0.0017\n",
      "Epoch 371/1000\n",
      "88/88 [==============================] - 0s 2ms/sample - loss: 0.0016 - mae: 0.0016 - val_loss: 0.0017 - val_mae: 0.0017\n",
      "Epoch 372/1000\n",
      "88/88 [==============================] - 0s 2ms/sample - loss: 0.0016 - mae: 0.0016 - val_loss: 0.0017 - val_mae: 0.0017\n",
      "Epoch 373/1000\n",
      "88/88 [==============================] - 0s 2ms/sample - loss: 0.0016 - mae: 0.0016 - val_loss: 0.0017 - val_mae: 0.0017\n",
      "Epoch 374/1000\n",
      "88/88 [==============================] - 0s 2ms/sample - loss: 0.0016 - mae: 0.0016 - val_loss: 0.0017 - val_mae: 0.0017\n",
      "Epoch 375/1000\n",
      "88/88 [==============================] - 0s 2ms/sample - loss: 0.0016 - mae: 0.0016 - val_loss: 0.0017 - val_mae: 0.0017\n",
      "Epoch 376/1000\n",
      "88/88 [==============================] - 0s 2ms/sample - loss: 0.0016 - mae: 0.0016 - val_loss: 0.0017 - val_mae: 0.0017\n",
      "Epoch 377/1000\n",
      "88/88 [==============================] - 0s 2ms/sample - loss: 0.0016 - mae: 0.0016 - val_loss: 0.0017 - val_mae: 0.0017\n",
      "Epoch 378/1000\n",
      "88/88 [==============================] - 0s 2ms/sample - loss: 0.0016 - mae: 0.0016 - val_loss: 0.0017 - val_mae: 0.0017\n",
      "Epoch 379/1000\n",
      "88/88 [==============================] - 0s 2ms/sample - loss: 0.0016 - mae: 0.0016 - val_loss: 0.0017 - val_mae: 0.0017\n",
      "Epoch 380/1000\n",
      "77/88 [=========================>....] - ETA: 0s - loss: 0.0016 - mae: 0.0016\n",
      "Epoch 00380: val_loss improved from 0.00172 to 0.00172, saving model to /home/zhimin90/DePaul/CSC695/Github/CSC695-Masters-Research-on-Neural-Network-Time-Series-Attention-Models/Asset/checkpoints/_20200703-090549_model.hdf5\n",
      "88/88 [==============================] - 0s 3ms/sample - loss: 0.0016 - mae: 0.0016 - val_loss: 0.0017 - val_mae: 0.0017\n",
      "Epoch 381/1000\n",
      "88/88 [==============================] - 0s 2ms/sample - loss: 0.0016 - mae: 0.0016 - val_loss: 0.0017 - val_mae: 0.0017\n",
      "Epoch 382/1000\n",
      "88/88 [==============================] - 0s 2ms/sample - loss: 0.0016 - mae: 0.0016 - val_loss: 0.0017 - val_mae: 0.0017\n",
      "Epoch 383/1000\n",
      "88/88 [==============================] - 0s 2ms/sample - loss: 0.0016 - mae: 0.0016 - val_loss: 0.0017 - val_mae: 0.0017\n",
      "Epoch 384/1000\n",
      "88/88 [==============================] - 0s 2ms/sample - loss: 0.0016 - mae: 0.0016 - val_loss: 0.0017 - val_mae: 0.0017\n",
      "Epoch 385/1000\n",
      "88/88 [==============================] - 0s 2ms/sample - loss: 0.0016 - mae: 0.0016 - val_loss: 0.0017 - val_mae: 0.0017\n",
      "Epoch 386/1000\n",
      "88/88 [==============================] - 0s 2ms/sample - loss: 0.0016 - mae: 0.0016 - val_loss: 0.0017 - val_mae: 0.0017\n",
      "Epoch 387/1000\n",
      "88/88 [==============================] - 0s 2ms/sample - loss: 0.0016 - mae: 0.0016 - val_loss: 0.0017 - val_mae: 0.0017\n",
      "Epoch 388/1000\n",
      "88/88 [==============================] - 0s 2ms/sample - loss: 0.0016 - mae: 0.0016 - val_loss: 0.0017 - val_mae: 0.0017\n",
      "Epoch 389/1000\n",
      "88/88 [==============================] - 0s 2ms/sample - loss: 0.0016 - mae: 0.0016 - val_loss: 0.0017 - val_mae: 0.0017\n",
      "Epoch 390/1000\n",
      "77/88 [=========================>....] - ETA: 0s - loss: 0.0016 - mae: 0.0016\n",
      "Epoch 00390: val_loss improved from 0.00172 to 0.00172, saving model to /home/zhimin90/DePaul/CSC695/Github/CSC695-Masters-Research-on-Neural-Network-Time-Series-Attention-Models/Asset/checkpoints/_20200703-090549_model.hdf5\n",
      "88/88 [==============================] - 0s 3ms/sample - loss: 0.0016 - mae: 0.0016 - val_loss: 0.0017 - val_mae: 0.0017\n",
      "Epoch 391/1000\n",
      "88/88 [==============================] - 0s 2ms/sample - loss: 0.0016 - mae: 0.0016 - val_loss: 0.0017 - val_mae: 0.0017\n",
      "Epoch 392/1000\n",
      "88/88 [==============================] - 0s 2ms/sample - loss: 0.0016 - mae: 0.0016 - val_loss: 0.0017 - val_mae: 0.0017\n",
      "Epoch 393/1000\n",
      "88/88 [==============================] - 0s 2ms/sample - loss: 0.0016 - mae: 0.0016 - val_loss: 0.0017 - val_mae: 0.0017\n",
      "Epoch 394/1000\n",
      "88/88 [==============================] - 0s 2ms/sample - loss: 0.0016 - mae: 0.0016 - val_loss: 0.0017 - val_mae: 0.0017\n",
      "Epoch 395/1000\n",
      "88/88 [==============================] - 0s 2ms/sample - loss: 0.0016 - mae: 0.0016 - val_loss: 0.0017 - val_mae: 0.0017\n",
      "Epoch 396/1000\n",
      "88/88 [==============================] - 0s 2ms/sample - loss: 0.0016 - mae: 0.0016 - val_loss: 0.0017 - val_mae: 0.0017\n",
      "Epoch 397/1000\n",
      "88/88 [==============================] - 0s 2ms/sample - loss: 0.0016 - mae: 0.0016 - val_loss: 0.0017 - val_mae: 0.0017\n",
      "Epoch 398/1000\n",
      "88/88 [==============================] - 0s 2ms/sample - loss: 0.0016 - mae: 0.0016 - val_loss: 0.0017 - val_mae: 0.0017\n",
      "Epoch 399/1000\n",
      "88/88 [==============================] - 0s 2ms/sample - loss: 0.0016 - mae: 0.0016 - val_loss: 0.0017 - val_mae: 0.0017\n",
      "Epoch 400/1000\n",
      "77/88 [=========================>....] - ETA: 0s - loss: 0.0016 - mae: 0.0016\n",
      "Epoch 00400: val_loss improved from 0.00172 to 0.00171, saving model to /home/zhimin90/DePaul/CSC695/Github/CSC695-Masters-Research-on-Neural-Network-Time-Series-Attention-Models/Asset/checkpoints/_20200703-090549_model.hdf5\n",
      "88/88 [==============================] - 0s 3ms/sample - loss: 0.0016 - mae: 0.0016 - val_loss: 0.0017 - val_mae: 0.0017\n",
      "Epoch 401/1000\n",
      "88/88 [==============================] - 0s 2ms/sample - loss: 0.0016 - mae: 0.0016 - val_loss: 0.0017 - val_mae: 0.0017\n",
      "Epoch 402/1000\n"
     ]
    },
    {
     "name": "stdout",
     "output_type": "stream",
     "text": [
      "88/88 [==============================] - 0s 2ms/sample - loss: 0.0016 - mae: 0.0016 - val_loss: 0.0017 - val_mae: 0.0017\n",
      "Epoch 403/1000\n",
      "88/88 [==============================] - 0s 2ms/sample - loss: 0.0016 - mae: 0.0016 - val_loss: 0.0017 - val_mae: 0.0017\n",
      "Epoch 404/1000\n",
      "88/88 [==============================] - 0s 2ms/sample - loss: 0.0016 - mae: 0.0016 - val_loss: 0.0017 - val_mae: 0.0017\n",
      "Epoch 405/1000\n",
      "88/88 [==============================] - 0s 2ms/sample - loss: 0.0016 - mae: 0.0016 - val_loss: 0.0017 - val_mae: 0.0017\n",
      "Epoch 406/1000\n",
      "88/88 [==============================] - 0s 2ms/sample - loss: 0.0016 - mae: 0.0016 - val_loss: 0.0017 - val_mae: 0.0017\n",
      "Epoch 407/1000\n",
      "88/88 [==============================] - 0s 2ms/sample - loss: 0.0016 - mae: 0.0016 - val_loss: 0.0017 - val_mae: 0.0017\n",
      "Epoch 408/1000\n",
      "88/88 [==============================] - 0s 2ms/sample - loss: 0.0016 - mae: 0.0016 - val_loss: 0.0017 - val_mae: 0.0017\n",
      "Epoch 409/1000\n",
      "88/88 [==============================] - 0s 2ms/sample - loss: 0.0016 - mae: 0.0016 - val_loss: 0.0017 - val_mae: 0.0017\n",
      "Epoch 410/1000\n",
      "77/88 [=========================>....] - ETA: 0s - loss: 0.0016 - mae: 0.0016\n",
      "Epoch 00410: val_loss improved from 0.00171 to 0.00171, saving model to /home/zhimin90/DePaul/CSC695/Github/CSC695-Masters-Research-on-Neural-Network-Time-Series-Attention-Models/Asset/checkpoints/_20200703-090549_model.hdf5\n",
      "88/88 [==============================] - 0s 3ms/sample - loss: 0.0016 - mae: 0.0016 - val_loss: 0.0017 - val_mae: 0.0017\n",
      "Epoch 411/1000\n",
      "88/88 [==============================] - 0s 2ms/sample - loss: 0.0016 - mae: 0.0016 - val_loss: 0.0017 - val_mae: 0.0017\n",
      "Epoch 412/1000\n",
      "88/88 [==============================] - 0s 2ms/sample - loss: 0.0016 - mae: 0.0016 - val_loss: 0.0017 - val_mae: 0.0017\n",
      "Epoch 413/1000\n",
      "88/88 [==============================] - 0s 2ms/sample - loss: 0.0016 - mae: 0.0016 - val_loss: 0.0017 - val_mae: 0.0017\n",
      "Epoch 414/1000\n",
      "88/88 [==============================] - 0s 2ms/sample - loss: 0.0016 - mae: 0.0016 - val_loss: 0.0017 - val_mae: 0.0017\n",
      "Epoch 415/1000\n",
      "88/88 [==============================] - 0s 2ms/sample - loss: 0.0016 - mae: 0.0016 - val_loss: 0.0017 - val_mae: 0.0017\n",
      "Epoch 416/1000\n",
      "88/88 [==============================] - 0s 2ms/sample - loss: 0.0016 - mae: 0.0016 - val_loss: 0.0017 - val_mae: 0.0017\n",
      "Epoch 417/1000\n",
      "88/88 [==============================] - 0s 2ms/sample - loss: 0.0016 - mae: 0.0016 - val_loss: 0.0017 - val_mae: 0.0017\n",
      "Epoch 418/1000\n",
      "88/88 [==============================] - 0s 2ms/sample - loss: 0.0016 - mae: 0.0016 - val_loss: 0.0017 - val_mae: 0.0017\n",
      "Epoch 419/1000\n",
      "88/88 [==============================] - 0s 2ms/sample - loss: 0.0016 - mae: 0.0016 - val_loss: 0.0017 - val_mae: 0.0017\n",
      "Epoch 420/1000\n",
      "77/88 [=========================>....] - ETA: 0s - loss: 0.0016 - mae: 0.0016\n",
      "Epoch 00420: val_loss improved from 0.00171 to 0.00171, saving model to /home/zhimin90/DePaul/CSC695/Github/CSC695-Masters-Research-on-Neural-Network-Time-Series-Attention-Models/Asset/checkpoints/_20200703-090549_model.hdf5\n",
      "88/88 [==============================] - 0s 3ms/sample - loss: 0.0016 - mae: 0.0016 - val_loss: 0.0017 - val_mae: 0.0017\n",
      "Epoch 421/1000\n",
      "88/88 [==============================] - 0s 2ms/sample - loss: 0.0016 - mae: 0.0016 - val_loss: 0.0017 - val_mae: 0.0017\n",
      "Epoch 422/1000\n",
      "88/88 [==============================] - 0s 2ms/sample - loss: 0.0016 - mae: 0.0016 - val_loss: 0.0017 - val_mae: 0.0017\n",
      "Epoch 423/1000\n",
      "88/88 [==============================] - 0s 2ms/sample - loss: 0.0016 - mae: 0.0016 - val_loss: 0.0017 - val_mae: 0.0017\n",
      "Epoch 424/1000\n",
      "88/88 [==============================] - 0s 2ms/sample - loss: 0.0016 - mae: 0.0016 - val_loss: 0.0017 - val_mae: 0.0017\n",
      "Epoch 425/1000\n",
      "88/88 [==============================] - 0s 2ms/sample - loss: 0.0016 - mae: 0.0016 - val_loss: 0.0017 - val_mae: 0.0017\n",
      "Epoch 426/1000\n",
      "88/88 [==============================] - 0s 2ms/sample - loss: 0.0016 - mae: 0.0016 - val_loss: 0.0017 - val_mae: 0.0017\n",
      "Epoch 427/1000\n",
      "88/88 [==============================] - 0s 2ms/sample - loss: 0.0016 - mae: 0.0016 - val_loss: 0.0017 - val_mae: 0.0017\n",
      "Epoch 428/1000\n",
      "88/88 [==============================] - 0s 2ms/sample - loss: 0.0016 - mae: 0.0016 - val_loss: 0.0017 - val_mae: 0.0017\n",
      "Epoch 429/1000\n",
      "88/88 [==============================] - 0s 2ms/sample - loss: 0.0016 - mae: 0.0016 - val_loss: 0.0017 - val_mae: 0.0017\n",
      "Epoch 430/1000\n",
      "77/88 [=========================>....] - ETA: 0s - loss: 0.0016 - mae: 0.0016\n",
      "Epoch 00430: val_loss improved from 0.00171 to 0.00171, saving model to /home/zhimin90/DePaul/CSC695/Github/CSC695-Masters-Research-on-Neural-Network-Time-Series-Attention-Models/Asset/checkpoints/_20200703-090549_model.hdf5\n",
      "88/88 [==============================] - 0s 2ms/sample - loss: 0.0016 - mae: 0.0016 - val_loss: 0.0017 - val_mae: 0.0017\n",
      "Epoch 431/1000\n",
      "88/88 [==============================] - 0s 2ms/sample - loss: 0.0016 - mae: 0.0016 - val_loss: 0.0017 - val_mae: 0.0017\n",
      "Epoch 432/1000\n",
      "88/88 [==============================] - 0s 2ms/sample - loss: 0.0016 - mae: 0.0016 - val_loss: 0.0017 - val_mae: 0.0017\n",
      "Epoch 433/1000\n",
      "88/88 [==============================] - 0s 2ms/sample - loss: 0.0016 - mae: 0.0016 - val_loss: 0.0017 - val_mae: 0.0017\n",
      "Epoch 434/1000\n",
      "88/88 [==============================] - 0s 2ms/sample - loss: 0.0016 - mae: 0.0016 - val_loss: 0.0017 - val_mae: 0.0017\n",
      "Epoch 435/1000\n",
      "88/88 [==============================] - 0s 2ms/sample - loss: 0.0016 - mae: 0.0016 - val_loss: 0.0017 - val_mae: 0.0017\n",
      "Epoch 436/1000\n",
      "88/88 [==============================] - 0s 2ms/sample - loss: 0.0016 - mae: 0.0016 - val_loss: 0.0017 - val_mae: 0.0017\n",
      "Epoch 437/1000\n",
      "88/88 [==============================] - 0s 2ms/sample - loss: 0.0016 - mae: 0.0016 - val_loss: 0.0017 - val_mae: 0.0017\n",
      "Epoch 438/1000\n",
      "88/88 [==============================] - 0s 2ms/sample - loss: 0.0016 - mae: 0.0016 - val_loss: 0.0017 - val_mae: 0.0017\n",
      "Epoch 439/1000\n",
      "88/88 [==============================] - 0s 2ms/sample - loss: 0.0016 - mae: 0.0016 - val_loss: 0.0017 - val_mae: 0.0017\n",
      "Epoch 440/1000\n",
      "77/88 [=========================>....] - ETA: 0s - loss: 0.0016 - mae: 0.0016\n",
      "Epoch 00440: val_loss improved from 0.00171 to 0.00171, saving model to /home/zhimin90/DePaul/CSC695/Github/CSC695-Masters-Research-on-Neural-Network-Time-Series-Attention-Models/Asset/checkpoints/_20200703-090549_model.hdf5\n",
      "88/88 [==============================] - 0s 3ms/sample - loss: 0.0016 - mae: 0.0016 - val_loss: 0.0017 - val_mae: 0.0017\n",
      "Epoch 441/1000\n",
      "88/88 [==============================] - 0s 2ms/sample - loss: 0.0016 - mae: 0.0016 - val_loss: 0.0017 - val_mae: 0.0017\n",
      "Epoch 442/1000\n",
      "88/88 [==============================] - 0s 2ms/sample - loss: 0.0016 - mae: 0.0016 - val_loss: 0.0017 - val_mae: 0.0017\n",
      "Epoch 443/1000\n",
      "88/88 [==============================] - 0s 2ms/sample - loss: 0.0016 - mae: 0.0016 - val_loss: 0.0017 - val_mae: 0.0017\n",
      "Epoch 444/1000\n",
      "88/88 [==============================] - 0s 2ms/sample - loss: 0.0016 - mae: 0.0016 - val_loss: 0.0017 - val_mae: 0.0017\n",
      "Epoch 445/1000\n",
      "88/88 [==============================] - 0s 2ms/sample - loss: 0.0016 - mae: 0.0016 - val_loss: 0.0017 - val_mae: 0.0017\n",
      "Epoch 446/1000\n",
      "88/88 [==============================] - 0s 2ms/sample - loss: 0.0016 - mae: 0.0016 - val_loss: 0.0017 - val_mae: 0.0017\n",
      "Epoch 447/1000\n",
      "88/88 [==============================] - 0s 2ms/sample - loss: 0.0016 - mae: 0.0016 - val_loss: 0.0017 - val_mae: 0.0017\n",
      "Epoch 448/1000\n",
      "88/88 [==============================] - 0s 2ms/sample - loss: 0.0016 - mae: 0.0016 - val_loss: 0.0017 - val_mae: 0.0017\n",
      "Epoch 449/1000\n",
      "88/88 [==============================] - 0s 2ms/sample - loss: 0.0016 - mae: 0.0016 - val_loss: 0.0017 - val_mae: 0.0017\n",
      "Epoch 450/1000\n",
      "77/88 [=========================>....] - ETA: 0s - loss: 0.0016 - mae: 0.0016\n",
      "Epoch 00450: val_loss did not improve from 0.00171\n",
      "88/88 [==============================] - 0s 2ms/sample - loss: 0.0016 - mae: 0.0016 - val_loss: 0.0017 - val_mae: 0.0017\n",
      "Epoch 451/1000\n",
      "88/88 [==============================] - 0s 2ms/sample - loss: 0.0016 - mae: 0.0016 - val_loss: 0.0017 - val_mae: 0.0017\n",
      "Epoch 452/1000\n"
     ]
    },
    {
     "name": "stdout",
     "output_type": "stream",
     "text": [
      "88/88 [==============================] - 0s 2ms/sample - loss: 0.0016 - mae: 0.0016 - val_loss: 0.0017 - val_mae: 0.0017\n",
      "Epoch 453/1000\n",
      "88/88 [==============================] - 0s 2ms/sample - loss: 0.0016 - mae: 0.0016 - val_loss: 0.0017 - val_mae: 0.0017\n",
      "Epoch 454/1000\n",
      "88/88 [==============================] - 0s 2ms/sample - loss: 0.0016 - mae: 0.0016 - val_loss: 0.0017 - val_mae: 0.0017\n",
      "Epoch 455/1000\n",
      "88/88 [==============================] - 0s 2ms/sample - loss: 0.0016 - mae: 0.0016 - val_loss: 0.0017 - val_mae: 0.0017\n",
      "Epoch 456/1000\n",
      "88/88 [==============================] - 0s 2ms/sample - loss: 0.0016 - mae: 0.0016 - val_loss: 0.0017 - val_mae: 0.0017\n",
      "Epoch 457/1000\n",
      "88/88 [==============================] - 0s 2ms/sample - loss: 0.0016 - mae: 0.0016 - val_loss: 0.0017 - val_mae: 0.0017\n",
      "Epoch 458/1000\n",
      "88/88 [==============================] - 0s 2ms/sample - loss: 0.0016 - mae: 0.0016 - val_loss: 0.0017 - val_mae: 0.0017\n",
      "Epoch 459/1000\n",
      "88/88 [==============================] - 0s 2ms/sample - loss: 0.0016 - mae: 0.0016 - val_loss: 0.0017 - val_mae: 0.0017\n",
      "Epoch 460/1000\n",
      "77/88 [=========================>....] - ETA: 0s - loss: 0.0016 - mae: 0.0016\n",
      "Epoch 00460: val_loss improved from 0.00171 to 0.00171, saving model to /home/zhimin90/DePaul/CSC695/Github/CSC695-Masters-Research-on-Neural-Network-Time-Series-Attention-Models/Asset/checkpoints/_20200703-090549_model.hdf5\n",
      "88/88 [==============================] - 0s 3ms/sample - loss: 0.0016 - mae: 0.0016 - val_loss: 0.0017 - val_mae: 0.0017\n",
      "Epoch 461/1000\n",
      "88/88 [==============================] - 0s 2ms/sample - loss: 0.0016 - mae: 0.0016 - val_loss: 0.0017 - val_mae: 0.0017\n",
      "Epoch 462/1000\n",
      "88/88 [==============================] - 0s 2ms/sample - loss: 0.0016 - mae: 0.0016 - val_loss: 0.0017 - val_mae: 0.0017\n",
      "Epoch 463/1000\n",
      "88/88 [==============================] - 0s 2ms/sample - loss: 0.0016 - mae: 0.0016 - val_loss: 0.0017 - val_mae: 0.0017\n",
      "Epoch 464/1000\n",
      "88/88 [==============================] - 0s 2ms/sample - loss: 0.0016 - mae: 0.0016 - val_loss: 0.0017 - val_mae: 0.0017\n",
      "Epoch 465/1000\n",
      "88/88 [==============================] - 0s 2ms/sample - loss: 0.0016 - mae: 0.0016 - val_loss: 0.0017 - val_mae: 0.0017\n",
      "Epoch 466/1000\n",
      "88/88 [==============================] - 0s 2ms/sample - loss: 0.0016 - mae: 0.0016 - val_loss: 0.0017 - val_mae: 0.0017\n",
      "Epoch 467/1000\n",
      "88/88 [==============================] - 0s 2ms/sample - loss: 0.0016 - mae: 0.0016 - val_loss: 0.0017 - val_mae: 0.0017\n",
      "Epoch 468/1000\n",
      "88/88 [==============================] - 0s 2ms/sample - loss: 0.0016 - mae: 0.0016 - val_loss: 0.0017 - val_mae: 0.0017\n",
      "Epoch 469/1000\n",
      "88/88 [==============================] - 0s 2ms/sample - loss: 0.0016 - mae: 0.0016 - val_loss: 0.0017 - val_mae: 0.0017\n",
      "Epoch 470/1000\n",
      "77/88 [=========================>....] - ETA: 0s - loss: 0.0016 - mae: 0.0016\n",
      "Epoch 00470: val_loss did not improve from 0.00171\n",
      "88/88 [==============================] - 0s 2ms/sample - loss: 0.0016 - mae: 0.0016 - val_loss: 0.0017 - val_mae: 0.0017\n",
      "Epoch 471/1000\n",
      "88/88 [==============================] - 0s 2ms/sample - loss: 0.0016 - mae: 0.0016 - val_loss: 0.0017 - val_mae: 0.0017\n",
      "Epoch 472/1000\n",
      "88/88 [==============================] - 0s 2ms/sample - loss: 0.0016 - mae: 0.0016 - val_loss: 0.0017 - val_mae: 0.0017\n",
      "Epoch 473/1000\n",
      "88/88 [==============================] - 0s 2ms/sample - loss: 0.0016 - mae: 0.0016 - val_loss: 0.0017 - val_mae: 0.0017\n",
      "Epoch 474/1000\n",
      "88/88 [==============================] - 0s 2ms/sample - loss: 0.0016 - mae: 0.0016 - val_loss: 0.0017 - val_mae: 0.0017\n",
      "Epoch 475/1000\n",
      "88/88 [==============================] - 0s 2ms/sample - loss: 0.0016 - mae: 0.0016 - val_loss: 0.0017 - val_mae: 0.0017\n",
      "Epoch 476/1000\n",
      "88/88 [==============================] - 0s 2ms/sample - loss: 0.0016 - mae: 0.0016 - val_loss: 0.0017 - val_mae: 0.0017\n",
      "Epoch 477/1000\n",
      "88/88 [==============================] - 0s 2ms/sample - loss: 0.0016 - mae: 0.0016 - val_loss: 0.0017 - val_mae: 0.0017\n",
      "Epoch 478/1000\n",
      "88/88 [==============================] - 0s 2ms/sample - loss: 0.0016 - mae: 0.0016 - val_loss: 0.0017 - val_mae: 0.0017\n",
      "Epoch 479/1000\n",
      "88/88 [==============================] - 0s 2ms/sample - loss: 0.0016 - mae: 0.0016 - val_loss: 0.0017 - val_mae: 0.0017\n",
      "Epoch 480/1000\n",
      "77/88 [=========================>....] - ETA: 0s - loss: 0.0016 - mae: 0.0016\n",
      "Epoch 00480: val_loss did not improve from 0.00171\n",
      "88/88 [==============================] - 0s 2ms/sample - loss: 0.0016 - mae: 0.0016 - val_loss: 0.0017 - val_mae: 0.0017\n",
      "Epoch 481/1000\n",
      "88/88 [==============================] - 0s 2ms/sample - loss: 0.0016 - mae: 0.0016 - val_loss: 0.0017 - val_mae: 0.0017\n",
      "Epoch 482/1000\n",
      "88/88 [==============================] - 0s 2ms/sample - loss: 0.0016 - mae: 0.0016 - val_loss: 0.0017 - val_mae: 0.0017\n",
      "Epoch 483/1000\n",
      "88/88 [==============================] - 0s 2ms/sample - loss: 0.0016 - mae: 0.0016 - val_loss: 0.0017 - val_mae: 0.0017\n",
      "Epoch 484/1000\n",
      "88/88 [==============================] - 0s 2ms/sample - loss: 0.0016 - mae: 0.0016 - val_loss: 0.0017 - val_mae: 0.0017\n",
      "Epoch 485/1000\n",
      "88/88 [==============================] - 0s 2ms/sample - loss: 0.0016 - mae: 0.0016 - val_loss: 0.0017 - val_mae: 0.0017\n",
      "Epoch 486/1000\n",
      "88/88 [==============================] - 0s 2ms/sample - loss: 0.0016 - mae: 0.0016 - val_loss: 0.0017 - val_mae: 0.0017\n",
      "Epoch 487/1000\n",
      "88/88 [==============================] - 0s 2ms/sample - loss: 0.0016 - mae: 0.0016 - val_loss: 0.0017 - val_mae: 0.0017\n",
      "Epoch 488/1000\n",
      "88/88 [==============================] - 0s 2ms/sample - loss: 0.0016 - mae: 0.0016 - val_loss: 0.0017 - val_mae: 0.0017\n",
      "Epoch 489/1000\n",
      "88/88 [==============================] - 0s 2ms/sample - loss: 0.0016 - mae: 0.0016 - val_loss: 0.0017 - val_mae: 0.0017\n",
      "Epoch 490/1000\n",
      "77/88 [=========================>....] - ETA: 0s - loss: 0.0016 - mae: 0.0016\n",
      "Epoch 00490: val_loss improved from 0.00171 to 0.00171, saving model to /home/zhimin90/DePaul/CSC695/Github/CSC695-Masters-Research-on-Neural-Network-Time-Series-Attention-Models/Asset/checkpoints/_20200703-090549_model.hdf5\n",
      "88/88 [==============================] - 0s 3ms/sample - loss: 0.0016 - mae: 0.0016 - val_loss: 0.0017 - val_mae: 0.0017\n",
      "Epoch 491/1000\n",
      "88/88 [==============================] - 0s 2ms/sample - loss: 0.0016 - mae: 0.0016 - val_loss: 0.0017 - val_mae: 0.0017\n",
      "Epoch 492/1000\n",
      "88/88 [==============================] - 0s 2ms/sample - loss: 0.0016 - mae: 0.0016 - val_loss: 0.0017 - val_mae: 0.0017\n",
      "Epoch 493/1000\n",
      "88/88 [==============================] - 0s 2ms/sample - loss: 0.0016 - mae: 0.0016 - val_loss: 0.0017 - val_mae: 0.0017\n",
      "Epoch 494/1000\n",
      "88/88 [==============================] - 0s 2ms/sample - loss: 0.0016 - mae: 0.0016 - val_loss: 0.0017 - val_mae: 0.0017\n",
      "Epoch 495/1000\n",
      "88/88 [==============================] - 0s 2ms/sample - loss: 0.0016 - mae: 0.0016 - val_loss: 0.0017 - val_mae: 0.0017\n",
      "Epoch 496/1000\n",
      "88/88 [==============================] - 0s 2ms/sample - loss: 0.0016 - mae: 0.0016 - val_loss: 0.0017 - val_mae: 0.0017\n",
      "Epoch 497/1000\n",
      "88/88 [==============================] - 0s 2ms/sample - loss: 0.0016 - mae: 0.0016 - val_loss: 0.0017 - val_mae: 0.0017\n",
      "Epoch 498/1000\n",
      "88/88 [==============================] - 0s 2ms/sample - loss: 0.0016 - mae: 0.0016 - val_loss: 0.0017 - val_mae: 0.0017\n",
      "Epoch 499/1000\n",
      "88/88 [==============================] - 0s 2ms/sample - loss: 0.0016 - mae: 0.0016 - val_loss: 0.0017 - val_mae: 0.0017\n",
      "Epoch 500/1000\n",
      "77/88 [=========================>....] - ETA: 0s - loss: 0.0016 - mae: 0.0016\n",
      "Epoch 00500: val_loss improved from 0.00171 to 0.00170, saving model to /home/zhimin90/DePaul/CSC695/Github/CSC695-Masters-Research-on-Neural-Network-Time-Series-Attention-Models/Asset/checkpoints/_20200703-090549_model.hdf5\n",
      "88/88 [==============================] - 0s 3ms/sample - loss: 0.0016 - mae: 0.0016 - val_loss: 0.0017 - val_mae: 0.0017\n",
      "Epoch 501/1000\n",
      "88/88 [==============================] - 0s 2ms/sample - loss: 0.0016 - mae: 0.0016 - val_loss: 0.0017 - val_mae: 0.0017\n",
      "Epoch 502/1000\n",
      "88/88 [==============================] - 0s 2ms/sample - loss: 0.0016 - mae: 0.0016 - val_loss: 0.0017 - val_mae: 0.0017\n",
      "Epoch 503/1000\n",
      "88/88 [==============================] - 0s 2ms/sample - loss: 0.0016 - mae: 0.0016 - val_loss: 0.0017 - val_mae: 0.0017\n"
     ]
    },
    {
     "name": "stdout",
     "output_type": "stream",
     "text": [
      "Epoch 504/1000\n",
      "88/88 [==============================] - 0s 2ms/sample - loss: 0.0016 - mae: 0.0016 - val_loss: 0.0017 - val_mae: 0.0017\n",
      "Epoch 505/1000\n",
      "88/88 [==============================] - 0s 2ms/sample - loss: 0.0016 - mae: 0.0016 - val_loss: 0.0017 - val_mae: 0.0017\n",
      "Epoch 506/1000\n",
      "88/88 [==============================] - 0s 2ms/sample - loss: 0.0016 - mae: 0.0016 - val_loss: 0.0017 - val_mae: 0.0017\n",
      "Epoch 507/1000\n",
      "88/88 [==============================] - 0s 2ms/sample - loss: 0.0016 - mae: 0.0016 - val_loss: 0.0017 - val_mae: 0.0017\n",
      "Epoch 508/1000\n",
      "88/88 [==============================] - 0s 2ms/sample - loss: 0.0016 - mae: 0.0016 - val_loss: 0.0017 - val_mae: 0.0017\n",
      "Epoch 509/1000\n",
      "88/88 [==============================] - 0s 2ms/sample - loss: 0.0016 - mae: 0.0016 - val_loss: 0.0017 - val_mae: 0.0017\n",
      "Epoch 510/1000\n",
      "77/88 [=========================>....] - ETA: 0s - loss: 0.0016 - mae: 0.0016\n",
      "Epoch 00510: val_loss did not improve from 0.00170\n",
      "88/88 [==============================] - 0s 2ms/sample - loss: 0.0016 - mae: 0.0016 - val_loss: 0.0017 - val_mae: 0.0017\n",
      "Epoch 511/1000\n",
      "88/88 [==============================] - 0s 2ms/sample - loss: 0.0016 - mae: 0.0016 - val_loss: 0.0017 - val_mae: 0.0017\n",
      "Epoch 512/1000\n",
      "88/88 [==============================] - 0s 2ms/sample - loss: 0.0016 - mae: 0.0016 - val_loss: 0.0017 - val_mae: 0.0017\n",
      "Epoch 513/1000\n",
      "88/88 [==============================] - 0s 2ms/sample - loss: 0.0016 - mae: 0.0016 - val_loss: 0.0017 - val_mae: 0.0017\n",
      "Epoch 514/1000\n",
      "88/88 [==============================] - 0s 2ms/sample - loss: 0.0016 - mae: 0.0016 - val_loss: 0.0017 - val_mae: 0.0017\n",
      "Epoch 515/1000\n",
      "88/88 [==============================] - 0s 2ms/sample - loss: 0.0016 - mae: 0.0016 - val_loss: 0.0017 - val_mae: 0.0017\n",
      "Epoch 516/1000\n",
      "88/88 [==============================] - 0s 2ms/sample - loss: 0.0016 - mae: 0.0016 - val_loss: 0.0017 - val_mae: 0.0017\n",
      "Epoch 517/1000\n",
      "88/88 [==============================] - 0s 2ms/sample - loss: 0.0016 - mae: 0.0016 - val_loss: 0.0017 - val_mae: 0.0017\n",
      "Epoch 518/1000\n",
      "88/88 [==============================] - 0s 2ms/sample - loss: 0.0016 - mae: 0.0016 - val_loss: 0.0017 - val_mae: 0.0017\n",
      "Epoch 519/1000\n",
      "88/88 [==============================] - 0s 2ms/sample - loss: 0.0016 - mae: 0.0016 - val_loss: 0.0017 - val_mae: 0.0017\n",
      "Epoch 520/1000\n",
      "77/88 [=========================>....] - ETA: 0s - loss: 0.0016 - mae: 0.0016\n",
      "Epoch 00520: val_loss improved from 0.00170 to 0.00170, saving model to /home/zhimin90/DePaul/CSC695/Github/CSC695-Masters-Research-on-Neural-Network-Time-Series-Attention-Models/Asset/checkpoints/_20200703-090549_model.hdf5\n",
      "88/88 [==============================] - 0s 3ms/sample - loss: 0.0016 - mae: 0.0016 - val_loss: 0.0017 - val_mae: 0.0017\n",
      "Epoch 521/1000\n",
      "88/88 [==============================] - 0s 2ms/sample - loss: 0.0016 - mae: 0.0016 - val_loss: 0.0017 - val_mae: 0.0017\n",
      "Epoch 522/1000\n",
      "88/88 [==============================] - 0s 2ms/sample - loss: 0.0016 - mae: 0.0016 - val_loss: 0.0017 - val_mae: 0.0017\n",
      "Epoch 523/1000\n",
      "88/88 [==============================] - 0s 2ms/sample - loss: 0.0016 - mae: 0.0016 - val_loss: 0.0017 - val_mae: 0.0017\n",
      "Epoch 524/1000\n",
      "88/88 [==============================] - 0s 2ms/sample - loss: 0.0016 - mae: 0.0016 - val_loss: 0.0017 - val_mae: 0.0017\n",
      "Epoch 525/1000\n",
      "88/88 [==============================] - 0s 2ms/sample - loss: 0.0016 - mae: 0.0016 - val_loss: 0.0017 - val_mae: 0.0017\n",
      "Epoch 526/1000\n",
      "88/88 [==============================] - 0s 2ms/sample - loss: 0.0016 - mae: 0.0016 - val_loss: 0.0017 - val_mae: 0.0017\n",
      "Epoch 527/1000\n",
      "88/88 [==============================] - 0s 2ms/sample - loss: 0.0016 - mae: 0.0016 - val_loss: 0.0017 - val_mae: 0.0017\n",
      "Epoch 528/1000\n",
      "88/88 [==============================] - 0s 2ms/sample - loss: 0.0016 - mae: 0.0016 - val_loss: 0.0017 - val_mae: 0.0017\n",
      "Epoch 529/1000\n",
      "88/88 [==============================] - 0s 2ms/sample - loss: 0.0016 - mae: 0.0016 - val_loss: 0.0017 - val_mae: 0.0017\n",
      "Epoch 530/1000\n",
      "77/88 [=========================>....] - ETA: 0s - loss: 0.0016 - mae: 0.0016\n",
      "Epoch 00530: val_loss improved from 0.00170 to 0.00170, saving model to /home/zhimin90/DePaul/CSC695/Github/CSC695-Masters-Research-on-Neural-Network-Time-Series-Attention-Models/Asset/checkpoints/_20200703-090549_model.hdf5\n",
      "88/88 [==============================] - 0s 3ms/sample - loss: 0.0016 - mae: 0.0016 - val_loss: 0.0017 - val_mae: 0.0017\n",
      "Epoch 531/1000\n",
      "88/88 [==============================] - 0s 2ms/sample - loss: 0.0016 - mae: 0.0016 - val_loss: 0.0017 - val_mae: 0.0017\n",
      "Epoch 532/1000\n",
      "88/88 [==============================] - 0s 2ms/sample - loss: 0.0016 - mae: 0.0016 - val_loss: 0.0017 - val_mae: 0.0017\n",
      "Epoch 533/1000\n",
      "88/88 [==============================] - 0s 2ms/sample - loss: 0.0016 - mae: 0.0016 - val_loss: 0.0017 - val_mae: 0.0017\n",
      "Epoch 534/1000\n",
      "88/88 [==============================] - 0s 2ms/sample - loss: 0.0016 - mae: 0.0016 - val_loss: 0.0017 - val_mae: 0.0017\n",
      "Epoch 535/1000\n",
      "88/88 [==============================] - 0s 2ms/sample - loss: 0.0016 - mae: 0.0016 - val_loss: 0.0017 - val_mae: 0.0017\n",
      "Epoch 536/1000\n",
      "88/88 [==============================] - 0s 2ms/sample - loss: 0.0016 - mae: 0.0016 - val_loss: 0.0017 - val_mae: 0.0017\n",
      "Epoch 537/1000\n",
      "88/88 [==============================] - 0s 2ms/sample - loss: 0.0016 - mae: 0.0016 - val_loss: 0.0017 - val_mae: 0.0017\n",
      "Epoch 538/1000\n",
      "88/88 [==============================] - 0s 2ms/sample - loss: 0.0016 - mae: 0.0016 - val_loss: 0.0017 - val_mae: 0.0017\n",
      "Epoch 539/1000\n",
      "88/88 [==============================] - 0s 2ms/sample - loss: 0.0016 - mae: 0.0016 - val_loss: 0.0017 - val_mae: 0.0017\n",
      "Epoch 540/1000\n",
      "77/88 [=========================>....] - ETA: 0s - loss: 0.0016 - mae: 0.0016\n",
      "Epoch 00540: val_loss improved from 0.00170 to 0.00170, saving model to /home/zhimin90/DePaul/CSC695/Github/CSC695-Masters-Research-on-Neural-Network-Time-Series-Attention-Models/Asset/checkpoints/_20200703-090549_model.hdf5\n",
      "88/88 [==============================] - 0s 3ms/sample - loss: 0.0016 - mae: 0.0016 - val_loss: 0.0017 - val_mae: 0.0017\n",
      "Epoch 541/1000\n",
      "88/88 [==============================] - 0s 2ms/sample - loss: 0.0016 - mae: 0.0016 - val_loss: 0.0017 - val_mae: 0.0017\n",
      "Epoch 542/1000\n",
      "88/88 [==============================] - 0s 2ms/sample - loss: 0.0016 - mae: 0.0016 - val_loss: 0.0017 - val_mae: 0.0017\n",
      "Epoch 543/1000\n",
      "88/88 [==============================] - 0s 2ms/sample - loss: 0.0016 - mae: 0.0016 - val_loss: 0.0017 - val_mae: 0.0017\n",
      "Epoch 544/1000\n",
      "88/88 [==============================] - 0s 2ms/sample - loss: 0.0016 - mae: 0.0016 - val_loss: 0.0017 - val_mae: 0.0017\n",
      "Epoch 545/1000\n",
      "88/88 [==============================] - 0s 2ms/sample - loss: 0.0016 - mae: 0.0016 - val_loss: 0.0017 - val_mae: 0.0017\n",
      "Epoch 546/1000\n",
      "88/88 [==============================] - 0s 2ms/sample - loss: 0.0016 - mae: 0.0016 - val_loss: 0.0017 - val_mae: 0.0017\n",
      "Epoch 547/1000\n",
      "88/88 [==============================] - 0s 2ms/sample - loss: 0.0016 - mae: 0.0016 - val_loss: 0.0017 - val_mae: 0.0017\n",
      "Epoch 548/1000\n",
      "88/88 [==============================] - 0s 2ms/sample - loss: 0.0016 - mae: 0.0016 - val_loss: 0.0017 - val_mae: 0.0017\n",
      "Epoch 549/1000\n",
      "88/88 [==============================] - 0s 2ms/sample - loss: 0.0016 - mae: 0.0016 - val_loss: 0.0017 - val_mae: 0.0017\n",
      "Epoch 550/1000\n",
      "77/88 [=========================>....] - ETA: 0s - loss: 0.0016 - mae: 0.0016\n",
      "Epoch 00550: val_loss did not improve from 0.00170\n",
      "88/88 [==============================] - 0s 2ms/sample - loss: 0.0016 - mae: 0.0016 - val_loss: 0.0017 - val_mae: 0.0017\n",
      "Epoch 551/1000\n",
      "88/88 [==============================] - 0s 2ms/sample - loss: 0.0016 - mae: 0.0016 - val_loss: 0.0017 - val_mae: 0.0017\n",
      "Epoch 552/1000\n",
      "88/88 [==============================] - 0s 2ms/sample - loss: 0.0016 - mae: 0.0016 - val_loss: 0.0017 - val_mae: 0.0017\n",
      "Epoch 553/1000\n",
      "88/88 [==============================] - 0s 2ms/sample - loss: 0.0016 - mae: 0.0016 - val_loss: 0.0017 - val_mae: 0.0017\n",
      "Epoch 554/1000\n",
      "88/88 [==============================] - 0s 2ms/sample - loss: 0.0016 - mae: 0.0016 - val_loss: 0.0017 - val_mae: 0.0017\n",
      "Epoch 555/1000\n"
     ]
    },
    {
     "name": "stdout",
     "output_type": "stream",
     "text": [
      "88/88 [==============================] - 0s 2ms/sample - loss: 0.0016 - mae: 0.0016 - val_loss: 0.0017 - val_mae: 0.0017\n",
      "Epoch 556/1000\n",
      "88/88 [==============================] - 0s 2ms/sample - loss: 0.0016 - mae: 0.0016 - val_loss: 0.0017 - val_mae: 0.0017\n",
      "Epoch 557/1000\n",
      "88/88 [==============================] - 0s 2ms/sample - loss: 0.0016 - mae: 0.0016 - val_loss: 0.0017 - val_mae: 0.0017\n",
      "Epoch 558/1000\n",
      "88/88 [==============================] - 0s 2ms/sample - loss: 0.0016 - mae: 0.0016 - val_loss: 0.0017 - val_mae: 0.0017\n",
      "Epoch 559/1000\n",
      "88/88 [==============================] - 0s 2ms/sample - loss: 0.0016 - mae: 0.0016 - val_loss: 0.0017 - val_mae: 0.0017\n",
      "Epoch 560/1000\n",
      "70/88 [======================>.......] - ETA: 0s - loss: 0.0016 - mae: 0.0016\n",
      "Epoch 00560: val_loss did not improve from 0.00170\n",
      "88/88 [==============================] - 0s 2ms/sample - loss: 0.0016 - mae: 0.0016 - val_loss: 0.0017 - val_mae: 0.0017\n",
      "Epoch 561/1000\n",
      "88/88 [==============================] - 0s 2ms/sample - loss: 0.0016 - mae: 0.0016 - val_loss: 0.0017 - val_mae: 0.0017\n",
      "Epoch 562/1000\n",
      "88/88 [==============================] - 0s 2ms/sample - loss: 0.0016 - mae: 0.0016 - val_loss: 0.0017 - val_mae: 0.0017\n",
      "Epoch 563/1000\n",
      "88/88 [==============================] - 0s 2ms/sample - loss: 0.0016 - mae: 0.0016 - val_loss: 0.0017 - val_mae: 0.0017\n",
      "Epoch 564/1000\n",
      "88/88 [==============================] - 0s 2ms/sample - loss: 0.0016 - mae: 0.0016 - val_loss: 0.0017 - val_mae: 0.0017\n",
      "Epoch 565/1000\n",
      "88/88 [==============================] - 0s 2ms/sample - loss: 0.0016 - mae: 0.0016 - val_loss: 0.0017 - val_mae: 0.0017\n",
      "Epoch 566/1000\n",
      "88/88 [==============================] - 0s 2ms/sample - loss: 0.0016 - mae: 0.0016 - val_loss: 0.0017 - val_mae: 0.0017\n",
      "Epoch 567/1000\n",
      "88/88 [==============================] - 0s 3ms/sample - loss: 0.0016 - mae: 0.0016 - val_loss: 0.0017 - val_mae: 0.0017\n",
      "Epoch 568/1000\n",
      "88/88 [==============================] - 0s 2ms/sample - loss: 0.0016 - mae: 0.0016 - val_loss: 0.0017 - val_mae: 0.0017\n",
      "Epoch 569/1000\n",
      "88/88 [==============================] - 0s 3ms/sample - loss: 0.0016 - mae: 0.0016 - val_loss: 0.0017 - val_mae: 0.0017\n",
      "Epoch 570/1000\n",
      "77/88 [=========================>....] - ETA: 0s - loss: 0.0016 - mae: 0.0016\n",
      "Epoch 00570: val_loss did not improve from 0.00170\n",
      "88/88 [==============================] - 0s 2ms/sample - loss: 0.0016 - mae: 0.0016 - val_loss: 0.0017 - val_mae: 0.0017\n",
      "Epoch 571/1000\n",
      "88/88 [==============================] - 0s 3ms/sample - loss: 0.0016 - mae: 0.0016 - val_loss: 0.0017 - val_mae: 0.0017\n",
      "Epoch 572/1000\n",
      "88/88 [==============================] - 0s 2ms/sample - loss: 0.0016 - mae: 0.0016 - val_loss: 0.0017 - val_mae: 0.0017\n",
      "Epoch 573/1000\n",
      "88/88 [==============================] - 0s 3ms/sample - loss: 0.0016 - mae: 0.0016 - val_loss: 0.0017 - val_mae: 0.0017\n",
      "Epoch 574/1000\n",
      "88/88 [==============================] - 0s 2ms/sample - loss: 0.0016 - mae: 0.0016 - val_loss: 0.0017 - val_mae: 0.0017\n",
      "Epoch 575/1000\n",
      "88/88 [==============================] - 0s 3ms/sample - loss: 0.0016 - mae: 0.0016 - val_loss: 0.0017 - val_mae: 0.0017\n",
      "Epoch 576/1000\n",
      "88/88 [==============================] - 0s 2ms/sample - loss: 0.0016 - mae: 0.0016 - val_loss: 0.0017 - val_mae: 0.0017\n",
      "Epoch 577/1000\n",
      "88/88 [==============================] - 0s 2ms/sample - loss: 0.0016 - mae: 0.0016 - val_loss: 0.0017 - val_mae: 0.0017\n",
      "Epoch 578/1000\n",
      "88/88 [==============================] - 0s 2ms/sample - loss: 0.0016 - mae: 0.0016 - val_loss: 0.0017 - val_mae: 0.0017\n",
      "Epoch 579/1000\n",
      "88/88 [==============================] - 0s 2ms/sample - loss: 0.0016 - mae: 0.0016 - val_loss: 0.0017 - val_mae: 0.0017\n",
      "Epoch 580/1000\n",
      "63/88 [====================>.........] - ETA: 0s - loss: 0.0016 - mae: 0.0016\n",
      "Epoch 00580: val_loss did not improve from 0.00170\n",
      "88/88 [==============================] - 0s 2ms/sample - loss: 0.0016 - mae: 0.0016 - val_loss: 0.0017 - val_mae: 0.0017\n",
      "Epoch 581/1000\n",
      "88/88 [==============================] - 0s 2ms/sample - loss: 0.0016 - mae: 0.0016 - val_loss: 0.0017 - val_mae: 0.0017\n",
      "Epoch 582/1000\n",
      "88/88 [==============================] - 0s 3ms/sample - loss: 0.0016 - mae: 0.0016 - val_loss: 0.0017 - val_mae: 0.0017\n",
      "Epoch 583/1000\n",
      "88/88 [==============================] - 0s 2ms/sample - loss: 0.0016 - mae: 0.0016 - val_loss: 0.0017 - val_mae: 0.0017\n",
      "Epoch 584/1000\n",
      "88/88 [==============================] - 0s 2ms/sample - loss: 0.0016 - mae: 0.0016 - val_loss: 0.0017 - val_mae: 0.0017\n",
      "Epoch 585/1000\n",
      "88/88 [==============================] - 0s 2ms/sample - loss: 0.0016 - mae: 0.0016 - val_loss: 0.0017 - val_mae: 0.0017\n",
      "Epoch 586/1000\n",
      "88/88 [==============================] - 0s 2ms/sample - loss: 0.0016 - mae: 0.0016 - val_loss: 0.0017 - val_mae: 0.0017\n",
      "Epoch 587/1000\n",
      "88/88 [==============================] - 0s 3ms/sample - loss: 0.0016 - mae: 0.0016 - val_loss: 0.0017 - val_mae: 0.0017\n",
      "Epoch 588/1000\n",
      "88/88 [==============================] - 0s 2ms/sample - loss: 0.0016 - mae: 0.0016 - val_loss: 0.0017 - val_mae: 0.0017\n",
      "Epoch 589/1000\n",
      "88/88 [==============================] - 0s 3ms/sample - loss: 0.0016 - mae: 0.0016 - val_loss: 0.0017 - val_mae: 0.0017\n",
      "Epoch 590/1000\n",
      "70/88 [======================>.......] - ETA: 0s - loss: 0.0016 - mae: 0.0016\n",
      "Epoch 00590: val_loss did not improve from 0.00170\n",
      "88/88 [==============================] - 0s 2ms/sample - loss: 0.0016 - mae: 0.0016 - val_loss: 0.0017 - val_mae: 0.0017\n",
      "Epoch 591/1000\n",
      "88/88 [==============================] - 0s 2ms/sample - loss: 0.0016 - mae: 0.0016 - val_loss: 0.0017 - val_mae: 0.0017\n",
      "Epoch 592/1000\n",
      "88/88 [==============================] - 0s 2ms/sample - loss: 0.0016 - mae: 0.0016 - val_loss: 0.0017 - val_mae: 0.0017\n",
      "Epoch 593/1000\n",
      "88/88 [==============================] - 0s 2ms/sample - loss: 0.0016 - mae: 0.0016 - val_loss: 0.0017 - val_mae: 0.0017\n",
      "Epoch 594/1000\n",
      "88/88 [==============================] - 0s 2ms/sample - loss: 0.0016 - mae: 0.0016 - val_loss: 0.0017 - val_mae: 0.0017\n",
      "Epoch 595/1000\n",
      "88/88 [==============================] - 0s 2ms/sample - loss: 0.0016 - mae: 0.0016 - val_loss: 0.0017 - val_mae: 0.0017\n",
      "Epoch 596/1000\n",
      "88/88 [==============================] - 0s 2ms/sample - loss: 0.0016 - mae: 0.0016 - val_loss: 0.0017 - val_mae: 0.0017\n",
      "Epoch 597/1000\n",
      "88/88 [==============================] - 0s 2ms/sample - loss: 0.0016 - mae: 0.0016 - val_loss: 0.0017 - val_mae: 0.0017\n",
      "Epoch 598/1000\n",
      "88/88 [==============================] - 0s 2ms/sample - loss: 0.0016 - mae: 0.0016 - val_loss: 0.0017 - val_mae: 0.0017\n",
      "Epoch 599/1000\n",
      "88/88 [==============================] - 0s 2ms/sample - loss: 0.0016 - mae: 0.0016 - val_loss: 0.0017 - val_mae: 0.0017\n",
      "Epoch 600/1000\n",
      "70/88 [======================>.......] - ETA: 0s - loss: 0.0016 - mae: 0.0016\n",
      "Epoch 00600: val_loss did not improve from 0.00170\n",
      "88/88 [==============================] - 0s 2ms/sample - loss: 0.0016 - mae: 0.0016 - val_loss: 0.0017 - val_mae: 0.0017\n",
      "Epoch 601/1000\n",
      "88/88 [==============================] - 0s 2ms/sample - loss: 0.0016 - mae: 0.0016 - val_loss: 0.0017 - val_mae: 0.0017\n",
      "Epoch 602/1000\n",
      "88/88 [==============================] - 0s 2ms/sample - loss: 0.0016 - mae: 0.0016 - val_loss: 0.0017 - val_mae: 0.0017\n",
      "Epoch 603/1000\n",
      "88/88 [==============================] - 0s 2ms/sample - loss: 0.0016 - mae: 0.0016 - val_loss: 0.0017 - val_mae: 0.0017\n",
      "Epoch 604/1000\n",
      "77/88 [=========================>....] - ETA: 0s - loss: 0.0016 - mae: 0.0016Restoring model weights from the end of the best epoch.\n",
      "88/88 [==============================] - 0s 2ms/sample - loss: 0.0016 - mae: 0.0016 - val_loss: 0.0017 - val_mae: 0.0017\n",
      "Epoch 00604: early stopping\n",
      "28/28 - 0s - loss: 0.0017 - mae: 0.0017\n",
      "valid_accuracy_MAE=0.0016942823, valid_loss=0.0016942822840064764\n"
     ]
    }
   ],
   "source": [
    "EPOCHS = 5\n",
    "\n",
    "earlystop_callback = tf.keras.callbacks.EarlyStopping(monitor=\"val_loss\",\n",
    "    min_delta=0,\n",
    "    patience=EPOCHS*10,\n",
    "    verbose=1,\n",
    "    mode=\"auto\",\n",
    "    baseline=None,\n",
    "    restore_best_weights=True,)\n",
    "\n",
    "logdir = os.path.join(\"./logs\", datetime.datetime.now().strftime(\"%Y%m%d-%H%M%S\"))\n",
    "tensorboard_cbk = tf.keras.callbacks.TensorBoard(log_dir=logdir)\n",
    "\n",
    "modelfilename = checkpoint_filepath + '_'+\\\n",
    "                    datetime.datetime.now().strftime(\"%Y%m%d-%H%M%S\")\\\n",
    "                    + \"_model.hdf5\"\n",
    "\n",
    "model_checkpoint_callback = tf.keras.callbacks.ModelCheckpoint(\n",
    "    modelfilename,\n",
    "    save_weights_only=False,\n",
    "    monitor='val_loss',#'val_accuracy',\n",
    "    mode='min',\n",
    "    verbose=1,\n",
    "    period = 10,\n",
    "    save_best_only=True)\n",
    "\n",
    "\n",
    "\n",
    "model_history = model.fit(X_train,Y_train, \n",
    "                             validation_data=(X_valid, Y_valid),\n",
    "                             epochs=1000, \n",
    "                             batch_size=7, \n",
    "                             callbacks=[tensorboard_cbk,\n",
    "                             #hp.KerasCallback(logdir, hparams),\n",
    "                             earlystop_callback,\n",
    "                             model_checkpoint_callback\n",
    "                                       ]\n",
    "                                   )\n",
    "valid_loss, valid_acc = model.evaluate(X_valid, Y_valid, verbose=2) # 5/2020 nt: use validation set\n",
    "print (\"valid_accuracy_MAE=%s, valid_loss=%s\" % (valid_acc, valid_loss))"
   ]
  },
  {
   "cell_type": "markdown",
   "metadata": {},
   "source": [
    "#### Adam Optimize:"
   ]
  },
  {
   "cell_type": "markdown",
   "metadata": {},
   "source": [
    "### Best flatten() + fully connected Dense is at  MAE of 0.001698"
   ]
  },
  {
   "cell_type": "markdown",
   "metadata": {},
   "source": [
    "### Best flatten() + LSTM(100) is at  MAE of 0.001731"
   ]
  },
  {
   "cell_type": "markdown",
   "metadata": {},
   "source": [
    "### Best 2D CNN + LSTM(50) is at MAE of 0.001724"
   ]
  },
  {
   "cell_type": "markdown",
   "metadata": {},
   "source": [
    "### Best 2D CNN + LSTM(100) + Attention on LSTM recurrences is at  MAE of 0.0016917"
   ]
  },
  {
   "cell_type": "markdown",
   "metadata": {},
   "source": [
    "### Best flatten() + LSTM(100) + Attention on LSTM recurrences is at  MAE of 0.001692"
   ]
  },
  {
   "cell_type": "markdown",
   "metadata": {},
   "source": [
    "### Best flatten() + 2x Attention Heads on  TimeDistributed is at MAE of 0.0016914"
   ]
  },
  {
   "cell_type": "markdown",
   "metadata": {},
   "source": [
    "### Best Frequency from FFT + Attention is at MAE of 0.0016903"
   ]
  },
  {
   "cell_type": "code",
   "execution_count": null,
   "metadata": {},
   "outputs": [],
   "source": [
    "# Load the TensorBoard notebook extension\n",
    "%load_ext tensorboard\n",
    "logs_base_dir = \"./logs\"\n",
    "os.makedirs(logs_base_dir, exist_ok=True)\n",
    "%tensorboard --logdir {logs_base_dir}"
   ]
  },
  {
   "cell_type": "code",
   "execution_count": null,
   "metadata": {},
   "outputs": [],
   "source": [
    "Predict = model.predict(X_valid)"
   ]
  },
  {
   "cell_type": "code",
   "execution_count": null,
   "metadata": {},
   "outputs": [],
   "source": [
    "Predict.shape"
   ]
  },
  {
   "cell_type": "code",
   "execution_count": null,
   "metadata": {},
   "outputs": [],
   "source": [
    "int(Predict[-1].shape[0]**(1/2)),int(Predict[-1].shape[0]**(1/2))"
   ]
  },
  {
   "cell_type": "code",
   "execution_count": null,
   "metadata": {},
   "outputs": [],
   "source": [
    "def reshapePred(Predict, fromLast=1):\n",
    "    return np.rot90(Predict[-1*fromLast].reshape(int(Predict[-1*fromLast].shape[0]**(1/2)),int(Predict[-1*fromLast].shape[0]**(1/2))))"
   ]
  },
  {
   "cell_type": "code",
   "execution_count": null,
   "metadata": {},
   "outputs": [],
   "source": [
    "import matplotlib.pyplot as plt\n",
    "grid_size = 500\n",
    "density_matrix_t_series = []\n",
    "# Define the borders\n",
    "x = [-87.9361,-87.5245]\n",
    "y = [41.6447,42.023]\n",
    "deltaX = (max(x) - min(x))/10\n",
    "deltaY = (max(y) - min(y))/10\n",
    "xmin = min(x) - deltaX\n",
    "xmax = max(x) + deltaX\n",
    "ymin = min(y) - deltaY\n",
    "ymax = max(y) + deltaY\n",
    "plt.figure(figsize=(18, 14))\n",
    "plt.title('Predicted')\n",
    "plt.imshow( X=reshapePred(Predict,1), cmap=plt.cm.twilight, extent=[xmin, xmax, ymin, ymax])"
   ]
  },
  {
   "cell_type": "code",
   "execution_count": null,
   "metadata": {},
   "outputs": [],
   "source": [
    "plt.figure(figsize=(18, 14))\n",
    "plt.title('Actual')\n",
    "plt.imshow( X=reshapePred(Y_valid,1), cmap=plt.cm.twilight, extent=[xmin, xmax, ymin, ymax])"
   ]
  },
  {
   "cell_type": "markdown",
   "metadata": {},
   "source": [
    "#### We plot the difference between prediction and target"
   ]
  },
  {
   "cell_type": "code",
   "execution_count": null,
   "metadata": {},
   "outputs": [],
   "source": [
    "diff = (reshapePred(Y_valid,3)-reshapePred(Predict,3))\n",
    "diff.shape"
   ]
  },
  {
   "cell_type": "code",
   "execution_count": null,
   "metadata": {},
   "outputs": [],
   "source": [
    "diff_max = np.max(diff)\n",
    "diff_min = np.min(diff)\n",
    "scaled_diff = (diff - diff_min)/(diff_max - diff_min)"
   ]
  },
  {
   "cell_type": "code",
   "execution_count": null,
   "metadata": {},
   "outputs": [],
   "source": [
    "np.max(scaled_diff)"
   ]
  },
  {
   "cell_type": "code",
   "execution_count": null,
   "metadata": {},
   "outputs": [],
   "source": [
    "diff"
   ]
  },
  {
   "cell_type": "code",
   "execution_count": null,
   "metadata": {},
   "outputs": [],
   "source": [
    "plt.figure(figsize=(18, 14))\n",
    "plt.title('Actual')\n",
    "plt.imshow( X=scaled_diff, cmap=plt.cm.twilight, extent=[xmin, xmax, ymin, ymax])"
   ]
  },
  {
   "cell_type": "markdown",
   "metadata": {},
   "source": [
    "#### Note the differences is scaled, red means extreme differences inplot above. Interestingly we see the extreme differences is at the highest crime areas."
   ]
  },
  {
   "cell_type": "code",
   "execution_count": null,
   "metadata": {},
   "outputs": [],
   "source": []
  },
  {
   "cell_type": "code",
   "execution_count": null,
   "metadata": {},
   "outputs": [],
   "source": []
  }
 ],
 "metadata": {
  "kernelspec": {
   "display_name": "Python [conda env:venv]",
   "language": "python",
   "name": "conda-env-venv-py"
  },
  "language_info": {
   "codemirror_mode": {
    "name": "ipython",
    "version": 3
   },
   "file_extension": ".py",
   "mimetype": "text/x-python",
   "name": "python",
   "nbconvert_exporter": "python",
   "pygments_lexer": "ipython3",
   "version": "3.7.6"
  }
 },
 "nbformat": 4,
 "nbformat_minor": 4
}
