{
 "cells": [
  {
   "cell_type": "code",
   "execution_count": 1,
   "metadata": {},
   "outputs": [],
   "source": [
    "import pickle\n",
    "import numpy as np\n",
    "import pandas as pd"
   ]
  },
  {
   "cell_type": "code",
   "execution_count": 2,
   "metadata": {},
   "outputs": [],
   "source": [
    "Asset_PATH = \"/home/zhimin90/DePaul/CSC695/Github/CSC695-Masters-Research-on-Neural-Network-Time-Series-Attention-Models/Asset/\""
   ]
  },
  {
   "cell_type": "markdown",
   "metadata": {},
   "source": [
    "#### Load Gaussian KDE timeseries"
   ]
  },
  {
   "cell_type": "code",
   "execution_count": 3,
   "metadata": {},
   "outputs": [],
   "source": [
    "density_matrix_t_series = pickle.load(open(Asset_PATH  + 'density_matrix_t_series.pickle', 'rb'))"
   ]
  },
  {
   "cell_type": "code",
   "execution_count": 4,
   "metadata": {},
   "outputs": [
    {
     "data": {
      "text/plain": [
       "(198, 1000, 1000)"
      ]
     },
     "execution_count": 4,
     "metadata": {},
     "output_type": "execute_result"
    }
   ],
   "source": [
    "density_matrix_t_series.shape"
   ]
  },
  {
   "cell_type": "code",
   "execution_count": 5,
   "metadata": {},
   "outputs": [
    {
     "name": "stdout",
     "output_type": "stream",
     "text": [
      "1373.5868386259936\n",
      "-1.9779578676050593e-13\n"
     ]
    }
   ],
   "source": [
    "print(np.max(density_matrix_t_series))\n",
    "print(np.min(density_matrix_t_series))"
   ]
  },
  {
   "cell_type": "code",
   "execution_count": 6,
   "metadata": {},
   "outputs": [
    {
     "data": {
      "text/plain": [
       "198"
      ]
     },
     "execution_count": 6,
     "metadata": {},
     "output_type": "execute_result"
    }
   ],
   "source": [
    "density_matrix_t_series.shape[0]"
   ]
  },
  {
   "cell_type": "code",
   "execution_count": 7,
   "metadata": {},
   "outputs": [],
   "source": [
    "train, valid = (60,20)\n",
    "test = 20\n",
    "\n",
    "total_len = density_matrix_t_series.shape[0]\n",
    "train_index = range(0,int(train/100*total_len))"
   ]
  },
  {
   "cell_type": "code",
   "execution_count": 8,
   "metadata": {},
   "outputs": [],
   "source": [
    "valid_index = range(train_index[-1]+1,train_index[-1] + int(valid/100*total_len))\n",
    "test_index = range(valid_index[-1]+1,valid_index[-1] + int(test/100*total_len))"
   ]
  },
  {
   "cell_type": "code",
   "execution_count": 9,
   "metadata": {},
   "outputs": [
    {
     "data": {
      "text/plain": [
       "(198, 1000000)"
      ]
     },
     "execution_count": 9,
     "metadata": {},
     "output_type": "execute_result"
    }
   ],
   "source": [
    "flattened_matrix_np = np.reshape(density_matrix_t_series, \n",
    "                                 (density_matrix_t_series.shape[0],\n",
    "                                  density_matrix_t_series.shape[1]*density_matrix_t_series.shape[2]))\n",
    "flattened_matrix_np.shape"
   ]
  },
  {
   "cell_type": "code",
   "execution_count": 31,
   "metadata": {},
   "outputs": [],
   "source": [
    "from sklearn.preprocessing import MinMaxScaler #,StandardScaler\n",
    "\n",
    "scaler = MinMaxScaler()\n",
    "X_train = scaler.fit_transform(flattened_matrix_np[train_index])\n"
   ]
  },
  {
   "cell_type": "code",
   "execution_count": 32,
   "metadata": {},
   "outputs": [
    {
     "data": {
      "text/plain": [
       "(118, 1, 1000000)"
      ]
     },
     "execution_count": 32,
     "metadata": {},
     "output_type": "execute_result"
    }
   ],
   "source": [
    "X_train = X_train.reshape(X_train.shape[0],1,X_train.shape[1])\n",
    "X_train.shape"
   ]
  },
  {
   "cell_type": "code",
   "execution_count": 33,
   "metadata": {},
   "outputs": [
    {
     "data": {
      "text/plain": [
       "(118, 1, 1000, 1000, 1)"
      ]
     },
     "execution_count": 33,
     "metadata": {},
     "output_type": "execute_result"
    }
   ],
   "source": [
    "X_train = X_train.reshape(X_train.shape[0],X_train.shape[1],int(X_train.shape[2]**(1/2)),int(X_train.shape[2]**(1/2)),1)\n",
    "X_train.shape"
   ]
  },
  {
   "cell_type": "code",
   "execution_count": 13,
   "metadata": {},
   "outputs": [
    {
     "name": "stdout",
     "output_type": "stream",
     "text": [
      "1.0000000000000002\n",
      "0.0\n"
     ]
    }
   ],
   "source": [
    "print(np.max(X_train))\n",
    "print(np.min(X_train))"
   ]
  },
  {
   "cell_type": "markdown",
   "metadata": {},
   "source": [
    "#### We transform the whole train, valid, test based on scaler fitted on train"
   ]
  },
  {
   "cell_type": "code",
   "execution_count": 35,
   "metadata": {},
   "outputs": [],
   "source": [
    "scaled_flattened_matrix = scaler.transform(flattened_matrix_np)"
   ]
  },
  {
   "cell_type": "markdown",
   "metadata": {},
   "source": [
    "#### We reshape to (sample, timestep, inputshape)"
   ]
  },
  {
   "cell_type": "code",
   "execution_count": 36,
   "metadata": {},
   "outputs": [
    {
     "data": {
      "text/plain": [
       "(198, 1, 1000000)"
      ]
     },
     "execution_count": 36,
     "metadata": {},
     "output_type": "execute_result"
    }
   ],
   "source": [
    "scaled_flattened_matrix = scaled_flattened_matrix.reshape(scaled_flattened_matrix.shape[0],\n",
    "                                                           1,\n",
    "                                                           scaled_flattened_matrix.shape[1])\n",
    "scaled_flattened_matrix.shape"
   ]
  },
  {
   "cell_type": "markdown",
   "metadata": {},
   "source": [
    "#### We set the target to be 7 days aggregated KDE or 1 single frame forward"
   ]
  },
  {
   "cell_type": "code",
   "execution_count": 37,
   "metadata": {},
   "outputs": [],
   "source": [
    "def reshape(X_train):\n",
    "    if len(X_train.shape)>2:\n",
    "        return X_train.reshape(X_train.shape[0],X_train.shape[1],int(X_train.shape[2]**(1/2)),int(X_train.shape[2]**(1/2)),1)\n",
    "    else:\n",
    "        return X_train.reshape(X_train.shape[0],int(X_train.shape[1]**(1/2)),int(X_train.shape[1]**(1/2)),1)"
   ]
  },
  {
   "cell_type": "code",
   "execution_count": 38,
   "metadata": {},
   "outputs": [],
   "source": [
    "Y_train = scaled_flattened_matrix[np.array(train_index)+1].reshape(\n",
    "    scaled_flattened_matrix[np.array(train_index)+1].shape[0],scaled_flattened_matrix[np.array(train_index)+1].shape[2])\n",
    "Y_train = reshape(Y_train)\n",
    "\n",
    "X_valid = scaled_flattened_matrix[np.array(valid_index)]\n",
    "X_valid = reshape(X_valid)\n",
    "\n",
    "Y_valid = scaled_flattened_matrix[np.array(valid_index)+1].reshape(\n",
    "    scaled_flattened_matrix[np.array(valid_index)+1].shape[0],scaled_flattened_matrix[np.array(valid_index)+1].shape[2])\n",
    "Y_valid = reshape(Y_valid)\n",
    "\n",
    "X_test = scaled_flattened_matrix[np.array(test_index)]\n",
    "X_test = reshape(X_test)\n",
    "\n",
    "Y_test = scaled_flattened_matrix[np.array(test_index)+1].reshape(\n",
    "    scaled_flattened_matrix[np.array(test_index)+1].shape[0],scaled_flattened_matrix[np.array(test_index)+1].shape[2])\n",
    "Y_test = reshape(Y_test)"
   ]
  },
  {
   "cell_type": "code",
   "execution_count": 39,
   "metadata": {},
   "outputs": [
    {
     "name": "stdout",
     "output_type": "stream",
     "text": [
      "[[[[[0.60441593]\n",
      "    [0.58182973]\n",
      "    [0.55164859]\n",
      "    ...\n",
      "    [0.38867659]\n",
      "    [0.43911245]\n",
      "    [0.47768694]]\n",
      "\n",
      "   [[0.54314872]\n",
      "    [0.51742145]\n",
      "    [0.46258717]\n",
      "    ...\n",
      "    [0.22645183]\n",
      "    [0.20301129]\n",
      "    [0.17867648]]\n",
      "\n",
      "   [[0.56163515]\n",
      "    [0.55776216]\n",
      "    [0.55777539]\n",
      "    ...\n",
      "    [0.34234551]\n",
      "    [0.40902312]\n",
      "    [0.42605115]]\n",
      "\n",
      "   ...\n",
      "\n",
      "   [[0.3551999 ]\n",
      "    [0.2996704 ]\n",
      "    [0.23973855]\n",
      "    ...\n",
      "    [0.24064679]\n",
      "    [0.29429379]\n",
      "    [0.3342973 ]]\n",
      "\n",
      "   [[0.30525529]\n",
      "    [0.35188671]\n",
      "    [0.39969033]\n",
      "    ...\n",
      "    [0.28016812]\n",
      "    [0.26736888]\n",
      "    [0.25722946]]\n",
      "\n",
      "   [[0.04280326]\n",
      "    [0.08066387]\n",
      "    [0.08015056]\n",
      "    ...\n",
      "    [0.32541977]\n",
      "    [0.31968994]\n",
      "    [0.26762363]]]]\n",
      "\n",
      "\n",
      "\n",
      " [[[[0.7817593 ]\n",
      "    [0.78284985]\n",
      "    [0.78405589]\n",
      "    ...\n",
      "    [0.55029251]\n",
      "    [0.54730131]\n",
      "    [0.55789942]]\n",
      "\n",
      "   [[0.88465522]\n",
      "    [0.88893822]\n",
      "    [0.8769544 ]\n",
      "    ...\n",
      "    [0.34876011]\n",
      "    [0.3343945 ]\n",
      "    [0.34488595]]\n",
      "\n",
      "   [[0.46993552]\n",
      "    [0.47346894]\n",
      "    [0.46545939]\n",
      "    ...\n",
      "    [0.55019749]\n",
      "    [0.55770246]\n",
      "    [0.52385978]]\n",
      "\n",
      "   ...\n",
      "\n",
      "   [[0.42745034]\n",
      "    [0.44540552]\n",
      "    [0.43457911]\n",
      "    ...\n",
      "    [0.43993309]\n",
      "    [0.48217431]\n",
      "    [0.50659562]]\n",
      "\n",
      "   [[0.34281878]\n",
      "    [0.36005367]\n",
      "    [0.36917726]\n",
      "    ...\n",
      "    [0.66706727]\n",
      "    [0.67541039]\n",
      "    [0.66665061]]\n",
      "\n",
      "   [[0.38912811]\n",
      "    [0.45842694]\n",
      "    [0.49944677]\n",
      "    ...\n",
      "    [0.65977881]\n",
      "    [0.70956303]\n",
      "    [0.7024271 ]]]]]\n",
      "----------------------------------------------------------------------------------------------------\n",
      "[[[0.7817593 ]\n",
      "  [0.78284985]\n",
      "  [0.78405589]\n",
      "  ...\n",
      "  [0.55029251]\n",
      "  [0.54730131]\n",
      "  [0.55789942]]\n",
      "\n",
      " [[0.88465522]\n",
      "  [0.88893822]\n",
      "  [0.8769544 ]\n",
      "  ...\n",
      "  [0.34876011]\n",
      "  [0.3343945 ]\n",
      "  [0.34488595]]\n",
      "\n",
      " [[0.46993552]\n",
      "  [0.47346894]\n",
      "  [0.46545939]\n",
      "  ...\n",
      "  [0.55019749]\n",
      "  [0.55770246]\n",
      "  [0.52385978]]\n",
      "\n",
      " ...\n",
      "\n",
      " [[0.42745034]\n",
      "  [0.44540552]\n",
      "  [0.43457911]\n",
      "  ...\n",
      "  [0.43993309]\n",
      "  [0.48217431]\n",
      "  [0.50659562]]\n",
      "\n",
      " [[0.34281878]\n",
      "  [0.36005367]\n",
      "  [0.36917726]\n",
      "  ...\n",
      "  [0.66706727]\n",
      "  [0.67541039]\n",
      "  [0.66665061]]\n",
      "\n",
      " [[0.38912811]\n",
      "  [0.45842694]\n",
      "  [0.49944677]\n",
      "  ...\n",
      "  [0.65977881]\n",
      "  [0.70956303]\n",
      "  [0.7024271 ]]]\n"
     ]
    }
   ],
   "source": [
    "print(X_train[0:2])\n",
    "print('-'*100)\n",
    "print(Y_train[0])"
   ]
  },
  {
   "cell_type": "code",
   "execution_count": 40,
   "metadata": {},
   "outputs": [
    {
     "name": "stdout",
     "output_type": "stream",
     "text": [
      "[[[[[ 0.63873992]\n",
      "    [ 0.67797451]\n",
      "    [ 0.71745821]\n",
      "    ...\n",
      "    [ 0.66047035]\n",
      "    [ 0.72086383]\n",
      "    [ 0.77389617]]\n",
      "\n",
      "   [[ 0.53008569]\n",
      "    [ 0.53357382]\n",
      "    [ 0.53578384]\n",
      "    ...\n",
      "    [ 0.17650283]\n",
      "    [ 0.22193099]\n",
      "    [ 0.30124343]]\n",
      "\n",
      "   [[ 0.20233666]\n",
      "    [ 0.22734124]\n",
      "    [ 0.28821334]\n",
      "    ...\n",
      "    [ 0.27555832]\n",
      "    [ 0.33994046]\n",
      "    [ 0.3723761 ]]\n",
      "\n",
      "   ...\n",
      "\n",
      "   [[ 0.10712916]\n",
      "    [ 0.04049415]\n",
      "    [-0.01919522]\n",
      "    ...\n",
      "    [ 0.28277002]\n",
      "    [ 0.35836427]\n",
      "    [ 0.40042785]]\n",
      "\n",
      "   [[ 0.34337304]\n",
      "    [ 0.29948787]\n",
      "    [ 0.25655559]\n",
      "    ...\n",
      "    [ 0.40692234]\n",
      "    [ 0.4468157 ]\n",
      "    [ 0.4905469 ]]\n",
      "\n",
      "   [[ 0.26399218]\n",
      "    [ 0.2122477 ]\n",
      "    [ 0.13850271]\n",
      "    ...\n",
      "    [ 0.44575125]\n",
      "    [ 0.49944353]\n",
      "    [ 0.5345717 ]]]]\n",
      "\n",
      "\n",
      "\n",
      " [[[[ 0.48523906]\n",
      "    [ 0.51866757]\n",
      "    [ 0.56361375]\n",
      "    ...\n",
      "    [-0.06757383]\n",
      "    [ 0.01401152]\n",
      "    [ 0.14172242]]\n",
      "\n",
      "   [[ 0.56052966]\n",
      "    [ 0.54366578]\n",
      "    [ 0.52869966]\n",
      "    ...\n",
      "    [ 0.47495116]\n",
      "    [ 0.43401174]\n",
      "    [ 0.35944391]]\n",
      "\n",
      "   [[ 0.58735254]\n",
      "    [ 0.58747072]\n",
      "    [ 0.60877164]\n",
      "    ...\n",
      "    [ 0.37674439]\n",
      "    [ 0.45665054]\n",
      "    [ 0.47674143]]\n",
      "\n",
      "   ...\n",
      "\n",
      "   [[ 0.84618881]\n",
      "    [ 0.92063218]\n",
      "    [ 1.01352157]\n",
      "    ...\n",
      "    [ 0.79874301]\n",
      "    [ 0.83387399]\n",
      "    [ 0.85781911]]\n",
      "\n",
      "   [[ 0.51413089]\n",
      "    [ 0.51521732]\n",
      "    [ 0.5456037 ]\n",
      "    ...\n",
      "    [ 0.63362526]\n",
      "    [ 0.66800817]\n",
      "    [ 0.67702976]]\n",
      "\n",
      "   [[ 0.54165783]\n",
      "    [ 0.55563749]\n",
      "    [ 0.55670371]\n",
      "    ...\n",
      "    [ 0.53654593]\n",
      "    [ 0.6145891 ]\n",
      "    [ 0.64743603]]]]]\n",
      "----------------------------------------------------------------------------------------------------\n",
      "[[[ 0.48523906]\n",
      "  [ 0.51866757]\n",
      "  [ 0.56361375]\n",
      "  ...\n",
      "  [-0.06757383]\n",
      "  [ 0.01401152]\n",
      "  [ 0.14172242]]\n",
      "\n",
      " [[ 0.56052966]\n",
      "  [ 0.54366578]\n",
      "  [ 0.52869966]\n",
      "  ...\n",
      "  [ 0.47495116]\n",
      "  [ 0.43401174]\n",
      "  [ 0.35944391]]\n",
      "\n",
      " [[ 0.58735254]\n",
      "  [ 0.58747072]\n",
      "  [ 0.60877164]\n",
      "  ...\n",
      "  [ 0.37674439]\n",
      "  [ 0.45665054]\n",
      "  [ 0.47674143]]\n",
      "\n",
      " ...\n",
      "\n",
      " [[ 0.84618881]\n",
      "  [ 0.92063218]\n",
      "  [ 1.01352157]\n",
      "  ...\n",
      "  [ 0.79874301]\n",
      "  [ 0.83387399]\n",
      "  [ 0.85781911]]\n",
      "\n",
      " [[ 0.51413089]\n",
      "  [ 0.51521732]\n",
      "  [ 0.5456037 ]\n",
      "  ...\n",
      "  [ 0.63362526]\n",
      "  [ 0.66800817]\n",
      "  [ 0.67702976]]\n",
      "\n",
      " [[ 0.54165783]\n",
      "  [ 0.55563749]\n",
      "  [ 0.55670371]\n",
      "  ...\n",
      "  [ 0.53654593]\n",
      "  [ 0.6145891 ]\n",
      "  [ 0.64743603]]]\n"
     ]
    }
   ],
   "source": [
    "print(X_valid[0:2])\n",
    "print('-'*100)\n",
    "print(Y_valid[0])"
   ]
  },
  {
   "cell_type": "code",
   "execution_count": 41,
   "metadata": {},
   "outputs": [
    {
     "name": "stdout",
     "output_type": "stream",
     "text": [
      "(118, 1, 1000, 1000, 1)\n",
      "(118, 1000, 1000, 1)\n",
      "(38, 1, 1000, 1000, 1)\n",
      "(38, 1000, 1000, 1)\n",
      "(38, 1, 1000, 1000, 1)\n",
      "(38, 1000, 1000, 1)\n"
     ]
    }
   ],
   "source": [
    "print(X_train.shape)\n",
    "print(Y_train.shape)\n",
    "print(X_valid.shape)\n",
    "print(Y_valid.shape)\n",
    "print(X_test.shape)\n",
    "print(Y_test.shape)"
   ]
  },
  {
   "cell_type": "code",
   "execution_count": 42,
   "metadata": {},
   "outputs": [],
   "source": [
    "import os, datetime\n",
    "import tensorflow as tf\n",
    "from tensorflow.keras import optimizers\n",
    "from tensorflow.keras.models import Sequential\n",
    "from tensorflow.keras.layers import Dense, Dropout, LSTM, Bidirectional, GaussianNoise, Flatten\n",
    "from tensorflow.keras.layers import Conv2D, MaxPooling2D, Concatenate, Input, LSTM, RepeatVector, TimeDistributed\n",
    "import tensorflow.keras.layers as layers"
   ]
  },
  {
   "cell_type": "code",
   "execution_count": 43,
   "metadata": {},
   "outputs": [],
   "source": [
    "checkpoint_filepath = Asset_PATH+'checkpoints/'"
   ]
  },
  {
   "cell_type": "markdown",
   "metadata": {},
   "source": [
    "## Top half of AutoEncoder LSTM Model with > shaped LSTM layers"
   ]
  },
  {
   "cell_type": "code",
   "execution_count": 48,
   "metadata": {},
   "outputs": [
    {
     "ename": "ValueError",
     "evalue": "This model has not yet been built. Build the model first by calling `build()` or calling `fit()` with some data, or specify an `input_shape` argument in the first layer(s) for automatic build.",
     "output_type": "error",
     "traceback": [
      "\u001b[0;31m---------------------------------------------------------------------------\u001b[0m",
      "\u001b[0;31mValueError\u001b[0m                                Traceback (most recent call last)",
      "\u001b[0;32m<ipython-input-48-4f316484d319>\u001b[0m in \u001b[0;36m<module>\u001b[0;34m\u001b[0m\n\u001b[1;32m     22\u001b[0m \u001b[0;31m#lstm_model.add(Dense(10, kernel_initializer='glorot_normal', activation='relu'))\u001b[0m\u001b[0;34m\u001b[0m\u001b[0;34m\u001b[0m\u001b[0;34m\u001b[0m\u001b[0m\n\u001b[1;32m     23\u001b[0m \u001b[0mlstm_model\u001b[0m\u001b[0;34m.\u001b[0m\u001b[0madd\u001b[0m\u001b[0;34m(\u001b[0m\u001b[0mDense\u001b[0m\u001b[0;34m(\u001b[0m\u001b[0mY_train\u001b[0m\u001b[0;34m.\u001b[0m\u001b[0mshape\u001b[0m\u001b[0;34m[\u001b[0m\u001b[0;36m1\u001b[0m\u001b[0;34m]\u001b[0m\u001b[0;34m)\u001b[0m\u001b[0;34m)\u001b[0m\u001b[0;34m\u001b[0m\u001b[0;34m\u001b[0m\u001b[0m\n\u001b[0;32m---> 24\u001b[0;31m \u001b[0mlstm_model\u001b[0m\u001b[0;34m.\u001b[0m\u001b[0msummary\u001b[0m\u001b[0;34m(\u001b[0m\u001b[0;34m)\u001b[0m\u001b[0;34m\u001b[0m\u001b[0;34m\u001b[0m\u001b[0m\n\u001b[0m\u001b[1;32m     25\u001b[0m \u001b[0;34m\u001b[0m\u001b[0m\n\u001b[1;32m     26\u001b[0m \u001b[0madam\u001b[0m \u001b[0;34m=\u001b[0m \u001b[0moptimizers\u001b[0m\u001b[0;34m.\u001b[0m\u001b[0mAdam\u001b[0m\u001b[0;34m(\u001b[0m\u001b[0mlr\u001b[0m\u001b[0;34m)\u001b[0m\u001b[0;34m\u001b[0m\u001b[0;34m\u001b[0m\u001b[0m\n",
      "\u001b[0;32m~/anaconda3/envs/venv/lib/python3.7/site-packages/tensorflow_core/python/keras/engine/network.py\u001b[0m in \u001b[0;36msummary\u001b[0;34m(self, line_length, positions, print_fn)\u001b[0m\n\u001b[1;32m   1300\u001b[0m     \"\"\"\n\u001b[1;32m   1301\u001b[0m     \u001b[0;32mif\u001b[0m \u001b[0;32mnot\u001b[0m \u001b[0mself\u001b[0m\u001b[0;34m.\u001b[0m\u001b[0mbuilt\u001b[0m\u001b[0;34m:\u001b[0m\u001b[0;34m\u001b[0m\u001b[0;34m\u001b[0m\u001b[0m\n\u001b[0;32m-> 1302\u001b[0;31m       raise ValueError('This model has not yet been built. '\n\u001b[0m\u001b[1;32m   1303\u001b[0m                        \u001b[0;34m'Build the model first by calling `build()` or calling '\u001b[0m\u001b[0;34m\u001b[0m\u001b[0;34m\u001b[0m\u001b[0m\n\u001b[1;32m   1304\u001b[0m                        \u001b[0;34m'`fit()` with some data, or specify '\u001b[0m\u001b[0;34m\u001b[0m\u001b[0;34m\u001b[0m\u001b[0m\n",
      "\u001b[0;31mValueError\u001b[0m: This model has not yet been built. Build the model first by calling `build()` or calling `fit()` with some data, or specify an `input_shape` argument in the first layer(s) for automatic build."
     ]
    }
   ],
   "source": [
    "serie_size, timestep, n_features_row, n_features_column, no_channel = X_train.shape\n",
    "\n",
    "epochs = 100\n",
    "batch = 48\n",
    "lr = 0.1\n",
    "loss='mae'\n",
    "METRIC_ACCURACY = 'mae'\n",
    "\n",
    "cnn = Sequential()\n",
    "cnn.add(Conv2D(1, (2,2), activation='relu', padding='same', input_shape=(n_features_row, n_features_column,no_channel )))\n",
    "cnn.add(MaxPooling2D(pool_size=(2, 2)))\n",
    "cnn.add(Flatten())\n",
    "\n",
    "\n",
    "\n",
    "lstm_model = Sequential()\n",
    "lstm_model.add(TimeDistributed(cnn))\n",
    "lstm_model.add(LSTM(20))\n",
    "#lstm_model.add(LSTM(60, activation='relu', return_sequences=True))\n",
    "#lstm_model.add(LSTM(10, activation='relu'))\n",
    "lstm_model.add(Dense(10, kernel_initializer='glorot_normal', activation='relu'))\n",
    "#lstm_model.add(Dense(10, kernel_initializer='glorot_normal', activation='relu'))\n",
    "lstm_model.add(Dense(Y_train.shape[1]))\n",
    "#lstm_model.summary()\n",
    "\n",
    "adam = optimizers.Adam(lr)\n",
    "lstm_model.compile(loss=loss,\n",
    "                   metrics=[METRIC_ACCURACY], \n",
    "                   optimizer=adam)\n",
    "#lstm_model.summary()"
   ]
  },
  {
   "cell_type": "code",
   "execution_count": 46,
   "metadata": {},
   "outputs": [
    {
     "name": "stdout",
     "output_type": "stream",
     "text": [
      "WARNING:tensorflow:`period` argument is deprecated. Please use `save_freq` to specify the frequency in number of samples seen.\n",
      "Train on 118 samples, validate on 38 samples\n",
      "Epoch 1/20\n",
      " 32/118 [=======>......................] - ETA: 9s"
     ]
    },
    {
     "ename": "InvalidArgumentError",
     "evalue": " Incompatible shapes: [32,1000] vs. [32,1000,1000,1]\n\t [[node loss/output_1_loss/sub (defined at <ipython-input-46-0adb98e35bba>:31) ]] [Op:__inference_distributed_function_3245]\n\nFunction call stack:\ndistributed_function\n",
     "output_type": "error",
     "traceback": [
      "\u001b[0;31m---------------------------------------------------------------------------\u001b[0m",
      "\u001b[0;31mInvalidArgumentError\u001b[0m                      Traceback (most recent call last)",
      "\u001b[0;32m<ipython-input-46-0adb98e35bba>\u001b[0m in \u001b[0;36m<module>\u001b[0;34m\u001b[0m\n\u001b[1;32m     29\u001b[0m lstm_model_history = lstm_model.fit(X_train,Y_train, \n\u001b[1;32m     30\u001b[0m                              \u001b[0mvalidation_data\u001b[0m\u001b[0;34m=\u001b[0m\u001b[0;34m(\u001b[0m\u001b[0mX_valid\u001b[0m\u001b[0;34m,\u001b[0m \u001b[0mY_valid\u001b[0m\u001b[0;34m)\u001b[0m\u001b[0;34m,\u001b[0m\u001b[0;34m\u001b[0m\u001b[0;34m\u001b[0m\u001b[0m\n\u001b[0;32m---> 31\u001b[0;31m                              \u001b[0mepochs\u001b[0m\u001b[0;34m=\u001b[0m\u001b[0;36m20\u001b[0m\u001b[0;34m,\u001b[0m\u001b[0;34m\u001b[0m\u001b[0;34m\u001b[0m\u001b[0m\n\u001b[0m\u001b[1;32m     32\u001b[0m                              \u001b[0;31m#batch_size=batch,\u001b[0m\u001b[0;34m\u001b[0m\u001b[0;34m\u001b[0m\u001b[0;34m\u001b[0m\u001b[0m\n\u001b[1;32m     33\u001b[0m                              \u001b[0;31m#callbacks=[tensorboard_cbk,\u001b[0m\u001b[0;34m\u001b[0m\u001b[0;34m\u001b[0m\u001b[0;34m\u001b[0m\u001b[0m\n",
      "\u001b[0;32m~/anaconda3/envs/venv/lib/python3.7/site-packages/tensorflow_core/python/keras/engine/training.py\u001b[0m in \u001b[0;36mfit\u001b[0;34m(self, x, y, batch_size, epochs, verbose, callbacks, validation_split, validation_data, shuffle, class_weight, sample_weight, initial_epoch, steps_per_epoch, validation_steps, validation_freq, max_queue_size, workers, use_multiprocessing, **kwargs)\u001b[0m\n\u001b[1;32m    817\u001b[0m         \u001b[0mmax_queue_size\u001b[0m\u001b[0;34m=\u001b[0m\u001b[0mmax_queue_size\u001b[0m\u001b[0;34m,\u001b[0m\u001b[0;34m\u001b[0m\u001b[0;34m\u001b[0m\u001b[0m\n\u001b[1;32m    818\u001b[0m         \u001b[0mworkers\u001b[0m\u001b[0;34m=\u001b[0m\u001b[0mworkers\u001b[0m\u001b[0;34m,\u001b[0m\u001b[0;34m\u001b[0m\u001b[0;34m\u001b[0m\u001b[0m\n\u001b[0;32m--> 819\u001b[0;31m         use_multiprocessing=use_multiprocessing)\n\u001b[0m\u001b[1;32m    820\u001b[0m \u001b[0;34m\u001b[0m\u001b[0m\n\u001b[1;32m    821\u001b[0m   def evaluate(self,\n",
      "\u001b[0;32m~/anaconda3/envs/venv/lib/python3.7/site-packages/tensorflow_core/python/keras/engine/training_v2.py\u001b[0m in \u001b[0;36mfit\u001b[0;34m(self, model, x, y, batch_size, epochs, verbose, callbacks, validation_split, validation_data, shuffle, class_weight, sample_weight, initial_epoch, steps_per_epoch, validation_steps, validation_freq, max_queue_size, workers, use_multiprocessing, **kwargs)\u001b[0m\n\u001b[1;32m    340\u001b[0m                 \u001b[0mmode\u001b[0m\u001b[0;34m=\u001b[0m\u001b[0mModeKeys\u001b[0m\u001b[0;34m.\u001b[0m\u001b[0mTRAIN\u001b[0m\u001b[0;34m,\u001b[0m\u001b[0;34m\u001b[0m\u001b[0;34m\u001b[0m\u001b[0m\n\u001b[1;32m    341\u001b[0m                 \u001b[0mtraining_context\u001b[0m\u001b[0;34m=\u001b[0m\u001b[0mtraining_context\u001b[0m\u001b[0;34m,\u001b[0m\u001b[0;34m\u001b[0m\u001b[0;34m\u001b[0m\u001b[0m\n\u001b[0;32m--> 342\u001b[0;31m                 total_epochs=epochs)\n\u001b[0m\u001b[1;32m    343\u001b[0m             \u001b[0mcbks\u001b[0m\u001b[0;34m.\u001b[0m\u001b[0mmake_logs\u001b[0m\u001b[0;34m(\u001b[0m\u001b[0mmodel\u001b[0m\u001b[0;34m,\u001b[0m \u001b[0mepoch_logs\u001b[0m\u001b[0;34m,\u001b[0m \u001b[0mtraining_result\u001b[0m\u001b[0;34m,\u001b[0m \u001b[0mModeKeys\u001b[0m\u001b[0;34m.\u001b[0m\u001b[0mTRAIN\u001b[0m\u001b[0;34m)\u001b[0m\u001b[0;34m\u001b[0m\u001b[0;34m\u001b[0m\u001b[0m\n\u001b[1;32m    344\u001b[0m \u001b[0;34m\u001b[0m\u001b[0m\n",
      "\u001b[0;32m~/anaconda3/envs/venv/lib/python3.7/site-packages/tensorflow_core/python/keras/engine/training_v2.py\u001b[0m in \u001b[0;36mrun_one_epoch\u001b[0;34m(model, iterator, execution_function, dataset_size, batch_size, strategy, steps_per_epoch, num_samples, mode, training_context, total_epochs)\u001b[0m\n\u001b[1;32m    126\u001b[0m         step=step, mode=mode, size=current_batch_size) as batch_logs:\n\u001b[1;32m    127\u001b[0m       \u001b[0;32mtry\u001b[0m\u001b[0;34m:\u001b[0m\u001b[0;34m\u001b[0m\u001b[0;34m\u001b[0m\u001b[0m\n\u001b[0;32m--> 128\u001b[0;31m         \u001b[0mbatch_outs\u001b[0m \u001b[0;34m=\u001b[0m \u001b[0mexecution_function\u001b[0m\u001b[0;34m(\u001b[0m\u001b[0miterator\u001b[0m\u001b[0;34m)\u001b[0m\u001b[0;34m\u001b[0m\u001b[0;34m\u001b[0m\u001b[0m\n\u001b[0m\u001b[1;32m    129\u001b[0m       \u001b[0;32mexcept\u001b[0m \u001b[0;34m(\u001b[0m\u001b[0mStopIteration\u001b[0m\u001b[0;34m,\u001b[0m \u001b[0merrors\u001b[0m\u001b[0;34m.\u001b[0m\u001b[0mOutOfRangeError\u001b[0m\u001b[0;34m)\u001b[0m\u001b[0;34m:\u001b[0m\u001b[0;34m\u001b[0m\u001b[0;34m\u001b[0m\u001b[0m\n\u001b[1;32m    130\u001b[0m         \u001b[0;31m# TODO(kaftan): File bug about tf function and errors.OutOfRangeError?\u001b[0m\u001b[0;34m\u001b[0m\u001b[0;34m\u001b[0m\u001b[0;34m\u001b[0m\u001b[0m\n",
      "\u001b[0;32m~/anaconda3/envs/venv/lib/python3.7/site-packages/tensorflow_core/python/keras/engine/training_v2_utils.py\u001b[0m in \u001b[0;36mexecution_function\u001b[0;34m(input_fn)\u001b[0m\n\u001b[1;32m     96\u001b[0m     \u001b[0;31m# `numpy` translates Tensors to values in Eager mode.\u001b[0m\u001b[0;34m\u001b[0m\u001b[0;34m\u001b[0m\u001b[0;34m\u001b[0m\u001b[0m\n\u001b[1;32m     97\u001b[0m     return nest.map_structure(_non_none_constant_value,\n\u001b[0;32m---> 98\u001b[0;31m                               distributed_function(input_fn))\n\u001b[0m\u001b[1;32m     99\u001b[0m \u001b[0;34m\u001b[0m\u001b[0m\n\u001b[1;32m    100\u001b[0m   \u001b[0;32mreturn\u001b[0m \u001b[0mexecution_function\u001b[0m\u001b[0;34m\u001b[0m\u001b[0;34m\u001b[0m\u001b[0m\n",
      "\u001b[0;32m~/anaconda3/envs/venv/lib/python3.7/site-packages/tensorflow_core/python/eager/def_function.py\u001b[0m in \u001b[0;36m__call__\u001b[0;34m(self, *args, **kwds)\u001b[0m\n\u001b[1;32m    566\u001b[0m         \u001b[0mxla_context\u001b[0m\u001b[0;34m.\u001b[0m\u001b[0mExit\u001b[0m\u001b[0;34m(\u001b[0m\u001b[0;34m)\u001b[0m\u001b[0;34m\u001b[0m\u001b[0;34m\u001b[0m\u001b[0m\n\u001b[1;32m    567\u001b[0m     \u001b[0;32melse\u001b[0m\u001b[0;34m:\u001b[0m\u001b[0;34m\u001b[0m\u001b[0;34m\u001b[0m\u001b[0m\n\u001b[0;32m--> 568\u001b[0;31m       \u001b[0mresult\u001b[0m \u001b[0;34m=\u001b[0m \u001b[0mself\u001b[0m\u001b[0;34m.\u001b[0m\u001b[0m_call\u001b[0m\u001b[0;34m(\u001b[0m\u001b[0;34m*\u001b[0m\u001b[0margs\u001b[0m\u001b[0;34m,\u001b[0m \u001b[0;34m**\u001b[0m\u001b[0mkwds\u001b[0m\u001b[0;34m)\u001b[0m\u001b[0;34m\u001b[0m\u001b[0;34m\u001b[0m\u001b[0m\n\u001b[0m\u001b[1;32m    569\u001b[0m \u001b[0;34m\u001b[0m\u001b[0m\n\u001b[1;32m    570\u001b[0m     \u001b[0;32mif\u001b[0m \u001b[0mtracing_count\u001b[0m \u001b[0;34m==\u001b[0m \u001b[0mself\u001b[0m\u001b[0;34m.\u001b[0m\u001b[0m_get_tracing_count\u001b[0m\u001b[0;34m(\u001b[0m\u001b[0;34m)\u001b[0m\u001b[0;34m:\u001b[0m\u001b[0;34m\u001b[0m\u001b[0;34m\u001b[0m\u001b[0m\n",
      "\u001b[0;32m~/anaconda3/envs/venv/lib/python3.7/site-packages/tensorflow_core/python/eager/def_function.py\u001b[0m in \u001b[0;36m_call\u001b[0;34m(self, *args, **kwds)\u001b[0m\n\u001b[1;32m    630\u001b[0m         \u001b[0;31m# Lifting succeeded, so variables are initialized and we can run the\u001b[0m\u001b[0;34m\u001b[0m\u001b[0;34m\u001b[0m\u001b[0;34m\u001b[0m\u001b[0m\n\u001b[1;32m    631\u001b[0m         \u001b[0;31m# stateless function.\u001b[0m\u001b[0;34m\u001b[0m\u001b[0;34m\u001b[0m\u001b[0;34m\u001b[0m\u001b[0m\n\u001b[0;32m--> 632\u001b[0;31m         \u001b[0;32mreturn\u001b[0m \u001b[0mself\u001b[0m\u001b[0;34m.\u001b[0m\u001b[0m_stateless_fn\u001b[0m\u001b[0;34m(\u001b[0m\u001b[0;34m*\u001b[0m\u001b[0margs\u001b[0m\u001b[0;34m,\u001b[0m \u001b[0;34m**\u001b[0m\u001b[0mkwds\u001b[0m\u001b[0;34m)\u001b[0m\u001b[0;34m\u001b[0m\u001b[0;34m\u001b[0m\u001b[0m\n\u001b[0m\u001b[1;32m    633\u001b[0m     \u001b[0;32melse\u001b[0m\u001b[0;34m:\u001b[0m\u001b[0;34m\u001b[0m\u001b[0;34m\u001b[0m\u001b[0m\n\u001b[1;32m    634\u001b[0m       \u001b[0mcanon_args\u001b[0m\u001b[0;34m,\u001b[0m \u001b[0mcanon_kwds\u001b[0m \u001b[0;34m=\u001b[0m\u001b[0;31m \u001b[0m\u001b[0;31m\\\u001b[0m\u001b[0;34m\u001b[0m\u001b[0;34m\u001b[0m\u001b[0m\n",
      "\u001b[0;32m~/anaconda3/envs/venv/lib/python3.7/site-packages/tensorflow_core/python/eager/function.py\u001b[0m in \u001b[0;36m__call__\u001b[0;34m(self, *args, **kwargs)\u001b[0m\n\u001b[1;32m   2361\u001b[0m     \u001b[0;32mwith\u001b[0m \u001b[0mself\u001b[0m\u001b[0;34m.\u001b[0m\u001b[0m_lock\u001b[0m\u001b[0;34m:\u001b[0m\u001b[0;34m\u001b[0m\u001b[0;34m\u001b[0m\u001b[0m\n\u001b[1;32m   2362\u001b[0m       \u001b[0mgraph_function\u001b[0m\u001b[0;34m,\u001b[0m \u001b[0margs\u001b[0m\u001b[0;34m,\u001b[0m \u001b[0mkwargs\u001b[0m \u001b[0;34m=\u001b[0m \u001b[0mself\u001b[0m\u001b[0;34m.\u001b[0m\u001b[0m_maybe_define_function\u001b[0m\u001b[0;34m(\u001b[0m\u001b[0margs\u001b[0m\u001b[0;34m,\u001b[0m \u001b[0mkwargs\u001b[0m\u001b[0;34m)\u001b[0m\u001b[0;34m\u001b[0m\u001b[0;34m\u001b[0m\u001b[0m\n\u001b[0;32m-> 2363\u001b[0;31m     \u001b[0;32mreturn\u001b[0m \u001b[0mgraph_function\u001b[0m\u001b[0;34m.\u001b[0m\u001b[0m_filtered_call\u001b[0m\u001b[0;34m(\u001b[0m\u001b[0margs\u001b[0m\u001b[0;34m,\u001b[0m \u001b[0mkwargs\u001b[0m\u001b[0;34m)\u001b[0m  \u001b[0;31m# pylint: disable=protected-access\u001b[0m\u001b[0;34m\u001b[0m\u001b[0;34m\u001b[0m\u001b[0m\n\u001b[0m\u001b[1;32m   2364\u001b[0m \u001b[0;34m\u001b[0m\u001b[0m\n\u001b[1;32m   2365\u001b[0m   \u001b[0;34m@\u001b[0m\u001b[0mproperty\u001b[0m\u001b[0;34m\u001b[0m\u001b[0;34m\u001b[0m\u001b[0m\n",
      "\u001b[0;32m~/anaconda3/envs/venv/lib/python3.7/site-packages/tensorflow_core/python/eager/function.py\u001b[0m in \u001b[0;36m_filtered_call\u001b[0;34m(self, args, kwargs)\u001b[0m\n\u001b[1;32m   1609\u001b[0m          if isinstance(t, (ops.Tensor,\n\u001b[1;32m   1610\u001b[0m                            resource_variable_ops.BaseResourceVariable))),\n\u001b[0;32m-> 1611\u001b[0;31m         self.captured_inputs)\n\u001b[0m\u001b[1;32m   1612\u001b[0m \u001b[0;34m\u001b[0m\u001b[0m\n\u001b[1;32m   1613\u001b[0m   \u001b[0;32mdef\u001b[0m \u001b[0m_call_flat\u001b[0m\u001b[0;34m(\u001b[0m\u001b[0mself\u001b[0m\u001b[0;34m,\u001b[0m \u001b[0margs\u001b[0m\u001b[0;34m,\u001b[0m \u001b[0mcaptured_inputs\u001b[0m\u001b[0;34m,\u001b[0m \u001b[0mcancellation_manager\u001b[0m\u001b[0;34m=\u001b[0m\u001b[0;32mNone\u001b[0m\u001b[0;34m)\u001b[0m\u001b[0;34m:\u001b[0m\u001b[0;34m\u001b[0m\u001b[0;34m\u001b[0m\u001b[0m\n",
      "\u001b[0;32m~/anaconda3/envs/venv/lib/python3.7/site-packages/tensorflow_core/python/eager/function.py\u001b[0m in \u001b[0;36m_call_flat\u001b[0;34m(self, args, captured_inputs, cancellation_manager)\u001b[0m\n\u001b[1;32m   1690\u001b[0m       \u001b[0;31m# No tape is watching; skip to running the function.\u001b[0m\u001b[0;34m\u001b[0m\u001b[0;34m\u001b[0m\u001b[0;34m\u001b[0m\u001b[0m\n\u001b[1;32m   1691\u001b[0m       return self._build_call_outputs(self._inference_function.call(\n\u001b[0;32m-> 1692\u001b[0;31m           ctx, args, cancellation_manager=cancellation_manager))\n\u001b[0m\u001b[1;32m   1693\u001b[0m     forward_backward = self._select_forward_and_backward_functions(\n\u001b[1;32m   1694\u001b[0m         \u001b[0margs\u001b[0m\u001b[0;34m,\u001b[0m\u001b[0;34m\u001b[0m\u001b[0;34m\u001b[0m\u001b[0m\n",
      "\u001b[0;32m~/anaconda3/envs/venv/lib/python3.7/site-packages/tensorflow_core/python/eager/function.py\u001b[0m in \u001b[0;36mcall\u001b[0;34m(self, ctx, args, cancellation_manager)\u001b[0m\n\u001b[1;32m    543\u001b[0m               \u001b[0minputs\u001b[0m\u001b[0;34m=\u001b[0m\u001b[0margs\u001b[0m\u001b[0;34m,\u001b[0m\u001b[0;34m\u001b[0m\u001b[0;34m\u001b[0m\u001b[0m\n\u001b[1;32m    544\u001b[0m               \u001b[0mattrs\u001b[0m\u001b[0;34m=\u001b[0m\u001b[0;34m(\u001b[0m\u001b[0;34m\"executor_type\"\u001b[0m\u001b[0;34m,\u001b[0m \u001b[0mexecutor_type\u001b[0m\u001b[0;34m,\u001b[0m \u001b[0;34m\"config_proto\"\u001b[0m\u001b[0;34m,\u001b[0m \u001b[0mconfig\u001b[0m\u001b[0;34m)\u001b[0m\u001b[0;34m,\u001b[0m\u001b[0;34m\u001b[0m\u001b[0;34m\u001b[0m\u001b[0m\n\u001b[0;32m--> 545\u001b[0;31m               ctx=ctx)\n\u001b[0m\u001b[1;32m    546\u001b[0m         \u001b[0;32melse\u001b[0m\u001b[0;34m:\u001b[0m\u001b[0;34m\u001b[0m\u001b[0;34m\u001b[0m\u001b[0m\n\u001b[1;32m    547\u001b[0m           outputs = execute.execute_with_cancellation(\n",
      "\u001b[0;32m~/anaconda3/envs/venv/lib/python3.7/site-packages/tensorflow_core/python/eager/execute.py\u001b[0m in \u001b[0;36mquick_execute\u001b[0;34m(op_name, num_outputs, inputs, attrs, ctx, name)\u001b[0m\n\u001b[1;32m     65\u001b[0m     \u001b[0;32melse\u001b[0m\u001b[0;34m:\u001b[0m\u001b[0;34m\u001b[0m\u001b[0;34m\u001b[0m\u001b[0m\n\u001b[1;32m     66\u001b[0m       \u001b[0mmessage\u001b[0m \u001b[0;34m=\u001b[0m \u001b[0me\u001b[0m\u001b[0;34m.\u001b[0m\u001b[0mmessage\u001b[0m\u001b[0;34m\u001b[0m\u001b[0;34m\u001b[0m\u001b[0m\n\u001b[0;32m---> 67\u001b[0;31m     \u001b[0msix\u001b[0m\u001b[0;34m.\u001b[0m\u001b[0mraise_from\u001b[0m\u001b[0;34m(\u001b[0m\u001b[0mcore\u001b[0m\u001b[0;34m.\u001b[0m\u001b[0m_status_to_exception\u001b[0m\u001b[0;34m(\u001b[0m\u001b[0me\u001b[0m\u001b[0;34m.\u001b[0m\u001b[0mcode\u001b[0m\u001b[0;34m,\u001b[0m \u001b[0mmessage\u001b[0m\u001b[0;34m)\u001b[0m\u001b[0;34m,\u001b[0m \u001b[0;32mNone\u001b[0m\u001b[0;34m)\u001b[0m\u001b[0;34m\u001b[0m\u001b[0;34m\u001b[0m\u001b[0m\n\u001b[0m\u001b[1;32m     68\u001b[0m   \u001b[0;32mexcept\u001b[0m \u001b[0mTypeError\u001b[0m \u001b[0;32mas\u001b[0m \u001b[0me\u001b[0m\u001b[0;34m:\u001b[0m\u001b[0;34m\u001b[0m\u001b[0;34m\u001b[0m\u001b[0m\n\u001b[1;32m     69\u001b[0m     keras_symbolic_tensors = [\n",
      "\u001b[0;32m~/anaconda3/envs/venv/lib/python3.7/site-packages/six.py\u001b[0m in \u001b[0;36mraise_from\u001b[0;34m(value, from_value)\u001b[0m\n",
      "\u001b[0;31mInvalidArgumentError\u001b[0m:  Incompatible shapes: [32,1000] vs. [32,1000,1000,1]\n\t [[node loss/output_1_loss/sub (defined at <ipython-input-46-0adb98e35bba>:31) ]] [Op:__inference_distributed_function_3245]\n\nFunction call stack:\ndistributed_function\n"
     ]
    }
   ],
   "source": [
    "EPOCHS = 5\n",
    "\n",
    "earlystop_callback = tf.keras.callbacks.EarlyStopping(monitor=\"val_loss\",\n",
    "    min_delta=0,\n",
    "    patience=EPOCHS*10,\n",
    "    verbose=1,\n",
    "    mode=\"auto\",\n",
    "    baseline=None,\n",
    "    restore_best_weights=True,)\n",
    "\n",
    "logdir = os.path.join(\"./logs\", datetime.datetime.now().strftime(\"%Y%m%d-%H%M%S\"))\n",
    "tensorboard_cbk = tf.keras.callbacks.TensorBoard(log_dir=logdir)\n",
    "\n",
    "modelfilename = checkpoint_filepath + '_'+\\\n",
    "                    datetime.datetime.now().strftime(\"%Y%m%d-%H%M%S\")\\\n",
    "                    + \"_model.hdf5\"\n",
    "\n",
    "model_checkpoint_callback = tf.keras.callbacks.ModelCheckpoint(\n",
    "    modelfilename,\n",
    "    save_weights_only=False,\n",
    "    monitor='val_mae',#'val_accuracy',\n",
    "    mode='min',\n",
    "    verbose=1,\n",
    "    period = 1,\n",
    "    save_best_only=True)\n",
    "\n",
    "\n",
    "\n",
    "lstm_model_history = lstm_model.fit(X_train,Y_train, \n",
    "                             validation_data=(X_valid, Y_valid),\n",
    "                             epochs=20, \n",
    "                             #batch_size=batch, \n",
    "                             #callbacks=[tensorboard_cbk,\n",
    "                             #hp.KerasCallback(logdir, hparams),\n",
    "                             #earlystop_callback,\n",
    "                             #model_checkpoint_callback]\n",
    "                                   )"
   ]
  },
  {
   "cell_type": "code",
   "execution_count": null,
   "metadata": {},
   "outputs": [],
   "source": [
    "valid_loss, valid_acc = lstm_model.evaluate(X_valid, Y_valid, verbose=2) # 5/2020 nt: use validation set\n",
    "print (\"valid_accuracy_MAE=%s, valid_loss=%s\" % (valid_acc, valid_loss))"
   ]
  },
  {
   "cell_type": "code",
   "execution_count": null,
   "metadata": {},
   "outputs": [],
   "source": [
    "Predict = lstm_model.predict(X_valid)"
   ]
  },
  {
   "cell_type": "code",
   "execution_count": null,
   "metadata": {},
   "outputs": [],
   "source": [
    "X_valid[0]"
   ]
  },
  {
   "cell_type": "code",
   "execution_count": null,
   "metadata": {},
   "outputs": [],
   "source": [
    "X_valid[1]"
   ]
  },
  {
   "cell_type": "code",
   "execution_count": null,
   "metadata": {},
   "outputs": [],
   "source": [
    "Predict.shape"
   ]
  },
  {
   "cell_type": "code",
   "execution_count": null,
   "metadata": {},
   "outputs": [],
   "source": [
    "Predict[0]"
   ]
  },
  {
   "cell_type": "code",
   "execution_count": null,
   "metadata": {},
   "outputs": [],
   "source": [
    "Predict[1]"
   ]
  },
  {
   "cell_type": "code",
   "execution_count": null,
   "metadata": {},
   "outputs": [],
   "source": []
  }
 ],
 "metadata": {
  "kernelspec": {
   "display_name": "Python [conda env:venv]",
   "language": "python",
   "name": "conda-env-venv-py"
  },
  "language_info": {
   "codemirror_mode": {
    "name": "ipython",
    "version": 3
   },
   "file_extension": ".py",
   "mimetype": "text/x-python",
   "name": "python",
   "nbconvert_exporter": "python",
   "pygments_lexer": "ipython3",
   "version": "3.7.6"
  }
 },
 "nbformat": 4,
 "nbformat_minor": 4
}
