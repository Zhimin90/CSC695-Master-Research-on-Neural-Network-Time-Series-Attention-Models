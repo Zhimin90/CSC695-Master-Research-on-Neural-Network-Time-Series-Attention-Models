{
 "cells": [
  {
   "cell_type": "code",
   "execution_count": 1,
   "metadata": {},
   "outputs": [],
   "source": [
    "import pickle\n",
    "import numpy as np\n",
    "import pandas as pd"
   ]
  },
  {
   "cell_type": "code",
   "execution_count": 2,
   "metadata": {},
   "outputs": [],
   "source": [
    "Asset_PATH = \"/home/zhimin90/DePaul/CSC695/Github/CSC695-Masters-Research-on-Neural-Network-Time-Series-Attention-Models/Asset/\""
   ]
  },
  {
   "cell_type": "markdown",
   "metadata": {},
   "source": [
    "#### Load Gaussian KDE timeseries"
   ]
  },
  {
   "cell_type": "code",
   "execution_count": 3,
   "metadata": {},
   "outputs": [],
   "source": [
    "density_matrix_t_series = pickle.load(open(Asset_PATH  + 'density_matrix_t_series_500x500.pickle', 'rb'))"
   ]
  },
  {
   "cell_type": "code",
   "execution_count": 4,
   "metadata": {},
   "outputs": [
    {
     "data": {
      "text/plain": [
       "(198, 500, 500)"
      ]
     },
     "execution_count": 4,
     "metadata": {},
     "output_type": "execute_result"
    }
   ],
   "source": [
    "density_matrix_t_series.shape"
   ]
  },
  {
   "cell_type": "code",
   "execution_count": 5,
   "metadata": {},
   "outputs": [
    {
     "name": "stdout",
     "output_type": "stream",
     "text": [
      "1376.5672531534574\n",
      "-1.1156221503685051e-13\n"
     ]
    }
   ],
   "source": [
    "print(np.max(density_matrix_t_series))\n",
    "print(np.min(density_matrix_t_series))"
   ]
  },
  {
   "cell_type": "code",
   "execution_count": 6,
   "metadata": {},
   "outputs": [
    {
     "data": {
      "text/plain": [
       "198"
      ]
     },
     "execution_count": 6,
     "metadata": {},
     "output_type": "execute_result"
    }
   ],
   "source": [
    "density_matrix_t_series.shape[0]"
   ]
  },
  {
   "cell_type": "code",
   "execution_count": 7,
   "metadata": {},
   "outputs": [],
   "source": [
    "train, valid = (60,20)\n",
    "test = 20\n",
    "\n",
    "total_len = density_matrix_t_series.shape[0]\n",
    "train_index = range(0,int(train/100*total_len))"
   ]
  },
  {
   "cell_type": "code",
   "execution_count": 8,
   "metadata": {},
   "outputs": [],
   "source": [
    "valid_index = range(train_index[-1]+1,train_index[-1] + int(valid/100*total_len))\n",
    "test_index = range(valid_index[-1]+1,valid_index[-1] + int(test/100*total_len))"
   ]
  },
  {
   "cell_type": "code",
   "execution_count": 9,
   "metadata": {},
   "outputs": [
    {
     "data": {
      "text/plain": [
       "(198, 250000)"
      ]
     },
     "execution_count": 9,
     "metadata": {},
     "output_type": "execute_result"
    }
   ],
   "source": [
    "flattened_matrix_np = np.reshape(density_matrix_t_series, \n",
    "                                 (density_matrix_t_series.shape[0],\n",
    "                                  density_matrix_t_series.shape[1]*density_matrix_t_series.shape[2]))\n",
    "flattened_matrix_np.shape"
   ]
  },
  {
   "cell_type": "code",
   "execution_count": 44,
   "metadata": {},
   "outputs": [
    {
     "data": {
      "text/plain": [
       "1304.4451089207516"
      ]
     },
     "execution_count": 44,
     "metadata": {},
     "output_type": "execute_result"
    }
   ],
   "source": [
    "np.max(flattened_matrix_np[train_index])"
   ]
  },
  {
   "cell_type": "code",
   "execution_count": 85,
   "metadata": {},
   "outputs": [],
   "source": [
    "scaler_max = np.max(flattened_matrix_np[train_index])\n",
    "scaler_min = np.min(flattened_matrix_np[train_index])\n",
    "\n",
    "X_train = (flattened_matrix_np[train_index] - scaler_min)/(scaler_max - scaler_min)\n"
   ]
  },
  {
   "cell_type": "code",
   "execution_count": 86,
   "metadata": {},
   "outputs": [
    {
     "data": {
      "text/plain": [
       "(118, 1, 250000)"
      ]
     },
     "execution_count": 86,
     "metadata": {},
     "output_type": "execute_result"
    }
   ],
   "source": [
    "X_train = X_train.reshape(X_train.shape[0],\n",
    "                          1,    \n",
    "                          X_train.shape[1])\n",
    "X_train.shape"
   ]
  },
  {
   "cell_type": "code",
   "execution_count": 87,
   "metadata": {},
   "outputs": [
    {
     "data": {
      "text/plain": [
       "(118, 1, 500, 500, 1)"
      ]
     },
     "execution_count": 87,
     "metadata": {},
     "output_type": "execute_result"
    }
   ],
   "source": [
    "X_train = X_train.reshape(X_train.shape[0],X_train.shape[1],int(X_train.shape[2]**(1/2)),int(X_train.shape[2]**(1/2)),1)\n",
    "X_train.shape"
   ]
  },
  {
   "cell_type": "code",
   "execution_count": 88,
   "metadata": {},
   "outputs": [
    {
     "name": "stdout",
     "output_type": "stream",
     "text": [
      "1.0\n",
      "0.0\n"
     ]
    }
   ],
   "source": [
    "print(np.max(X_train))\n",
    "print(np.min(X_train))"
   ]
  },
  {
   "cell_type": "markdown",
   "metadata": {},
   "source": [
    "#### We transform the whole train, valid, test based on scaler fitted on train"
   ]
  },
  {
   "cell_type": "code",
   "execution_count": 89,
   "metadata": {
    "scrolled": true
   },
   "outputs": [
    {
     "data": {
      "text/plain": [
       "1376.5672531534574"
      ]
     },
     "execution_count": 89,
     "metadata": {},
     "output_type": "execute_result"
    }
   ],
   "source": [
    "np.max(flattened_matrix_np)"
   ]
  },
  {
   "cell_type": "code",
   "execution_count": 90,
   "metadata": {},
   "outputs": [
    {
     "data": {
      "text/plain": [
       "dtype('float64')"
      ]
     },
     "execution_count": 90,
     "metadata": {},
     "output_type": "execute_result"
    }
   ],
   "source": [
    "flattened_matrix_np.dtype"
   ]
  },
  {
   "cell_type": "code",
   "execution_count": 91,
   "metadata": {},
   "outputs": [],
   "source": [
    "scaled_flattened_matrix = (flattened_matrix_np - scaler_min)/(scaler_max - scaler_min)"
   ]
  },
  {
   "cell_type": "code",
   "execution_count": 92,
   "metadata": {},
   "outputs": [
    {
     "data": {
      "text/plain": [
       "(198, 250000)"
      ]
     },
     "execution_count": 92,
     "metadata": {},
     "output_type": "execute_result"
    }
   ],
   "source": [
    "flattened_matrix_np.shape"
   ]
  },
  {
   "cell_type": "code",
   "execution_count": 93,
   "metadata": {},
   "outputs": [
    {
     "data": {
      "text/plain": [
       "(198, 250000)"
      ]
     },
     "execution_count": 93,
     "metadata": {},
     "output_type": "execute_result"
    }
   ],
   "source": [
    "scaled_flattened_matrix.shape"
   ]
  },
  {
   "cell_type": "code",
   "execution_count": 94,
   "metadata": {},
   "outputs": [
    {
     "data": {
      "text/plain": [
       "(array([], dtype=int64), array([], dtype=int64))"
      ]
     },
     "execution_count": 94,
     "metadata": {},
     "output_type": "execute_result"
    }
   ],
   "source": [
    "np.where(scaled_flattened_matrix > 10)"
   ]
  },
  {
   "cell_type": "code",
   "execution_count": 95,
   "metadata": {},
   "outputs": [
    {
     "data": {
      "text/plain": [
       "0.0003376003735987424"
      ]
     },
     "execution_count": 95,
     "metadata": {},
     "output_type": "execute_result"
    }
   ],
   "source": [
    "flattened_matrix_np[118,33433]"
   ]
  },
  {
   "cell_type": "code",
   "execution_count": 96,
   "metadata": {},
   "outputs": [
    {
     "data": {
      "text/plain": [
       "2.5880765039597745e-07"
      ]
     },
     "execution_count": 96,
     "metadata": {},
     "output_type": "execute_result"
    }
   ],
   "source": [
    "scaled_flattened_matrix[118,33433]"
   ]
  },
  {
   "cell_type": "code",
   "execution_count": 98,
   "metadata": {},
   "outputs": [
    {
     "name": "stdout",
     "output_type": "stream",
     "text": [
      "1.0552895202254826\n",
      "0.0\n"
     ]
    }
   ],
   "source": [
    "print(np.max(scaled_flattened_matrix))\n",
    "print(np.min(scaled_flattened_matrix))"
   ]
  },
  {
   "cell_type": "markdown",
   "metadata": {},
   "source": [
    "#### We reshape to (sample, timestep, inputshape)"
   ]
  },
  {
   "cell_type": "code",
   "execution_count": 99,
   "metadata": {},
   "outputs": [
    {
     "data": {
      "text/plain": [
       "(198, 1, 250000)"
      ]
     },
     "execution_count": 99,
     "metadata": {},
     "output_type": "execute_result"
    }
   ],
   "source": [
    "scaled_flattened_matrix = scaled_flattened_matrix.reshape(scaled_flattened_matrix.shape[0],\n",
    "                                                           1,\n",
    "                                                           scaled_flattened_matrix.shape[1])\n",
    "scaled_flattened_matrix.shape"
   ]
  },
  {
   "cell_type": "markdown",
   "metadata": {},
   "source": [
    "#### We set the target to be 7 days aggregated KDE or 1 single frame forward"
   ]
  },
  {
   "cell_type": "code",
   "execution_count": 100,
   "metadata": {},
   "outputs": [],
   "source": [
    "def reshape(X_set):\n",
    "    if len(X_set.shape)>2:\n",
    "        return X_set.reshape(X_set.shape[0],\n",
    "                             X_set.shape[1],\n",
    "                             int(X_set.shape[2]**(1/2)),int(X_set.shape[2]**(1/2)),1)\n",
    "    else:\n",
    "        return X_set.reshape(X_set.shape[0],int(X_set.shape[1]**(1/2)),int(X_set.shape[1]**(1/2)),1)"
   ]
  },
  {
   "cell_type": "code",
   "execution_count": 101,
   "metadata": {},
   "outputs": [],
   "source": [
    "Y_train = scaled_flattened_matrix[np.array(train_index)+1].reshape(\n",
    "    scaled_flattened_matrix[np.array(train_index)+1].shape[0],scaled_flattened_matrix[np.array(train_index)+1].shape[2])\n",
    "#Y_train = reshape(Y_train)\n",
    "\n",
    "X_valid = scaled_flattened_matrix[np.array(valid_index)]\n",
    "X_valid = reshape(X_valid)\n",
    "\n",
    "Y_valid = scaled_flattened_matrix[np.array(valid_index)+1].reshape(\n",
    "    scaled_flattened_matrix[np.array(valid_index)+1].shape[0],scaled_flattened_matrix[np.array(valid_index)+1].shape[2])\n",
    "#Y_valid = reshape(Y_valid)\n",
    "\n",
    "X_test = scaled_flattened_matrix[np.array(test_index)]\n",
    "X_test = reshape(X_test)\n",
    "\n",
    "Y_test = scaled_flattened_matrix[np.array(test_index)+1].reshape(\n",
    "    scaled_flattened_matrix[np.array(test_index)+1].shape[0],scaled_flattened_matrix[np.array(test_index)+1].shape[2])\n",
    "#Y_test = reshape(Y_test)"
   ]
  },
  {
   "cell_type": "code",
   "execution_count": 102,
   "metadata": {},
   "outputs": [
    {
     "name": "stdout",
     "output_type": "stream",
     "text": [
      "[[[[[8.12321585e-17]\n",
      "    [8.09930489e-17]\n",
      "    [8.06092709e-17]\n",
      "    ...\n",
      "    [8.34700899e-17]\n",
      "    [8.40057474e-17]\n",
      "    [8.43639394e-17]]\n",
      "\n",
      "   [[8.06441777e-17]\n",
      "    [8.14045982e-17]\n",
      "    [8.20716042e-17]\n",
      "    ...\n",
      "    [8.32796997e-17]\n",
      "    [8.34750980e-17]\n",
      "    [8.45655654e-17]]\n",
      "\n",
      "   [[7.83087652e-17]\n",
      "    [7.82554211e-17]\n",
      "    [7.99920988e-17]\n",
      "    ...\n",
      "    [7.93122549e-17]\n",
      "    [7.96093825e-17]\n",
      "    [8.03617882e-17]]\n",
      "\n",
      "   ...\n",
      "\n",
      "   [[8.11629885e-17]\n",
      "    [8.07265227e-17]\n",
      "    [8.10887389e-17]\n",
      "    ...\n",
      "    [8.30332811e-17]\n",
      "    [8.33472118e-17]\n",
      "    [8.39991990e-17]]\n",
      "\n",
      "   [[8.43633253e-17]\n",
      "    [8.37326263e-17]\n",
      "    [8.33673748e-17]\n",
      "    ...\n",
      "    [8.24431394e-17]\n",
      "    [8.27789793e-17]\n",
      "    [8.31071626e-17]]\n",
      "\n",
      "   [[8.64787219e-17]\n",
      "    [8.58242011e-17]\n",
      "    [8.54787490e-17]\n",
      "    ...\n",
      "    [8.52050047e-17]\n",
      "    [8.57013970e-17]\n",
      "    [8.58645788e-17]]]]\n",
      "\n",
      "\n",
      "\n",
      " [[[[8.81826796e-17]\n",
      "    [8.75643052e-17]\n",
      "    [8.65007782e-17]\n",
      "    ...\n",
      "    [9.06523126e-17]\n",
      "    [9.08102185e-17]\n",
      "    [9.03362507e-17]]\n",
      "\n",
      "   [[8.53153084e-17]\n",
      "    [8.62142792e-17]\n",
      "    [8.69832198e-17]\n",
      "    ...\n",
      "    [8.45745105e-17]\n",
      "    [8.46497611e-17]\n",
      "    [8.47221861e-17]]\n",
      "\n",
      "   [[8.15971425e-17]\n",
      "    [8.23347671e-17]\n",
      "    [8.26531247e-17]\n",
      "    ...\n",
      "    [8.14058148e-17]\n",
      "    [8.13553615e-17]\n",
      "    [8.11228502e-17]]\n",
      "\n",
      "   ...\n",
      "\n",
      "   [[8.63694291e-17]\n",
      "    [8.67005416e-17]\n",
      "    [8.56928236e-17]\n",
      "    ...\n",
      "    [8.51006723e-17]\n",
      "    [8.51293018e-17]\n",
      "    [8.51925130e-17]]\n",
      "\n",
      "   [[8.72656977e-17]\n",
      "    [8.74915290e-17]\n",
      "    [8.78564050e-17]\n",
      "    ...\n",
      "    [8.35900595e-17]\n",
      "    [8.34292669e-17]\n",
      "    [8.35803193e-17]]\n",
      "\n",
      "   [[9.06728550e-17]\n",
      "    [9.06923079e-17]\n",
      "    [9.05570048e-17]\n",
      "    ...\n",
      "    [8.77262363e-17]\n",
      "    [8.73866669e-17]\n",
      "    [8.72767717e-17]]]]]\n",
      "----------------------------------------------------------------------------------------------------\n",
      "[8.81826796e-17 8.75643052e-17 8.65007782e-17 ... 8.77262363e-17\n",
      " 8.73866669e-17 8.72767717e-17]\n"
     ]
    }
   ],
   "source": [
    "print(X_train[0:2])\n",
    "print('-'*100)\n",
    "print(Y_train[0])"
   ]
  },
  {
   "cell_type": "code",
   "execution_count": 103,
   "metadata": {},
   "outputs": [
    {
     "name": "stdout",
     "output_type": "stream",
     "text": [
      "[[[[[8.70214962e-17]\n",
      "    [8.73210668e-17]\n",
      "    [8.80642341e-17]\n",
      "    ...\n",
      "    [8.73355447e-17]\n",
      "    [8.77599661e-17]\n",
      "    [8.70777175e-17]]\n",
      "\n",
      "   [[8.28472269e-17]\n",
      "    [8.37461790e-17]\n",
      "    [8.50141885e-17]\n",
      "    ...\n",
      "    [8.37419806e-17]\n",
      "    [8.48074214e-17]\n",
      "    [8.51124933e-17]]\n",
      "\n",
      "   [[8.20031405e-17]\n",
      "    [8.18877837e-17]\n",
      "    [8.20265656e-17]\n",
      "    ...\n",
      "    [8.49793227e-17]\n",
      "    [8.51233676e-17]\n",
      "    [8.56937428e-17]]\n",
      "\n",
      "   ...\n",
      "\n",
      "   [[8.15679661e-17]\n",
      "    [8.20359397e-17]\n",
      "    [8.32880351e-17]\n",
      "    ...\n",
      "    [8.98107137e-17]\n",
      "    [8.91339567e-17]\n",
      "    [8.77974708e-17]]\n",
      "\n",
      "   [[8.43729932e-17]\n",
      "    [8.46887062e-17]\n",
      "    [8.52713423e-17]\n",
      "    ...\n",
      "    [8.55857815e-17]\n",
      "    [8.57208775e-17]\n",
      "    [8.53765063e-17]]\n",
      "\n",
      "   [[8.77184968e-17]\n",
      "    [8.79419103e-17]\n",
      "    [8.65964991e-17]\n",
      "    ...\n",
      "    [8.84076051e-17]\n",
      "    [9.02798182e-17]\n",
      "    [9.05385656e-17]]]]\n",
      "\n",
      "\n",
      "\n",
      " [[[[8.36619199e-17]\n",
      "    [8.20291365e-17]\n",
      "    [8.21814850e-17]\n",
      "    ...\n",
      "    [8.25357214e-17]\n",
      "    [8.38515872e-17]\n",
      "    [8.55404971e-17]]\n",
      "\n",
      "   [[8.36819915e-17]\n",
      "    [8.39861755e-17]\n",
      "    [8.43657916e-17]\n",
      "    ...\n",
      "    [8.10399283e-17]\n",
      "    [8.25418081e-17]\n",
      "    [8.36688559e-17]]\n",
      "\n",
      "   [[8.64167425e-17]\n",
      "    [8.63895574e-17]\n",
      "    [8.65183024e-17]\n",
      "    ...\n",
      "    [8.44953784e-17]\n",
      "    [8.43569672e-17]\n",
      "    [8.48454075e-17]]\n",
      "\n",
      "   ...\n",
      "\n",
      "   [[8.36364861e-17]\n",
      "    [8.39945517e-17]\n",
      "    [8.30546468e-17]\n",
      "    ...\n",
      "    [7.88067427e-17]\n",
      "    [8.01550658e-17]\n",
      "    [8.15357599e-17]]\n",
      "\n",
      "   [[8.58994855e-17]\n",
      "    [8.74110402e-17]\n",
      "    [8.76733713e-17]\n",
      "    ...\n",
      "    [8.48234064e-17]\n",
      "    [8.56931321e-17]\n",
      "    [8.63135742e-17]]\n",
      "\n",
      "   [[8.32451470e-17]\n",
      "    [8.34385776e-17]\n",
      "    [8.22816155e-17]\n",
      "    ...\n",
      "    [8.47975140e-17]\n",
      "    [8.58118597e-17]\n",
      "    [8.70728452e-17]]]]]\n",
      "----------------------------------------------------------------------------------------------------\n",
      "[8.36619199e-17 8.20291365e-17 8.21814850e-17 ... 8.47975140e-17\n",
      " 8.58118597e-17 8.70728452e-17]\n"
     ]
    }
   ],
   "source": [
    "print(X_valid[0:2])\n",
    "print('-'*100)\n",
    "print(Y_valid[0])"
   ]
  },
  {
   "cell_type": "code",
   "execution_count": 104,
   "metadata": {},
   "outputs": [
    {
     "name": "stdout",
     "output_type": "stream",
     "text": [
      "(118, 1, 500, 500, 1)\n",
      "(118, 250000)\n",
      "(38, 1, 500, 500, 1)\n",
      "(38, 250000)\n",
      "(38, 1, 500, 500, 1)\n",
      "(38, 250000)\n"
     ]
    }
   ],
   "source": [
    "print(X_train.shape)\n",
    "print(Y_train.shape)\n",
    "print(X_valid.shape)\n",
    "print(Y_valid.shape)\n",
    "print(X_test.shape)\n",
    "print(Y_test.shape)"
   ]
  },
  {
   "cell_type": "code",
   "execution_count": 105,
   "metadata": {},
   "outputs": [],
   "source": [
    "import os, datetime\n",
    "import tensorflow as tf\n",
    "from tensorflow.keras import optimizers\n",
    "from tensorflow.keras.models import Sequential\n",
    "from tensorflow.keras.layers import Dense, Dropout, LSTM, Bidirectional, GaussianNoise, Flatten\n",
    "from tensorflow.keras.layers import Conv2D, MaxPooling2D, Concatenate, Input, LSTM, RepeatVector, TimeDistributed\n",
    "import tensorflow.keras.layers as layers"
   ]
  },
  {
   "cell_type": "code",
   "execution_count": 106,
   "metadata": {},
   "outputs": [],
   "source": [
    "checkpoint_filepath = Asset_PATH+'checkpoints/'"
   ]
  },
  {
   "cell_type": "markdown",
   "metadata": {},
   "source": [
    "## 2D CNN LSTM model"
   ]
  },
  {
   "cell_type": "code",
   "execution_count": 109,
   "metadata": {},
   "outputs": [
    {
     "name": "stdout",
     "output_type": "stream",
     "text": [
      "Model: \"sequential_2\"\n",
      "_________________________________________________________________\n",
      "Layer (type)                 Output Shape              Param #   \n",
      "=================================================================\n",
      "time_distributed_2 (TimeDist (None, 1, 250000)         0         \n",
      "_________________________________________________________________\n",
      "lstm_2 (LSTM)                (None, 50)                50010200  \n",
      "_________________________________________________________________\n",
      "dense_4 (Dense)              (None, 100)               5100      \n",
      "_________________________________________________________________\n",
      "dense_5 (Dense)              (None, 250000)            25250000  \n",
      "=================================================================\n",
      "Total params: 75,265,300\n",
      "Trainable params: 75,265,300\n",
      "Non-trainable params: 0\n",
      "_________________________________________________________________\n"
     ]
    }
   ],
   "source": [
    "serie_size, time_step, n_features_row, n_features_column, no_channel = X_train.shape\n",
    "\n",
    "epochs = 100\n",
    "batch = 48\n",
    "lr = .001\n",
    "loss='mae'\n",
    "METRIC_ACCURACY = 'mae'\n",
    "\n",
    "model = Sequential()\n",
    "\n",
    "'''\n",
    "model.add(\n",
    "    TimeDistributed(\n",
    "        Conv2D(10, (2,2), activation='relu', \n",
    "               padding='same', \n",
    "               input_shape=(n_features_row, n_features_column, no_channel)),\n",
    "               input_shape=(time_step,n_features_row, n_features_column, no_channel)))\n",
    "\n",
    "model.add(\n",
    "    TimeDistributed(\n",
    "        MaxPooling2D(pool_size=(2, 2))))\n",
    "'''\n",
    "\n",
    "model.add(TimeDistributed(Flatten(),input_shape=(time_step,n_features_row, n_features_column, no_channel)))\n",
    "\n",
    "model.add(LSTM(50))\n",
    "model.add(Dense(100, kernel_initializer='glorot_normal', activation='relu'))\n",
    "model.add(Dense(Y_train.shape[1]))\n",
    "\n",
    "model.summary()\n",
    "\n",
    "adam = optimizers.Adam(lr)\n",
    "model.compile(loss='mean_absolute_error',\n",
    "                   metrics=['mae'], \n",
    "                   optimizer=adam)\n"
   ]
  },
  {
   "cell_type": "code",
   "execution_count": 110,
   "metadata": {},
   "outputs": [
    {
     "name": "stdout",
     "output_type": "stream",
     "text": [
      "WARNING:tensorflow:`period` argument is deprecated. Please use `save_freq` to specify the frequency in number of samples seen.\n",
      "Train on 118 samples, validate on 38 samples\n",
      "Epoch 1/20\n",
      "118/118 [==============================] - 2s 13ms/sample - loss: 0.0035 - mae: 0.0035 - val_loss: 0.0030 - val_mae: 0.0030\n",
      "Epoch 2/20\n",
      "118/118 [==============================] - 0s 4ms/sample - loss: 0.0027 - mae: 0.0027 - val_loss: 0.0023 - val_mae: 0.0023\n",
      "Epoch 3/20\n",
      "118/118 [==============================] - 0s 3ms/sample - loss: 0.0021 - mae: 0.0021 - val_loss: 0.0019 - val_mae: 0.0019\n",
      "Epoch 4/20\n",
      "118/118 [==============================] - 0s 4ms/sample - loss: 0.0018 - mae: 0.0018 - val_loss: 0.0017 - val_mae: 0.0017\n",
      "Epoch 5/20\n",
      "118/118 [==============================] - 0s 4ms/sample - loss: 0.0016 - mae: 0.0016 - val_loss: 0.0016 - val_mae: 0.0016\n",
      "Epoch 6/20\n",
      "118/118 [==============================] - 0s 4ms/sample - loss: 0.0015 - mae: 0.0015 - val_loss: 0.0015 - val_mae: 0.0015\n",
      "Epoch 7/20\n",
      "118/118 [==============================] - 0s 4ms/sample - loss: 0.0014 - mae: 0.0014 - val_loss: 0.0015 - val_mae: 0.0015\n",
      "Epoch 8/20\n",
      "118/118 [==============================] - 0s 3ms/sample - loss: 0.0014 - mae: 0.0014 - val_loss: 0.0014 - val_mae: 0.0014\n",
      "Epoch 9/20\n",
      "118/118 [==============================] - 0s 3ms/sample - loss: 0.0013 - mae: 0.0013 - val_loss: 0.0014 - val_mae: 0.0014\n",
      "Epoch 10/20\n",
      "118/118 [==============================] - 0s 3ms/sample - loss: 0.0013 - mae: 0.0013 - val_loss: 0.0014 - val_mae: 0.0014\n",
      "Epoch 11/20\n",
      "118/118 [==============================] - 0s 4ms/sample - loss: 0.0013 - mae: 0.0013 - val_loss: 0.0014 - val_mae: 0.0014\n",
      "Epoch 12/20\n",
      "118/118 [==============================] - 0s 3ms/sample - loss: 0.0013 - mae: 0.0013 - val_loss: 0.0014 - val_mae: 0.0014\n",
      "Epoch 13/20\n",
      "118/118 [==============================] - 0s 3ms/sample - loss: 0.0013 - mae: 0.0013 - val_loss: 0.0014 - val_mae: 0.0014\n",
      "Epoch 14/20\n",
      "118/118 [==============================] - 0s 3ms/sample - loss: 0.0013 - mae: 0.0013 - val_loss: 0.0013 - val_mae: 0.0013\n",
      "Epoch 15/20\n",
      "118/118 [==============================] - 0s 3ms/sample - loss: 0.0012 - mae: 0.0012 - val_loss: 0.0013 - val_mae: 0.0013\n",
      "Epoch 16/20\n",
      "118/118 [==============================] - 0s 4ms/sample - loss: 0.0012 - mae: 0.0012 - val_loss: 0.0013 - val_mae: 0.0013\n",
      "Epoch 17/20\n",
      "118/118 [==============================] - 0s 4ms/sample - loss: 0.0012 - mae: 0.0012 - val_loss: 0.0013 - val_mae: 0.0013\n",
      "Epoch 18/20\n",
      "118/118 [==============================] - 0s 4ms/sample - loss: 0.0012 - mae: 0.0012 - val_loss: 0.0013 - val_mae: 0.0013\n",
      "Epoch 19/20\n",
      "118/118 [==============================] - 0s 3ms/sample - loss: 0.0012 - mae: 0.0012 - val_loss: 0.0013 - val_mae: 0.0013\n",
      "Epoch 20/20\n",
      "118/118 [==============================] - 0s 3ms/sample - loss: 0.0012 - mae: 0.0012 - val_loss: 0.0013 - val_mae: 0.0013\n"
     ]
    }
   ],
   "source": [
    "EPOCHS = 5\n",
    "\n",
    "earlystop_callback = tf.keras.callbacks.EarlyStopping(monitor=\"val_loss\",\n",
    "    min_delta=0,\n",
    "    patience=EPOCHS*10,\n",
    "    verbose=1,\n",
    "    mode=\"auto\",\n",
    "    baseline=None,\n",
    "    restore_best_weights=True,)\n",
    "\n",
    "logdir = os.path.join(\"./logs\", datetime.datetime.now().strftime(\"%Y%m%d-%H%M%S\"))\n",
    "tensorboard_cbk = tf.keras.callbacks.TensorBoard(log_dir=logdir)\n",
    "\n",
    "modelfilename = checkpoint_filepath + '_'+\\\n",
    "                    datetime.datetime.now().strftime(\"%Y%m%d-%H%M%S\")\\\n",
    "                    + \"_model.hdf5\"\n",
    "\n",
    "model_checkpoint_callback = tf.keras.callbacks.ModelCheckpoint(\n",
    "    modelfilename,\n",
    "    save_weights_only=False,\n",
    "    monitor='val_mae',#'val_accuracy',\n",
    "    mode='min',\n",
    "    verbose=1,\n",
    "    period = 1,\n",
    "    save_best_only=True)\n",
    "\n",
    "\n",
    "\n",
    "model_history = model.fit(X_train,Y_train, \n",
    "                             validation_data=(X_valid, Y_valid),\n",
    "                             epochs=20, \n",
    "                             batch_size=20, \n",
    "                             #callbacks=[tensorboard_cbk,\n",
    "                             #hp.KerasCallback(logdir, hparams),\n",
    "                             #earlystop_callback,\n",
    "                             #model_checkpoint_callback]\n",
    "                                   )"
   ]
  },
  {
   "cell_type": "code",
   "execution_count": 111,
   "metadata": {
    "scrolled": true
   },
   "outputs": [
    {
     "name": "stdout",
     "output_type": "stream",
     "text": [
      "38/38 - 0s - loss: 0.0013 - mae: 0.0013\n",
      "valid_accuracy_MAE=0.0013199833, valid_loss=0.0013199832327173728\n"
     ]
    }
   ],
   "source": [
    "valid_loss, valid_acc = model.evaluate(X_valid, Y_valid, verbose=2) # 5/2020 nt: use validation set\n",
    "print (\"valid_accuracy_MAE=%s, valid_loss=%s\" % (valid_acc, valid_loss))"
   ]
  },
  {
   "cell_type": "code",
   "execution_count": 112,
   "metadata": {},
   "outputs": [],
   "source": [
    "Predict = model.predict(X_valid)"
   ]
  },
  {
   "cell_type": "code",
   "execution_count": 113,
   "metadata": {},
   "outputs": [
    {
     "data": {
      "text/plain": [
       "array([[[[8.70214962e-17],\n",
       "         [8.73210668e-17],\n",
       "         [8.80642341e-17],\n",
       "         ...,\n",
       "         [8.73355447e-17],\n",
       "         [8.77599661e-17],\n",
       "         [8.70777175e-17]],\n",
       "\n",
       "        [[8.28472269e-17],\n",
       "         [8.37461790e-17],\n",
       "         [8.50141885e-17],\n",
       "         ...,\n",
       "         [8.37419806e-17],\n",
       "         [8.48074214e-17],\n",
       "         [8.51124933e-17]],\n",
       "\n",
       "        [[8.20031405e-17],\n",
       "         [8.18877837e-17],\n",
       "         [8.20265656e-17],\n",
       "         ...,\n",
       "         [8.49793227e-17],\n",
       "         [8.51233676e-17],\n",
       "         [8.56937428e-17]],\n",
       "\n",
       "        ...,\n",
       "\n",
       "        [[8.15679661e-17],\n",
       "         [8.20359397e-17],\n",
       "         [8.32880351e-17],\n",
       "         ...,\n",
       "         [8.98107137e-17],\n",
       "         [8.91339567e-17],\n",
       "         [8.77974708e-17]],\n",
       "\n",
       "        [[8.43729932e-17],\n",
       "         [8.46887062e-17],\n",
       "         [8.52713423e-17],\n",
       "         ...,\n",
       "         [8.55857815e-17],\n",
       "         [8.57208775e-17],\n",
       "         [8.53765063e-17]],\n",
       "\n",
       "        [[8.77184968e-17],\n",
       "         [8.79419103e-17],\n",
       "         [8.65964991e-17],\n",
       "         ...,\n",
       "         [8.84076051e-17],\n",
       "         [9.02798182e-17],\n",
       "         [9.05385656e-17]]]])"
      ]
     },
     "execution_count": 113,
     "metadata": {},
     "output_type": "execute_result"
    }
   ],
   "source": [
    "X_valid[0]"
   ]
  },
  {
   "cell_type": "code",
   "execution_count": 114,
   "metadata": {},
   "outputs": [
    {
     "data": {
      "text/plain": [
       "array([[[[8.36619199e-17],\n",
       "         [8.20291365e-17],\n",
       "         [8.21814850e-17],\n",
       "         ...,\n",
       "         [8.25357214e-17],\n",
       "         [8.38515872e-17],\n",
       "         [8.55404971e-17]],\n",
       "\n",
       "        [[8.36819915e-17],\n",
       "         [8.39861755e-17],\n",
       "         [8.43657916e-17],\n",
       "         ...,\n",
       "         [8.10399283e-17],\n",
       "         [8.25418081e-17],\n",
       "         [8.36688559e-17]],\n",
       "\n",
       "        [[8.64167425e-17],\n",
       "         [8.63895574e-17],\n",
       "         [8.65183024e-17],\n",
       "         ...,\n",
       "         [8.44953784e-17],\n",
       "         [8.43569672e-17],\n",
       "         [8.48454075e-17]],\n",
       "\n",
       "        ...,\n",
       "\n",
       "        [[8.36364861e-17],\n",
       "         [8.39945517e-17],\n",
       "         [8.30546468e-17],\n",
       "         ...,\n",
       "         [7.88067427e-17],\n",
       "         [8.01550658e-17],\n",
       "         [8.15357599e-17]],\n",
       "\n",
       "        [[8.58994855e-17],\n",
       "         [8.74110402e-17],\n",
       "         [8.76733713e-17],\n",
       "         ...,\n",
       "         [8.48234064e-17],\n",
       "         [8.56931321e-17],\n",
       "         [8.63135742e-17]],\n",
       "\n",
       "        [[8.32451470e-17],\n",
       "         [8.34385776e-17],\n",
       "         [8.22816155e-17],\n",
       "         ...,\n",
       "         [8.47975140e-17],\n",
       "         [8.58118597e-17],\n",
       "         [8.70728452e-17]]]])"
      ]
     },
     "execution_count": 114,
     "metadata": {},
     "output_type": "execute_result"
    }
   ],
   "source": [
    "X_valid[1]"
   ]
  },
  {
   "cell_type": "code",
   "execution_count": 115,
   "metadata": {},
   "outputs": [
    {
     "data": {
      "text/plain": [
       "(38, 250000)"
      ]
     },
     "execution_count": 115,
     "metadata": {},
     "output_type": "execute_result"
    }
   ],
   "source": [
    "Predict.shape"
   ]
  },
  {
   "cell_type": "code",
   "execution_count": 116,
   "metadata": {},
   "outputs": [
    {
     "name": "stdout",
     "output_type": "stream",
     "text": [
      "[ 9.9498677e-05 -1.6454863e-04 -2.2687600e-04 ... -4.4319814e-04\n",
      "  6.1328174e-05  6.1887491e-05]\n",
      "[8.36619199e-17 8.20291365e-17 8.21814850e-17 ... 8.47975140e-17\n",
      " 8.58118597e-17 8.70728452e-17]\n"
     ]
    }
   ],
   "source": [
    "print(Predict[1])\n",
    "print(Y_valid[0])"
   ]
  },
  {
   "cell_type": "code",
   "execution_count": 117,
   "metadata": {},
   "outputs": [
    {
     "data": {
      "text/plain": [
       "(250000,)"
      ]
     },
     "execution_count": 117,
     "metadata": {},
     "output_type": "execute_result"
    }
   ],
   "source": [
    "(Predict[0]-Y_valid[0]).shape"
   ]
  },
  {
   "cell_type": "code",
   "execution_count": 118,
   "metadata": {},
   "outputs": [
    {
     "data": {
      "text/plain": [
       "0.14102244"
      ]
     },
     "execution_count": 118,
     "metadata": {},
     "output_type": "execute_result"
    }
   ],
   "source": [
    "max(Predict[0])"
   ]
  },
  {
   "cell_type": "code",
   "execution_count": 119,
   "metadata": {},
   "outputs": [
    {
     "data": {
      "text/plain": [
       "-0.0007073486"
      ]
     },
     "execution_count": 119,
     "metadata": {},
     "output_type": "execute_result"
    }
   ],
   "source": [
    "min(Predict[0])"
   ]
  },
  {
   "cell_type": "code",
   "execution_count": 120,
   "metadata": {},
   "outputs": [
    {
     "data": {
      "text/plain": [
       "0.0013158553258330286"
      ]
     },
     "execution_count": 120,
     "metadata": {},
     "output_type": "execute_result"
    }
   ],
   "source": [
    "np.mean(abs(Predict[0]-Y_valid[0]))"
   ]
  },
  {
   "cell_type": "code",
   "execution_count": 121,
   "metadata": {},
   "outputs": [
    {
     "data": {
      "text/plain": [
       "(array([], dtype=int64),)"
      ]
     },
     "execution_count": 121,
     "metadata": {},
     "output_type": "execute_result"
    }
   ],
   "source": [
    "np.where(np.abs(Predict[0]-Y_valid[0])>1000000)"
   ]
  },
  {
   "cell_type": "code",
   "execution_count": 122,
   "metadata": {},
   "outputs": [
    {
     "data": {
      "text/plain": [
       "array([1.03387429e-04, 1.64814119e-04, 2.25428143e-04, ...,\n",
       "       4.48387233e-04, 5.83678484e-05, 5.85451926e-05])"
      ]
     },
     "execution_count": 122,
     "metadata": {},
     "output_type": "execute_result"
    }
   ],
   "source": [
    "np.abs(Predict[0]-Y_valid[0])"
   ]
  },
  {
   "cell_type": "code",
   "execution_count": 123,
   "metadata": {},
   "outputs": [
    {
     "data": {
      "text/plain": [
       "1.0552895202254826"
      ]
     },
     "execution_count": 123,
     "metadata": {},
     "output_type": "execute_result"
    }
   ],
   "source": [
    "np.max(Y_valid)"
   ]
  },
  {
   "cell_type": "code",
   "execution_count": 124,
   "metadata": {},
   "outputs": [
    {
     "data": {
      "text/plain": [
       "0.00011184508114981453"
      ]
     },
     "execution_count": 124,
     "metadata": {},
     "output_type": "execute_result"
    }
   ],
   "source": [
    "Y_valid[0][35428]"
   ]
  },
  {
   "cell_type": "code",
   "execution_count": 125,
   "metadata": {},
   "outputs": [
    {
     "data": {
      "text/plain": [
       "-6.137701e-05"
      ]
     },
     "execution_count": 125,
     "metadata": {},
     "output_type": "execute_result"
    }
   ],
   "source": [
    "Predict[0][35428]"
   ]
  },
  {
   "cell_type": "code",
   "execution_count": 126,
   "metadata": {},
   "outputs": [
    {
     "data": {
      "text/plain": [
       "-0.00017322209099235932"
      ]
     },
     "execution_count": 126,
     "metadata": {},
     "output_type": "execute_result"
    }
   ],
   "source": [
    "(Predict[0]-Y_valid[0])[35428]"
   ]
  },
  {
   "cell_type": "code",
   "execution_count": 127,
   "metadata": {},
   "outputs": [
    {
     "data": {
      "text/plain": [
       "0.0001626372873387962"
      ]
     },
     "execution_count": 127,
     "metadata": {},
     "output_type": "execute_result"
    }
   ],
   "source": [
    "np.abs(Predict[0]-Y_valid[0])[33433]"
   ]
  },
  {
   "cell_type": "code",
   "execution_count": null,
   "metadata": {},
   "outputs": [],
   "source": []
  }
 ],
 "metadata": {
  "kernelspec": {
   "display_name": "Python [conda env:venv]",
   "language": "python",
   "name": "conda-env-venv-py"
  },
  "language_info": {
   "codemirror_mode": {
    "name": "ipython",
    "version": 3
   },
   "file_extension": ".py",
   "mimetype": "text/x-python",
   "name": "python",
   "nbconvert_exporter": "python",
   "pygments_lexer": "ipython3",
   "version": "3.7.6"
  }
 },
 "nbformat": 4,
 "nbformat_minor": 4
}
